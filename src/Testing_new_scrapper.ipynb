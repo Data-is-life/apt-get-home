{
 "cells": [
  {
   "cell_type": "code",
   "execution_count": 19,
   "metadata": {
    "ExecuteTime": {
     "end_time": "2018-10-12T21:19:46.736469Z",
     "start_time": "2018-10-12T21:19:46.719974Z"
    }
   },
   "outputs": [],
   "source": [
    "from math import ceil\n",
    "import time, re, ast, sys, urllib, random, string, requests\n",
    "import pandas as pd\n",
    "from bs4 import BeautifulSoup\n",
    "from random import randint\n",
    "from selenium.webdriver.firefox.webdriver import FirefoxProfile\n",
    "from urllib.request import urlopen, Request\n",
    "from urllib.error import HTTPError, URLError\n",
    "from itertools import cycle\n",
    "from header_list import user_agent_list\n",
    "from proxies_list import proxies_list_\n",
    "from INITIAL_SCRAPPER_FUNCTIONS import *\n",
    "from PARSER_FUNCTIONS import *\n",
    "from LIST_DF_FUNCTIONS import *\n",
    "from SEARCH_URL_GEN import *\n",
    "from GET_SEARCH_URL import *\n",
    "from GET_RESULTS import *\n",
    "ua = user_agent_list\n",
    "proxies = proxies_list_"
   ]
  },
  {
   "cell_type": "code",
   "execution_count": 31,
   "metadata": {
    "ExecuteTime": {
     "end_time": "2018-10-13T02:55:25.499045Z",
     "start_time": "2018-10-13T02:55:25.481934Z"
    }
   },
   "outputs": [],
   "source": [
    "proxies = ['12.183.155.91:39828', '12.2.202.242:8080', '50.224.173.189:8080', '12.175.211.121:59669',\n",
    "           '73.244.187.99:53281', '71.43.26.18:46024', '72.35.40.34:8080', '50.224.173.190:8080',\n",
    "           '24.227.222.4:53281', '64.58.192.36:41258', '72.4.34.79:53281', '172.83.138.45:53281',\n",
    "           '37.61.224.231:8195', '72.95.19.165:57701', '65.173.110.234:8888', '37.61.224.103:8195',\n",
    "           '162.236.204.234:60445', '47.210.133.169:43305', '64.214.77.66:8080', '209.97.233.3:61268',\n",
    "           '73.0.14.154:8080', '104.139.105.234:35633', '76.72.92.108:35247', '75.102.135.249:40326',\n",
    "           '184.105.39.102:32715', '209.196.75.193:52194', '12.189.124.100:54773', '64.49.66.69:51633',\n",
    "           '50.224.173.179:8080', '98.198.60.95:54148', '52.144.107.142:60263', '75.142.138.44:42165',\n",
    "           '50.234.76.70:55877', '204.249.203.201:50032']"
   ]
  },
  {
   "cell_type": "code",
   "execution_count": 32,
   "metadata": {
    "ExecuteTime": {
     "end_time": "2018-10-13T02:55:29.009649Z",
     "start_time": "2018-10-13T02:55:28.991070Z"
    },
    "scrolled": true
   },
   "outputs": [],
   "source": [
    "def proxie_check(proxies):\n",
    "    default_list = []\n",
    "    url = 'https://httpbin.org/ip'\n",
    "    for i in range(0, len(proxies)):\n",
    "        proxy = proxies[i]\n",
    "        print(i+1)\n",
    "        start_time = time.time()\n",
    "        try:\n",
    "            response = requests.get(\n",
    "                url, proxies={\"http\": proxy, \"https\": proxy})\n",
    "            print(response.json())\n",
    "            print(time.time() - start_time)\n",
    "        except:\n",
    "            print(\"Skipping. Connnection error\")\n",
    "            default_list.append(i+1)\n",
    "            print(time.time() - start_time)\n",
    "        print(default_list)\n",
    "    return default_list\n",
    "#proxie_check(proxies)"
   ]
  },
  {
   "cell_type": "code",
   "execution_count": 33,
   "metadata": {
    "ExecuteTime": {
     "end_time": "2018-10-13T02:55:30.675355Z",
     "start_time": "2018-10-13T02:55:30.660171Z"
    }
   },
   "outputs": [
    {
     "data": {
      "text/plain": [
       "34"
      ]
     },
     "execution_count": 33,
     "metadata": {},
     "output_type": "execute_result"
    }
   ],
   "source": [
    "len(proxies)"
   ]
  },
  {
   "cell_type": "code",
   "execution_count": 22,
   "metadata": {
    "ExecuteTime": {
     "end_time": "2018-10-12T21:19:49.255524Z",
     "start_time": "2018-10-12T21:19:49.230960Z"
    }
   },
   "outputs": [],
   "source": [
    "cities_url = pd.read_csv('../Data/city_url_search_list.csv', header=None)\n",
    "city_url_list = cities_url[0].tolist()"
   ]
  },
  {
   "cell_type": "code",
   "execution_count": 23,
   "metadata": {
    "ExecuteTime": {
     "end_time": "2018-10-12T21:19:50.023062Z",
     "start_time": "2018-10-12T21:19:50.001152Z"
    }
   },
   "outputs": [],
   "source": [
    "prop_count_per_city_list = []"
   ]
  },
  {
   "cell_type": "code",
   "execution_count": 34,
   "metadata": {
    "ExecuteTime": {
     "end_time": "2018-10-13T02:55:38.303174Z",
     "start_time": "2018-10-13T02:55:38.280230Z"
    }
   },
   "outputs": [],
   "source": [
    "def session_creator(proxy, ua, url):\n",
    "    header = random.sample(ua, 1)[0]\n",
    "    session = requests.Session()\n",
    "    session.proxies = {\"http\": proxy, \"https\": proxy}\n",
    "    req = session.get(url, headers=header)\n",
    "    soup = BeautifulSoup(req.text, 'lxml')\n",
    "    return soup"
   ]
  },
  {
   "cell_type": "code",
   "execution_count": 35,
   "metadata": {
    "ExecuteTime": {
     "end_time": "2018-10-13T02:55:39.634806Z",
     "start_time": "2018-10-13T02:55:39.619510Z"
    }
   },
   "outputs": [],
   "source": [
    "i = 0"
   ]
  },
  {
   "cell_type": "code",
   "execution_count": null,
   "metadata": {
    "ExecuteTime": {
     "start_time": "2018-10-13T02:55:41.656Z"
    },
    "scrolled": true
   },
   "outputs": [
    {
     "name": "stdout",
     "output_type": "stream",
     "text": [
      "12\n",
      "37.61.224.231:8195\n",
      "[<meta content=\"Zillow has 6,644 homes for sale in Jacksonville FL. View listing photos, review sales history, and use our detailed real estate filters to find the perfect place.\" name=\"description\"/>]\n",
      "6.419410943984985\n",
      "url left: 199\n",
      "url done: 111\n",
      "[<meta content=\"Zillow has 382 homes for sale in Hattiesburg MS. View listing photos, review sales history, and use our detailed real estate filters to find the perfect place.\" name=\"description\"/>]\n",
      "4.877525806427002\n",
      "url left: 198\n",
      "url done: 112\n",
      "[<meta content=\"Zillow has 356 homes for sale in Flushing New York. View listing photos, review sales history, and use our detailed real estate filters to find the perfect place.\" name=\"description\"/>]\n",
      "7.0229010581970215\n",
      "url left: 197\n",
      "url done: 113\n",
      "[<meta content=\"Zillow has 562 homes for sale in Charleston WV. View listing photos, review sales history, and use our detailed real estate filters to find the perfect place.\" name=\"description\"/>]\n",
      "6.213216543197632\n",
      "url left: 196\n",
      "url done: 114\n",
      "[<meta content=\"Zillow has 629 homes for sale in Bloomington IN. View listing photos, review sales history, and use our detailed real estate filters to find the perfect place.\" name=\"description\"/>]\n",
      "7.313323259353638\n",
      "url left: 195\n",
      "url done: 115\n",
      "[<meta content=\"Zillow has 321 homes for sale in Paterson NJ. View listing photos, review sales history, and use our detailed real estate filters to find the perfect place.\" name=\"description\"/>]\n",
      "6.073506593704224\n",
      "url left: 194\n",
      "url done: 116\n",
      "[<meta content=\"Zillow has 1,383 homes for sale in Little Rock AR. View listing photos, review sales history, and use our detailed real estate filters to find the perfect place.\" name=\"description\"/>]\n",
      "6.544557809829712\n",
      "url left: 193\n",
      "url done: 117\n",
      "[<meta content=\"Zillow has 638 homes for sale in Bridgeport CT. View listing photos, review sales history, and use our detailed real estate filters to find the perfect place.\" name=\"description\"/>]\n",
      "5.50067138671875\n",
      "url left: 192\n",
      "url done: 118\n",
      "[<meta content=\"Zillow has 2,384 homes for sale in Tulsa OK. View listing photos, review sales history, and use our detailed real estate filters to find the perfect place.\" name=\"description\"/>]\n",
      "6.523038387298584\n",
      "url left: 191\n",
      "url done: 119\n",
      "[<meta content=\"Zillow has 468 homes for sale in Mission TX. View listing photos, review sales history, and use our detailed real estate filters to find the perfect place.\" name=\"description\"/>]\n",
      "6.38579797744751\n",
      "url left: 190\n",
      "url done: 120\n",
      "[<meta content=\"Zillow has 290 homes for sale in Lake Worth FL. View listing photos, review sales history, and use our detailed real estate filters to find the perfect place.\" name=\"description\"/>]\n",
      "6.353877305984497\n",
      "url left: 189\n",
      "url done: 121\n",
      "[<meta content=\"Zillow has 2,681 homes for sale in Knoxville TN. View listing photos, review sales history, and use our detailed real estate filters to find the perfect place.\" name=\"description\"/>]\n",
      "6.929694890975952\n",
      "url left: 188\n",
      "url done: 122\n",
      "Connnection error\n",
      "33\n",
      "31\n",
      "50.234.76.70:55877\n",
      "[<meta content=\"Zillow has 3,614 homes for sale in San Diego CA. View listing photos, review sales history, and use our detailed real estate filters to find the perfect place.\" name=\"description\"/>]\n",
      "6.156861782073975\n",
      "url left: 187\n",
      "url done: 123\n",
      "[<meta content=\"Zillow has 2,762 homes for sale in Kansas City MO. View listing photos, review sales history, and use our detailed real estate filters to find the perfect place.\" name=\"description\"/>]\n",
      "4.882647514343262\n",
      "url left: 186\n",
      "url done: 124\n",
      "[<meta content=\"Zillow has 421 homes for sale in Lakewood NJ. View listing photos, review sales history, and use our detailed real estate filters to find the perfect place.\" name=\"description\"/>]\n",
      "5.10786247253418\n",
      "url left: 185\n",
      "url done: 125\n",
      "[<meta content=\"Zillow has 1,371 homes for sale in Norfolk VA. View listing photos, review sales history, and use our detailed real estate filters to find the perfect place.\" name=\"description\"/>]\n",
      "6.8884499073028564\n",
      "url left: 184\n",
      "url done: 126\n",
      "[<meta content=\"Zillow has 227 homes for sale in Carson City County NV. View listing photos, review sales history, and use our detailed real estate filters to find the perfect place.\" name=\"description\"/>]\n",
      "5.618916273117065\n",
      "url left: 183\n",
      "url done: 127\n",
      "[<meta content=\"Zillow has 1,896 homes for sale in Boston MA. View listing photos, review sales history, and use our detailed real estate filters to find the perfect place.\" name=\"description\"/>]\n",
      "5.946536540985107\n",
      "url left: 182\n",
      "url done: 128\n",
      "[<meta content=\"Zillow has 654 homes for sale in Warren MI. View listing photos, review sales history, and use our detailed real estate filters to find the perfect place.\" name=\"description\"/>]\n",
      "10.235991716384888\n",
      "url left: 181\n",
      "url done: 129\n",
      "[<meta content=\"Zillow has 514 homes for sale in Sterling Heights MI. View listing photos, review sales history, and use our detailed real estate filters to find the perfect place.\" name=\"description\"/>]\n",
      "5.774141311645508\n",
      "url left: 180\n",
      "url done: 130\n",
      "[<meta content=\"Zillow has 192 homes for sale in Rockville MD. View listing photos, review sales history, and use our detailed real estate filters to find the perfect place.\" name=\"description\"/>]\n",
      "10.164386749267578\n",
      "url left: 179\n",
      "url done: 131\n",
      "[<meta content=\"Zillow has 521 homes for sale in Grand Rapids MI. View listing photos, review sales history, and use our detailed real estate filters to find the perfect place.\" name=\"description\"/>]\n",
      "13.440105199813843\n",
      "url left: 178\n",
      "url done: 132\n",
      "[<meta content=\"Zillow has 293 homes for sale in Jamaica New York. View listing photos, review sales history, and use our detailed real estate filters to find the perfect place.\" name=\"description\"/>]\n",
      "72.40911507606506\n",
      "url left: 177\n",
      "url done: 133\n",
      "[<meta content=\"Zillow has 126 homes for sale in Elizabeth NJ. View listing photos, review sales history, and use our detailed real estate filters to find the perfect place.\" name=\"description\"/>]\n",
      "17.393449544906616\n",
      "url left: 176\n",
      "url done: 134\n",
      "[<meta content=\"Zillow has 1,141 homes for sale in Long Beach CA. View listing photos, review sales history, and use our detailed real estate filters to find the perfect place.\" name=\"description\"/>]\n",
      "12.912057638168335\n",
      "url left: 175\n",
      "url done: 135\n",
      "[<meta content=\"Zillow has 4,477 homes for sale in Austin TX. View listing photos, review sales history, and use our detailed real estate filters to find the perfect place.\" name=\"description\"/>]\n",
      "7.89292049407959\n",
      "url left: 174\n",
      "url done: 136\n",
      "[<meta content=\"Zillow has 4,106 homes for sale in Indianapolis IN. View listing photos, review sales history, and use our detailed real estate filters to find the perfect place.\" name=\"description\"/>]\n",
      "5.4366631507873535\n",
      "url left: 173\n",
      "url done: 137\n",
      "[<meta content=\"Zillow has 1,433 homes for sale in Winston-Salem NC. View listing photos, review sales history, and use our detailed real estate filters to find the perfect place.\" name=\"description\"/>]\n",
      "4.03490948677063\n",
      "url left: 172\n",
      "url done: 138\n",
      "[<meta content=\"Zillow has 1,644 homes for sale in Bradenton FL. View listing photos, review sales history, and use our detailed real estate filters to find the perfect place.\" name=\"description\"/>]\n",
      "3.6069750785827637\n",
      "url left: 171\n",
      "url done: 139\n",
      "[<meta content=\"Zillow has 666 homes for sale in Erie PA. View listing photos, review sales history, and use our detailed real estate filters to find the perfect place.\" name=\"description\"/>]\n",
      "4.950143098831177\n",
      "url left: 170\n",
      "url done: 140\n",
      "[<meta content=\"Zillow has 1,315 homes for sale in Mobile AL. View listing photos, review sales history, and use our detailed real estate filters to find the perfect place.\" name=\"description\"/>]\n",
      "3.988339424133301\n",
      "url left: 169\n",
      "url done: 141\n",
      "[<meta content=\"Zillow has 311 homes for sale in Springfield OH. View listing photos, review sales history, and use our detailed real estate filters to find the perfect place.\" name=\"description\"/>]\n",
      "4.684892892837524\n",
      "url left: 168\n",
      "url done: 142\n",
      "Connnection error\n",
      "32\n",
      "12\n",
      "72.95.19.165:57701\n",
      "Connnection error\n",
      "31\n",
      "16\n",
      "64.214.77.66:8080\n",
      "[<meta content=\"Zillow has 203 homes for sale in Burbank CA. View listing photos, review sales history, and use our detailed real estate filters to find the perfect place.\" name=\"description\"/>]\n",
      "5.193505764007568\n",
      "url left: 167\n",
      "url done: 143\n"
     ]
    },
    {
     "name": "stdout",
     "output_type": "stream",
     "text": [
      "[<meta content=\"Zillow has 620 homes for sale in Bismarck ND. View listing photos, review sales history, and use our detailed real estate filters to find the perfect place.\" name=\"description\"/>]\n",
      "5.265373468399048\n",
      "url left: 166\n",
      "url done: 144\n",
      "[<meta content=\"Zillow has 257 homes for sale in Bethlehem PA. View listing photos, review sales history, and use our detailed real estate filters to find the perfect place.\" name=\"description\"/>]\n",
      "3.3416354656219482\n",
      "url left: 165\n",
      "url done: 145\n",
      "[<meta content=\"Zillow has 697 homes for sale in Alexandria VA. View listing photos, review sales history, and use our detailed real estate filters to find the perfect place.\" name=\"description\"/>]\n",
      "4.461730003356934\n",
      "url left: 164\n",
      "url done: 146\n",
      "[<meta content=\"Zillow has 877 homes for sale in Modesto CA. View listing photos, review sales history, and use our detailed real estate filters to find the perfect place.\" name=\"description\"/>]\n",
      "4.025703191757202\n",
      "url left: 163\n",
      "url done: 147\n",
      "[<meta content=\"Zillow has 3,643 homes for sale in Denver CO. View listing photos, review sales history, and use our detailed real estate filters to find the perfect place.\" name=\"description\"/>]\n",
      "3.3584964275360107\n",
      "url left: 162\n",
      "url done: 148\n",
      "[<meta content=\"Zillow has 889 homes for sale in Boise ID. View listing photos, review sales history, and use our detailed real estate filters to find the perfect place.\" name=\"description\"/>]\n",
      "4.969750165939331\n",
      "url left: 161\n",
      "url done: 149\n",
      "[<meta content=\"Zillow has 6,738 homes for sale in Brooklyn NY. View listing photos, review sales history, and use our detailed real estate filters to find the perfect place.\" name=\"description\"/>]\n",
      "5.48067569732666\n",
      "url left: 160\n",
      "url done: 150\n",
      "[<meta content=\"Zillow has 285 homes for sale in Morgantown WV. View listing photos, review sales history, and use our detailed real estate filters to find the perfect place.\" name=\"description\"/>]\n",
      "3.9635777473449707\n",
      "url left: 159\n",
      "url done: 151\n",
      "[<meta content=\"Zillow has 930 homes for sale in Frederick MD. View listing photos, review sales history, and use our detailed real estate filters to find the perfect place.\" name=\"description\"/>]\n",
      "4.649801254272461\n",
      "url left: 158\n",
      "url done: 152\n",
      "[<meta content=\"Zillow has 1,213 homes for sale in Arlington TX. View listing photos, review sales history, and use our detailed real estate filters to find the perfect place.\" name=\"description\"/>]\n",
      "4.154168605804443\n",
      "url left: 157\n",
      "url done: 153\n",
      "[<meta content=\"Zillow has 1,233 homes for sale in Amarillo TX. View listing photos, review sales history, and use our detailed real estate filters to find the perfect place.\" name=\"description\"/>]\n",
      "4.369959115982056\n",
      "url left: 156\n",
      "url done: 154\n",
      "[<meta content=\"Zillow has 818 homes for sale in Canton OH. View listing photos, review sales history, and use our detailed real estate filters to find the perfect place.\" name=\"description\"/>]\n",
      "3.4443609714508057\n",
      "url left: 155\n",
      "url done: 155\n",
      "[<meta content=\"Zillow has 2,926 homes for sale in Seattle WA. View listing photos, review sales history, and use our detailed real estate filters to find the perfect place.\" name=\"description\"/>]\n",
      "4.836852550506592\n",
      "url left: 154\n",
      "url done: 156\n",
      "[<meta content=\"Zillow has 486 homes for sale in Owensboro KY. View listing photos, review sales history, and use our detailed real estate filters to find the perfect place.\" name=\"description\"/>]\n",
      "4.77567195892334\n",
      "url left: 153\n",
      "url done: 157\n",
      "[<meta content=\"Zillow has 83 homes for sale in Palo Alto CA. View listing photos, review sales history, and use our detailed real estate filters to find the perfect place.\" name=\"description\"/>]\n",
      "3.340054988861084\n",
      "url left: 152\n",
      "url done: 158\n",
      "[<meta content=\"Zillow has 2,518 homes for sale in Detroit MI. View listing photos, review sales history, and use our detailed real estate filters to find the perfect place.\" name=\"description\"/>]\n",
      "5.075469970703125\n",
      "url left: 151\n",
      "url done: 159\n",
      "[<meta content=\"Zillow has 737 homes for sale in Gulfport MS. View listing photos, review sales history, and use our detailed real estate filters to find the perfect place.\" name=\"description\"/>]\n",
      "5.270201206207275\n",
      "url left: 150\n",
      "url done: 160\n",
      "[<meta content=\"Zillow has 236 homes for sale in Compton CA. View listing photos, review sales history, and use our detailed real estate filters to find the perfect place.\" name=\"description\"/>]\n",
      "4.148336887359619\n",
      "url left: 149\n",
      "url done: 161\n",
      "[<meta content=\"Zillow has 5,081 homes for sale in Dallas TX. View listing photos, review sales history, and use our detailed real estate filters to find the perfect place.\" name=\"description\"/>]\n",
      "3.8793468475341797\n",
      "url left: 148\n",
      "url done: 162\n",
      "[<meta content=\"Zillow has 834 homes for sale in Bowling Green KY. View listing photos, review sales history, and use our detailed real estate filters to find the perfect place.\" name=\"description\"/>]\n",
      "3.776904344558716\n",
      "url left: 147\n",
      "url done: 163\n",
      "[<meta content=\"Zillow has 1,329 homes for sale in Riverside CA. View listing photos, review sales history, and use our detailed real estate filters to find the perfect place.\" name=\"description\"/>]\n",
      "5.67936110496521\n",
      "url left: 146\n",
      "url done: 164\n",
      "[<meta content=\"Zillow has 590 homes for sale in Hamilton OH. View listing photos, review sales history, and use our detailed real estate filters to find the perfect place.\" name=\"description\"/>]\n",
      "3.7128984928131104\n",
      "url left: 145\n",
      "url done: 165\n",
      "[<meta content=\"Zillow has 132 homes for sale in Easton PA. View listing photos, review sales history, and use our detailed real estate filters to find the perfect place.\" name=\"description\"/>]\n",
      "3.4619932174682617\n",
      "url left: 144\n",
      "url done: 166\n",
      "[<meta content=\"Zillow has 3,726 homes for sale in Baltimore MD. View listing photos, review sales history, and use our detailed real estate filters to find the perfect place.\" name=\"description\"/>]\n",
      "5.45735239982605\n",
      "url left: 143\n",
      "url done: 167\n",
      "[<meta content=\"Zillow has 1,838 homes for sale in Bronx NY. View listing photos, review sales history, and use our detailed real estate filters to find the perfect place.\" name=\"description\"/>]\n",
      "4.063593149185181\n",
      "url left: 142\n",
      "url done: 168\n",
      "[<meta content=\"Zillow has 596 homes for sale in Springfield MA. View listing photos, review sales history, and use our detailed real estate filters to find the perfect place.\" name=\"description\"/>]\n",
      "5.840137004852295\n",
      "url left: 141\n",
      "url done: 169\n",
      "[<meta content=\"Zillow has 431 homes for sale in Tracy CA. View listing photos, review sales history, and use our detailed real estate filters to find the perfect place.\" name=\"description\"/>]\n",
      "7.125459432601929\n",
      "url left: 140\n",
      "url done: 170\n",
      "[<meta content=\"Zillow has 317 homes for sale in Livermore CA. View listing photos, review sales history, and use our detailed real estate filters to find the perfect place.\" name=\"description\"/>]\n",
      "7.142542123794556\n",
      "url left: 139\n",
      "url done: 171\n",
      "[<meta content=\"Zillow has 521 homes for sale in West Chester PA. View listing photos, review sales history, and use our detailed real estate filters to find the perfect place.\" name=\"description\"/>]\n",
      "3.36863112449646\n",
      "url left: 138\n",
      "url done: 172\n",
      "[<meta content=\"Zillow has 3,915 homes for sale in Nashville TN. View listing photos, review sales history, and use our detailed real estate filters to find the perfect place.\" name=\"description\"/>]\n",
      "4.894756078720093\n",
      "url left: 137\n",
      "url done: 173\n",
      "[<meta content=\"Zillow has 3,395 homes for sale in Cleveland OH. View listing photos, review sales history, and use our detailed real estate filters to find the perfect place.\" name=\"description\"/>]\n",
      "4.364716529846191\n",
      "url left: 136\n",
      "url done: 174\n",
      "[<meta content=\"Zillow has 292 homes for sale in Kalamazoo MI. View listing photos, review sales history, and use our detailed real estate filters to find the perfect place.\" name=\"description\"/>]\n",
      "5.6619439125061035\n",
      "url left: 135\n",
      "url done: 175\n",
      "[<meta content=\"Zillow has 2,462 homes for sale in Oklahoma City OK. View listing photos, review sales history, and use our detailed real estate filters to find the perfect place.\" name=\"description\"/>]\n",
      "3.786184549331665\n",
      "url left: 134\n",
      "url done: 176\n",
      "[<meta content=\"Zillow has 348 homes for sale in Des Plaines IL. View listing photos, review sales history, and use our detailed real estate filters to find the perfect place.\" name=\"description\"/>]\n",
      "6.851351022720337\n",
      "url left: 133\n",
      "url done: 177\n"
     ]
    },
    {
     "name": "stdout",
     "output_type": "stream",
     "text": [
      "[<meta content=\"Zillow has 3,567 homes for sale in El Paso TX. View listing photos, review sales history, and use our detailed real estate filters to find the perfect place.\" name=\"description\"/>]\n",
      "3.5640177726745605\n",
      "url left: 132\n",
      "url done: 178\n",
      "[<meta content=\"Zillow has 323 homes for sale in Lafayette IN. View listing photos, review sales history, and use our detailed real estate filters to find the perfect place.\" name=\"description\"/>]\n",
      "3.4986212253570557\n",
      "url left: 131\n",
      "url done: 179\n",
      "[<meta content=\"Zillow has 1,281 homes for sale in Springfield MO. View listing photos, review sales history, and use our detailed real estate filters to find the perfect place.\" name=\"description\"/>]\n",
      "4.720622539520264\n",
      "url left: 130\n",
      "url done: 180\n",
      "[<meta content=\"Zillow has 654 homes for sale in Garland TX. View listing photos, review sales history, and use our detailed real estate filters to find the perfect place.\" name=\"description\"/>]\n",
      "5.23098349571228\n",
      "url left: 129\n",
      "url done: 181\n",
      "[<meta content=\"Zillow has 1,744 homes for sale in Wichita KS. View listing photos, review sales history, and use our detailed real estate filters to find the perfect place.\" name=\"description\"/>]\n",
      "5.323550224304199\n",
      "url left: 128\n",
      "url done: 182\n",
      "[<meta content=\"Zillow has 1,721 homes for sale in Cincinnati OH. View listing photos, review sales history, and use our detailed real estate filters to find the perfect place.\" name=\"description\"/>]\n",
      "5.321919202804565\n",
      "url left: 127\n",
      "url done: 183\n",
      "[<meta content=\"Zillow has 292 homes for sale in Lowell MA. View listing photos, review sales history, and use our detailed real estate filters to find the perfect place.\" name=\"description\"/>]\n",
      "6.271458387374878\n",
      "url left: 126\n",
      "url done: 184\n",
      "[<meta content=\"Zillow has 1,045 homes for sale in Kissimmee FL. View listing photos, review sales history, and use our detailed real estate filters to find the perfect place.\" name=\"description\"/>]\n",
      "6.011713266372681\n",
      "url left: 125\n",
      "url done: 185\n",
      "[<meta content=\"Zillow has 7,751 homes for sale in San Antonio TX. View listing photos, review sales history, and use our detailed real estate filters to find the perfect place.\" name=\"description\"/>]\n",
      "5.383178949356079\n",
      "url left: 124\n",
      "url done: 186\n",
      "[<meta content=\"Zillow has 645 homes for sale in Irving TX. View listing photos, review sales history, and use our detailed real estate filters to find the perfect place.\" name=\"description\"/>]\n",
      "7.020742177963257\n",
      "url left: 123\n",
      "url done: 187\n",
      "[<meta content=\"Zillow has 1,922 homes for sale in Milwaukee WI. View listing photos, review sales history, and use our detailed real estate filters to find the perfect place.\" name=\"description\"/>]\n",
      "4.342541694641113\n",
      "url left: 122\n",
      "url done: 188\n",
      "[<meta content=\"Zillow has 2,127 homes for sale in Tampa FL. View listing photos, review sales history, and use our detailed real estate filters to find the perfect place.\" name=\"description\"/>]\n",
      "4.007633209228516\n",
      "url left: 121\n",
      "url done: 189\n",
      "[<meta content=\"Zillow has 2,235 homes for sale in Aurora CO. View listing photos, review sales history, and use our detailed real estate filters to find the perfect place.\" name=\"description\"/>]\n",
      "3.801640748977661\n",
      "url left: 120\n",
      "url done: 190\n",
      "[<meta content=\"Zillow has 1,386 homes for sale in Clarksville TN. View listing photos, review sales history, and use our detailed real estate filters to find the perfect place.\" name=\"description\"/>]\n",
      "4.506417751312256\n",
      "url left: 119\n",
      "url done: 191\n",
      "[<meta content=\"Zillow has 1,397 homes for sale in Savannah GA. View listing photos, review sales history, and use our detailed real estate filters to find the perfect place.\" name=\"description\"/>]\n",
      "4.658982038497925\n",
      "url left: 118\n",
      "url done: 192\n",
      "[<meta content=\"Zillow has 1,130 homes for sale in Santa Fe NM. View listing photos, review sales history, and use our detailed real estate filters to find the perfect place.\" name=\"description\"/>]\n",
      "4.634130001068115\n",
      "url left: 117\n",
      "url done: 193\n",
      "[<meta content=\"Zillow has 452 homes for sale in Santa Ana CA. View listing photos, review sales history, and use our detailed real estate filters to find the perfect place.\" name=\"description\"/>]\n",
      "3.203422784805298\n",
      "url left: 116\n",
      "url done: 194\n",
      "[<meta content=\"Zillow has 2,362 homes for sale in Sacramento CA. View listing photos, review sales history, and use our detailed real estate filters to find the perfect place.\" name=\"description\"/>]\n",
      "4.123957633972168\n",
      "url left: 115\n",
      "url done: 195\n",
      "[<meta content=\"Zillow has 363 homes for sale in Santa Barbara CA. View listing photos, review sales history, and use our detailed real estate filters to find the perfect place.\" name=\"description\"/>]\n",
      "3.9887216091156006\n",
      "url left: 114\n",
      "url done: 196\n",
      "[<meta content=\"Zillow has 463 homes for sale in Appleton WI. View listing photos, review sales history, and use our detailed real estate filters to find the perfect place.\" name=\"description\"/>]\n",
      "3.378171443939209\n",
      "url left: 113\n",
      "url done: 197\n",
      "[<meta content=\"Zillow has 792 homes for sale in Greenville SC. View listing photos, review sales history, and use our detailed real estate filters to find the perfect place.\" name=\"description\"/>]\n",
      "3.287332057952881\n",
      "url left: 112\n",
      "url done: 198\n",
      "[<meta content=\"Zillow has 1,483 homes for sale in San Francisco CA. View listing photos, review sales history, and use our detailed real estate filters to find the perfect place.\" name=\"description\"/>]\n",
      "5.467471122741699\n",
      "url left: 111\n",
      "url done: 199\n",
      "[<meta content=\"Zillow has 1,060 homes for sale in Des Moines IA. View listing photos, review sales history, and use our detailed real estate filters to find the perfect place.\" name=\"description\"/>]\n",
      "4.775725364685059\n",
      "url left: 110\n",
      "url done: 200\n",
      "[<meta content=\"Zillow has 2,726 homes for sale in Scottsdale AZ. View listing photos, review sales history, and use our detailed real estate filters to find the perfect place.\" name=\"description\"/>]\n",
      "3.508873224258423\n",
      "url left: 109\n",
      "url done: 201\n",
      "[<meta content=\"Zillow has 332 homes for sale in Concord CA. View listing photos, review sales history, and use our detailed real estate filters to find the perfect place.\" name=\"description\"/>]\n",
      "4.462996959686279\n",
      "url left: 108\n",
      "url done: 202\n",
      "[<meta content=\"Zillow has 676 homes for sale in Fort Smith AR. View listing photos, review sales history, and use our detailed real estate filters to find the perfect place.\" name=\"description\"/>]\n",
      "5.179569721221924\n",
      "url left: 107\n",
      "url done: 203\n",
      "[<meta content=\"Zillow has 312 homes for sale in New Bedford MA. View listing photos, review sales history, and use our detailed real estate filters to find the perfect place.\" name=\"description\"/>]\n",
      "4.222551107406616\n",
      "url left: 106\n",
      "url done: 204\n",
      "[<meta content=\"Zillow has 606 homes for sale in Cheyenne WY. View listing photos, review sales history, and use our detailed real estate filters to find the perfect place.\" name=\"description\"/>]\n",
      "5.256402015686035\n",
      "url left: 105\n",
      "url done: 205\n",
      "[<meta content=\"Zillow has 652 homes for sale in Augusta GA. View listing photos, review sales history, and use our detailed real estate filters to find the perfect place.\" name=\"description\"/>]\n",
      "4.714582204818726\n",
      "url left: 104\n",
      "url done: 206\n",
      "[<meta content=\"Zillow has 802 homes for sale in Salem OR. View listing photos, review sales history, and use our detailed real estate filters to find the perfect place.\" name=\"description\"/>]\n",
      "5.202447891235352\n",
      "url left: 103\n",
      "url done: 207\n",
      "[<meta content=\"Zillow has 2,779 homes for sale in Sarasota FL. View listing photos, review sales history, and use our detailed real estate filters to find the perfect place.\" name=\"description\"/>]\n",
      "4.75243353843689\n",
      "url left: 102\n",
      "url done: 208\n",
      "[<meta content=\"Zillow has 1,895 homes for sale in Mesa AZ. View listing photos, review sales history, and use our detailed real estate filters to find the perfect place.\" name=\"description\"/>]\n",
      "4.097918748855591\n",
      "url left: 101\n",
      "url done: 209\n",
      "[<meta content=\"Zillow has 1,409 homes for sale in San Jose CA. View listing photos, review sales history, and use our detailed real estate filters to find the perfect place.\" name=\"description\"/>]\n",
      "4.182857513427734\n",
      "url left: 100\n",
      "url done: 210\n",
      "[<meta content=\"Zillow has 2,426 homes for sale in New Orleans LA. View listing photos, review sales history, and use our detailed real estate filters to find the perfect place.\" name=\"description\"/>]\n",
      "4.357932806015015\n",
      "url left: 99\n",
      "url done: 211\n"
     ]
    },
    {
     "name": "stdout",
     "output_type": "stream",
     "text": [
      "[<meta content=\"Zillow has 3,418 homes for sale in Tucson AZ. View listing photos, review sales history, and use our detailed real estate filters to find the perfect place.\" name=\"description\"/>]\n",
      "3.8865966796875\n",
      "url left: 98\n",
      "url done: 212\n",
      "[<meta content=\"Zillow has 1,308 homes for sale in Akron OH. View listing photos, review sales history, and use our detailed real estate filters to find the perfect place.\" name=\"description\"/>]\n",
      "4.207335948944092\n",
      "url left: 97\n",
      "url done: 213\n",
      "[<meta content=\"Zillow has 412 homes for sale in Youngstown OH. View listing photos, review sales history, and use our detailed real estate filters to find the perfect place.\" name=\"description\"/>]\n",
      "5.1730873584747314\n",
      "url left: 96\n",
      "url done: 214\n",
      "[<meta content=\"Zillow has 259 homes for sale in Waukegan IL. View listing photos, review sales history, and use our detailed real estate filters to find the perfect place.\" name=\"description\"/>]\n",
      "4.940746545791626\n",
      "url left: 95\n",
      "url done: 215\n",
      "[<meta content=\"Zillow has 2,238 homes for sale in Charleston SC. View listing photos, review sales history, and use our detailed real estate filters to find the perfect place.\" name=\"description\"/>]\n",
      "5.529544830322266\n",
      "url left: 94\n",
      "url done: 216\n",
      "[<meta content=\"Zillow has 826 homes for sale in Columbia MO. View listing photos, review sales history, and use our detailed real estate filters to find the perfect place.\" name=\"description\"/>]\n",
      "5.669663667678833\n",
      "url left: 93\n",
      "url done: 217\n",
      "[<meta content=\"Zillow has 2,468 homes for sale in Raleigh NC. View listing photos, review sales history, and use our detailed real estate filters to find the perfect place.\" name=\"description\"/>]\n",
      "3.7701659202575684\n",
      "url left: 92\n",
      "url done: 218\n",
      "[<meta content=\"Zillow has 74 homes for sale in Burlington VT. View listing photos, review sales history, and use our detailed real estate filters to find the perfect place.\" name=\"description\"/>]\n",
      "3.4638378620147705\n",
      "url left: 91\n",
      "url done: 219\n",
      "[<meta content=\"Zillow has 366 homes for sale in Lancaster PA. View listing photos, review sales history, and use our detailed real estate filters to find the perfect place.\" name=\"description\"/>]\n",
      "4.775989294052124\n",
      "url left: 90\n",
      "url done: 220\n",
      "[<meta content=\"Zillow has 2,116 homes for sale in Colorado Springs CO. View listing photos, review sales history, and use our detailed real estate filters to find the perfect place.\" name=\"description\"/>]\n",
      "4.540020227432251\n",
      "url left: 89\n",
      "url done: 221\n",
      "[<meta content=\"Zillow has 429 homes for sale in Casper WY. View listing photos, review sales history, and use our detailed real estate filters to find the perfect place.\" name=\"description\"/>]\n",
      "4.472130298614502\n",
      "url left: 88\n",
      "url done: 222\n",
      "[<meta content=\"Zillow has 412 homes for sale in Manchester NH. View listing photos, review sales history, and use our detailed real estate filters to find the perfect place.\" name=\"description\"/>]\n",
      "3.40118145942688\n",
      "url left: 87\n",
      "url done: 223\n",
      "[<meta content=\"Zillow has 591 homes for sale in Yonkers NY. View listing photos, review sales history, and use our detailed real estate filters to find the perfect place.\" name=\"description\"/>]\n",
      "6.1384735107421875\n",
      "url left: 86\n",
      "url done: 224\n",
      "[<meta content=\"Zillow has 6,946 homes for sale in Naples FL. View listing photos, review sales history, and use our detailed real estate filters to find the perfect place.\" name=\"description\"/>]\n",
      "3.662595748901367\n",
      "url left: 85\n",
      "url done: 225\n",
      "[<meta content=\"Zillow has 460 homes for sale in Grand Prairie TX. View listing photos, review sales history, and use our detailed real estate filters to find the perfect place.\" name=\"description\"/>]\n",
      "4.836293697357178\n",
      "url left: 84\n",
      "url done: 226\n",
      "4\n",
      "73.244.187.99:53281\n",
      "[<meta content=\"Zillow has 756 homes for sale in Saginaw MI. View listing photos, review sales history, and use our detailed real estate filters to find the perfect place.\" name=\"description\"/>]\n",
      "10.420223236083984\n",
      "url left: 83\n",
      "url done: 227\n",
      "[<meta content=\"Zillow has 272 homes for sale in Astoria New York. View listing photos, review sales history, and use our detailed real estate filters to find the perfect place.\" name=\"description\"/>]\n",
      "65.10102367401123\n",
      "url left: 82\n",
      "url done: 228\n",
      "[<meta content=\"Zillow has 632 homes for sale in Henrico VA. View listing photos, review sales history, and use our detailed real estate filters to find the perfect place.\" name=\"description\"/>]\n",
      "16.326695203781128\n",
      "url left: 81\n",
      "url done: 229\n",
      "[<meta content=\"Zillow has 6,486 homes for sale in Philadelphia PA. View listing photos, review sales history, and use our detailed real estate filters to find the perfect place.\" name=\"description\"/>]\n",
      "12.253705263137817\n",
      "url left: 80\n",
      "url done: 230\n",
      "[<meta content=\"Zillow has 997 homes for sale in Bakersfield CA. View listing photos, review sales history, and use our detailed real estate filters to find the perfect place.\" name=\"description\"/>]\n",
      "8.402844905853271\n",
      "url left: 79\n",
      "url done: 231\n",
      "[<meta content=\"Zillow has 1,149 homes for sale in Peoria IL. View listing photos, review sales history, and use our detailed real estate filters to find the perfect place.\" name=\"description\"/>]\n",
      "15.047836065292358\n",
      "url left: 78\n",
      "url done: 232\n",
      "[<meta content=\"Zillow has 408 homes for sale in Allentown PA. View listing photos, review sales history, and use our detailed real estate filters to find the perfect place.\" name=\"description\"/>]\n",
      "97.95500898361206\n",
      "url left: 77\n",
      "url done: 233\n",
      "[<meta content=\"Zillow has 298 homes for sale in Saint Cloud MN. View listing photos, review sales history, and use our detailed real estate filters to find the perfect place.\" name=\"description\"/>]\n",
      "13.767221212387085\n",
      "url left: 76\n",
      "url done: 234\n",
      "[<meta content=\"Zillow has 150 homes for sale in Santa Clara CA. View listing photos, review sales history, and use our detailed real estate filters to find the perfect place.\" name=\"description\"/>]\n",
      "8.891449689865112\n",
      "url left: 75\n",
      "url done: 235\n",
      "[<meta content=\"Zillow has 1,886 homes for sale in Marietta GA. View listing photos, review sales history, and use our detailed real estate filters to find the perfect place.\" name=\"description\"/>]\n",
      "39.222095012664795\n",
      "url left: 74\n",
      "url done: 236\n",
      "[<meta content=\"Zillow has 442 homes for sale in Duluth MN. View listing photos, review sales history, and use our detailed real estate filters to find the perfect place.\" name=\"description\"/>]\n",
      "9.95780611038208\n",
      "url left: 73\n",
      "url done: 237\n",
      "[<meta content=\"Zillow has 963 homes for sale in Fort Wayne IN. View listing photos, review sales history, and use our detailed real estate filters to find the perfect place.\" name=\"description\"/>]\n",
      "28.283631563186646\n",
      "url left: 72\n",
      "url done: 238\n",
      "[<meta content=\"Zillow has 985 homes for sale in Toms River NJ. View listing photos, review sales history, and use our detailed real estate filters to find the perfect place.\" name=\"description\"/>]\n",
      "26.86715865135193\n",
      "url left: 71\n",
      "url done: 239\n"
     ]
    }
   ],
   "source": [
    "city_url_list = random.sample(city_url_list, len(city_url_list))\n",
    "def areas_extractor_url(proxies, prp_list, url_list, ua):\n",
    "    proxy = random.sample(proxies, 1)[0]\n",
    "    print(proxies.index(proxy))\n",
    "    print(proxy)\n",
    "    for url in url_list:\n",
    "        try:\n",
    "            start_time = time.time()\n",
    "            soup = session_creator(proxy, ua, url)\n",
    "            time.sleep(random.uniform(1.5, 3.8))\n",
    "            all_count = soup.find('meta', {'name': 'description'})\n",
    "            print(all_count.text)\n",
    "            print(time.time() - start_time)\n",
    "            if len(all_count) > 0:\n",
    "                prp_list.append(all_count)\n",
    "                url_list.remove(url)\n",
    "                print(f'url left: {len(url_list)}')\n",
    "                print(f'url done: {len(prp_list)}')\n",
    "            else:\n",
    "                print('captcha')\n",
    "        except:\n",
    "            print(\"Connnection error\")\n",
    "            proxies.remove(proxy)\n",
    "            print(len(proxies))\n",
    "            return prp_list, url_list\n",
    "    return prp_list, url_list\n",
    "\n",
    "\n",
    "while i < len(proxies):\n",
    "    prop_count_per_city_list, city_url_list = areas_extractor_url(\n",
    "        proxies, prop_count_per_city_list, city_url_list, ua)\n",
    "    i+=1"
   ]
  },
  {
   "cell_type": "code",
   "execution_count": null,
   "metadata": {},
   "outputs": [],
   "source": [
    "def strip_count(lst):\n",
    "    lst = [str(num) for num in lst]\n",
    "    lst = [num.replace('[<meta content=\"Zillow has ', '') for num in lst]\n",
    "    lst = ap_prop_list = [num.replace(\n",
    "        '. View listing photos, review sales history, and use our detailed real estate filters to find the perfect place.\" name=\"description\"/>]', '') for num in lst]\n",
    "    lst = list(set(lst))\n",
    "    return lst\n",
    "\n",
    "new_prop_count_per_city_list = strip_count(prop_count_per_city_list)"
   ]
  },
  {
   "cell_type": "code",
   "execution_count": null,
   "metadata": {},
   "outputs": [],
   "source": [
    "def create_df_num_homes(prp_list):\n",
    "    re_all_num = r\"\\d+\\s\"\n",
    "    re_all_zip = r\"\\s\\d+\"\n",
    "\n",
    "    num_homes = []\n",
    "    zip_homes = []\n",
    "\n",
    "    for num in prp_list:\n",
    "        num_homes.append(re.findall(re_all_num, num))\n",
    "        zip_homes.append(re.findall(re_all_zip, num))\n",
    "\n",
    "    num_homes = [[int(y) for y in x] for x in num_homes]\n",
    "    zip_homes = [[int(y) for y in x] for x in zip_homes]\n",
    "\n",
    "    num_all_homes = []\n",
    "    zip_all_homes = []\n",
    "\n",
    "    i = 0\n",
    "    while i < len(prp_list):\n",
    "        num_all_homes.extend(num_homes[i])\n",
    "        zip_all_homes.extend(zip_homes[i])\n",
    "        i += 1\n",
    "\n",
    "    df = pd.DataFrame({\"all_homes\": num_all_homes}, index=zip_all_homes)\n",
    "    all_pages = [ceil(num/25) for num in df['all_homes']]\n",
    "    df['all_pages'] = all_pages\n",
    "    return df\n",
    "\n",
    "\n",
    "df_all = create_df_num_homes(new_prop_count_per_city_list)"
   ]
  },
  {
   "cell_type": "code",
   "execution_count": null,
   "metadata": {},
   "outputs": [],
   "source": [
    "df_all"
   ]
  },
  {
   "cell_type": "code",
   "execution_count": null,
   "metadata": {},
   "outputs": [],
   "source": []
  },
  {
   "cell_type": "code",
   "execution_count": 28,
   "metadata": {
    "ExecuteTime": {
     "end_time": "2018-10-13T02:44:30.616922Z",
     "start_time": "2018-10-13T02:44:30.597864Z"
    }
   },
   "outputs": [],
   "source": [
    "def zip_prop_count(zip_list, proxies, prp_list, ua, ezl):\n",
    "    proxy = random.sample(proxies, 1)[0]\n",
    "    print(proxies.index(proxy))\n",
    "    print(proxy)\n",
    "    for num in zip_list:\n",
    "        url = 'https://www.redfin.com/zipcode/' + \\\n",
    "            str(num) + '/filter/property-type=house+condo+townhouse,' + \\\n",
    "            'include=sold-1yr,min-price=100k,min-baths=1,include=sold-1yr'\n",
    "        try:\n",
    "            start_time = time.time()\n",
    "            soup = session_creator(proxy, ua, url)\n",
    "            print(num)\n",
    "            print(len(zip_list))\n",
    "            all_count = soup.findAll('div', {'class': 'homes summary'})\n",
    "            if len(str(all_count)) >= 20:\n",
    "                print(all_count)\n",
    "                print(time.time() - start_time)\n",
    "                ezl.append(num)\n",
    "                prp_list.append(all_count)\n",
    "                zip_list.remove(num)\n",
    "                print(len(zip_list) + len(prp_list))\n",
    "            else:\n",
    "                print(\"Captcha!!!!!\")\n",
    "        except:\n",
    "            print(\"Skipping. Connnection error\")\n",
    "            proxies.remove(proxy)\n",
    "            print(len(proxies))\n",
    "            return prp_list, zip_list, proxies, ezl\n",
    "    return prp_list, zip_list, proxies, ezl"
   ]
  },
  {
   "cell_type": "code",
   "execution_count": null,
   "metadata": {
    "ExecuteTime": {
     "end_time": "2018-10-12T00:10:11.796348Z",
     "start_time": "2018-10-12T00:10:11.781094Z"
    }
   },
   "outputs": [],
   "source": [
    "def each_page(proxy, ua, url):\n",
    "    soup = session_creator(proxy, ua, url)\n",
    "    # start_time = time.time()\n",
    "    time.sleep(random.uniform(0, 1) * 3)\n",
    "    # print(time.time() - start_time)\n",
    "    full_soup = soup.findAll('a', {'class': 'bottom link-override'})\n",
    "    full_address = [fas['title'] for fas in full_soup]\n",
    "    home_link = ['https://www.redfin.com' +\n",
    "                 str(hls.get('href')) for hls in full_soup]\n",
    "    df = {'full_address': full_address, 'home_link': home_link}\n",
    "    return df"
   ]
  },
  {
   "cell_type": "code",
   "execution_count": null,
   "metadata": {
    "ExecuteTime": {
     "end_time": "2018-10-12T00:10:12.348231Z",
     "start_time": "2018-10-12T00:10:12.321405Z"
    }
   },
   "outputs": [],
   "source": [
    "def links_for_props(proxies, url_list, main_df, ua):\n",
    "    proxy = random.sample(proxies, 1)[0]\n",
    "    print(f'proxy number: {proxy}')\n",
    "    i = randint(0, (len(url_list) // 2))\n",
    "    print(f'starting from url number: {i}')\n",
    "    while i < len(url_list):\n",
    "        url = url_list[i]\n",
    "        try:\n",
    "            b = random.uniform(0.75, 2.25)\n",
    "            time.sleep(b)\n",
    "            # start_time = time.time()\n",
    "            # print(f'total left: {len(url_list)}')\n",
    "\n",
    "            data = each_page(proxy, ua, url)\n",
    "            df = pd.DataFrame(data)\n",
    "            eds = {'full_address': [], 'home_link': []}\n",
    "            if data['full_address'] != eds['full_address']:\n",
    "                main_df = pd.concat([main_df, df])\n",
    "                url_list.pop(i)\n",
    "                # a = (time.time() - start_time) * len(url_list)\n",
    "                # print('SUCCESS!!')\n",
    "                # print(f'Currently on url number: {i}')\n",
    "                # print(f'time taken: {a/len(url_list)}')\n",
    "                if i > 0:\n",
    "                    i -= randint(0, 1)\n",
    "                else:\n",
    "                    i += 0\n",
    "            else:\n",
    "                # print('No results')\n",
    "                # print(f'Currently on url number: {i}')\n",
    "                i += randint(1, 5)\n",
    "        except:\n",
    "            # print(\"Skipping. Connnection error\")\n",
    "            proxies.remove(proxy)\n",
    "            # print(f'proxies left: {len(proxies)}')\n",
    "            # print(f'total left: {len(url_list)}')\n",
    "            return url_list, main_df, proxies\n",
    "    return url_list, main_df, proxies"
   ]
  },
  {
   "cell_type": "code",
   "execution_count": null,
   "metadata": {},
   "outputs": [],
   "source": []
  },
  {
   "cell_type": "code",
   "execution_count": null,
   "metadata": {},
   "outputs": [],
   "source": []
  },
  {
   "cell_type": "code",
   "execution_count": null,
   "metadata": {},
   "outputs": [],
   "source": []
  },
  {
   "cell_type": "code",
   "execution_count": null,
   "metadata": {},
   "outputs": [],
   "source": []
  },
  {
   "cell_type": "code",
   "execution_count": null,
   "metadata": {
    "ExecuteTime": {
     "end_time": "2018-10-11T20:42:21.017303Z",
     "start_time": "2018-10-11T20:42:21.003179Z"
    }
   },
   "outputs": [],
   "source": [
    "url = 'https://www.zillow.com/homedetails/895-Yakima-Dr-Fremont-CA-94539/25028455_zpid/?fullpage=true'"
   ]
  },
  {
   "cell_type": "code",
   "execution_count": null,
   "metadata": {},
   "outputs": [],
   "source": []
  },
  {
   "cell_type": "code",
   "execution_count": null,
   "metadata": {},
   "outputs": [],
   "source": []
  },
  {
   "cell_type": "code",
   "execution_count": null,
   "metadata": {},
   "outputs": [],
   "source": []
  },
  {
   "cell_type": "code",
   "execution_count": null,
   "metadata": {},
   "outputs": [],
   "source": []
  },
  {
   "cell_type": "code",
   "execution_count": null,
   "metadata": {},
   "outputs": [],
   "source": []
  },
  {
   "cell_type": "code",
   "execution_count": null,
   "metadata": {},
   "outputs": [],
   "source": []
  },
  {
   "cell_type": "code",
   "execution_count": null,
   "metadata": {},
   "outputs": [],
   "source": []
  },
  {
   "cell_type": "code",
   "execution_count": null,
   "metadata": {},
   "outputs": [],
   "source": []
  },
  {
   "cell_type": "code",
   "execution_count": null,
   "metadata": {},
   "outputs": [],
   "source": []
  },
  {
   "cell_type": "code",
   "execution_count": null,
   "metadata": {
    "ExecuteTime": {
     "end_time": "2018-10-11T20:42:22.435419Z",
     "start_time": "2018-10-11T20:42:21.763831Z"
    }
   },
   "outputs": [],
   "source": [
    "header = random.sample(ua, 1)[0]\n",
    "soup = session_creator(ua, url)"
   ]
  },
  {
   "cell_type": "code",
   "execution_count": null,
   "metadata": {
    "ExecuteTime": {
     "end_time": "2018-10-11T20:54:02.150357Z",
     "start_time": "2018-10-11T20:54:02.106750Z"
    }
   },
   "outputs": [],
   "source": [
    "a = soup.findAll('div', {'class': 'fact-container'})\n",
    "b = soup.findAll('div', {'class': 'fact-value'})"
   ]
  },
  {
   "cell_type": "code",
   "execution_count": null,
   "metadata": {
    "ExecuteTime": {
     "end_time": "2018-10-11T20:54:02.258818Z",
     "start_time": "2018-10-11T20:54:02.245098Z"
    }
   },
   "outputs": [],
   "source": [
    "z = []\n",
    "y = []"
   ]
  },
  {
   "cell_type": "code",
   "execution_count": null,
   "metadata": {
    "ExecuteTime": {
     "end_time": "2018-10-11T20:54:02.412341Z",
     "start_time": "2018-10-11T20:54:02.396989Z"
    }
   },
   "outputs": [],
   "source": [
    "for num in a:\n",
    "    z.append(num.text)\n",
    "for num in b:\n",
    "    y.append(num.text)"
   ]
  },
  {
   "cell_type": "code",
   "execution_count": null,
   "metadata": {
    "ExecuteTime": {
     "end_time": "2018-10-11T20:54:02.553016Z",
     "start_time": "2018-10-11T20:54:02.538843Z"
    }
   },
   "outputs": [],
   "source": [
    "z = [num.replace('  ','').replace('   ','').replace('\\r','').replace('\\n','').replace('\\xa0','') for num in z]"
   ]
  },
  {
   "cell_type": "code",
   "execution_count": null,
   "metadata": {
    "ExecuteTime": {
     "end_time": "2018-10-11T21:01:14.174027Z",
     "start_time": "2018-10-11T21:01:14.147092Z"
    }
   },
   "outputs": [],
   "source": [
    "l = [re.findall(r'(.+)\\:', num) for num in z]\n",
    "# print(l)\n",
    "k = [re.findall(r'\\:(.+)', num) for num in z]\n",
    "# print(k)\n",
    "nd = {}\n",
    "i = 0\n",
    "while i < len(l):\n",
    "    if len(l[i])>0:\n",
    "        if l[i][0] in nd.keys():\n",
    "            nd[l[i][0]].extend(k[i])\n",
    "        else:\n",
    "            nd[l[i][0]] = k[i]\n",
    "        i+=1\n",
    "    else:\n",
    "        i+=1\n",
    "for k,v in nd.items():\n",
    "    nd[k] = ', '.join([num for num in v])\n",
    "print(nd)"
   ]
  },
  {
   "cell_type": "code",
   "execution_count": null,
   "metadata": {
    "ExecuteTime": {
     "end_time": "2018-10-11T20:42:46.056947Z",
     "start_time": "2018-10-11T20:42:46.039607Z"
    }
   },
   "outputs": [],
   "source": [
    "y = [num.replace('  ','').replace('   ','').replace('\\r','').replace('\\n','').replace('\\xa0','') for num in y]"
   ]
  },
  {
   "cell_type": "code",
   "execution_count": null,
   "metadata": {
    "ExecuteTime": {
     "end_time": "2018-10-11T20:42:46.645751Z",
     "start_time": "2018-10-11T20:42:46.629115Z"
    }
   },
   "outputs": [],
   "source": [
    "dict(zip(z,y))"
   ]
  },
  {
   "cell_type": "code",
   "execution_count": null,
   "metadata": {},
   "outputs": [],
   "source": []
  }
 ],
 "metadata": {
  "kernelspec": {
   "display_name": "Python 3",
   "language": "python",
   "name": "python3"
  },
  "language_info": {
   "codemirror_mode": {
    "name": "ipython",
    "version": 3
   },
   "file_extension": ".py",
   "mimetype": "text/x-python",
   "name": "python",
   "nbconvert_exporter": "python",
   "pygments_lexer": "ipython3",
   "version": "3.6.6"
  }
 },
 "nbformat": 4,
 "nbformat_minor": 2
}
