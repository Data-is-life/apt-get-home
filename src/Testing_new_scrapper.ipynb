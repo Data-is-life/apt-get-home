{
 "cells": [
  {
   "cell_type": "code",
   "execution_count": 2,
   "metadata": {
    "ExecuteTime": {
     "end_time": "2018-10-24T03:06:39.256809Z",
     "start_time": "2018-10-24T03:06:38.855122Z"
    }
   },
   "outputs": [],
   "source": [
    "from math import ceil\n",
    "import time, re, ast, sys, urllib, random, string, requests\n",
    "import pandas as pd\n",
    "from bs4 import BeautifulSoup\n",
    "from random import randint\n",
    "from selenium.webdriver.firefox.webdriver import FirefoxProfile\n",
    "from urllib.request import urlopen, Request\n",
    "from urllib.error import HTTPError, URLError\n",
    "from itertools import cycle\n",
    "from header_list import user_agent_list\n",
    "from proxies_list import proxies_list_\n",
    "from initial_scrapper_function import *\n",
    "from parser_functions import *\n",
    "from list_df_functions import *\n",
    "from search_url_gen import *\n",
    "from get_search_url import *\n",
    "from get_results import *\n",
    "ua = user_agent_list\n",
    "proxies = proxies_list_"
   ]
  },
  {
   "cell_type": "code",
   "execution_count": 5,
   "metadata": {
    "ExecuteTime": {
     "end_time": "2018-10-24T05:19:56.336516Z",
     "start_time": "2018-10-24T05:19:56.318659Z"
    }
   },
   "outputs": [],
   "source": [
    "proxies = ['12.183.155.91:39828', '50.224.173.189:8080', '72.35.40.34:8080', '50.224.173.190:8080',\n",
    "           '72.95.19.165:57701', '50.224.173.179:8080', '50.233.42.98:39389', '50.240.43.17:44458',\n",
    "           '97.79.146.251:40494', '70.183.205.174:40964', '64.183.32.218:49425', '216.163.15.34:52055',\n",
    "           '209.97.158.105:3128', '76.80.32.174:46559', '12.218.209.130:53281', '140.227.60.114:3128',\n",
    "           '71.183.100.76:42413', '199.231.171.106:53281', '50.25.18.241:53585', '12.183.155.92:38049',\n",
    "           '72.252.4.106:48483', '162.17.233.218:61104', '96.74.27.161:32784', '71.43.26.18:46024',\n",
    "           '24.227.222.4:53281', '72.4.34.79:53281', '172.83.138.45:53281', '209.97.233.3:61268',\n",
    "           '38.134.10.106:53281', '67.198.99.138:60810', '76.10.248.156:8080', '24.119.8.100:53281',\n",
    "           '108.170.48.187:3128', '64.192.234.98:53281', '74.143.136.6:8888', '142.147.112.246:59640',\n",
    "           '63.246.49.113:8080', '66.232.186.7:53281', '50.84.155.10:34036', '70.89.33.14:32246',\n",
    "           '104.139.71.127:58366', '67.60.137.218:39987', '69.206.51.199:61751', '37.61.224.242:8195',\n",
    "           '104.139.105.234:35633', '155.186.173.52:53281', '74.0.244.146:52807', '50.236.148.254:39970']"
   ]
  },
  {
   "cell_type": "code",
   "execution_count": 4,
   "metadata": {
    "ExecuteTime": {
     "end_time": "2018-10-24T03:46:03.031913Z",
     "start_time": "2018-10-24T03:06:40.844894Z"
    },
    "scrolled": false
   },
   "outputs": [
    {
     "name": "stdout",
     "output_type": "stream",
     "text": [
      "1\n",
      "{'origin': '12.183.155.91'}\n",
      "# 0!! SUPER FAST!! CLOCKING  AT: 0.9900844097137451 SECONDS!!\n",
      "2\n",
      "# 1 declared useless after wasting 17.437058925628662 seconds\n",
      "3\n",
      "{'origin': '50.224.173.189'}\n",
      "# 2!! SUPER FAST!! CLOCKING  AT: 0.5628674030303955 SECONDS!!\n",
      "4\n",
      "{'origin': '12.175.211.121'}\n",
      "# 3 too slow!! spent 20.10929584503174 seconds connecting!!\n",
      "5\n",
      "{'origin': '71.43.26.18'}\n",
      "6\n",
      "{'origin': '72.35.40.34'}\n",
      "# 5!! SUPER FAST!! CLOCKING  AT: 0.894355058670044 SECONDS!!\n",
      "7\n",
      "{'origin': '50.224.173.189'}\n",
      "# 6!! SUPER FAST!! CLOCKING  AT: 0.6145889759063721 SECONDS!!\n",
      "8\n",
      "{'origin': '24.227.222.4'}\n",
      "9\n",
      "# 8 declared useless after wasting 22.512195348739624 seconds\n",
      "10\n",
      "{'origin': '72.4.34.79'}\n",
      "11\n",
      "{'origin': '172.83.138.45'}\n",
      "12\n",
      "{'origin': '72.95.19.165'}\n",
      "# 11!! SUPER FAST!! CLOCKING  AT: 0.7736191749572754 SECONDS!!\n",
      "13\n",
      "# 12 declared useless after wasting 129.9409077167511 seconds\n",
      "14\n",
      "# 13 declared useless after wasting 1.126356840133667 seconds\n",
      "15\n",
      "{'origin': '47.210.133.169'}\n",
      "# 14 too slow!! spent 67.01195645332336 seconds connecting!!\n",
      "16\n",
      "# 15 declared useless after wasting 130.51732063293457 seconds\n",
      "17\n",
      "{'origin': '209.97.233.3'}\n",
      "18\n",
      "# 17 declared useless after wasting 131.11210894584656 seconds\n",
      "19\n",
      "# 18 declared useless after wasting 0.06995272636413574 seconds\n",
      "20\n",
      "# 19 declared useless after wasting 0.08968639373779297 seconds\n",
      "21\n",
      "# 20 declared useless after wasting 0.05490612983703613 seconds\n",
      "22\n",
      "# 21 declared useless after wasting 0.0847175121307373 seconds\n",
      "23\n",
      "{'origin': '50.224.173.189'}\n",
      "# 22!! SUPER FAST!! CLOCKING  AT: 0.5454449653625488 SECONDS!!\n",
      "24\n",
      "# 23 declared useless after wasting 130.22641777992249 seconds\n",
      "25\n",
      "# 24 declared useless after wasting 0.22425317764282227 seconds\n",
      "26\n",
      "# 25 declared useless after wasting 130.84741759300232 seconds\n",
      "27\n",
      "# 26 declared useless after wasting 2.5979037284851074 seconds\n",
      "28\n",
      "{'origin': '66.208.101.138'}\n",
      "29\n",
      "# 28 declared useless after wasting 0.10472822189331055 seconds\n",
      "30\n",
      "{'origin': '50.252.132.229'}\n",
      "# 29 too slow!! spent 46.09681534767151 seconds connecting!!\n",
      "31\n",
      "{'origin': '12.218.209.130'}\n",
      "# 30 Fast! Clocking at: 2.323093891143799 Secs\n",
      "32\n",
      "# 31 declared useless after wasting 26.432201147079468 seconds\n",
      "33\n",
      "# 32 declared useless after wasting 0.08813786506652832 seconds\n",
      "34\n",
      "{'origin': '74.0.244.146'}\n",
      "# 33 slow! connected after: 18.333699464797974 seconds\n",
      "35\n",
      "{'origin': '67.198.99.138'}\n",
      "36\n",
      "{'origin': '76.10.248.156'}\n",
      "37\n",
      "{'origin': '45.30.170.25'}\n",
      "# 36 too slow!! spent 26.191723823547363 seconds connecting!!\n",
      "38\n",
      "{'origin': '24.119.8.100'}\n",
      "39\n",
      "{'origin': '108.170.48.187'}\n",
      "40\n",
      "{'origin': '140.227.60.114'}\n",
      "# 39 Fast! Clocking at: 1.8259224891662598 Secs\n",
      "41\n",
      "{'origin': '64.192.234.98'}\n",
      "42\n",
      "# 41 declared useless after wasting 14.599818468093872 seconds\n",
      "43\n",
      "{'origin': '74.143.136.6'}\n",
      "44\n",
      "{'origin': '142.147.112.246'}\n",
      "45\n",
      "{'origin': '71.183.100.76'}\n",
      "# 44 Fast! Clocking at: 2.777857780456543 Secs\n",
      "46\n",
      "# 45 declared useless after wasting 7.5900959968566895 seconds\n",
      "47\n",
      "{'origin': '63.246.49.113'}\n",
      "48\n",
      "# 47 declared useless after wasting 130.16405367851257 seconds\n",
      "49\n",
      "{'origin': '66.232.186.7'}\n",
      "50\n",
      "# 49 declared useless after wasting 130.72473311424255 seconds\n",
      "51\n",
      "{'origin': '50.236.148.254'}\n",
      "# 50 slow! connected after: 16.92764377593994 seconds\n",
      "52\n",
      "# 51 declared useless after wasting 130.52759289741516 seconds\n",
      "53\n",
      "# 52 declared useless after wasting 0.35708022117614746 seconds\n",
      "54\n",
      "# 53 declared useless after wasting 0.08885407447814941 seconds\n",
      "55\n",
      "# 54 declared useless after wasting 130.6253490447998 seconds\n",
      "56\n",
      "# 55 declared useless after wasting 131.0718014240265 seconds\n",
      "57\n",
      "# 56 declared useless after wasting 0.0888063907623291 seconds\n",
      "58\n",
      "# 57 declared useless after wasting 130.98301887512207 seconds\n",
      "59\n",
      "{'origin': '199.231.171.106'}\n",
      "# 58 Fast! Clocking at: 2.460284471511841 Secs\n",
      "60\n",
      "# 59 declared useless after wasting 0.10293793678283691 seconds\n",
      "61\n",
      "# 60 declared useless after wasting 0.08451724052429199 seconds\n",
      "62\n",
      "# 61 declared useless after wasting 0.0837717056274414 seconds\n",
      "63\n",
      "# 62 declared useless after wasting 0.08382892608642578 seconds\n",
      "64\n",
      "# 63 declared useless after wasting 0.08460474014282227 seconds\n",
      "65\n",
      "# 64 declared useless after wasting 130.2185628414154 seconds\n",
      "66\n",
      "# 65 declared useless after wasting 0.09291291236877441 seconds\n",
      "67\n",
      "# 66 declared useless after wasting 0.2649545669555664 seconds\n",
      "68\n",
      "# 67 declared useless after wasting 0.07930850982666016 seconds\n",
      "69\n",
      "# 68 declared useless after wasting 20.387426137924194 seconds\n",
      "70\n",
      "# 69 declared useless after wasting 130.7253921031952 seconds\n",
      "71\n",
      "# 70 declared useless after wasting 0.06861138343811035 seconds\n",
      "72\n",
      "# 71 declared useless after wasting 0.08568572998046875 seconds\n",
      "73\n",
      "# 72 declared useless after wasting 0.09904980659484863 seconds\n",
      "74\n",
      "{'origin': '50.233.42.98'}\n",
      "# 73!! SUPER FAST!! CLOCKING  AT: 0.7352337837219238 SECONDS!!\n",
      "75\n",
      "{'origin': '50.240.43.17'}\n",
      "# 74!! SUPER FAST!! CLOCKING  AT: 0.8283121585845947 SECONDS!!\n",
      "76\n",
      "{'origin': '50.253.186.195'}\n",
      "# 75 too slow!! spent 20.54785943031311 seconds connecting!!\n",
      "77\n",
      "# 76 declared useless after wasting 0.07973885536193848 seconds\n",
      "78\n",
      "{'origin': '50.84.155.10'}\n",
      "79\n",
      "{'origin': '70.89.33.14'}\n",
      "80\n",
      "{'origin': '97.79.146.251'}\n",
      "# 79!! SUPER FAST!! CLOCKING  AT: 0.6776881217956543 SECONDS!!\n",
      "81\n",
      "{'origin': '70.183.205.174'}\n",
      "# 80!! SUPER FAST!! CLOCKING  AT: 0.7763500213623047 SECONDS!!\n",
      "82\n",
      "{'origin': '50.25.18.241'}\n",
      "# 81 Fast! Clocking at: 1.946289300918579 Secs\n",
      "83\n",
      "{'origin': '104.139.71.127'}\n",
      "84\n",
      "# 83 declared useless after wasting 4.279578924179077 seconds\n",
      "85\n",
      "{'origin': '64.183.32.218'}\n",
      "# 84!! SUPER FAST!! CLOCKING  AT: 0.6659486293792725 SECONDS!!\n",
      "86\n",
      "# 85 declared useless after wasting 0.06971406936645508 seconds\n",
      "87\n",
      "{'origin': '12.183.155.92'}\n",
      "# 86 Fast! Clocking at: 1.6034376621246338 Secs\n",
      "88\n",
      "{'origin': '216.163.15.34'}\n",
      "# 87!! SUPER FAST!! CLOCKING  AT: 0.7196693420410156 SECONDS!!\n",
      "89\n",
      "{'origin': '72.252.4.106'}\n",
      "# 88 Fast! Clocking at: 2.1364965438842773 Secs\n",
      "90\n",
      "{'origin': '18.217.159.232'}\n",
      "# 89 too slow!! spent 22.74568271636963 seconds connecting!!\n",
      "91\n",
      "# 90 declared useless after wasting 0.05519843101501465 seconds\n",
      "92\n",
      "{'origin': '162.17.233.218'}\n",
      "# 91 Fast! Clocking at: 1.8863935470581055 Secs\n",
      "93\n",
      "{'origin': '67.60.137.218'}\n",
      "94\n",
      "{'origin': '72.35.40.34'}\n",
      "# 93!! SUPER FAST!! CLOCKING  AT: 0.7700192928314209 SECONDS!!\n",
      "95\n",
      "{'origin': '209.97.158.105'}\n",
      "# 94!! SUPER FAST!! CLOCKING  AT: 0.532958984375 SECONDS!!\n",
      "96\n",
      "{'origin': '69.206.51.199'}\n",
      "97\n",
      "{'origin': '103.252.201.151'}\n",
      "98\n",
      "{'origin': '96.74.27.161'}\n",
      "# 97 Fast! Clocking at: 2.665679693222046 Secs\n",
      "99\n",
      "{'origin': '104.139.105.234'}\n",
      "100\n",
      "# 99 declared useless after wasting 130.47845363616943 seconds\n",
      "101\n",
      "{'origin': '155.186.173.52'}\n",
      "102\n",
      "# 101 declared useless after wasting 0.08282661437988281 seconds\n",
      "103\n",
      "# 102 declared useless after wasting 0.0770416259765625 seconds\n",
      "104\n",
      "{'origin': '76.80.32.174'}\n",
      "# 103!! SUPER FAST!! CLOCKING  AT: 0.6570217609405518 SECONDS!!\n"
     ]
    }
   ],
   "source": [
    "def proxie_check(proxies):\n",
    "\n",
    "    sprfst = []\n",
    "    fst = []\n",
    "    keep = []\n",
    "    meh = []\n",
    "    slw = []\n",
    "    snl = []\n",
    "    usls = []\n",
    "    url = 'https://httpbin.org/ip'\n",
    "    for i in range(0, len(proxies)):\n",
    "        proxy = proxies[i]\n",
    "        #print(i+1)\n",
    "        start_time = time.time()\n",
    "        try:\n",
    "            response = requests.get(\n",
    "                url, proxies={\"http\": proxy, \"https\": proxy})\n",
    "\n",
    "            print(f'# {print(i+1)} responded with {response.json()}')\n",
    "\n",
    "            total_time = time.time()-start_time\n",
    "\n",
    "            if total_time <= 1.00:\n",
    "                sprfst.append(i+1)\n",
    "                print(\n",
    "                    f'# {i+1}!! SUPER FAST!! CLOCKING  AT: {total_time} SECONDS!!')\n",
    "            elif total_time <= 3.00:\n",
    "                fst.append(i+1)\n",
    "                print(f'# {i+1} Fast! Clocking at: {total_time} Secs')\n",
    "            elif total_time <= 10.00:\n",
    "                keep.append(i+1)\n",
    "            elif total_time <= 15.00:\n",
    "                meh.append(i+1)\n",
    "            elif total_time <= 20.00:\n",
    "                slw.append(i+1)\n",
    "                print(f'# {i+1} slow! connected after: {total_time} seconds')\n",
    "            else:\n",
    "                snl.append(i+1)\n",
    "                print(f'# {i+1} too slow!! spent {total_time} seconds connecting!!')\n",
    "        except:\n",
    "            total_time = time.time()-start_time\n",
    "            usls.append(i+1)\n",
    "            print(f'# {i+1} declared useless after wasting {total_time} seconds')\n",
    "    \n",
    "    return sprfst, fst, keep, meh, slw, snl, usls\n",
    "\n",
    "# sprfst, fst, keep, meh, slw, snl, usls = proxie_check(proxies)"
   ]
  },
  {
   "cell_type": "code",
   "execution_count": null,
   "metadata": {
    "ExecuteTime": {
     "end_time": "2018-10-14T17:39:31.448340Z",
     "start_time": "2018-10-14T17:39:31.431662Z"
    }
   },
   "outputs": [],
   "source": [
    "len(proxies)"
   ]
  },
  {
   "cell_type": "code",
   "execution_count": null,
   "metadata": {
    "ExecuteTime": {
     "end_time": "2018-10-12T21:19:49.255524Z",
     "start_time": "2018-10-12T21:19:49.230960Z"
    }
   },
   "outputs": [],
   "source": [
    "cities_url = pd.read_csv('../Data/zip_url_search_list.csv', header=None)\n",
    "city_url_list = cities_url[0].tolist()"
   ]
  },
  {
   "cell_type": "code",
   "execution_count": null,
   "metadata": {
    "ExecuteTime": {
     "end_time": "2018-10-12T21:19:50.023062Z",
     "start_time": "2018-10-12T21:19:50.001152Z"
    }
   },
   "outputs": [],
   "source": [
    "prop_count_per_city_list = []"
   ]
  },
  {
   "cell_type": "code",
   "execution_count": null,
   "metadata": {
    "ExecuteTime": {
     "end_time": "2018-10-13T02:55:38.303174Z",
     "start_time": "2018-10-13T02:55:38.280230Z"
    }
   },
   "outputs": [],
   "source": [
    "def session_creator(proxy, ua, url):\n",
    "    header = random.sample(ua, 1)[0]\n",
    "    session = requests.Session()\n",
    "    session.proxies = {\"http\": proxy, \"https\": proxy}\n",
    "    req = session.get(url, headers=header)\n",
    "    soup = BeautifulSoup(req.text, 'lxml')\n",
    "    return soup"
   ]
  },
  {
   "cell_type": "code",
   "execution_count": null,
   "metadata": {
    "ExecuteTime": {
     "end_time": "2018-10-13T03:26:51.570032Z",
     "start_time": "2018-10-13T02:55:41.659192Z"
    },
    "scrolled": true
   },
   "outputs": [],
   "source": [
    "city_url_list = random.sample(city_url_list, len(city_url_list))\n",
    "def areas_extractor_url(proxies, prp_list, url_list, ua):\n",
    "    proxy = random.sample(proxies, 1)[0]\n",
    "    print(proxies.index(proxy))\n",
    "    print(proxy)\n",
    "    for url in url_list:\n",
    "        try:\n",
    "            start_time = time.time()\n",
    "            soup = session_creator(proxy, ua, url)\n",
    "            time.sleep(random.uniform(1.5, 3.8))\n",
    "            all_count = soup.find('meta', {'name': 'description'})\n",
    "            print(all_count.text)\n",
    "            print(time.time() - start_time)\n",
    "            if len(all_count) > 0:\n",
    "                prp_list.append(all_count)\n",
    "                url_list.remove(url)\n",
    "                print(f'url left: {len(url_list)}')\n",
    "                print(f'url done: {len(prp_list)}')\n",
    "            else:\n",
    "                print('captcha')\n",
    "        except:\n",
    "            print(\"Connnection error\")\n",
    "            proxies.remove(proxy)\n",
    "            print(len(proxies))\n",
    "            return prp_list, url_list\n",
    "    return prp_list, url_list\n",
    "\n",
    "\n",
    "while (len(proxies)>0) and (len(city_url_list)>0):\n",
    "    prop_count_per_city_list, city_url_list = areas_extractor_url(\n",
    "        proxies, prop_count_per_city_list, city_url_list, ua)"
   ]
  },
  {
   "cell_type": "code",
   "execution_count": null,
   "metadata": {
    "ExecuteTime": {
     "end_time": "2018-10-13T03:27:12.134857Z",
     "start_time": "2018-10-13T03:27:12.120069Z"
    }
   },
   "outputs": [],
   "source": [
    "len(proxies)"
   ]
  },
  {
   "cell_type": "code",
   "execution_count": null,
   "metadata": {
    "ExecuteTime": {
     "end_time": "2018-10-13T03:48:53.169168Z",
     "start_time": "2018-10-13T03:48:53.150367Z"
    }
   },
   "outputs": [],
   "source": [
    "total_act_pend_per_city = []\n",
    "for num in prop_count_per_city_list:\n",
    "    for i in num:\n",
    "        total_act_pend_per_city.extend((re.findall(r'\\d+', i['content'].replace(',',''))))\n",
    "total_act_pend_per_city = [int(num) for num in total_act_pend_per_city]"
   ]
  },
  {
   "cell_type": "code",
   "execution_count": null,
   "metadata": {
    "ExecuteTime": {
     "end_time": "2018-10-13T03:48:53.307813Z",
     "start_time": "2018-10-13T03:48:53.292079Z"
    }
   },
   "outputs": [],
   "source": [
    "city_name = []\n",
    "for num in prop_count_per_city_list:\n",
    "    for i in num:\n",
    "        city_name.extend((re.findall(r'in\\s(.+?)\\.', i['content'])))\n",
    "city_name = [num.replace(' New York', ' NY').replace(' Los Angeles', ' CA') for num in city_name]"
   ]
  },
  {
   "cell_type": "code",
   "execution_count": null,
   "metadata": {
    "ExecuteTime": {
     "end_time": "2018-10-13T03:53:14.020069Z",
     "start_time": "2018-10-13T03:53:13.989715Z"
    }
   },
   "outputs": [],
   "source": [
    "act_pend_city_df = pd.DataFrame(columns=['city', 'tot_act_pend'])\n",
    "act_pend_city_df['city'] = city_name\n",
    "act_pend_city_df['tot_act_pend'] = total_act_pend_per_city\n",
    "act_pend_city_df['num_pgs'] = ((act_pend_city_df['tot_act_pend']//25)+1)\n",
    "act_pend_city_df.to_csv('../Data/act_pend_by_city.csv')"
   ]
  },
  {
   "cell_type": "code",
   "execution_count": null,
   "metadata": {
    "ExecuteTime": {
     "end_time": "2018-10-13T03:27:21.294955Z",
     "start_time": "2018-10-13T03:27:21.262741Z"
    }
   },
   "outputs": [],
   "source": [
    "def strip_count(lst):\n",
    "    lst = [str(num) for num in lst]\n",
    "    lst = [num.replace('[<meta content=\"Zillow has ', '') for num in lst]\n",
    "    lst = ap_prop_list = [num.replace(\n",
    "        '. View listing photos, review sales history, and use our detailed real estate filters to find the perfect place.\" name=\"description\"/>]', '') for num in lst]\n",
    "    lst = list(set(lst))\n",
    "    return lst\n",
    "\n",
    "new_prop_count_per_city_list = strip_count(prop_count_per_city_list)"
   ]
  },
  {
   "cell_type": "code",
   "execution_count": null,
   "metadata": {
    "ExecuteTime": {
     "end_time": "2018-10-13T03:27:38.726577Z",
     "start_time": "2018-10-13T03:27:38.709481Z"
    }
   },
   "outputs": [],
   "source": [
    "new_prop_count_per_city_list"
   ]
  },
  {
   "cell_type": "code",
   "execution_count": null,
   "metadata": {
    "ExecuteTime": {
     "end_time": "2018-10-13T03:27:23.588488Z",
     "start_time": "2018-10-13T03:27:23.497778Z"
    }
   },
   "outputs": [],
   "source": [
    "def create_df_num_homes(prp_list):\n",
    "    re_all_num = r\"\\d+\\s\"\n",
    "    re_all_zip = r\"\\s\\d+\"\n",
    "\n",
    "    num_homes = []\n",
    "    zip_homes = []\n",
    "\n",
    "    for num in prp_list:\n",
    "        num_homes.append(re.findall(re_all_num, num))\n",
    "        zip_homes.append(re.findall(re_all_zip, num))\n",
    "\n",
    "    num_homes = [[int(y) for y in x] for x in num_homes]\n",
    "    zip_homes = [[int(y) for y in x] for x in zip_homes]\n",
    "\n",
    "    num_all_homes = []\n",
    "    zip_all_homes = []\n",
    "\n",
    "    i = 0\n",
    "    while i < len(prp_list):\n",
    "        num_all_homes.extend(num_homes[i])\n",
    "        zip_all_homes.extend(zip_homes[i])\n",
    "        i += 1\n",
    "\n",
    "    df = pd.DataFrame({\"all_homes\": num_all_homes}, index=zip_all_homes)\n",
    "    all_pages = [ceil(num/25) for num in df['all_homes']]\n",
    "    df['all_pages'] = all_pages\n",
    "    return df\n",
    "\n",
    "\n",
    "df_all = create_df_num_homes(new_prop_count_per_city_list)"
   ]
  },
  {
   "cell_type": "code",
   "execution_count": null,
   "metadata": {},
   "outputs": [],
   "source": [
    "df_all"
   ]
  },
  {
   "cell_type": "code",
   "execution_count": null,
   "metadata": {},
   "outputs": [],
   "source": []
  },
  {
   "cell_type": "code",
   "execution_count": null,
   "metadata": {
    "ExecuteTime": {
     "end_time": "2018-10-13T02:44:30.616922Z",
     "start_time": "2018-10-13T02:44:30.597864Z"
    }
   },
   "outputs": [],
   "source": [
    "def zip_prop_count(zip_list, proxies, prp_list, ua, ezl):\n",
    "    proxy = random.sample(proxies, 1)[0]\n",
    "    print(proxies.index(proxy))\n",
    "    print(proxy)\n",
    "    for num in zip_list:\n",
    "        url = 'https://www.redfin.com/zipcode/' + \\\n",
    "            str(num) + '/filter/property-type=house+condo+townhouse,' + \\\n",
    "            'include=sold-1yr,min-price=100k,min-baths=1,include=sold-1yr'\n",
    "        try:\n",
    "            start_time = time.time()\n",
    "            soup = session_creator(proxy, ua, url)\n",
    "            print(num)\n",
    "            print(len(zip_list))\n",
    "            all_count = soup.findAll('div', {'class': 'homes summary'})\n",
    "            if len(str(all_count)) >= 20:\n",
    "                print(all_count)\n",
    "                print(time.time() - start_time)\n",
    "                ezl.append(num)\n",
    "                prp_list.append(all_count)\n",
    "                zip_list.remove(num)\n",
    "                print(len(zip_list) + len(prp_list))\n",
    "            else:\n",
    "                print(\"Captcha!!!!!\")\n",
    "        except:\n",
    "            print(\"Skipping. Connnection error\")\n",
    "            proxies.remove(proxy)\n",
    "            print(len(proxies))\n",
    "            return prp_list, zip_list, proxies, ezl\n",
    "    return prp_list, zip_list, proxies, ezl"
   ]
  },
  {
   "cell_type": "code",
   "execution_count": null,
   "metadata": {
    "ExecuteTime": {
     "end_time": "2018-10-12T00:10:11.796348Z",
     "start_time": "2018-10-12T00:10:11.781094Z"
    }
   },
   "outputs": [],
   "source": [
    "def each_page(proxy, ua, url):\n",
    "    soup = session_creator(proxy, ua, url)\n",
    "    # start_time = time.time()\n",
    "    time.sleep(random.uniform(0, 1) * 3)\n",
    "    # print(time.time() - start_time)\n",
    "    full_soup = soup.findAll('a', {'class': 'bottom link-override'})\n",
    "    full_address = [fas['title'] for fas in full_soup]\n",
    "    home_link = ['https://www.redfin.com' +\n",
    "                 str(hls.get('href')) for hls in full_soup]\n",
    "    df = {'full_address': full_address, 'home_link': home_link}\n",
    "    return df"
   ]
  },
  {
   "cell_type": "code",
   "execution_count": null,
   "metadata": {
    "ExecuteTime": {
     "end_time": "2018-10-12T00:10:12.348231Z",
     "start_time": "2018-10-12T00:10:12.321405Z"
    }
   },
   "outputs": [],
   "source": [
    "def links_for_props(proxies, url_list, main_df, ua):\n",
    "    proxy = random.sample(proxies, 1)[0]\n",
    "    print(f'proxy number: {proxy}')\n",
    "    i = randint(0, (len(url_list) // 2))\n",
    "    print(f'starting from url number: {i}')\n",
    "    while i < len(url_list):\n",
    "        url = url_list[i]\n",
    "        try:\n",
    "            b = random.uniform(0.75, 2.25)\n",
    "            time.sleep(b)\n",
    "            # start_time = time.time()\n",
    "            # print(f'total left: {len(url_list)}')\n",
    "\n",
    "            data = each_page(proxy, ua, url)\n",
    "            df = pd.DataFrame(data)\n",
    "            eds = {'full_address': [], 'home_link': []}\n",
    "            if data['full_address'] != eds['full_address']:\n",
    "                main_df = pd.concat([main_df, df])\n",
    "                url_list.pop(i)\n",
    "                # a = (time.time() - start_time) * len(url_list)\n",
    "                # print('SUCCESS!!')\n",
    "                # print(f'Currently on url number: {i}')\n",
    "                # print(f'time taken: {a/len(url_list)}')\n",
    "                if i > 0:\n",
    "                    i -= randint(0, 1)\n",
    "                else:\n",
    "                    i += 0\n",
    "            else:\n",
    "                # print('No results')\n",
    "                # print(f'Currently on url number: {i}')\n",
    "                i += randint(1, 5)\n",
    "        except:\n",
    "            # print(\"Skipping. Connnection error\")\n",
    "            proxies.remove(proxy)\n",
    "            # print(f'proxies left: {len(proxies)}')\n",
    "            # print(f'total left: {len(url_list)}')\n",
    "            return url_list, main_df, proxies\n",
    "    return url_list, main_df, proxies"
   ]
  },
  {
   "cell_type": "code",
   "execution_count": null,
   "metadata": {},
   "outputs": [],
   "source": []
  },
  {
   "cell_type": "code",
   "execution_count": null,
   "metadata": {},
   "outputs": [],
   "source": []
  },
  {
   "cell_type": "code",
   "execution_count": null,
   "metadata": {},
   "outputs": [],
   "source": []
  },
  {
   "cell_type": "code",
   "execution_count": null,
   "metadata": {},
   "outputs": [],
   "source": []
  },
  {
   "cell_type": "code",
   "execution_count": null,
   "metadata": {
    "ExecuteTime": {
     "end_time": "2018-10-11T20:42:21.017303Z",
     "start_time": "2018-10-11T20:42:21.003179Z"
    }
   },
   "outputs": [],
   "source": [
    "url = 'https://www.zillow.com/homedetails/895-Yakima-Dr-Fremont-CA-94539/25028455_zpid/?fullpage=true'"
   ]
  },
  {
   "cell_type": "code",
   "execution_count": null,
   "metadata": {},
   "outputs": [],
   "source": []
  },
  {
   "cell_type": "code",
   "execution_count": null,
   "metadata": {},
   "outputs": [],
   "source": []
  },
  {
   "cell_type": "code",
   "execution_count": null,
   "metadata": {},
   "outputs": [],
   "source": []
  },
  {
   "cell_type": "code",
   "execution_count": null,
   "metadata": {},
   "outputs": [],
   "source": []
  },
  {
   "cell_type": "code",
   "execution_count": null,
   "metadata": {},
   "outputs": [],
   "source": []
  },
  {
   "cell_type": "code",
   "execution_count": null,
   "metadata": {},
   "outputs": [],
   "source": []
  },
  {
   "cell_type": "code",
   "execution_count": null,
   "metadata": {},
   "outputs": [],
   "source": []
  },
  {
   "cell_type": "code",
   "execution_count": null,
   "metadata": {},
   "outputs": [],
   "source": []
  },
  {
   "cell_type": "code",
   "execution_count": null,
   "metadata": {},
   "outputs": [],
   "source": []
  },
  {
   "cell_type": "code",
   "execution_count": null,
   "metadata": {
    "ExecuteTime": {
     "end_time": "2018-10-11T20:42:22.435419Z",
     "start_time": "2018-10-11T20:42:21.763831Z"
    }
   },
   "outputs": [],
   "source": [
    "header = random.sample(ua, 1)[0]\n",
    "soup = session_creator(ua, url)"
   ]
  },
  {
   "cell_type": "code",
   "execution_count": null,
   "metadata": {
    "ExecuteTime": {
     "end_time": "2018-10-11T20:54:02.150357Z",
     "start_time": "2018-10-11T20:54:02.106750Z"
    }
   },
   "outputs": [],
   "source": [
    "a = soup.findAll('div', {'class': 'fact-container'})\n",
    "b = soup.findAll('div', {'class': 'fact-value'})"
   ]
  },
  {
   "cell_type": "code",
   "execution_count": null,
   "metadata": {
    "ExecuteTime": {
     "end_time": "2018-10-11T20:54:02.258818Z",
     "start_time": "2018-10-11T20:54:02.245098Z"
    }
   },
   "outputs": [],
   "source": [
    "z = []\n",
    "y = []"
   ]
  },
  {
   "cell_type": "code",
   "execution_count": null,
   "metadata": {
    "ExecuteTime": {
     "end_time": "2018-10-11T20:54:02.412341Z",
     "start_time": "2018-10-11T20:54:02.396989Z"
    }
   },
   "outputs": [],
   "source": [
    "for num in a:\n",
    "    z.append(num.text)\n",
    "for num in b:\n",
    "    y.append(num.text)"
   ]
  },
  {
   "cell_type": "code",
   "execution_count": null,
   "metadata": {
    "ExecuteTime": {
     "end_time": "2018-10-11T20:54:02.553016Z",
     "start_time": "2018-10-11T20:54:02.538843Z"
    }
   },
   "outputs": [],
   "source": [
    "z = [num.replace('  ','').replace('   ','').replace('\\r','').replace('\\n','').replace('\\xa0','') for num in z]"
   ]
  },
  {
   "cell_type": "code",
   "execution_count": null,
   "metadata": {
    "ExecuteTime": {
     "end_time": "2018-10-11T21:01:14.174027Z",
     "start_time": "2018-10-11T21:01:14.147092Z"
    }
   },
   "outputs": [],
   "source": [
    "l = [re.findall(r'(.+)\\:', num) for num in z]\n",
    "# print(l)\n",
    "k = [re.findall(r'\\:(.+)', num) for num in z]\n",
    "# print(k)\n",
    "nd = {}\n",
    "i = 0\n",
    "while i < len(l):\n",
    "    if len(l[i])>0:\n",
    "        if l[i][0] in nd.keys():\n",
    "            nd[l[i][0]].extend(k[i])\n",
    "        else:\n",
    "            nd[l[i][0]] = k[i]\n",
    "        i+=1\n",
    "    else:\n",
    "        i+=1\n",
    "for k,v in nd.items():\n",
    "    nd[k] = ', '.join([num for num in v])\n",
    "print(nd)"
   ]
  },
  {
   "cell_type": "code",
   "execution_count": null,
   "metadata": {
    "ExecuteTime": {
     "end_time": "2018-10-11T20:42:46.056947Z",
     "start_time": "2018-10-11T20:42:46.039607Z"
    }
   },
   "outputs": [],
   "source": [
    "y = [num.replace('  ','').replace('   ','').replace('\\r','').replace('\\n','').replace('\\xa0','') for num in y]"
   ]
  },
  {
   "cell_type": "code",
   "execution_count": null,
   "metadata": {
    "ExecuteTime": {
     "end_time": "2018-10-11T20:42:46.645751Z",
     "start_time": "2018-10-11T20:42:46.629115Z"
    }
   },
   "outputs": [],
   "source": [
    "dict(zip(z,y))"
   ]
  },
  {
   "cell_type": "code",
   "execution_count": null,
   "metadata": {},
   "outputs": [],
   "source": []
  }
 ],
 "metadata": {
  "kernelspec": {
   "display_name": "Python 3",
   "language": "python",
   "name": "python3"
  },
  "language_info": {
   "codemirror_mode": {
    "name": "ipython",
    "version": 3
   },
   "file_extension": ".py",
   "mimetype": "text/x-python",
   "name": "python",
   "nbconvert_exporter": "python",
   "pygments_lexer": "ipython3",
   "version": "3.6.6"
  }
 },
 "nbformat": 4,
 "nbformat_minor": 2
}
