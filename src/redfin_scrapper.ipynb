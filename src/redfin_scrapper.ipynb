{
 "cells": [
  {
   "cell_type": "code",
   "execution_count": 1,
   "metadata": {
    "ExecuteTime": {
     "end_time": "2018-10-05T16:49:49.762755Z",
     "start_time": "2018-10-05T16:49:49.311835Z"
    }
   },
   "outputs": [],
   "source": [
    "from math import ceil\n",
    "import time, re, ast, sys, urllib, time, random, string, requests\n",
    "import pandas as pd\n",
    "from bs4 import BeautifulSoup\n",
    "from random import randint\n",
    "from selenium.webdriver.firefox.webdriver import FirefoxProfile\n",
    "from urllib.request import urlopen, Request\n",
    "from urllib.error import HTTPError, URLError\n",
    "from itertools import cycle \n",
    "from header_list import user_agent_list\n",
    "from proxies_list import *\n",
    "from INITIAL_SCRAPPER_FUNCTIONS import *\n",
    "from LIST_DF_FUNCTIONS import *\n",
    "from PARSER_FUNCTIONS import *\n",
    "from GET_SEARCH_URL import *"
   ]
  },
  {
   "cell_type": "code",
   "execution_count": 4,
   "metadata": {
    "ExecuteTime": {
     "end_time": "2018-10-05T16:58:00.738282Z",
     "start_time": "2018-10-05T16:49:55.814975Z"
    },
    "scrolled": false
   },
   "outputs": [
    {
     "name": "stdout",
     "output_type": "stream",
     "text": [
      "1\n",
      "{'origin': '12.183.155.91'}\n",
      "2.142284631729126\n",
      "[]\n",
      "2\n",
      "{'origin': '12.2.202.242'}\n",
      "1.7549889087677002\n",
      "[]\n",
      "3\n",
      "{'origin': '129.208.64.223'}\n",
      "4.262833833694458\n",
      "[]\n",
      "4\n",
      "{'origin': '50.224.173.189'}\n",
      "2.1652352809906006\n",
      "[]\n",
      "5\n",
      "{'origin': '50.224.173.189'}\n",
      "2.384117364883423\n",
      "[]\n",
      "6\n",
      "{'origin': '50.224.173.189'}\n",
      "2.3393635749816895\n",
      "[]\n",
      "7\n",
      "Skipping. Connnection error\n",
      "1.7084393501281738\n",
      "[7]\n",
      "8\n",
      "{'origin': '98.101.147.86'}\n",
      "2.232820749282837\n",
      "[7]\n",
      "9\n",
      "{'origin': '140.227.60.114'}\n",
      "3.09733510017395\n",
      "[7]\n",
      "10\n",
      "{'origin': '216.85.7.155'}\n",
      "1.8695313930511475\n",
      "[7]\n",
      "11\n",
      "{'origin': '97.90.251.228'}\n",
      "3.4804861545562744\n",
      "[7]\n",
      "12\n",
      "{'origin': '24.113.161.184'}\n",
      "2.5883333683013916\n",
      "[7]\n",
      "13\n",
      "{'origin': '8.40.240.90'}\n",
      "4.656787157058716\n",
      "[7]\n",
      "14\n",
      "{'origin': '12.175.211.121'}\n",
      "2.382274866104126\n",
      "[7]\n",
      "15\n",
      "{'origin': '100.40.55.83'}\n",
      "4.859314441680908\n",
      "[7]\n",
      "16\n",
      "{'origin': '24.173.244.146'}\n",
      "2.837831974029541\n",
      "[7]\n",
      "17\n",
      "{'origin': '208.80.151.81'}\n",
      "2.812811851501465\n",
      "[7]\n",
      "18\n",
      "{'origin': '142.147.112.246'}\n",
      "2.682786703109741\n",
      "[7]\n",
      "19\n",
      "{'origin': '199.120.67.246'}\n",
      "2.0274946689605713\n",
      "[7]\n",
      "20\n",
      "{'origin': '71.183.100.76'}\n",
      "3.359941244125366\n",
      "[7]\n",
      "21\n",
      "{'origin': '67.198.99.138'}\n",
      "34.481619358062744\n",
      "[7]\n",
      "22\n",
      "{'origin': '65.49.167.6'}\n",
      "8.632652521133423\n",
      "[7]\n",
      "23\n",
      "{'origin': '64.19.116.82'}\n",
      "4.603788614273071\n",
      "[7]\n",
      "24\n",
      "{'origin': '71.14.255.180'}\n",
      "3.3664567470550537\n",
      "[7]\n",
      "25\n",
      "{'origin': '47.157.73.215'}\n",
      "10.067769765853882\n",
      "[7]\n",
      "26\n",
      "Skipping. Connnection error\n",
      "84.75407099723816\n",
      "[7, 26]\n",
      "27\n",
      "{'origin': '74.2.93.250'}\n",
      "48.02355337142944\n",
      "[7, 26]\n",
      "28\n",
      "{'origin': '104.32.43.13'}\n",
      "37.200758934020996\n",
      "[7, 26]\n",
      "29\n",
      "{'origin': '67.165.205.83'}\n",
      "2.8352112770080566\n",
      "[7, 26]\n",
      "30\n",
      "{'origin': '73.244.187.99'}\n",
      "6.4956676959991455\n",
      "[7, 26]\n",
      "31\n",
      "{'origin': '192.30.85.28'}\n",
      "18.014082193374634\n",
      "[7, 26]\n",
      "32\n",
      "Skipping. Connnection error\n",
      "4.798067569732666\n",
      "[7, 26, 32]\n",
      "33\n",
      "{'origin': '67.231.63.29'}\n",
      "11.799954175949097\n",
      "[7, 26, 32]\n",
      "34\n",
      "{'origin': '173.162.101.209'}\n",
      "10.343473196029663\n",
      "[7, 26, 32]\n",
      "35\n",
      "{'origin': '24.113.168.225'}\n",
      "4.804816246032715\n",
      "[7, 26, 32]\n",
      "36\n",
      "{'origin': '98.26.32.15'}\n",
      "2.1614956855773926\n",
      "[7, 26, 32]\n",
      "37\n",
      "{'origin': '24.112.63.248'}\n",
      "8.098171949386597\n",
      "[7, 26, 32]\n",
      "38\n",
      "{'origin': '71.43.26.18'}\n",
      "3.3879776000976562\n",
      "[7, 26, 32]\n",
      "39\n",
      "{'origin': '66.60.120.162'}\n",
      "2.5271949768066406\n",
      "[7, 26, 32]\n",
      "40\n",
      "{'origin': '107.178.9.195'}\n",
      "6.431959629058838\n",
      "[7, 26, 32]\n",
      "41\n",
      "{'origin': '24.214.148.134'}\n",
      "2.881755828857422\n",
      "[7, 26, 32]\n",
      "42\n",
      "{'origin': '65.173.110.100'}\n",
      "4.704381704330444\n",
      "[7, 26, 32]\n",
      "43\n",
      "{'origin': '104.228.224.241'}\n",
      "20.87075662612915\n",
      "[7, 26, 32]\n",
      "44\n",
      "{'origin': '216.27.126.86'}\n",
      "2.5858407020568848\n",
      "[7, 26, 32]\n",
      "45\n",
      "{'origin': '98.172.142.113'}\n",
      "5.134130239486694\n",
      "[7, 26, 32]\n",
      "46\n",
      "{'origin': '66.208.101.138'}\n",
      "2.2223639488220215\n",
      "[7, 26, 32]\n",
      "47\n",
      "{'origin': '204.11.243.70'}\n",
      "22.74478840827942\n",
      "[7, 26, 32]\n",
      "48\n",
      "{'origin': '38.93.235.72'}\n",
      "2.5690596103668213\n",
      "[7, 26, 32]\n",
      "49\n",
      "{'origin': '208.68.236.6'}\n",
      "5.153430938720703\n",
      "[7, 26, 32]\n"
     ]
    },
    {
     "data": {
      "text/plain": [
       "['12.183.155.91:39828',\n",
       " '12.2.202.242:8080',\n",
       " '37.224.84.90:8080',\n",
       " '50.224.173.179:8080',\n",
       " '50.224.173.189:8080',\n",
       " '50.224.173.190:8080',\n",
       " '72.35.40.34:8080',\n",
       " '98.101.147.86:50259',\n",
       " '140.227.60.114:3128',\n",
       " '216.85.7.155:59880',\n",
       " '97.90.251.228:8080',\n",
       " '24.113.161.184:40690',\n",
       " '8.40.240.90:42827',\n",
       " '12.175.211.121:59669',\n",
       " '100.40.55.83:30657',\n",
       " '24.173.244.146:59041',\n",
       " '208.80.151.81:47591',\n",
       " '142.147.112.246:59640',\n",
       " '199.120.67.246:49382',\n",
       " '71.183.100.76:42413',\n",
       " '67.198.99.138:60810',\n",
       " '65.49.167.6:8888',\n",
       " '64.19.116.82:60814',\n",
       " '71.14.255.180:45487',\n",
       " '47.157.73.215:80',\n",
       " '35.236.106.106:8080',\n",
       " '74.2.93.250:53524',\n",
       " '104.32.43.13:53281',\n",
       " '67.165.205.83:40086',\n",
       " '73.244.187.99:53281',\n",
       " '192.30.85.28:8888',\n",
       " '66.194.211.225:8080',\n",
       " '67.231.63.29:32231',\n",
       " '173.162.101.209:32231',\n",
       " '24.113.168.225:52252',\n",
       " '98.26.32.15:36891',\n",
       " '24.112.63.248:35663',\n",
       " '71.43.26.18:46024',\n",
       " '66.60.120.162:44284',\n",
       " '107.178.9.195:44767',\n",
       " '24.214.148.134:58427',\n",
       " '65.173.110.100:32162',\n",
       " '104.228.224.241:44956',\n",
       " '216.27.126.86:53146',\n",
       " '98.172.142.113:8080',\n",
       " '38.134.10.106:53281',\n",
       " '204.11.243.74:3128',\n",
       " '38.93.235.72:37684',\n",
       " '208.68.236.6:36489',\n",
       " '104.165.219.164:46101']"
      ]
     },
     "execution_count": 4,
     "metadata": {},
     "output_type": "execute_result"
    }
   ],
   "source": [
    "ua = user_agent_list\n",
    "proxies = proxies_list_\n",
    "prx_pool = proxie_random_pool\n",
    "proxie_check(proxies)"
   ]
  },
  {
   "cell_type": "code",
   "execution_count": 3,
   "metadata": {
    "ExecuteTime": {
     "end_time": "2018-10-05T16:49:52.668140Z",
     "start_time": "2018-10-05T16:49:52.647042Z"
    },
    "scrolled": true
   },
   "outputs": [
    {
     "data": {
      "text/plain": [
       "50"
      ]
     },
     "execution_count": 3,
     "metadata": {},
     "output_type": "execute_result"
    }
   ],
   "source": [
    "len(proxies)"
   ]
  },
  {
   "cell_type": "code",
   "execution_count": 155,
   "metadata": {
    "ExecuteTime": {
     "end_time": "2018-10-04T20:40:13.361630Z",
     "start_time": "2018-10-04T20:40:13.341163Z"
    }
   },
   "outputs": [],
   "source": [
    "# zip_codes = pd.read_csv('../Data/main_zips.csv')\n",
    "# zip_list = zip_codes['zip'].tolist()"
   ]
  },
  {
   "cell_type": "code",
   "execution_count": 15,
   "metadata": {
    "ExecuteTime": {
     "end_time": "2018-10-04T20:40:13.470057Z",
     "start_time": "2018-10-04T20:40:13.454373Z"
    }
   },
   "outputs": [],
   "source": [
    "# active_zip_url_list, sold_zip_url_list = gen_url_list(zip_list)"
   ]
  },
  {
   "cell_type": "code",
   "execution_count": 16,
   "metadata": {
    "ExecuteTime": {
     "end_time": "2018-10-04T20:40:13.600422Z",
     "start_time": "2018-10-04T20:40:13.580446Z"
    }
   },
   "outputs": [],
   "source": [
    "# a_main_df = pd.DataFrame(columns=['full_address', 'home_link'])\n",
    "# s_main_df = pd.DataFrame(columns=['full_address', 'home_link'])"
   ]
  },
  {
   "cell_type": "code",
   "execution_count": 17,
   "metadata": {
    "ExecuteTime": {
     "end_time": "2018-10-04T20:40:13.708635Z",
     "start_time": "2018-10-04T20:40:13.688904Z"
    },
    "scrolled": true
   },
   "outputs": [],
   "source": [
    "# a = randint(0, 3)\n",
    "# time.sleep(random.uniform(0, 1)*((88/13)**.33)*a)\n",
    "# active_zip_url_list, a_main_df, proxies = links_for_props(proxies, active_zip_url_list, a_main_df, ua)"
   ]
  },
  {
   "cell_type": "code",
   "execution_count": 18,
   "metadata": {
    "ExecuteTime": {
     "end_time": "2018-10-04T20:40:13.822477Z",
     "start_time": "2018-10-04T20:40:13.803862Z"
    },
    "scrolled": true
   },
   "outputs": [],
   "source": [
    "# a = randint(0, 3)\n",
    "# sold_zip_url_list, s_main_df, proxies = links_for_props(proxies, sold_zip_url_list, s_main_df, ua)\n",
    "# time.sleep(random.uniform(0, 1)*((88/13)**.33)*a)"
   ]
  },
  {
   "cell_type": "code",
   "execution_count": 19,
   "metadata": {
    "ExecuteTime": {
     "end_time": "2018-10-04T20:40:13.937948Z",
     "start_time": "2018-10-04T20:40:13.920620Z"
    }
   },
   "outputs": [],
   "source": [
    "# a_main_df.to_csv('../Data/active_props_url_list.csv')\n",
    "# s_main_df.to_csv('../Data/sold_props_url_list.csv')"
   ]
  },
  {
   "cell_type": "code",
   "execution_count": 20,
   "metadata": {
    "ExecuteTime": {
     "end_time": "2018-10-04T20:40:14.100325Z",
     "start_time": "2018-10-04T20:40:14.038871Z"
    }
   },
   "outputs": [],
   "source": [
    "a_main_df = pd.read_csv('../Data/active_props_url_list.csv')\n",
    "s_main_df = pd.read_csv('../Data/sold_props_url_list.csv')"
   ]
  },
  {
   "cell_type": "code",
   "execution_count": 21,
   "metadata": {
    "ExecuteTime": {
     "end_time": "2018-10-04T20:40:14.204550Z",
     "start_time": "2018-10-04T20:40:14.174509Z"
    }
   },
   "outputs": [],
   "source": [
    "a_main_df = a_main_df.drop_duplicates(subset='full_address')\n",
    "s_main_df = s_main_df.drop_duplicates(subset='full_address')"
   ]
  },
  {
   "cell_type": "code",
   "execution_count": 22,
   "metadata": {
    "ExecuteTime": {
     "end_time": "2018-10-04T20:40:14.910775Z",
     "start_time": "2018-10-04T20:40:14.893124Z"
    }
   },
   "outputs": [],
   "source": [
    "active_url_list = a_main_df.home_link.tolist()\n",
    "sold_url_list = s_main_df.home_link.tolist()"
   ]
  },
  {
   "cell_type": "code",
   "execution_count": 77,
   "metadata": {
    "ExecuteTime": {
     "end_time": "2018-10-04T20:40:46.537896Z",
     "start_time": "2018-10-04T20:40:46.524816Z"
    }
   },
   "outputs": [],
   "source": [
    "def info_from_property(soup):\n",
    "\n",
    "    top_info_dict = top_info_parser(soup, 1)\n",
    "    public_info_dict = public_info_parser(soup, 1)\n",
    "    school_dict = school_parser(soup, 1)\n",
    "    all_home_feats = feats_parser(soup, 1)\n",
    "    \n",
    "    df = pd.DataFrame()\n",
    "    df = pd.concat([top_info_dict, school_dict, public_info_dict, \n",
    "                    all_home_feats], axis=1)\n",
    "    \n",
    "    return df"
   ]
  },
  {
   "cell_type": "code",
   "execution_count": 105,
   "metadata": {
    "ExecuteTime": {
     "end_time": "2018-10-04T20:41:55.770355Z",
     "start_time": "2018-10-04T20:41:50.832796Z"
    }
   },
   "outputs": [
    {
     "name": "stdout",
     "output_type": "stream",
     "text": [
      "69.206.51.199:56454\n",
      "https://www.redfin.com/CA/Palo-Alto/753-Maplewood-Pl-94303/home/592649\n"
     ]
    }
   ],
   "source": [
    "header = random.sample(ua, 1)[0]\n",
    "proxy = random.sample(proxies, 1)[0]\n",
    "sold_url_list = s_main_df['home_link'].tolist()\n",
    "url = random.sample(sold_url_list, 1)[0]\n",
    "print(proxy)\n",
    "print(url)\n",
    "soup = session_creator(proxy, ua, url)\n",
    "sold_home_df = info_from_sold_property(soup)"
   ]
  },
  {
   "cell_type": "code",
   "execution_count": null,
   "metadata": {},
   "outputs": [],
   "source": [
    "sold_home_df = sold_home_df.rename(columns={'': 'redfin_est', 'Built': 'yr_blt', 'Last Sold Price': 'ls_price', Beds})"
   ]
  },
  {
   "cell_type": "code",
   "execution_count": 107,
   "metadata": {},
   "outputs": [
    {
     "data": {
      "text/plain": [
       "Index(['address', 'city', 'state', 'zip_code', 'sqft', 'latitude', 'longitude',\n",
       "       'Redfin Estimate', 'Last Sold Price', 'Beds', 'Baths', 'Built: ',\n",
       "       'Status: ', 'description', 'elem_school_name', 'elem_school_grades',\n",
       "       'elem_school_rating', 'middle_school_name', 'middle_school_grades',\n",
       "       'middle_school_rating', 'high_school_name', 'high_school_grades',\n",
       "       'high_school_rating', 'Beds', 'Baths', 'Sq. Ft.', 'Stories', 'Lot Size',\n",
       "       'Style', 'Year Built', 'Year Renovated', 'County', 'APN',\n",
       "       '# of Bedrooms (Minimum): ', '# of Bedrooms (Maximum): ',\n",
       "       '# of Baths (Full): ', '# of Baths (1/2): ',\n",
       "       'Family Room Description: ', 'Dining Room Description: ',\n",
       "       '<span>Has Fireplace</span>', 'Fireplace Description: ',\n",
       "       'Fireplaces (Minimum): ', 'Heating: ', 'Garage (Minimum): ',\n",
       "       'Garage (Maximum): ', 'Parking Description: ', 'Garage Spaces: ',\n",
       "       '# of Stories: ', 'Elementary School: ', 'Elementary School District: ',\n",
       "       'Middle School: ', 'High School: ', 'High School District: ',\n",
       "       'City Transfer Tax: ', 'Roof: ', 'Building Type: ',\n",
       "       '<span>Concrete Slab</span>', '<span>Has Pool</span>', 'Sewer Septic: ',\n",
       "       'Utilities: ', 'Water: ', 'Living Sq. Ft.: ', 'Property Master ID: ',\n",
       "       'Lot Acres: ', 'Lot Size Area Minimum Units: ',\n",
       "       'Lot Size Area Maximum Units: ', 'Lot Size Source: ', 'Zoning: ',\n",
       "       'Incorporated: '],\n",
       "      dtype='object')"
      ]
     },
     "execution_count": 107,
     "metadata": {},
     "output_type": "execute_result"
    }
   ],
   "source": [
    "sold_home_df.columns"
   ]
  },
  {
   "cell_type": "code",
   "execution_count": 128,
   "metadata": {},
   "outputs": [
    {
     "data": {
      "text/plain": [
       "['address',\n",
       " 'city',\n",
       " 'state',\n",
       " 'zip_code',\n",
       " 'sqft',\n",
       " 'latitude',\n",
       " 'longitude',\n",
       " 'redfin_est',\n",
       " 'last_sold_price',\n",
       " 'num_bdrms',\n",
       " 'num_bths',\n",
       " 'yr_blt',\n",
       " 'status',\n",
       " 'description',\n",
       " 'elem_school_name',\n",
       " 'elem_school_grades',\n",
       " 'elem_school_rating',\n",
       " 'middle_school_name',\n",
       " 'middle_school_grades',\n",
       " 'middle_school_rating',\n",
       " 'high_school_name',\n",
       " 'high_school_grades',\n",
       " 'high_school_rating',\n",
       " 'num_bdrms',\n",
       " 'num_bths',\n",
       " 'sqft',\n",
       " 'stories',\n",
       " 'lot_size',\n",
       " 'style',\n",
       " 'yr_blt',\n",
       " 'year_renovated',\n",
       " 'county',\n",
       " 'apn',\n",
       " 'num_bedrooms_min',\n",
       " 'num_bedrooms_max',\n",
       " 'num_num_bths_full',\n",
       " 'num_num_bths_1/2',\n",
       " 'family_room_description',\n",
       " 'dining_room_description',\n",
       " '<span>has_fireplace</span>',\n",
       " 'fireplace_description',\n",
       " 'fireplaces_min',\n",
       " 'heating',\n",
       " 'garage_min',\n",
       " 'garage_max',\n",
       " 'parking_description',\n",
       " 'garage_spaces',\n",
       " 'num_stories',\n",
       " 'elementary_school',\n",
       " 'elementary_school_district',\n",
       " 'middle_school',\n",
       " 'high_school',\n",
       " 'high_school_district',\n",
       " 'city_transfer_tax',\n",
       " 'roof',\n",
       " 'building_type',\n",
       " '<span>concrete_slab</span>',\n",
       " '<span>has_pool</span>',\n",
       " 'sewer_septic',\n",
       " 'utilities',\n",
       " 'water',\n",
       " 'living_sqft',\n",
       " 'property_master_id',\n",
       " 'lot_acres',\n",
       " 'lot_size_area_min_units',\n",
       " 'lot_size_area_max_units',\n",
       " 'lot_size_source',\n",
       " 'zoning',\n",
       " 'incorporated']"
      ]
     },
     "execution_count": 128,
     "metadata": {},
     "output_type": "execute_result"
    }
   ],
   "source": [
    "df_cols = rename_columns(sold_home_df.columns)\n",
    "df_cols\n",
    "# sold_home_df.columns\n",
    "# df_cols = [num.replace().\n",
    "# df_cols = [num for num in ]\n",
    "# df_cols = [num for num in df_cols]\n",
    "# df_cols\n",
    "# sold_home_df.columns = df_cols\n",
    "# sold_home_df.columns"
   ]
  },
  {
   "cell_type": "code",
   "execution_count": 5,
   "metadata": {
    "ExecuteTime": {
     "end_time": "2018-10-05T16:58:00.830068Z",
     "start_time": "2018-10-05T16:58:00.741389Z"
    },
    "scrolled": true
   },
   "outputs": [
    {
     "ename": "NameError",
     "evalue": "name 's_main_df' is not defined",
     "output_type": "error",
     "traceback": [
      "\u001b[0;31m---------------------------------------------------------------------------\u001b[0m",
      "\u001b[0;31mNameError\u001b[0m                                 Traceback (most recent call last)",
      "\u001b[0;32m<ipython-input-5-bc4d1243cd70>\u001b[0m in \u001b[0;36m<module>\u001b[0;34m()\u001b[0m\n\u001b[1;32m      1\u001b[0m \u001b[0mheader\u001b[0m \u001b[0;34m=\u001b[0m \u001b[0mrandom\u001b[0m\u001b[0;34m.\u001b[0m\u001b[0msample\u001b[0m\u001b[0;34m(\u001b[0m\u001b[0mua\u001b[0m\u001b[0;34m,\u001b[0m \u001b[0;36m1\u001b[0m\u001b[0;34m)\u001b[0m\u001b[0;34m[\u001b[0m\u001b[0;36m0\u001b[0m\u001b[0;34m]\u001b[0m\u001b[0;34m\u001b[0m\u001b[0m\n\u001b[1;32m      2\u001b[0m \u001b[0mproxy\u001b[0m \u001b[0;34m=\u001b[0m \u001b[0mrandom\u001b[0m\u001b[0;34m.\u001b[0m\u001b[0msample\u001b[0m\u001b[0;34m(\u001b[0m\u001b[0mproxies\u001b[0m\u001b[0;34m,\u001b[0m \u001b[0;36m1\u001b[0m\u001b[0;34m)\u001b[0m\u001b[0;34m[\u001b[0m\u001b[0;36m0\u001b[0m\u001b[0;34m]\u001b[0m\u001b[0;34m\u001b[0m\u001b[0m\n\u001b[0;32m----> 3\u001b[0;31m \u001b[0msold_url_list\u001b[0m \u001b[0;34m=\u001b[0m \u001b[0ms_main_df\u001b[0m\u001b[0;34m[\u001b[0m\u001b[0;34m'home_link'\u001b[0m\u001b[0;34m]\u001b[0m\u001b[0;34m.\u001b[0m\u001b[0mtolist\u001b[0m\u001b[0;34m(\u001b[0m\u001b[0;34m)\u001b[0m\u001b[0;34m\u001b[0m\u001b[0m\n\u001b[0m\u001b[1;32m      4\u001b[0m \u001b[0murl\u001b[0m \u001b[0;34m=\u001b[0m \u001b[0;34m'https://www.redfin.com/CA/Fremont/1622-Mento-Ter-94539/home/22962572'\u001b[0m\u001b[0;34m\u001b[0m\u001b[0m\n\u001b[1;32m      5\u001b[0m \u001b[0;31m# url = random.sample(sold_url_list, 1)[0]\u001b[0m\u001b[0;34m\u001b[0m\u001b[0;34m\u001b[0m\u001b[0m\n",
      "\u001b[0;31mNameError\u001b[0m: name 's_main_df' is not defined"
     ]
    }
   ],
   "source": [
    "header = random.sample(ua, 1)[0]\n",
    "proxy = random.sample(proxies, 1)[0]\n",
    "sold_url_list = s_main_df['home_link'].tolist()\n",
    "url = 'https://www.redfin.com/CA/Fremont/1622-Mento-Ter-94539/home/22962572'\n",
    "# url = random.sample(sold_url_list, 1)[0]\n",
    "print(proxy)\n",
    "print(url)"
   ]
  },
  {
   "cell_type": "code",
   "execution_count": 109,
   "metadata": {},
   "outputs": [],
   "source": [
    "a = 'hello!'"
   ]
  },
  {
   "cell_type": "code",
   "execution_count": 110,
   "metadata": {},
   "outputs": [
    {
     "data": {
      "text/plain": [
       "'hello'"
      ]
     },
     "execution_count": 110,
     "metadata": {},
     "output_type": "execute_result"
    }
   ],
   "source": [
    "a[:-1]"
   ]
  },
  {
   "cell_type": "code",
   "execution_count": null,
   "metadata": {},
   "outputs": [],
   "source": []
  },
  {
   "cell_type": "code",
   "execution_count": null,
   "metadata": {},
   "outputs": [],
   "source": []
  },
  {
   "cell_type": "code",
   "execution_count": null,
   "metadata": {},
   "outputs": [],
   "source": []
  }
 ],
 "metadata": {
  "kernelspec": {
   "display_name": "Python 3",
   "language": "python",
   "name": "python3"
  },
  "language_info": {
   "codemirror_mode": {
    "name": "ipython",
    "version": 3
   },
   "file_extension": ".py",
   "mimetype": "text/x-python",
   "name": "python",
   "nbconvert_exporter": "python",
   "pygments_lexer": "ipython3",
   "version": "3.6.6"
  }
 },
 "nbformat": 4,
 "nbformat_minor": 2
}
