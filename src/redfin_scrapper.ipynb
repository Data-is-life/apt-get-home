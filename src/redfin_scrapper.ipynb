{
 "cells": [
  {
   "cell_type": "code",
   "execution_count": 778,
   "metadata": {
    "ExecuteTime": {
     "end_time": "2018-10-03T19:22:13.425128Z",
     "start_time": "2018-10-03T19:22:13.402860Z"
    }
   },
   "outputs": [],
   "source": [
    "from math import ceil\n",
    "import time, re, ast, sys, urllib, time, random, string, requests\n",
    "import pandas as pd\n",
    "from bs4 import BeautifulSoup\n",
    "from random import randint\n",
    "from selenium.webdriver.firefox.webdriver import FirefoxProfile\n",
    "from urllib.request import urlopen, Request\n",
    "from urllib.error import HTTPError, URLError\n",
    "from itertools import cycle \n",
    "from header_list import user_agent_list\n",
    "from proxies_list import *\n",
    "from INITIAL_SCRAPPER_FUNCTIONS import *\n",
    "from LIST_DF_FUNCTIONS import *\n",
    "from PARSER_FUNCTIONS import *"
   ]
  },
  {
   "cell_type": "code",
   "execution_count": 787,
   "metadata": {
    "ExecuteTime": {
     "end_time": "2018-10-03T20:52:59.145422Z",
     "start_time": "2018-10-03T20:52:59.128312Z"
    }
   },
   "outputs": [],
   "source": [
    "ua = user_agent_list\n",
    "proxies = proxies_list_\n",
    "prx_pool = proxie_random_pool\n",
    "# proxies = proxie_check(proxies)"
   ]
  },
  {
   "cell_type": "code",
   "execution_count": 788,
   "metadata": {
    "ExecuteTime": {
     "end_time": "2018-10-03T20:53:03.712936Z",
     "start_time": "2018-10-03T20:53:03.691764Z"
    },
    "scrolled": true
   },
   "outputs": [
    {
     "data": {
      "text/plain": [
       "53"
      ]
     },
     "execution_count": 788,
     "metadata": {},
     "output_type": "execute_result"
    }
   ],
   "source": [
    "len(proxies)"
   ]
  },
  {
   "cell_type": "code",
   "execution_count": 204,
   "metadata": {
    "ExecuteTime": {
     "end_time": "2018-10-01T23:51:48.614365Z",
     "start_time": "2018-10-01T23:51:48.592595Z"
    }
   },
   "outputs": [],
   "source": [
    "# zip_codes = pd.read_csv('../Data/main_zips.csv')\n",
    "# zip_list = zip_codes['zip'].tolist()"
   ]
  },
  {
   "cell_type": "code",
   "execution_count": 264,
   "metadata": {
    "ExecuteTime": {
     "end_time": "2018-10-02T04:33:36.102670Z",
     "start_time": "2018-10-02T04:33:36.090058Z"
    }
   },
   "outputs": [],
   "source": [
    "# active_zip_url_list, sold_zip_url_list = gen_url_list(zip_list)"
   ]
  },
  {
   "cell_type": "code",
   "execution_count": 213,
   "metadata": {
    "ExecuteTime": {
     "end_time": "2018-10-01T23:51:53.379236Z",
     "start_time": "2018-10-01T23:51:53.364515Z"
    }
   },
   "outputs": [],
   "source": [
    "# a_main_df = pd.DataFrame(columns=['full_address', 'home_link'])\n",
    "# s_main_df = pd.DataFrame(columns=['full_address', 'home_link'])"
   ]
  },
  {
   "cell_type": "code",
   "execution_count": 261,
   "metadata": {
    "ExecuteTime": {
     "end_time": "2018-10-02T04:32:54.682803Z",
     "start_time": "2018-10-02T04:32:54.666117Z"
    },
    "scrolled": true
   },
   "outputs": [],
   "source": [
    "# a = randint(0, 3)\n",
    "# time.sleep(random.uniform(0, 1)*((88/13)**.33)*a)\n",
    "# active_zip_url_list, a_main_df, proxies = links_for_props(proxies, active_zip_url_list, a_main_df, ua)"
   ]
  },
  {
   "cell_type": "code",
   "execution_count": 309,
   "metadata": {
    "ExecuteTime": {
     "end_time": "2018-10-02T18:24:59.974204Z",
     "start_time": "2018-10-02T18:24:59.955960Z"
    },
    "scrolled": true
   },
   "outputs": [],
   "source": [
    "# a = randint(0, 3)\n",
    "# sold_zip_url_list, s_main_df, proxies = links_for_props(proxies, sold_zip_url_list, s_main_df, ua)\n",
    "# time.sleep(random.uniform(0, 1)*((88/13)**.33)*a)"
   ]
  },
  {
   "cell_type": "code",
   "execution_count": 295,
   "metadata": {
    "ExecuteTime": {
     "end_time": "2018-10-02T17:34:47.681976Z",
     "start_time": "2018-10-02T17:34:47.573732Z"
    }
   },
   "outputs": [],
   "source": [
    "# a_main_df.to_csv('../Data/active_props_url_list.csv')\n",
    "# s_main_df.to_csv('../Data/sold_props_url_list.csv')"
   ]
  },
  {
   "cell_type": "code",
   "execution_count": 652,
   "metadata": {
    "ExecuteTime": {
     "end_time": "2018-10-02T23:46:48.916158Z",
     "start_time": "2018-10-02T23:46:48.897117Z"
    }
   },
   "outputs": [],
   "source": [
    "# a_main_df = pd.read_csv('../Data/active_props_url_list.csv')\n",
    "# s_main_df = pd.read_csv('../Data/sold_props_url_list.csv')"
   ]
  },
  {
   "cell_type": "code",
   "execution_count": 304,
   "metadata": {
    "ExecuteTime": {
     "end_time": "2018-10-02T18:19:26.987057Z",
     "start_time": "2018-10-02T18:19:26.963635Z"
    }
   },
   "outputs": [],
   "source": [
    "# a_main_df = a_main_df.drop_duplicates(subset='full_address')\n",
    "# s_main_df = s_main_df.drop_duplicates(subset='full_address')"
   ]
  },
  {
   "cell_type": "code",
   "execution_count": 305,
   "metadata": {
    "ExecuteTime": {
     "end_time": "2018-10-02T18:21:54.917626Z",
     "start_time": "2018-10-02T18:21:54.900591Z"
    }
   },
   "outputs": [],
   "source": [
    "active_url_list = a_main_df.home_link.tolist()\n",
    "sold_url_list = s_main_df.home_link.tolist()"
   ]
  },
  {
   "cell_type": "code",
   "execution_count": 763,
   "metadata": {
    "ExecuteTime": {
     "end_time": "2018-10-03T01:20:25.390737Z",
     "start_time": "2018-10-03T01:20:25.371008Z"
    }
   },
   "outputs": [],
   "source": [
    "def info_from_sold_property(url, hdr, proxy):\n",
    "\n",
    "    soup = session_creator(proxy, ua, url)\n",
    "\n",
    "    home_dict = address_parser(soup)\n",
    "\n",
    "    top_info_dict = top_info_parser(soup)\n",
    "\n",
    "    public_info_dict = public_info_parser(soup)\n",
    "\n",
    "    school_dict = school_parser(soup)\n",
    "\n",
    "    all_home_feats = feats_parser(soup)\n",
    "\n",
    "    df = pd.DataFrame()\n",
    "\n",
    "    df = pd.concat([home_dict, top_info_dict, top_info_dict,\n",
    "                    public_info_dict, all_home_feats], axis=1)\n",
    "\n",
    "    return df"
   ]
  },
  {
   "cell_type": "code",
   "execution_count": 785,
   "metadata": {
    "ExecuteTime": {
     "end_time": "2018-10-03T19:42:16.204070Z",
     "start_time": "2018-10-03T19:42:14.114409Z"
    }
   },
   "outputs": [
    {
     "name": "stdout",
     "output_type": "stream",
     "text": [
      "192.0.10.186:51886\n",
      "https://www.redfin.com/DC/Washington/1329-Jefferson-St-NW-20011/home/10024452\n"
     ]
    }
   ],
   "source": [
    "header = random.sample(ua, 1)[0]\n",
    "proxy = random.sample(proxies, 1)[0]\n",
    "sold_url_list = s_main_df['home_link'].tolist()\n",
    "# url = random.sample(active_url_list, 1)[0]\n",
    "url = random.sample(sold_url_list, 1)[0]\n",
    "print(proxy)\n",
    "print(url)\n",
    "\n",
    "sold_home_df = each_property(url, header, proxy)"
   ]
  },
  {
   "cell_type": "code",
   "execution_count": 786,
   "metadata": {
    "ExecuteTime": {
     "end_time": "2018-10-03T19:42:16.244743Z",
     "start_time": "2018-10-03T19:42:16.205933Z"
    }
   },
   "outputs": [
    {
     "data": {
      "text/html": [
       "<div>\n",
       "<style scoped>\n",
       "    .dataframe tbody tr th:only-of-type {\n",
       "        vertical-align: middle;\n",
       "    }\n",
       "\n",
       "    .dataframe tbody tr th {\n",
       "        vertical-align: top;\n",
       "    }\n",
       "\n",
       "    .dataframe thead th {\n",
       "        text-align: right;\n",
       "    }\n",
       "</style>\n",
       "<table border=\"1\" class=\"dataframe\">\n",
       "  <thead>\n",
       "    <tr style=\"text-align: right;\">\n",
       "      <th></th>\n",
       "      <th>address</th>\n",
       "      <th>city</th>\n",
       "      <th>zip_code</th>\n",
       "      <th>state</th>\n",
       "      <th>description</th>\n",
       "      <th>mls_num</th>\n",
       "      <th>num_beds</th>\n",
       "      <th>num_baths</th>\n",
       "      <th>home_sqft</th>\n",
       "      <th>yr_blt</th>\n",
       "      <th>...</th>\n",
       "      <th>Tax Year:</th>\n",
       "      <th>Tax Annual Amount:</th>\n",
       "      <th>Total Taxes Payment Frequency:</th>\n",
       "      <th>Year Assessed:</th>\n",
       "      <th>Ownership Interest:</th>\n",
       "      <th>Year Built Source:</th>\n",
       "      <th>Construction Materials:</th>\n",
       "      <th>Structure Type:</th>\n",
       "      <th>Tidal Water:</th>\n",
       "      <th>Soil Types:</th>\n",
       "    </tr>\n",
       "  </thead>\n",
       "  <tbody>\n",
       "    <tr>\n",
       "      <th>1</th>\n",
       "      <td>1329 JEFFERSON St NW</td>\n",
       "      <td>WASHINGTON</td>\n",
       "      <td>20011</td>\n",
       "      <td>None</td>\n",
       "      <td>N/A</td>\n",
       "      <td>1001718358</td>\n",
       "      <td>5.0</td>\n",
       "      <td>2.5</td>\n",
       "      <td>826.0</td>\n",
       "      <td>1923</td>\n",
       "      <td>...</td>\n",
       "      <td>2017</td>\n",
       "      <td>$5,337.48</td>\n",
       "      <td>Annually</td>\n",
       "      <td>2017</td>\n",
       "      <td>Fee Simple</td>\n",
       "      <td>Estimated</td>\n",
       "      <td>Shingle Siding</td>\n",
       "      <td>Detached</td>\n",
       "      <td>No</td>\n",
       "      <td>Urban Land-Sassafras-Chillum</td>\n",
       "    </tr>\n",
       "  </tbody>\n",
       "</table>\n",
       "<p>1 rows × 66 columns</p>\n",
       "</div>"
      ],
      "text/plain": [
       "                address         city zip_code state description     mls_num  \\\n",
       "1  1329 JEFFERSON St NW   WASHINGTON    20011  None         N/A  1001718358   \n",
       "\n",
       "   num_beds  num_baths  home_sqft  yr_blt              ...               \\\n",
       "1       5.0        2.5      826.0    1923              ...                \n",
       "\n",
       "  Tax Year:   Tax Annual Amount:   Total Taxes Payment Frequency:   \\\n",
       "1       2017            $5,337.48                         Annually   \n",
       "\n",
       "   Year Assessed:   Ownership Interest:   Year Built Source:   \\\n",
       "1             2017            Fee Simple            Estimated   \n",
       "\n",
       "   Construction Materials:  Structure Type:   Tidal Water:   \\\n",
       "1            Shingle Siding         Detached             No   \n",
       "\n",
       "                   Soil Types:   \n",
       "1  Urban Land-Sassafras-Chillum  \n",
       "\n",
       "[1 rows x 66 columns]"
      ]
     },
     "execution_count": 786,
     "metadata": {},
     "output_type": "execute_result"
    }
   ],
   "source": [
    "sold_home_df"
   ]
  },
  {
   "cell_type": "code",
   "execution_count": null,
   "metadata": {
    "ExecuteTime": {
     "end_time": "2018-10-03T04:42:27.556564Z",
     "start_time": "2018-10-03T04:42:27.530820Z"
    }
   },
   "outputs": [],
   "source": []
  },
  {
   "cell_type": "code",
   "execution_count": null,
   "metadata": {},
   "outputs": [],
   "source": []
  },
  {
   "cell_type": "code",
   "execution_count": null,
   "metadata": {},
   "outputs": [],
   "source": []
  },
  {
   "cell_type": "code",
   "execution_count": null,
   "metadata": {},
   "outputs": [],
   "source": []
  },
  {
   "cell_type": "code",
   "execution_count": null,
   "metadata": {},
   "outputs": [],
   "source": []
  },
  {
   "cell_type": "code",
   "execution_count": null,
   "metadata": {},
   "outputs": [],
   "source": []
  },
  {
   "cell_type": "code",
   "execution_count": null,
   "metadata": {},
   "outputs": [],
   "source": []
  },
  {
   "cell_type": "code",
   "execution_count": null,
   "metadata": {},
   "outputs": [],
   "source": []
  }
 ],
 "metadata": {
  "kernelspec": {
   "display_name": "Python 3",
   "language": "python",
   "name": "python3"
  },
  "language_info": {
   "codemirror_mode": {
    "name": "ipython",
    "version": 3
   },
   "file_extension": ".py",
   "mimetype": "text/x-python",
   "name": "python",
   "nbconvert_exporter": "python",
   "pygments_lexer": "ipython3",
   "version": "3.6.6"
  }
 },
 "nbformat": 4,
 "nbformat_minor": 2
}
