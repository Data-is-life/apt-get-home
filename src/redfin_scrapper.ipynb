{
 "cells": [
  {
   "cell_type": "code",
   "execution_count": 318,
   "metadata": {
    "ExecuteTime": {
     "end_time": "2018-10-02T18:37:56.183803Z",
     "start_time": "2018-10-02T18:37:56.163157Z"
    }
   },
   "outputs": [],
   "source": [
    "from math import ceil\n",
    "import time\n",
    "import re\n",
    "import ast\n",
    "import sys\n",
    "import urllib\n",
    "import time\n",
    "import random\n",
    "import pandas as pd\n",
    "from bs4 import BeautifulSoup\n",
    "from random import randint\n",
    "from selenium.webdriver.firefox.webdriver import FirefoxProfile\n",
    "from urllib.request import urlopen, Request\n",
    "from urllib.error import HTTPError\n",
    "from urllib.error import URLError\n",
    "import requests\n",
    "from itertools import cycle\n",
    "import string\n",
    "from header_list import user_agent_list\n",
    "from proxies_list import proxies_list_, proxie_random_pool\n",
    "from FUNCTIONS import proxie_check, strip_count, gen_url_list\n",
    "from SCRAPPER_FUNCTIONS import session_creator, zip_prop_count, each_page, links_for_props"
   ]
  },
  {
   "cell_type": "code",
   "execution_count": 319,
   "metadata": {
    "ExecuteTime": {
     "end_time": "2018-10-02T18:37:56.505607Z",
     "start_time": "2018-10-02T18:37:56.487944Z"
    }
   },
   "outputs": [],
   "source": [
    "ua = user_agent_list\n",
    "proxies = proxies_list_\n",
    "prx_pool = proxie_random_pool"
   ]
  },
  {
   "cell_type": "code",
   "execution_count": 320,
   "metadata": {
    "ExecuteTime": {
     "end_time": "2018-10-02T18:37:57.531721Z",
     "start_time": "2018-10-02T18:37:57.517400Z"
    },
    "scrolled": true
   },
   "outputs": [
    {
     "data": {
      "text/plain": [
       "48"
      ]
     },
     "execution_count": 320,
     "metadata": {},
     "output_type": "execute_result"
    }
   ],
   "source": [
    "# proxie_check(proxies)\n",
    "len(proxies)"
   ]
  },
  {
   "cell_type": "code",
   "execution_count": 204,
   "metadata": {
    "ExecuteTime": {
     "end_time": "2018-10-01T23:51:48.614365Z",
     "start_time": "2018-10-01T23:51:48.592595Z"
    }
   },
   "outputs": [],
   "source": [
    "zip_codes = pd.read_csv('../Data/main_zips.csv')\n",
    "zip_list = zip_codes['zip'].tolist()"
   ]
  },
  {
   "cell_type": "code",
   "execution_count": 264,
   "metadata": {
    "ExecuteTime": {
     "end_time": "2018-10-02T04:33:36.102670Z",
     "start_time": "2018-10-02T04:33:36.090058Z"
    }
   },
   "outputs": [],
   "source": [
    "# active_url_list, sold_url_list = gen_url_list(zip_list)"
   ]
  },
  {
   "cell_type": "code",
   "execution_count": 213,
   "metadata": {
    "ExecuteTime": {
     "end_time": "2018-10-01T23:51:53.379236Z",
     "start_time": "2018-10-01T23:51:53.364515Z"
    }
   },
   "outputs": [],
   "source": [
    "# a_main_df = pd.DataFrame(columns=['full_address', 'home_link'])\n",
    "# s_main_df = pd.DataFrame(columns=['full_address', 'home_link'])"
   ]
  },
  {
   "cell_type": "code",
   "execution_count": 261,
   "metadata": {
    "ExecuteTime": {
     "end_time": "2018-10-02T04:32:54.682803Z",
     "start_time": "2018-10-02T04:32:54.666117Z"
    },
    "scrolled": true
   },
   "outputs": [],
   "source": [
    "# a = randint(0, 3)\n",
    "# time.sleep(random.uniform(0, 1)*((88/13)**.33)*a)\n",
    "# active_url_list, a_main_df, proxies = links_for_props(\n",
    "#     proxies, active_url_list, a_main_df, ua)"
   ]
  },
  {
   "cell_type": "code",
   "execution_count": 307,
   "metadata": {
    "ExecuteTime": {
     "end_time": "2018-10-02T18:24:37.912744Z",
     "start_time": "2018-10-02T18:24:37.899663Z"
    },
    "scrolled": true
   },
   "outputs": [],
   "source": [
    "# a_main_df"
   ]
  },
  {
   "cell_type": "code",
   "execution_count": 310,
   "metadata": {
    "ExecuteTime": {
     "end_time": "2018-10-02T18:25:02.916844Z",
     "start_time": "2018-10-02T18:25:02.904147Z"
    }
   },
   "outputs": [],
   "source": [
    "# len(active_url_list)"
   ]
  },
  {
   "cell_type": "code",
   "execution_count": 309,
   "metadata": {
    "ExecuteTime": {
     "end_time": "2018-10-02T18:24:59.974204Z",
     "start_time": "2018-10-02T18:24:59.955960Z"
    },
    "scrolled": true
   },
   "outputs": [],
   "source": [
    "# a = randint(0, 3)\n",
    "# sold_url_list, s_main_df, proxies = links_for_props(\n",
    "#     proxies, sold_url_list, s_main_df, ua)"
   ]
  },
  {
   "cell_type": "code",
   "execution_count": 160,
   "metadata": {
    "ExecuteTime": {
     "end_time": "2018-09-29T06:12:47.161386Z",
     "start_time": "2018-09-29T06:12:47.145144Z"
    }
   },
   "outputs": [],
   "source": [
    "# sld_under_url_list = sld_under_url_list[1:]\n",
    "# print(len(sld_under_url_list))"
   ]
  },
  {
   "cell_type": "code",
   "execution_count": 614,
   "metadata": {
    "ExecuteTime": {
     "end_time": "2018-09-28T20:44:08.886948Z",
     "start_time": "2018-09-28T20:44:08.872336Z"
    },
    "scrolled": true
   },
   "outputs": [],
   "source": [
    "# sld_under_url_list, s_main_df = links_for_props(\n",
    "#     proxies, sld_under_url_list, s_main_df, ua)"
   ]
  },
  {
   "cell_type": "code",
   "execution_count": 616,
   "metadata": {
    "ExecuteTime": {
     "end_time": "2018-09-28T20:44:16.925278Z",
     "start_time": "2018-09-28T20:44:16.908689Z"
    }
   },
   "outputs": [],
   "source": [
    "# list_ = list(s_main_df.full_address.values)\n",
    "# set([num[-5:] for num in list_])"
   ]
  },
  {
   "cell_type": "code",
   "execution_count": 612,
   "metadata": {
    "ExecuteTime": {
     "end_time": "2018-09-28T20:44:06.749963Z",
     "start_time": "2018-09-28T20:44:06.733486Z"
    }
   },
   "outputs": [],
   "source": [
    "# main_df.to_csv('../Data/main_df_ap.csv')\n",
    "# s_main_df.to_csv('../Data/s_main.csv')"
   ]
  },
  {
   "cell_type": "code",
   "execution_count": 21,
   "metadata": {
    "ExecuteTime": {
     "end_time": "2018-09-28T23:24:54.736939Z",
     "start_time": "2018-09-28T23:24:54.658430Z"
    },
    "scrolled": true
   },
   "outputs": [],
   "source": [
    "# s_main_df = pd.read_csv('../Data/s_main.csv')\n",
    "# main_df = pd.read_csv('../Data/main_df_ap.csv')"
   ]
  },
  {
   "cell_type": "code",
   "execution_count": 295,
   "metadata": {
    "ExecuteTime": {
     "end_time": "2018-10-02T17:34:47.681976Z",
     "start_time": "2018-10-02T17:34:47.573732Z"
    }
   },
   "outputs": [],
   "source": [
    "a_main_df.to_csv('../Data/active_props_url_list.csv')\n",
    "s_main_df.to_csv('../Data/sold_props_url_list.csv')"
   ]
  },
  {
   "cell_type": "code",
   "execution_count": 304,
   "metadata": {
    "ExecuteTime": {
     "end_time": "2018-10-02T18:19:26.987057Z",
     "start_time": "2018-10-02T18:19:26.963635Z"
    }
   },
   "outputs": [],
   "source": [
    "a_main_df = a_main_df.drop_duplicates(subset='full_address')\n",
    "s_main_df = s_main_df.drop_duplicates(subset='full_address')"
   ]
  },
  {
   "cell_type": "code",
   "execution_count": 305,
   "metadata": {
    "ExecuteTime": {
     "end_time": "2018-10-02T18:21:54.917626Z",
     "start_time": "2018-10-02T18:21:54.900591Z"
    }
   },
   "outputs": [],
   "source": [
    "active_url_list = a_main_df.home_link.tolist()"
   ]
  },
  {
   "cell_type": "code",
   "execution_count": 306,
   "metadata": {
    "ExecuteTime": {
     "end_time": "2018-10-02T18:22:03.554001Z",
     "start_time": "2018-10-02T18:22:03.537382Z"
    }
   },
   "outputs": [
    {
     "data": {
      "text/plain": [
       "10153"
      ]
     },
     "execution_count": 306,
     "metadata": {},
     "output_type": "execute_result"
    }
   ],
   "source": [
    "len(active_url_list)"
   ]
  },
  {
   "cell_type": "code",
   "execution_count": 472,
   "metadata": {
    "ExecuteTime": {
     "end_time": "2018-10-02T20:07:04.296106Z",
     "start_time": "2018-10-02T20:07:04.271087Z"
    }
   },
   "outputs": [],
   "source": [
    "def each_property(url, hdr, proxy):\n",
    "    soup = session_creator(proxy, ua, url)\n",
    "\n",
    "    price_regex = r'\\$\\S+\\s+'\n",
    "    bed_regex = r'\\d+\\S?\\d?\\d?Bed'\n",
    "    bath_regex = r'\\d+\\S?\\d?\\d?Bath'\n",
    "    size_regex = r'\\d+\\S?\\d?\\d?\\s?Sq'\n",
    "    yr_blt_regex = r'Built: \\d+'\n",
    "    status_regex = r'Status: \\w+'\n",
    "    home_dict = dict()\n",
    "\n",
    "    home_address_MLS = soup.title.string\n",
    "    add_list = home_address_MLS.split(sep=' |')\n",
    "    zip_code = re.search('\\d+$', add_list[0])\n",
    "    mls_num = re.search('\\d+$', add_list[1])\n",
    "    home_add = re.search('(.+?),', home_address_MLS)\n",
    "    home_city = re.search(',(.+?),', home_address_MLS)\n",
    "    home_state = add_list[0].replace(home_add.group(1), '').replace(\n",
    "        home_city.group(1), '').replace(zip_code.group(), '').replace(\n",
    "        ',', '').replace(' ', '')\n",
    "\n",
    "    home_dict['address'] = home_add.group(1)\n",
    "    home_dict['city'] = home_city.group(1)\n",
    "    home_dict['zip_code'] = zip_code.group()\n",
    "    home_dict['state'] = home_state\n",
    "    home_dict['mls_num'] = mls_num.group()\n",
    "\n",
    "    all_info = soup.findAll('div', {'data-rf-test-id': 'publicRecords'})\n",
    "    label_list = []\n",
    "    values_list = []\n",
    "    for num in all_info:\n",
    "        cats = num.findAll('span', {'class': 'table-label'})\n",
    "        for i in cats:\n",
    "            label_list.append(i.text)\n",
    "    for num in all_info:\n",
    "        vals = num.findAll('div', {'class': 'table-value'})\n",
    "        for i in vals:\n",
    "            values_list.append(i.text)\n",
    "    new_dict = dict(zip(label_list, values_list))\n",
    "    \n",
    "    \n",
    "#     all_top = soup.findAll('div', {'class': 'HomeInfo inline-block'})\n",
    "#     price_list = []\n",
    "#     for num in all_top:\n",
    "#         a = num.text\n",
    "#         price_list.extend(re.findall(price_regex, a))\n",
    "#         home_dict['num_beds'] = float((re.findall(bed_regex, a))[0].replace(\n",
    "#             'Bed', '').replace(' ', ''))\n",
    "#         home_dict['num_baths'] = float((re.findall(bath_regex, a))[0].replace(\n",
    "#             'Bath', '').replace(' ', ''))\n",
    "#         home_dict['home_sqft'] = float((re.findall(size_regex, a))[0].replace(\n",
    "#             'Sq', '').replace(' ', '').replace(':', ''))\n",
    "#         home_dict['yr_blt'] = int((re.findall(yr_blt_regex, a))[0].replace(\n",
    "#             'Built', '').replace(' ', '').replace(':', ''))\n",
    "#         home_dict['status'] = (re.findall(status_regex, a))[0].replace(\n",
    "#             'Status', '').replace(' ', '').replace(':', '')\n",
    "\n",
    "    home_dict['redfin_est'] = float([num for num in price_list if 'Redfin' in num\n",
    "                                     ][0].replace('Redfin ', '').replace('$', '').replace(',', ''))\n",
    "    home_dict['sold_price'] = float([num for num in price_list if 'Last' in num\n",
    "                                     ][0].replace('Last ', '').replace('$', '').replace(',', ''))\n",
    "\n",
    "    home_description = soup.find('p', {'class': 'font-b1'})\n",
    "    home_dict['description'] = home_description.span.text\n",
    "\n",
    "    all_home_feats = soup.findAll('span', {'class': \"entryItemContent\"})\n",
    "    feats = [num.text for num in all_home_feats]\n",
    "\n",
    "#     prop_hist = soup.findAll(\n",
    "#         'div', {'id': 'propertyHistory-expandable-segment'})\n",
    "#     prop_history = [num.text for num in prop_hist]\n",
    "\n",
    "    school_info = soup.findAll('div', {'class': \"name-and-info\"})\n",
    "    schools = [num.text for num in school_info]\n",
    "\n",
    "    if ('Public') in schools[0]:\n",
    "        es = schools[0]\n",
    "        elementary_school = es.split(sep=' •')\n",
    "        home_dict['elem_school_name'] = elementary_school[0][:-6]\n",
    "        home_dict['elem_school_grades'] = elementary_school[1]\n",
    "        home_dict['elem_school_rating'] = re.findall('(\\d+)', elementary_school[2])[0]\n",
    "    else:\n",
    "        es = schools[1]\n",
    "        elementary_school = es.split(sep=' •')\n",
    "        home_dict['elem_school_name'] = elementary_school[0][:-6]\n",
    "        home_dict['elem_school_grades'] = elementary_school[1]\n",
    "        home_dict['elem_school_rating'] = re.findall('(\\d+)', elementary_school[2])[0]\n",
    "    \n",
    "    if (('Middle' or 'Junior') and 'Public') in schools[1]:\n",
    "        ms = schools[1]\n",
    "        middle_school = ms.split(sep=' •')\n",
    "        home_dict['middle_school_name'] = middle_school[0][:-6]\n",
    "        home_dict['middle_school_grades'] = middle_school[1]\n",
    "        home_dict['middle_school_rating'] = re.findall('(\\d+)', middle_school[2])[0]\n",
    "    else:\n",
    "        ms = schools[2]\n",
    "        middle_school = ms.split(sep=' •')\n",
    "        home_dict['middle_school_name'] = middle_school[0][:-6]\n",
    "        home_dict['middle_school_grades'] = middle_school[1]\n",
    "        home_dict['middle_school_rating'] = re.findall('(\\d+)', middle_school[2])[0]\n",
    "        \n",
    "    home_info = {**home_dict, **all_info}\n",
    "\n",
    "#     if ('9 to 12' and 'Public') in schools[2]:\n",
    "#         hs = schools[2]\n",
    "#         high_school = hs.split(sep=' •')\n",
    "#         home_dict['high_school_name'] = high_school[0][:-6]\n",
    "#         home_dict['high_school_grades'] = high_school[1]\n",
    "#         home_dict['high_school_rating'] = high_school[2]\n",
    "#     else:\n",
    "#         hs = schools[3]\n",
    "#         high_school = hs.split(sep=' •')\n",
    "#         home_dict['high_school_name'] = high_school[0][:-6]\n",
    "#         home_dict['high_school_grades'] = high_school[1]\n",
    "#         home_dict['high_school_rating'] = high_school[2]\n",
    "\n",
    "\n",
    "\n",
    "    return home_info, feats"
   ]
  },
  {
   "cell_type": "code",
   "execution_count": 473,
   "metadata": {
    "ExecuteTime": {
     "end_time": "2018-10-02T20:07:09.915039Z",
     "start_time": "2018-10-02T20:07:05.147531Z"
    }
   },
   "outputs": [
    {
     "name": "stdout",
     "output_type": "stream",
     "text": [
      "108.29.37.161:59481\n",
      "https://www.redfin.com/TX/Frisco/8451-Moore-St-75034/home/31654766\n"
     ]
    }
   ],
   "source": [
    "header = random.sample(ua, 1)[0]\n",
    "proxy = random.sample(proxies, 1)[0]\n",
    "sold_url_list = s_main_df['home_link'].tolist()\n",
    "# url = random.sample(active_url_list, 1)[0]\n",
    "url = random.sample(sold_url_list, 1)[0]\n",
    "print(proxy)\n",
    "print(url)\n",
    "\n",
    "home_dict, feats, all_info = each_property(url, header, proxy)"
   ]
  },
  {
   "cell_type": "code",
   "execution_count": 499,
   "metadata": {
    "ExecuteTime": {
     "end_time": "2018-10-02T20:44:17.696770Z",
     "start_time": "2018-10-02T20:44:17.678870Z"
    }
   },
   "outputs": [
    {
     "name": "stdout",
     "output_type": "stream",
     "text": [
      "{'address': '8451 Moore St', 'city': ' Frisco', 'zip_code': '75034', 'state': 'TX', 'num_beds': 4.0, 'num_baths': 4.0, 'home_sqft': 210.0, 'yr_blt': 2007, 'status': 'Sold', 'redfin_est': 380559.0, 'sold_price': 379000.0, 'description': 'Luxury Townhome in Frisco Square! Grand entry with two story ceiling and iron spindle staircase. Open layout with stunning finish out including extensive wood flooring on first floor, tall ceilings, and decorative lighting. Gourmet kitchen offers granite counter tops, stainless appliances, gas cook top and ample storage space. Open family room with built-in entertainment center and stone fireplace. Huge master suite with spa like bath and walk-in closet. Spacious game room and oversized bedrooms all with private bathrooms. 2 Car Garage! Luxury amenities and carefree living in the heart of Frisco. Easy hwy access and shops  &  entertainment within walking distance! ', 'elem_school_name': 'Bright Elementary School', 'elem_school_grades': ' K to 5', 'elem_school_rating': '2', 'middle_school_name': 'Staley Middle School', 'middle_school_grades': ' 6 to 8', 'middle_school_rating': '7', 'Beds': '4', 'Baths': '4', 'Sq. Ft.': '3,210', 'Stories': '2', 'Lot Size': '—', 'Style': 'Townhouse', 'Year Built': '2007', 'Year Renovated': '2007', 'County': 'Collin County', 'APN': 'R86530F601401'}\n"
     ]
    }
   ],
   "source": [
    "label_list = []\n",
    "values_list = []\n",
    "for num in all_info:\n",
    "    cats = num.findAll('span', {'class': 'table-label'})\n",
    "    for i in cats:\n",
    "        label_list.append(i.text)\n",
    "for num in all_info:\n",
    "    vals = num.findAll('div', {'class': 'table-value'})\n",
    "    for i in vals:\n",
    "        values_list.append(i.text)\n",
    "new_dict = dict(zip(label_list, values_list))\n",
    "print({**home_dict, **new_dict})"
   ]
  },
  {
   "cell_type": "code",
   "execution_count": 478,
   "metadata": {
    "ExecuteTime": {
     "end_time": "2018-10-02T20:07:53.415882Z",
     "start_time": "2018-10-02T20:07:53.400500Z"
    }
   },
   "outputs": [
    {
     "data": {
      "text/plain": [
       "[<div class=\"sectionContainer\" data-rf-test-id=\"publicRecords\"><h2 class=\"h2 inline-block\">Public Facts<span class=\"adr\" itemprop=\"address\" itemscope=\"\" itemtype=\"http://schema.org/PostalAddress\"><span> for </span><span class=\"street-address\" itemprop=\"streetAddress\">8451 Moore Street</span></span></h2><div class=\"main-content\"><div class=\"public-records-taxes\"><div class=\"taxable-value\"><h3 class=\"h3\">Taxable Value</h3><div class=\"tax-values\"><div class=\"tax-table\"><table><tbody><tr><td class=\"heading\">Land</td><td class=\"value\">N/A</td></tr><tr><td class=\"heading\">Additions</td><td class=\"value\">N/A</td></tr><tr class=\"line\"><td class=\"heading\">Total</td><td class=\"value\">N/A</td></tr></tbody></table></div></div></div><div class=\"tax-record\"><h3 class=\"h3\">Tax Record</h3><div class=\"tax-values gray-border\"><div class=\"tax-table totals\"><table><tbody><tr><td class=\"header padded\">2017</td><td class=\"value padded font-weight-bold\">$8,016</td></tr></tbody></table></div></div></div></div><div class=\"basic-info\" id=\"basicInfo\"><div><h3 class=\"h3 home-facts-title\">Home Facts</h3><div class=\"edit-facts-button-container\"><div class=\"edit-facts-button\"><button class=\"button Button tertiary v3\" tabindex=\"0\" type=\"button\"><div class=\"with-text svg-icon\"><svg class=\"SvgIcon rfSvg edit\"><svg viewbox=\"0 0 24 24\"><g fill-rule=\"evenodd\"><path d=\"M22.224 3.022l-1.17-1.172c-1.135-1.133-3.11-1.133-4.244 0L2.278 16.382a1.238 1.238 0 0 0-.342.639l-.912 4.557a1.25 1.25 0 0 0 1.224 1.497l4.806-.937c.243-.05.463-.167.638-.342L22.225 7.264a3.005 3.005 0 0 0 0-4.242zm-6.793 3.035l2.586 2.586-9.586 9.586-2.586-2.586 9.586-9.586zM3.206 20.869l.646-3.233.58-.58 2.585 2.587-.579.578-3.232.648zM20.81 5.849l-1.379 1.38-2.586-2.586 1.38-1.38a1.02 1.02 0 0 1 1.413 0l1.171 1.173c.39.39.39 1.024.001 1.414z\"></path></g></svg></svg></div><span>Edit Facts</span></button></div></div></div><div class=\"median-values\"><div class=\"facts-table\"><div class=\"table-row\"><span class=\"table-label\">Beds</span><div class=\"table-value\">4</div></div><div class=\"table-row\"><span class=\"table-label\">Baths</span><div class=\"table-value\">4</div></div><div class=\"table-row\"><span class=\"table-label\">Sq. Ft.</span><div class=\"table-value\">3,210</div></div><div class=\"table-row\"><span class=\"table-label\">Stories</span><div class=\"table-value\">2</div></div><div class=\"table-row\"><span class=\"table-label\">Lot Size</span><div class=\"table-value\">—</div></div><div class=\"table-row\"><span class=\"table-label\">Style</span><div class=\"table-value\">Townhouse</div></div><div class=\"table-row\"><span class=\"table-label\">Year Built</span><div class=\"table-value\">2007</div></div><div class=\"table-row\"><span class=\"table-label\">Year Renovated</span><div class=\"table-value\">2007</div></div><div class=\"table-row\"><span class=\"table-label\">County</span><div class=\"table-value\">Collin County</div></div><div class=\"table-row\"><span class=\"table-label\">APN</span><div class=\"table-value\">R86530F601401</div></div></div><div class=\"source-info-container\"><div class=\"source-info\">Home facts updated by <!-- -->county records<!-- --> on <!-- -->Aug 25, 2018<!-- -->. </div></div></div></div></div></div>]"
      ]
     },
     "execution_count": 478,
     "metadata": {},
     "output_type": "execute_result"
    }
   ],
   "source": [
    "all_info"
   ]
  },
  {
   "cell_type": "code",
   "execution_count": 206,
   "metadata": {
    "ExecuteTime": {
     "end_time": "2018-09-29T18:16:09.588266Z",
     "start_time": "2018-09-29T18:16:09.572936Z"
    }
   },
   "outputs": [
    {
     "data": {
      "text/plain": [
       "['# of Bedrooms: 3',\n",
       " '3 Bedrooms on Main Level',\n",
       " '# of Baths: 3',\n",
       " '2 Baths on Main Level',\n",
       " '1 Bath on Lower Level',\n",
       " 'Living Room: View',\n",
       " 'Living Room on Main Level',\n",
       " 'Family Room on Lower Level',\n",
       " 'Dining Room on Main Level',\n",
       " 'Combination Living/Dining Room',\n",
       " 'Den/Bonus Room: 0',\n",
       " '# of Fireplace(s): 1, In Living Room',\n",
       " 'Laundry Appliances: Washer/Dryer, In Garage',\n",
       " 'Refrigerator, Freezer, Island, Remodeled',\n",
       " 'Kitchen on Main Level',\n",
       " 'Floors: Hardwood',\n",
       " '# of Rooms (Total): 0',\n",
       " '1 Bath on Lower Level, Family Room on Lower Level',\n",
       " '3 Bedrooms on Main Level, 2 Baths on Main Level, Living Room on Main Level, Dining Room on Main Level, Kitchen on Main Level',\n",
       " 'Heating/Cooling: Central Heating',\n",
       " 'Parking Type: On Site',\n",
       " '# of Garage Spaces: 1',\n",
       " '# of Parking Spaces: 1',\n",
       " 'Garage',\n",
       " 'Parking Access: Side-by-Side',\n",
       " 'Deck(s)',\n",
       " 'Monthly Rent: 0.00',\n",
       " 'Unconfirmed Co-op Fee: 0.00',\n",
       " 'Zoning: RH-1',\n",
       " 'View(s): Ocean',\n",
       " 'Lot Measurement: Square Feet',\n",
       " 'Per Architect',\n",
       " 'Deck(s)',\n",
       " 'APN: 7010013',\n",
       " 'Property Disclaimer: Copyright: 2018 by San Francisco Assoc of REALTORS - All data, including all measurements and calculations of area, is obtained from various sources and has not been, and will not be, verified by broker or MLS. All information should be independently reviewed and verified for accuracy. Properties may or may not be listed by the office/agent presenting the information.',\n",
       " 'Cross Street: Grafton Avenue',\n",
       " 'Original Price: $1,295,000',\n",
       " 'On Market Date: Friday, October 6, 2017']"
      ]
     },
     "execution_count": 206,
     "metadata": {},
     "output_type": "execute_result"
    }
   ],
   "source": [
    "feats"
   ]
  },
  {
   "cell_type": "code",
   "execution_count": null,
   "metadata": {},
   "outputs": [],
   "source": []
  }
 ],
 "metadata": {
  "kernelspec": {
   "display_name": "Python 3",
   "language": "python",
   "name": "python3"
  },
  "language_info": {
   "codemirror_mode": {
    "name": "ipython",
    "version": 3
   },
   "file_extension": ".py",
   "mimetype": "text/x-python",
   "name": "python",
   "nbconvert_exporter": "python",
   "pygments_lexer": "ipython3",
   "version": "3.6.6"
  }
 },
 "nbformat": 4,
 "nbformat_minor": 2
}
