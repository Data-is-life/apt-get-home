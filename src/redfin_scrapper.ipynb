{
 "cells": [
  {
   "cell_type": "code",
   "execution_count": 201,
   "metadata": {
    "ExecuteTime": {
     "end_time": "2018-10-01T23:51:45.843219Z",
     "start_time": "2018-10-01T23:51:45.824494Z"
    }
   },
   "outputs": [],
   "source": [
    "from math import ceil\n",
    "import time\n",
    "import re\n",
    "import ast\n",
    "import sys\n",
    "import urllib\n",
    "import time\n",
    "import random\n",
    "import pandas as pd\n",
    "from bs4 import BeautifulSoup\n",
    "from random import randint\n",
    "from selenium.webdriver.firefox.webdriver import FirefoxProfile\n",
    "from urllib.request import urlopen, Request\n",
    "from urllib.error import HTTPError\n",
    "from urllib.error import URLError\n",
    "import requests\n",
    "from itertools import cycle\n",
    "import string\n",
    "from header_list import user_agent_list\n",
    "from proxies_list import proxies_list_, proxie_random_pool\n",
    "from FUNCTIONS import proxie_check, strip_count, gen_url_list\n",
    "from SCRAPPER_FUNCTIONS import session_creator, zip_prop_count, each_page, links_for_props"
   ]
  },
  {
   "cell_type": "code",
   "execution_count": 202,
   "metadata": {
    "ExecuteTime": {
     "end_time": "2018-10-01T23:51:47.347621Z",
     "start_time": "2018-10-01T23:51:47.331658Z"
    }
   },
   "outputs": [],
   "source": [
    "ua = user_agent_list\n",
    "proxies = proxies_list_\n",
    "prx_pool = proxie_random_pool"
   ]
  },
  {
   "cell_type": "code",
   "execution_count": 203,
   "metadata": {
    "ExecuteTime": {
     "end_time": "2018-10-01T23:51:47.865609Z",
     "start_time": "2018-10-01T23:51:47.849134Z"
    }
   },
   "outputs": [
    {
     "data": {
      "text/plain": [
       "19"
      ]
     },
     "execution_count": 203,
     "metadata": {},
     "output_type": "execute_result"
    }
   ],
   "source": [
    "# proxie_check(proxies)\n",
    "len(proxies)"
   ]
  },
  {
   "cell_type": "code",
   "execution_count": 204,
   "metadata": {
    "ExecuteTime": {
     "end_time": "2018-10-01T23:51:48.614365Z",
     "start_time": "2018-10-01T23:51:48.592595Z"
    }
   },
   "outputs": [],
   "source": [
    "zip_codes = pd.read_csv('../Data/main_zips.csv')\n",
    "zip_list = zip_codes['zip'].tolist()\n",
    "# zip_list = [str(num) if num >= 10000 else '0'+str(num) for num in zip_list]"
   ]
  },
  {
   "cell_type": "code",
   "execution_count": 205,
   "metadata": {
    "ExecuteTime": {
     "end_time": "2018-10-01T23:51:49.230357Z",
     "start_time": "2018-10-01T23:51:49.209950Z"
    }
   },
   "outputs": [],
   "source": [
    "# rand_zip_list_ap = random.sample(zip_list, len(zip_list))\n",
    "# ap_prp_count_list = []"
   ]
  },
  {
   "cell_type": "code",
   "execution_count": 206,
   "metadata": {
    "ExecuteTime": {
     "end_time": "2018-10-01T23:51:49.746422Z",
     "start_time": "2018-10-01T23:51:49.728667Z"
    }
   },
   "outputs": [],
   "source": [
    "# rand_zip_sld = random.sample(zip_list, len(zip_list))\n",
    "# sold_prp_list = []\n",
    "# ezl = []"
   ]
  },
  {
   "cell_type": "code",
   "execution_count": 207,
   "metadata": {
    "ExecuteTime": {
     "end_time": "2018-10-01T23:51:50.333999Z",
     "start_time": "2018-10-01T23:51:50.318679Z"
    },
    "scrolled": true
   },
   "outputs": [],
   "source": [
    "# ap_prp_count_list, rand_zip_list, proxies = zip_prop_count(rand_zip_list_ap, proxies, ap_prp_count_list, ua)\n",
    "# sold_prp_list, rand_zip_sld, proxies, ezl = zip_prop_count(rand_zip_sld, proxies, sold_prp_list, ua, ezl)"
   ]
  },
  {
   "cell_type": "code",
   "execution_count": 208,
   "metadata": {
    "ExecuteTime": {
     "end_time": "2018-10-01T23:51:50.785064Z",
     "start_time": "2018-10-01T23:51:50.769647Z"
    }
   },
   "outputs": [],
   "source": [
    "# sold_prp_list = [str(num) for num in sold_prp_list]\n",
    "# sold_prp_list = [num.replace(\n",
    "#     '[<div class=\"homes summary\" data-rf-test-id=\"homes-description\"><span class=\"showingText\">Showing </span>', '') for num in sold_prp_list]\n",
    "# sold_prp_list = [num.replace(\n",
    "#     ' Homes<span class=\"summarySeparator \">•</span></div>]', '') for num in sold_prp_list]\n",
    "# sold_prp_list = [num.replace('20 of ', '') for num in sold_prp_list]"
   ]
  },
  {
   "cell_type": "code",
   "execution_count": 209,
   "metadata": {
    "ExecuteTime": {
     "end_time": "2018-10-01T23:51:51.129922Z",
     "start_time": "2018-10-01T23:51:51.113893Z"
    }
   },
   "outputs": [],
   "source": [
    "# sdf = pd.DataFrame({'zip': ezl, 'sld': sold_prp_list})\n",
    "# apdf = strip_count(ap_prp_count_list)\n",
    "# apdf.to_csv('../Data/apdf.csv')\n",
    "# sdf.to_csv('../Data/sdf.csv')\n",
    "\n",
    "# apdf.index = ap_df['zip']\n",
    "# sdf.index = sdf['zip']\n",
    "\n",
    "# sdf['sld'] = (sdf['sld']).astype(int)\n",
    "# apdf['num_ap_homes'] = (ap_df['num_ap_homes']).astype(int)\n",
    "\n",
    "# sdf['zip'] = (sdf['zip']).astype(int)\n",
    "# apdf['zip'] = (ap_df['zip']).astype(int)\n",
    "\n",
    "# sld_pgs = [ceil(num/20) for num in sdf['sld']]\n",
    "# ap_pgs = [ceil(num/20) for num in apdf['num_ap_homes']]\n",
    "\n",
    "# sdf['pages'] = sld_pgs\n",
    "# apdf['pages'] = ap_pgs\n",
    "\n",
    "# sdf = sdf.sort_values(by='pages')\n",
    "# apdf = apdf.sort_values(by='pages')\n",
    "\n",
    "# sdf_under = sdf[sdf['pages'] <= 18]\n",
    "# sdf_over = sdf[sdf['pages'] > 18]"
   ]
  },
  {
   "cell_type": "code",
   "execution_count": 210,
   "metadata": {
    "ExecuteTime": {
     "end_time": "2018-10-01T23:51:51.423019Z",
     "start_time": "2018-10-01T23:51:51.405019Z"
    }
   },
   "outputs": [],
   "source": [
    "# ap_url_list = []\n",
    "# for num in zip_list:\n",
    "#     num_pages_count = apdf.loc[apdf['zip'] == num].pages.values[0]\n",
    "#     for i in range(1, num_pages_count+1):\n",
    "#         url = 'https://www.redfin.com/zipcode/'+str(num) + \\\n",
    "#             '/filter/property-type=house+condo+townhouse,min-baths=1,status=active+pending+contingent/page-' + \\\n",
    "#             str(i)\n",
    "#         ap_url_list.append(url)\n",
    "\n",
    "\n",
    "# ap_url_list = [num.replace(r'/page-1^', '') for num in ap_url_list]\n",
    "# ap_url_list = [num.replace('contingent0', 'contingent/page-10')\n",
    "#                for num in ap_url_list]\n",
    "# ap_url_list = [num.replace('contingent1', 'contingent/page-11')\n",
    "#                for num in ap_url_list]\n",
    "# ap_url_list = [num.replace('contingent2', 'contingent/page-12')\n",
    "#                for num in ap_url_list]\n",
    "# ap_url_list = [num.replace('contingent3', 'contingent/page-13')\n",
    "#                for num in ap_url_list]\n",
    "\n",
    "# main_df = pd.DataFrame(columns=['full_address', 'home_link'])\n",
    "\n",
    "# ap_url_list = sorted(ap_url_list)\n",
    "# print(ap_url_list)"
   ]
  },
  {
   "cell_type": "code",
   "execution_count": 211,
   "metadata": {
    "ExecuteTime": {
     "end_time": "2018-10-01T23:51:51.968819Z",
     "start_time": "2018-10-01T23:51:51.946287Z"
    }
   },
   "outputs": [],
   "source": [
    "# sld_under_url_list = []\n",
    "\n",
    "# for num in sdf_under['zip']:\n",
    "#     num_pages_count = sdf_under.loc[sdf_under['zip'] == num].pages.values[0]\n",
    "#     for i in range(1, num_pages_count+1):\n",
    "#         url = 'https://www.redfin.com/zipcode/'+str(num) + \\\n",
    "#             '/filter/property-type=house+condo+townhouse,min-price=100k,min-baths=1,include=sold-1yr/page-' + \\\n",
    "#             str(i)\n",
    "#         sld_under_url_list.append(url)\n",
    "\n",
    "\n",
    "# sld_under_url_list = [num.replace('/page-1', '') for num in sld_under_url_list]\n",
    "# sld_under_url_list = [num.replace(\n",
    "#     '=sold-1yr0', '=sold-1yr/page-10') for num in sld_under_url_list]\n",
    "# sld_under_url_list = [num.replace(\n",
    "#     '=sold-1yr1', '=sold-1yr/page-11') for num in sld_under_url_list]\n",
    "# sld_under_url_list = [num.replace(\n",
    "#     '=sold-1yr2', '=sold-1yr/page-12') for num in sld_under_url_list]\n",
    "# sld_under_url_list = [num.replace(\n",
    "#     '=sold-1yr3', '=sold-1yr/page-13') for num in sld_under_url_list]\n",
    "# sld_under_url_list = [num.replace(\n",
    "#     '=sold-1yr4', '=sold-1yr/page-14') for num in sld_under_url_list]\n",
    "# sld_under_url_list = [num.replace(\n",
    "#     '=sold-1yr5', '=sold-1yr/page-15') for num in sld_under_url_list]\n",
    "# sld_under_url_list = [num.replace(\n",
    "#     '=sold-1yr6', '=sold-1yr/page-16') for num in sld_under_url_list]\n",
    "# sld_under_url_list = [num.replace(\n",
    "#     '=sold-1yr7', '=sold-1yr/page-17') for num in sld_under_url_list]\n",
    "# sld_under_url_list = [num.replace(\n",
    "#     '=sold-1yr8', '=sold-1yr/page-18') for num in sld_under_url_list]\n",
    "\n",
    "# s_main_df = pd.DataFrame(columns=['full_address', 'home_link'])\n",
    "\n",
    "# sld_under_url_list = sorted(sld_under_url_list)\n",
    "# print(len(sld_under_url_list))"
   ]
  },
  {
   "cell_type": "code",
   "execution_count": 212,
   "metadata": {
    "ExecuteTime": {
     "end_time": "2018-10-01T23:51:52.791504Z",
     "start_time": "2018-10-01T23:51:52.772964Z"
    }
   },
   "outputs": [],
   "source": [
    "# active_url_list, sold_url_list = gen_url_list(zip_list)"
   ]
  },
  {
   "cell_type": "code",
   "execution_count": 213,
   "metadata": {
    "ExecuteTime": {
     "end_time": "2018-10-01T23:51:53.379236Z",
     "start_time": "2018-10-01T23:51:53.364515Z"
    }
   },
   "outputs": [],
   "source": [
    "# a_main_df = pd.DataFrame(columns=['full_address', 'home_link'])\n",
    "# s_main_df = pd.DataFrame(columns=['full_address', 'home_link'])"
   ]
  },
  {
   "cell_type": "code",
   "execution_count": null,
   "metadata": {
    "ExecuteTime": {
     "start_time": "2018-10-01T23:51:54.567Z"
    },
    "scrolled": true
   },
   "outputs": [
    {
     "name": "stdout",
     "output_type": "stream",
     "text": [
      "2\n",
      "37.224.84.90:8080\n",
      "864\n",
      "https://www.redfin.com/zipcode/90650/filter/sort=lo-price,property-type=house\n",
      "3.590341329574585\n",
      "9343.226444482803\n",
      "Est time remaining: 9343.226444482803 Seconds\n",
      "Est time remaining: 155.72044074138006 Minutes\n",
      "Est time remaining: 2.595340679023001 Hours\n",
      "863\n",
      "https://www.redfin.com/zipcode/90650/filter/sort=hi-price,property-type=house\n",
      "0.9901022911071777\n",
      "12419.675852775574\n",
      "Est time remaining: 12419.675852775574 Seconds\n",
      "Est time remaining: 206.99459754625957 Minutes\n",
      "Est time remaining: 3.449909959104326 Hours\n",
      "862\n",
      "https://www.redfin.com/zipcode/90650filter/sort=lo-price,property-type=condo+townhouse\n",
      "3.080660581588745\n",
      "17424.196168899536\n",
      "Est time remaining: 17424.196168899536 Seconds\n",
      "Est time remaining: 290.4032694816589 Minutes\n",
      "Est time remaining: 4.840054491360982 Hours\n",
      "861\n",
      "https://www.redfin.com/zipcode/90650/filter/sort=hi-price,property-type=condo+townhouse\n",
      "3.1156973838806152\n",
      "7146.823034286499\n",
      "Est time remaining: 7146.823034286499 Seconds\n",
      "Est time remaining: 119.11371723810832 Minutes\n",
      "Est time remaining: 1.9852286206351386 Hours\n",
      "860\n",
      "https://www.redfin.com/zipcode/60629/filter/sort=lo-price,property-type=house\n",
      "0.9598891735076904\n",
      "7925.800894498825\n",
      "Est time remaining: 7925.800894498825 Seconds\n",
      "Est time remaining: 132.0966815749804 Minutes\n",
      "Est time remaining: 2.201611359583007 Hours\n",
      "859\n",
      "https://www.redfin.com/zipcode/60629/filter/sort=hi-price,property-type=house\n",
      "3.347320795059204\n",
      "8630.36037683487\n",
      "Est time remaining: 8630.36037683487 Seconds\n",
      "Est time remaining: 143.8393396139145 Minutes\n",
      "Est time remaining: 2.397322326898575 Hours\n",
      "858\n",
      "https://www.redfin.com/zipcode/60629filter/sort=lo-price,property-type=condo+townhouse\n",
      "0.9786133766174316\n",
      "6571.062636375427\n",
      "Est time remaining: 6571.062636375427 Seconds\n",
      "Est time remaining: 109.51771060625713 Minutes\n",
      "Est time remaining: 1.825295176770952 Hours\n",
      "857\n",
      "https://www.redfin.com/zipcode/60629/filter/sort=hi-price,property-type=condo+townhouse\n",
      "1.1360690593719482\n",
      "6664.599679946899\n",
      "Est time remaining: 6664.599679946899 Seconds\n",
      "Est time remaining: 111.07666133244832 Minutes\n",
      "Est time remaining: 1.8512776888741387 Hours\n",
      "856\n",
      "https://www.redfin.com/zipcode/85225/filter/sort=lo-price,property-type=house\n",
      "1.6521847248077393\n",
      "11284.483412504196\n",
      "Est time remaining: 11284.483412504196 Seconds\n",
      "Est time remaining: 188.0747235417366 Minutes\n",
      "Est time remaining: 3.13457872569561 Hours\n",
      "855\n",
      "https://www.redfin.com/zipcode/85225/filter/sort=hi-price,property-type=house\n",
      "3.7950448989868164\n",
      "11195.447989940643\n",
      "Est time remaining: 11195.447989940643 Seconds\n",
      "Est time remaining: 186.59079983234406 Minutes\n",
      "Est time remaining: 3.1098466638724007 Hours\n",
      "854\n",
      "https://www.redfin.com/zipcode/85225filter/sort=lo-price,property-type=condo+townhouse\n",
      "0.138519287109375\n",
      "14240.107281446457\n",
      "Est time remaining: 14240.107281446457 Seconds\n",
      "Est time remaining: 237.33512135744095 Minutes\n",
      "Est time remaining: 3.955585355957349 Hours\n"
     ]
    }
   ],
   "source": [
    "a = randint(0, 5)\n",
    "time.sleep(random.uniform(0, 1)*((88/13)**.33)*a)\n",
    "active_url_list, a_main_df, proxies = links_for_props(\n",
    "    proxies, active_url_list, a_main_df, ua)\n",
    "time.sleep(random.uniform(0, 1)*((88/13)**.33)*a)\n",
    "active_url_list, a_main_df, proxies = links_for_props(\n",
    "    proxies, active_url_list, a_main_df, ua)\n",
    "time.sleep(random.uniform(0, 1)*((88/13)**.33)*a)\n",
    "active_url_list, a_main_df, proxies = links_for_props(\n",
    "    proxies, active_url_list, a_main_df, ua)\n",
    "time.sleep(random.uniform(0, 1)*((88/13)**.33)*a)\n",
    "active_url_list, a_main_df, proxies = links_for_props(\n",
    "    proxies, active_url_list, a_main_df, ua)\n",
    "time.sleep(random.uniform(0, 1)*((88/13)**.33)*a)\n",
    "active_url_list, a_main_df, proxies = links_for_props(\n",
    "    proxies, active_url_list, a_main_df, ua)\n",
    "time.sleep(random.uniform(0, 1)*((88/13)**.33)*a)\n",
    "active_url_list, a_main_df, proxies = links_for_props(\n",
    "    proxies, active_url_list, a_main_df, ua)\n",
    "time.sleep(random.uniform(0, 1)*((88/13)**.33)*a)\n",
    "active_url_list, a_main_df, proxies = links_for_props(\n",
    "    proxies, active_url_list, a_main_df, ua)\n",
    "time.sleep(random.uniform(0, 1)*((88/13)**.33)*a)\n",
    "active_url_list, a_main_df, proxies = links_for_props(\n",
    "    proxies, active_url_list, a_main_df, ua)\n",
    "time.sleep(random.uniform(0, 1)*((88/13)**.33)*a)\n",
    "active_url_list, a_main_df, proxies = links_for_props(\n",
    "    proxies, active_url_list, a_main_df, ua)\n",
    "time.sleep(random.uniform(0, 1)*((88/13)**.33)*a)\n",
    "active_url_list, a_main_df, proxies = links_for_props(\n",
    "    proxies, active_url_list, a_main_df, ua)\n",
    "time.sleep(random.uniform(0, 1)*((88/13)**.33)*a)\n",
    "active_url_list, a_main_df, proxies = links_for_props(\n",
    "    proxies, active_url_list, a_main_df, ua)\n",
    "time.sleep(random.uniform(0, 1)*((88/13)**.33)*a)\n",
    "active_url_list, a_main_df, proxies = links_for_props(\n",
    "    proxies, active_url_list, a_main_df, ua)\n",
    "time.sleep(random.uniform(0, 1)*((88/13)**.33)*a)\n",
    "active_url_list, a_main_df, proxies = links_for_props(\n",
    "    proxies, active_url_list, a_main_df, ua)\n",
    "time.sleep(random.uniform(0, 1)*((88/13)**.33)*a)\n",
    "active_url_list, a_main_df, proxies = links_for_props(\n",
    "    proxies, active_url_list, a_main_df, ua)"
   ]
  },
  {
   "cell_type": "code",
   "execution_count": 199,
   "metadata": {
    "ExecuteTime": {
     "end_time": "2018-10-01T23:51:12.363804Z",
     "start_time": "2018-10-01T23:51:12.346801Z"
    }
   },
   "outputs": [
    {
     "data": {
      "text/plain": [
       "864"
      ]
     },
     "execution_count": 199,
     "metadata": {},
     "output_type": "execute_result"
    }
   ],
   "source": [
    "len(active_url_list)"
   ]
  },
  {
   "cell_type": "code",
   "execution_count": 173,
   "metadata": {
    "ExecuteTime": {
     "end_time": "2018-10-01T23:15:44.534527Z",
     "start_time": "2018-10-01T23:15:44.512095Z"
    }
   },
   "outputs": [
    {
     "data": {
      "text/html": [
       "<div>\n",
       "<style scoped>\n",
       "    .dataframe tbody tr th:only-of-type {\n",
       "        vertical-align: middle;\n",
       "    }\n",
       "\n",
       "    .dataframe tbody tr th {\n",
       "        vertical-align: top;\n",
       "    }\n",
       "\n",
       "    .dataframe thead th {\n",
       "        text-align: right;\n",
       "    }\n",
       "</style>\n",
       "<table border=\"1\" class=\"dataframe\">\n",
       "  <thead>\n",
       "    <tr style=\"text-align: right;\">\n",
       "      <th></th>\n",
       "      <th>full_address</th>\n",
       "      <th>home_link</th>\n",
       "    </tr>\n",
       "  </thead>\n",
       "  <tbody>\n",
       "    <tr>\n",
       "      <th>0</th>\n",
       "      <td>11436 Foster Rd, Norwalk, CA 90650</td>\n",
       "      <td>https://www.redfin.com/CA/Norwalk/11436-Foster...</td>\n",
       "    </tr>\n",
       "    <tr>\n",
       "      <th>1</th>\n",
       "      <td>11920 Cheshire St, Norwalk, CA 90650</td>\n",
       "      <td>https://www.redfin.com/CA/Norwalk/11920-Cheshi...</td>\n",
       "    </tr>\n",
       "    <tr>\n",
       "      <th>2</th>\n",
       "      <td>11916 Hermosura St, Norwalk, CA 90650</td>\n",
       "      <td>https://www.redfin.com/CA/Norwalk/11916-Hermos...</td>\n",
       "    </tr>\n",
       "    <tr>\n",
       "      <th>3</th>\n",
       "      <td>10652 Ohm Ave, Norwalk, CA 90650</td>\n",
       "      <td>https://www.redfin.com/CA/Norwalk/10652-Ohm-Av...</td>\n",
       "    </tr>\n",
       "    <tr>\n",
       "      <th>4</th>\n",
       "      <td>11831 Lowemont St, Norwalk, CA 90650</td>\n",
       "      <td>https://www.redfin.com/CA/Norwalk/11831-Lowemo...</td>\n",
       "    </tr>\n",
       "    <tr>\n",
       "      <th>5</th>\n",
       "      <td>11818 Barnwall St, Norwalk, CA 90650</td>\n",
       "      <td>https://www.redfin.com/CA/Norwalk/11818-Barnwa...</td>\n",
       "    </tr>\n",
       "    <tr>\n",
       "      <th>6</th>\n",
       "      <td>13054 Liggett St, Norwalk, CA 90650</td>\n",
       "      <td>https://www.redfin.com/CA/Norwalk/13054-Ligget...</td>\n",
       "    </tr>\n",
       "    <tr>\n",
       "      <th>7</th>\n",
       "      <td>14508 Painter Ave, Norwalk, CA 90650</td>\n",
       "      <td>https://www.redfin.com/CA/Norwalk/14508-Painte...</td>\n",
       "    </tr>\n",
       "    <tr>\n",
       "      <th>8</th>\n",
       "      <td>14423 Wheatstone Ave, Norwalk, CA 90650</td>\n",
       "      <td>https://www.redfin.com/CA/Norwalk/14423-Wheats...</td>\n",
       "    </tr>\n",
       "    <tr>\n",
       "      <th>9</th>\n",
       "      <td>14344 Corby Ave, Norwalk, CA 90650</td>\n",
       "      <td>https://www.redfin.com/CA/Norwalk/14344-Corby-...</td>\n",
       "    </tr>\n",
       "    <tr>\n",
       "      <th>10</th>\n",
       "      <td>15529 Cameo Ave, Norwalk, CA 90650</td>\n",
       "      <td>https://www.redfin.com/CA/Norwalk/15529-Cameo-...</td>\n",
       "    </tr>\n",
       "    <tr>\n",
       "      <th>11</th>\n",
       "      <td>13630 Arlee Ave, Norwalk, CA 90650</td>\n",
       "      <td>https://www.redfin.com/CA/Norwalk/13630-Arlee-...</td>\n",
       "    </tr>\n",
       "    <tr>\n",
       "      <th>12</th>\n",
       "      <td>10529 Downey Norwalk Rd, Norwalk, CA 90650</td>\n",
       "      <td>https://www.redfin.com/CA/Norwalk/10529-Downey...</td>\n",
       "    </tr>\n",
       "    <tr>\n",
       "      <th>13</th>\n",
       "      <td>14418 Greenstone Ave, Norwalk, CA 90650</td>\n",
       "      <td>https://www.redfin.com/CA/Norwalk/14418-Greens...</td>\n",
       "    </tr>\n",
       "    <tr>\n",
       "      <th>14</th>\n",
       "      <td>14309 Falco Ave, Norwalk, CA 90650</td>\n",
       "      <td>https://www.redfin.com/CA/Norwalk/14309-Falco-...</td>\n",
       "    </tr>\n",
       "    <tr>\n",
       "      <th>15</th>\n",
       "      <td>14532 Gracebee Ave, Norwalk, CA 90650</td>\n",
       "      <td>https://www.redfin.com/CA/Norwalk/14532-Graceb...</td>\n",
       "    </tr>\n",
       "    <tr>\n",
       "      <th>16</th>\n",
       "      <td>14108 Madris Ave, Norwalk, CA 90650</td>\n",
       "      <td>https://www.redfin.com/CA/Norwalk/14108-Madris...</td>\n",
       "    </tr>\n",
       "    <tr>\n",
       "      <th>17</th>\n",
       "      <td>11003 Crestbrook St, Norwalk, CA 90650</td>\n",
       "      <td>https://www.redfin.com/CA/Norwalk/11003-Crestb...</td>\n",
       "    </tr>\n",
       "    <tr>\n",
       "      <th>18</th>\n",
       "      <td>13220 Greenstone Ave, Norwalk, CA 90650</td>\n",
       "      <td>https://www.redfin.com/CA/Norwalk/13220-Greens...</td>\n",
       "    </tr>\n",
       "    <tr>\n",
       "      <th>19</th>\n",
       "      <td>14412 Dumont Ave, Norwalk, CA 90650</td>\n",
       "      <td>https://www.redfin.com/CA/Norwalk/14412-Dumont...</td>\n",
       "    </tr>\n",
       "    <tr>\n",
       "      <th>0</th>\n",
       "      <td>11837 Gem St, Norwalk, CA 90650</td>\n",
       "      <td>https://www.redfin.com/CA/Norwalk/11837-Gem-St...</td>\n",
       "    </tr>\n",
       "    <tr>\n",
       "      <th>1</th>\n",
       "      <td>14811 Flatbush Ave, Norwalk, CA 90650</td>\n",
       "      <td>https://www.redfin.com/CA/Norwalk/14811-Flatbu...</td>\n",
       "    </tr>\n",
       "    <tr>\n",
       "      <th>2</th>\n",
       "      <td>14113 Harvest Ave, Norwalk, CA 90650</td>\n",
       "      <td>https://www.redfin.com/CA/Norwalk/14113-Harves...</td>\n",
       "    </tr>\n",
       "    <tr>\n",
       "      <th>3</th>\n",
       "      <td>14327 Pontlavoy Ave, Norwalk, CA 90650</td>\n",
       "      <td>https://www.redfin.com/CA/Norwalk/14327-Pontla...</td>\n",
       "    </tr>\n",
       "    <tr>\n",
       "      <th>4</th>\n",
       "      <td>12147 Longworth Ave, Norwalk, CA 90650</td>\n",
       "      <td>https://www.redfin.com/CA/Norwalk/12147-Longwo...</td>\n",
       "    </tr>\n",
       "    <tr>\n",
       "      <th>5</th>\n",
       "      <td>15113 Roseton Ave, Norwalk, CA 90650</td>\n",
       "      <td>https://www.redfin.com/CA/Norwalk/15113-Roseto...</td>\n",
       "    </tr>\n",
       "    <tr>\n",
       "      <th>6</th>\n",
       "      <td>10669 Everest St, Norwalk, CA 90650</td>\n",
       "      <td>https://www.redfin.com/CA/Norwalk/10669-Everes...</td>\n",
       "    </tr>\n",
       "    <tr>\n",
       "      <th>7</th>\n",
       "      <td>15513 Gard Ave, Norwalk, CA 90650</td>\n",
       "      <td>https://www.redfin.com/CA/Norwalk/15513-Gard-A...</td>\n",
       "    </tr>\n",
       "    <tr>\n",
       "      <th>8</th>\n",
       "      <td>11521 Potter St, Norwalk, CA 90650</td>\n",
       "      <td>https://www.redfin.com/CA/Norwalk/11521-Potter...</td>\n",
       "    </tr>\n",
       "    <tr>\n",
       "      <th>9</th>\n",
       "      <td>15203 Roseton Ave, Norwalk, CA 90650</td>\n",
       "      <td>https://www.redfin.com/CA/Norwalk/15203-Roseto...</td>\n",
       "    </tr>\n",
       "    <tr>\n",
       "      <th>...</th>\n",
       "      <td>...</td>\n",
       "      <td>...</td>\n",
       "    </tr>\n",
       "    <tr>\n",
       "      <th>12</th>\n",
       "      <td>2090 Cannon Dr, Mansfield, TX 76063</td>\n",
       "      <td>https://www.redfin.com/TX/Mansfield/2090-Canno...</td>\n",
       "    </tr>\n",
       "    <tr>\n",
       "      <th>13</th>\n",
       "      <td>1107 Knoll Crest Dr, Mansfield, TX 76063</td>\n",
       "      <td>https://www.redfin.com/TX/Mansfield/1107-Knoll...</td>\n",
       "    </tr>\n",
       "    <tr>\n",
       "      <th>14</th>\n",
       "      <td>1402 Long And Winding Rd, Mansfield, TX 76063</td>\n",
       "      <td>https://www.redfin.com/TX/Mansfield/1402-Long-...</td>\n",
       "    </tr>\n",
       "    <tr>\n",
       "      <th>15</th>\n",
       "      <td>1011 Walnut Falls Cir, Mansfield, TX 76063</td>\n",
       "      <td>https://www.redfin.com/TX/Mansfield/1011-Walnu...</td>\n",
       "    </tr>\n",
       "    <tr>\n",
       "      <th>16</th>\n",
       "      <td>5401 Hidden Valley Ct, Mansfield, TX 76063</td>\n",
       "      <td>https://www.redfin.com/TX/Mansfield/5401-Hidde...</td>\n",
       "    </tr>\n",
       "    <tr>\n",
       "      <th>17</th>\n",
       "      <td>1209 Knoll Crest Dr, Mansfield, TX 76063</td>\n",
       "      <td>https://www.redfin.com/TX/Mansfield/1209-Knoll...</td>\n",
       "    </tr>\n",
       "    <tr>\n",
       "      <th>18</th>\n",
       "      <td>327 Carlin Rd, Mansfield, TX 76063</td>\n",
       "      <td>https://www.redfin.com/TX/Mansfield/327-Carlin...</td>\n",
       "    </tr>\n",
       "    <tr>\n",
       "      <th>19</th>\n",
       "      <td>409 Carlin Rd, Mansfield, TX 76063</td>\n",
       "      <td>https://www.redfin.com/TX/Mansfield/409-Carlin...</td>\n",
       "    </tr>\n",
       "    <tr>\n",
       "      <th>20</th>\n",
       "      <td>8748 CR-612, Mansfield, TX 76063</td>\n",
       "      <td>https://www.redfin.com/TX/Mansfield/8748-Count...</td>\n",
       "    </tr>\n",
       "    <tr>\n",
       "      <th>0</th>\n",
       "      <td>2305 Grimsley Ter, Mansfield, TX 76063</td>\n",
       "      <td>https://www.redfin.com/TX/Mansfield/2305-Grims...</td>\n",
       "    </tr>\n",
       "    <tr>\n",
       "      <th>1</th>\n",
       "      <td>922 Fairway View Dr, Mansfield, TX 76063</td>\n",
       "      <td>https://www.redfin.com/TX/Mansfield/922-Fairwa...</td>\n",
       "    </tr>\n",
       "    <tr>\n",
       "      <th>2</th>\n",
       "      <td>1027 Aspen Ln, Mansfield, TX 76063</td>\n",
       "      <td>https://www.redfin.com/TX/Mansfield/1027-Aspen...</td>\n",
       "    </tr>\n",
       "    <tr>\n",
       "      <th>3</th>\n",
       "      <td>2202 Charleston Dr, Mansfield, TX 76063</td>\n",
       "      <td>https://www.redfin.com/TX/Mansfield/2202-Charl...</td>\n",
       "    </tr>\n",
       "    <tr>\n",
       "      <th>4</th>\n",
       "      <td>2108 Perry Dr, Mansfield, TX 76063</td>\n",
       "      <td>https://www.redfin.com/TX/Mansfield/2108-Perry...</td>\n",
       "    </tr>\n",
       "    <tr>\n",
       "      <th>5</th>\n",
       "      <td>1501 Cheyenne Trl, Mansfield, TX 76063</td>\n",
       "      <td>https://www.redfin.com/TX/Mansfield/1501-Cheye...</td>\n",
       "    </tr>\n",
       "    <tr>\n",
       "      <th>6</th>\n",
       "      <td>1405 Lowes Farm Pkwy, Mansfield, TX 76063</td>\n",
       "      <td>https://www.redfin.com/TX/Mansfield/1405-Lowes...</td>\n",
       "    </tr>\n",
       "    <tr>\n",
       "      <th>7</th>\n",
       "      <td>2316 Grimsley Ter, Mansfield, TX 76063</td>\n",
       "      <td>https://www.redfin.com/TX/Mansfield/2316-Grims...</td>\n",
       "    </tr>\n",
       "    <tr>\n",
       "      <th>8</th>\n",
       "      <td>1500 Lowes Farm Pkwy, Mansfield, TX 76063</td>\n",
       "      <td>https://www.redfin.com/TX/Mansfield/1500-Lowes...</td>\n",
       "    </tr>\n",
       "    <tr>\n",
       "      <th>9</th>\n",
       "      <td>2600 RAGLAND, Mansfield, TX 76063</td>\n",
       "      <td>https://www.redfin.com/TX/Mansfield/2600-Ragla...</td>\n",
       "    </tr>\n",
       "    <tr>\n",
       "      <th>10</th>\n",
       "      <td>713 Bowie Ln, Mansfield, TX 76063</td>\n",
       "      <td>https://www.redfin.com/TX/Mansfield/713-Bowie-...</td>\n",
       "    </tr>\n",
       "    <tr>\n",
       "      <th>11</th>\n",
       "      <td>3108 Poplar Hill Trl, Mansfield, TX 76063</td>\n",
       "      <td>https://www.redfin.com/TX/Mansfield/3108-Popla...</td>\n",
       "    </tr>\n",
       "    <tr>\n",
       "      <th>12</th>\n",
       "      <td>1707 Crestmeadow Ln, Mansfield, TX 76063</td>\n",
       "      <td>https://www.redfin.com/TX/Mansfield/1707-Crest...</td>\n",
       "    </tr>\n",
       "    <tr>\n",
       "      <th>13</th>\n",
       "      <td>507 Plainview Dr, Mansfield, TX 76063</td>\n",
       "      <td>https://www.redfin.com/TX/Mansfield/507-Plainv...</td>\n",
       "    </tr>\n",
       "    <tr>\n",
       "      <th>14</th>\n",
       "      <td>2618 Hardwood Trl, Mansfield, TX 76063</td>\n",
       "      <td>https://www.redfin.com/TX/Mansfield/2618-Hardw...</td>\n",
       "    </tr>\n",
       "    <tr>\n",
       "      <th>15</th>\n",
       "      <td>2313 Forest Park Cir, Mansfield, TX 76063</td>\n",
       "      <td>https://www.redfin.com/TX/Mansfield/2313-Fores...</td>\n",
       "    </tr>\n",
       "    <tr>\n",
       "      <th>16</th>\n",
       "      <td>215 Cabotwood Trl, Mansfield, TX 76063</td>\n",
       "      <td>https://www.redfin.com/TX/Mansfield/215-Cabotw...</td>\n",
       "    </tr>\n",
       "    <tr>\n",
       "      <th>17</th>\n",
       "      <td>1710 Prescott Dr, Mansfield, TX 76063</td>\n",
       "      <td>https://www.redfin.com/TX/Mansfield/1710-Presc...</td>\n",
       "    </tr>\n",
       "    <tr>\n",
       "      <th>18</th>\n",
       "      <td>2112 Sandstone Ct, Mansfield, TX 76063</td>\n",
       "      <td>https://www.redfin.com/TX/Mansfield/2112-Sands...</td>\n",
       "    </tr>\n",
       "    <tr>\n",
       "      <th>19</th>\n",
       "      <td>517 Hollyberry Dr, Mansfield, TX 76063</td>\n",
       "      <td>https://www.redfin.com/TX/Mansfield/517-Hollyb...</td>\n",
       "    </tr>\n",
       "    <tr>\n",
       "      <th>20</th>\n",
       "      <td>1809 Cancun Dr, Mansfield, TX 76063</td>\n",
       "      <td>https://www.redfin.com/TX/Mansfield/1809-Cancu...</td>\n",
       "    </tr>\n",
       "  </tbody>\n",
       "</table>\n",
       "<p>1017 rows × 2 columns</p>\n",
       "</div>"
      ],
      "text/plain": [
       "                                     full_address  \\\n",
       "0              11436 Foster Rd, Norwalk, CA 90650   \n",
       "1            11920 Cheshire St, Norwalk, CA 90650   \n",
       "2           11916 Hermosura St, Norwalk, CA 90650   \n",
       "3                10652 Ohm Ave, Norwalk, CA 90650   \n",
       "4            11831 Lowemont St, Norwalk, CA 90650   \n",
       "5            11818 Barnwall St, Norwalk, CA 90650   \n",
       "6             13054 Liggett St, Norwalk, CA 90650   \n",
       "7            14508 Painter Ave, Norwalk, CA 90650   \n",
       "8         14423 Wheatstone Ave, Norwalk, CA 90650   \n",
       "9              14344 Corby Ave, Norwalk, CA 90650   \n",
       "10             15529 Cameo Ave, Norwalk, CA 90650   \n",
       "11             13630 Arlee Ave, Norwalk, CA 90650   \n",
       "12     10529 Downey Norwalk Rd, Norwalk, CA 90650   \n",
       "13        14418 Greenstone Ave, Norwalk, CA 90650   \n",
       "14             14309 Falco Ave, Norwalk, CA 90650   \n",
       "15          14532 Gracebee Ave, Norwalk, CA 90650   \n",
       "16            14108 Madris Ave, Norwalk, CA 90650   \n",
       "17         11003 Crestbrook St, Norwalk, CA 90650   \n",
       "18        13220 Greenstone Ave, Norwalk, CA 90650   \n",
       "19            14412 Dumont Ave, Norwalk, CA 90650   \n",
       "0                 11837 Gem St, Norwalk, CA 90650   \n",
       "1           14811 Flatbush Ave, Norwalk, CA 90650   \n",
       "2            14113 Harvest Ave, Norwalk, CA 90650   \n",
       "3          14327 Pontlavoy Ave, Norwalk, CA 90650   \n",
       "4          12147 Longworth Ave, Norwalk, CA 90650   \n",
       "5            15113 Roseton Ave, Norwalk, CA 90650   \n",
       "6             10669 Everest St, Norwalk, CA 90650   \n",
       "7               15513 Gard Ave, Norwalk, CA 90650   \n",
       "8              11521 Potter St, Norwalk, CA 90650   \n",
       "9            15203 Roseton Ave, Norwalk, CA 90650   \n",
       "..                                            ...   \n",
       "12            2090 Cannon Dr, Mansfield, TX 76063   \n",
       "13       1107 Knoll Crest Dr, Mansfield, TX 76063   \n",
       "14  1402 Long And Winding Rd, Mansfield, TX 76063   \n",
       "15     1011 Walnut Falls Cir, Mansfield, TX 76063   \n",
       "16     5401 Hidden Valley Ct, Mansfield, TX 76063   \n",
       "17       1209 Knoll Crest Dr, Mansfield, TX 76063   \n",
       "18             327 Carlin Rd, Mansfield, TX 76063   \n",
       "19             409 Carlin Rd, Mansfield, TX 76063   \n",
       "20               8748 CR-612, Mansfield, TX 76063   \n",
       "0          2305 Grimsley Ter, Mansfield, TX 76063   \n",
       "1        922 Fairway View Dr, Mansfield, TX 76063   \n",
       "2              1027 Aspen Ln, Mansfield, TX 76063   \n",
       "3         2202 Charleston Dr, Mansfield, TX 76063   \n",
       "4              2108 Perry Dr, Mansfield, TX 76063   \n",
       "5          1501 Cheyenne Trl, Mansfield, TX 76063   \n",
       "6       1405 Lowes Farm Pkwy, Mansfield, TX 76063   \n",
       "7          2316 Grimsley Ter, Mansfield, TX 76063   \n",
       "8       1500 Lowes Farm Pkwy, Mansfield, TX 76063   \n",
       "9               2600 RAGLAND, Mansfield, TX 76063   \n",
       "10              713 Bowie Ln, Mansfield, TX 76063   \n",
       "11      3108 Poplar Hill Trl, Mansfield, TX 76063   \n",
       "12       1707 Crestmeadow Ln, Mansfield, TX 76063   \n",
       "13          507 Plainview Dr, Mansfield, TX 76063   \n",
       "14         2618 Hardwood Trl, Mansfield, TX 76063   \n",
       "15      2313 Forest Park Cir, Mansfield, TX 76063   \n",
       "16         215 Cabotwood Trl, Mansfield, TX 76063   \n",
       "17          1710 Prescott Dr, Mansfield, TX 76063   \n",
       "18         2112 Sandstone Ct, Mansfield, TX 76063   \n",
       "19         517 Hollyberry Dr, Mansfield, TX 76063   \n",
       "20            1809 Cancun Dr, Mansfield, TX 76063   \n",
       "\n",
       "                                            home_link  \n",
       "0   https://www.redfin.com/CA/Norwalk/11436-Foster...  \n",
       "1   https://www.redfin.com/CA/Norwalk/11920-Cheshi...  \n",
       "2   https://www.redfin.com/CA/Norwalk/11916-Hermos...  \n",
       "3   https://www.redfin.com/CA/Norwalk/10652-Ohm-Av...  \n",
       "4   https://www.redfin.com/CA/Norwalk/11831-Lowemo...  \n",
       "5   https://www.redfin.com/CA/Norwalk/11818-Barnwa...  \n",
       "6   https://www.redfin.com/CA/Norwalk/13054-Ligget...  \n",
       "7   https://www.redfin.com/CA/Norwalk/14508-Painte...  \n",
       "8   https://www.redfin.com/CA/Norwalk/14423-Wheats...  \n",
       "9   https://www.redfin.com/CA/Norwalk/14344-Corby-...  \n",
       "10  https://www.redfin.com/CA/Norwalk/15529-Cameo-...  \n",
       "11  https://www.redfin.com/CA/Norwalk/13630-Arlee-...  \n",
       "12  https://www.redfin.com/CA/Norwalk/10529-Downey...  \n",
       "13  https://www.redfin.com/CA/Norwalk/14418-Greens...  \n",
       "14  https://www.redfin.com/CA/Norwalk/14309-Falco-...  \n",
       "15  https://www.redfin.com/CA/Norwalk/14532-Graceb...  \n",
       "16  https://www.redfin.com/CA/Norwalk/14108-Madris...  \n",
       "17  https://www.redfin.com/CA/Norwalk/11003-Crestb...  \n",
       "18  https://www.redfin.com/CA/Norwalk/13220-Greens...  \n",
       "19  https://www.redfin.com/CA/Norwalk/14412-Dumont...  \n",
       "0   https://www.redfin.com/CA/Norwalk/11837-Gem-St...  \n",
       "1   https://www.redfin.com/CA/Norwalk/14811-Flatbu...  \n",
       "2   https://www.redfin.com/CA/Norwalk/14113-Harves...  \n",
       "3   https://www.redfin.com/CA/Norwalk/14327-Pontla...  \n",
       "4   https://www.redfin.com/CA/Norwalk/12147-Longwo...  \n",
       "5   https://www.redfin.com/CA/Norwalk/15113-Roseto...  \n",
       "6   https://www.redfin.com/CA/Norwalk/10669-Everes...  \n",
       "7   https://www.redfin.com/CA/Norwalk/15513-Gard-A...  \n",
       "8   https://www.redfin.com/CA/Norwalk/11521-Potter...  \n",
       "9   https://www.redfin.com/CA/Norwalk/15203-Roseto...  \n",
       "..                                                ...  \n",
       "12  https://www.redfin.com/TX/Mansfield/2090-Canno...  \n",
       "13  https://www.redfin.com/TX/Mansfield/1107-Knoll...  \n",
       "14  https://www.redfin.com/TX/Mansfield/1402-Long-...  \n",
       "15  https://www.redfin.com/TX/Mansfield/1011-Walnu...  \n",
       "16  https://www.redfin.com/TX/Mansfield/5401-Hidde...  \n",
       "17  https://www.redfin.com/TX/Mansfield/1209-Knoll...  \n",
       "18  https://www.redfin.com/TX/Mansfield/327-Carlin...  \n",
       "19  https://www.redfin.com/TX/Mansfield/409-Carlin...  \n",
       "20  https://www.redfin.com/TX/Mansfield/8748-Count...  \n",
       "0   https://www.redfin.com/TX/Mansfield/2305-Grims...  \n",
       "1   https://www.redfin.com/TX/Mansfield/922-Fairwa...  \n",
       "2   https://www.redfin.com/TX/Mansfield/1027-Aspen...  \n",
       "3   https://www.redfin.com/TX/Mansfield/2202-Charl...  \n",
       "4   https://www.redfin.com/TX/Mansfield/2108-Perry...  \n",
       "5   https://www.redfin.com/TX/Mansfield/1501-Cheye...  \n",
       "6   https://www.redfin.com/TX/Mansfield/1405-Lowes...  \n",
       "7   https://www.redfin.com/TX/Mansfield/2316-Grims...  \n",
       "8   https://www.redfin.com/TX/Mansfield/1500-Lowes...  \n",
       "9   https://www.redfin.com/TX/Mansfield/2600-Ragla...  \n",
       "10  https://www.redfin.com/TX/Mansfield/713-Bowie-...  \n",
       "11  https://www.redfin.com/TX/Mansfield/3108-Popla...  \n",
       "12  https://www.redfin.com/TX/Mansfield/1707-Crest...  \n",
       "13  https://www.redfin.com/TX/Mansfield/507-Plainv...  \n",
       "14  https://www.redfin.com/TX/Mansfield/2618-Hardw...  \n",
       "15  https://www.redfin.com/TX/Mansfield/2313-Fores...  \n",
       "16  https://www.redfin.com/TX/Mansfield/215-Cabotw...  \n",
       "17  https://www.redfin.com/TX/Mansfield/1710-Presc...  \n",
       "18  https://www.redfin.com/TX/Mansfield/2112-Sands...  \n",
       "19  https://www.redfin.com/TX/Mansfield/517-Hollyb...  \n",
       "20  https://www.redfin.com/TX/Mansfield/1809-Cancu...  \n",
       "\n",
       "[1017 rows x 2 columns]"
      ]
     },
     "execution_count": 173,
     "metadata": {},
     "output_type": "execute_result"
    }
   ],
   "source": [
    "a_main_df"
   ]
  },
  {
   "cell_type": "code",
   "execution_count": null,
   "metadata": {},
   "outputs": [],
   "source": [
    "a = randint(0, 5)\n",
    "time.sleep(random.uniform(0, 1)*((88/13)**.33)*a)\n",
    "sold_url_list, s_main_df, proxies = links_for_props(\n",
    "    proxies, sold_url_list, s_main_df, ua)\n",
    "time.sleep(random.uniform(0, 1)*((88/13)**.33)*a)\n",
    "sold_url_list, s_main_df, proxies = links_for_props(\n",
    "    proxies, sold_url_list, s_main_df, ua)\n",
    "time.sleep(random.uniform(0, 1)*((88/13)**.33)*a)\n",
    "sold_url_list, s_main_df, proxies = links_for_props(\n",
    "    proxies, sold_url_list, s_main_df, ua)\n",
    "time.sleep(random.uniform(0, 1)*((88/13)**.33)*a)\n",
    "sold_url_list, s_main_df, proxies = links_for_props(\n",
    "    proxies, sold_url_list, s_main_df, ua)\n",
    "time.sleep(random.uniform(0, 1)*((88/13)**.33)*a)\n",
    "sold_url_list, s_main_df, proxies = links_for_props(\n",
    "    proxies, sold_url_list, s_main_df, ua)\n",
    "time.sleep(random.uniform(0, 1)*((88/13)**.33)*a)\n",
    "sold_url_list, s_main_df, proxies = links_for_props(\n",
    "    proxies, sold_url_list, s_main_df, ua)\n",
    "time.sleep(random.uniform(0, 1)*((88/13)**.33)*a)\n",
    "sold_url_list, s_main_df, proxies = links_for_props(\n",
    "    proxies, sold_url_list, s_main_df, ua)\n",
    "time.sleep(random.uniform(0, 1)*((88/13)**.33)*a)\n",
    "sold_url_list, s_main_df, proxies = links_for_props(\n",
    "    proxies, sold_url_list, s_main_df, ua)\n",
    "time.sleep(random.uniform(0, 1)*((88/13)**.33)*a)\n",
    "sold_url_list, s_main_df, proxies = links_for_props(\n",
    "    proxies, sold_url_list, s_main_df, ua)\n",
    "time.sleep(random.uniform(0, 1)*((88/13)**.33)*a)\n",
    "sold_url_list, s_main_df, proxies = links_for_props(\n",
    "    proxies, sold_url_list, s_main_df, ua)\n",
    "time.sleep(random.uniform(0, 1)*((88/13)**.33)*a)\n",
    "sold_url_list, s_main_df, proxies = links_for_props(\n",
    "    proxies, sold_url_list, s_main_df, ua)\n",
    "time.sleep(random.uniform(0, 1)*((88/13)**.33)*a)\n",
    "sold_url_list, s_main_df, proxies = links_for_props(\n",
    "    proxies, sold_url_list, s_main_df, ua)\n",
    "time.sleep(random.uniform(0, 1)*((88/13)**.33)*a)\n",
    "sold_url_list, s_main_df, proxies = links_for_props(\n",
    "    proxies, sold_url_list, s_main_df, ua)\n",
    "time.sleep(random.uniform(0, 1)*((88/13)**.33)*a)\n",
    "sold_url_list, s_main_df, proxies = links_for_props(\n",
    "    proxies, sold_url_list, s_main_df, ua)"
   ]
  },
  {
   "cell_type": "code",
   "execution_count": 160,
   "metadata": {
    "ExecuteTime": {
     "end_time": "2018-09-29T06:12:47.161386Z",
     "start_time": "2018-09-29T06:12:47.145144Z"
    }
   },
   "outputs": [],
   "source": [
    "sld_under_url_list = sld_under_url_list[1:]\n",
    "print(len(sld_under_url_list))"
   ]
  },
  {
   "cell_type": "code",
   "execution_count": 614,
   "metadata": {
    "ExecuteTime": {
     "end_time": "2018-09-28T20:44:08.886948Z",
     "start_time": "2018-09-28T20:44:08.872336Z"
    },
    "scrolled": true
   },
   "outputs": [],
   "source": [
    "sld_under_url_list, s_main_df = links_for_props(\n",
    "    proxies, sld_under_url_list, s_main_df, ua)"
   ]
  },
  {
   "cell_type": "code",
   "execution_count": 616,
   "metadata": {
    "ExecuteTime": {
     "end_time": "2018-09-28T20:44:16.925278Z",
     "start_time": "2018-09-28T20:44:16.908689Z"
    }
   },
   "outputs": [],
   "source": [
    "list_ = list(s_main_df.full_address.values)\n",
    "set([num[-5:] for num in list_])"
   ]
  },
  {
   "cell_type": "code",
   "execution_count": 612,
   "metadata": {
    "ExecuteTime": {
     "end_time": "2018-09-28T20:44:06.749963Z",
     "start_time": "2018-09-28T20:44:06.733486Z"
    }
   },
   "outputs": [],
   "source": [
    "main_df.to_csv('../Data/main_df_ap.csv')\n",
    "s_main_df.to_csv('../Data/s_main.csv')"
   ]
  },
  {
   "cell_type": "code",
   "execution_count": 21,
   "metadata": {
    "ExecuteTime": {
     "end_time": "2018-09-28T23:24:54.736939Z",
     "start_time": "2018-09-28T23:24:54.658430Z"
    },
    "scrolled": true
   },
   "outputs": [],
   "source": [
    "s_main_df = pd.read_csv('../Data/s_main.csv')\n",
    "main_df = pd.read_csv('../Data/main_df_ap.csv')"
   ]
  },
  {
   "cell_type": "code",
   "execution_count": null,
   "metadata": {},
   "outputs": [],
   "source": [
    "#     all_home_feats = soup.findAll('div', {'class':\"amenities-container\"})\n",
    "#     for num in all_home_feats:\n",
    "#         print(num.findAll('li'))\n",
    "\n",
    "#     other_home_feats = soup.findAll('span', {'data-rf-test-id':\"propertyDetails\"})\n",
    "#     print(f'other_home_feats = {other_home_feats}')\n",
    "#     other_home_feats_vals = soup.findAll('span', {'class':\"content font-weight-roman\"})\n",
    "#     print(f'other_home_feats_vals = {other_home_feats_vals}')\n",
    "# both are in soup.findAll('div', {'class':\"keyDetail font-size-base\"})\n",
    "\n",
    "#     home_full_feat_desc = soup.findAll('span', {'class': 'statsLabel'})\n",
    "#     for desc in home_full_feat_desc:\n",
    "#         print(f'hffd = {desc}')\n",
    "#         homefeat_desc.append(str(desc.contents[0]))\n",
    "\n",
    "#     home_full_feat_info = soup.findAll('span', {'class': 'statsValue'})\n",
    "#     for info in home_full_feat_info:\n",
    "#         print(f'info = {info}')\n",
    "#         homefeat_info.append(str(info.contents[0]))\n",
    "\n",
    "#     school_grades = soup.findAll('div', {'class': 'nearby-schools-grades'})\n",
    "#     for grade in school_grades:\n",
    "#         print(grade.text)\n",
    "\n",
    "#     school_assigned = soup.findAll(\n",
    "#         'span', {'class': 'assigned-label zsg-fineprint'})\n",
    "\n",
    "#     for assi in school_assigned:\n",
    "#         print(assi.text)\n",
    "\n",
    "#     school_dist = soup.findAll('div', {'class': 'nearby-schools-distance'})\n",
    "#     for dist in school_dist:\n",
    "#         print(dist.text)\n",
    "\n",
    "#     school_rating = soup.findAll('div', {'class': 'nearby-schools-rating'})\n",
    "#     for rating in school_rating:\n",
    "#         print(rating.span.text)\n",
    "\n",
    "#     school_name_regex = r'school-name notranslate$'\n",
    "#     school_name = soup.findAll('a', {'class': 'school-name notranslate'})\n",
    "#     for mane in school_name:\n",
    "#         print(mane.next_element)\n",
    "\n",
    "#     homefeat_desc = []\n",
    "#     homefeat_info = []\n",
    "\n",
    "#     new_dict = dict(zip(homefeat_desc, homefeat_info))\n",
    "#     new_dict['address'] = str(home_address_MLS)\n",
    "\n",
    "# #     new_dict['home_description'] = str(home_description.attrs['content'])\n",
    "\n",
    "# lots of info:\n",
    "\n",
    "#     estimate = soup.find('div', {'data-rf-test-name': 'avmValue\"'})\n",
    "#     print(f'estimate = {estimate}')\n",
    "\n",
    "#     home_hist_src = soup.findAll('td', {'class': 'zsg-sm-hide'})\n",
    "#     print(home_hist_src)"
   ]
  },
  {
   "cell_type": "code",
   "execution_count": 203,
   "metadata": {
    "ExecuteTime": {
     "end_time": "2018-09-29T18:12:12.523039Z",
     "start_time": "2018-09-29T18:12:12.503617Z"
    }
   },
   "outputs": [],
   "source": [
    "def each_property(url, hdr, proxy):\n",
    "    soup = session_creator(proxy, ua, url)\n",
    "\n",
    "    price_regex = r'\\$\\S+\\s+'\n",
    "    bed_regex = r'\\d+\\S?\\d?\\d?Bed'\n",
    "    bath_regex = r'\\d+\\S?\\d?\\d?Bath'\n",
    "    size_regex = r'\\d+\\S?\\d?\\d?\\s?Sq'\n",
    "    yr_blt_regex = r'Built: \\d+'\n",
    "    status_regex = r'Status: \\w+'\n",
    "    home_dict = dict()\n",
    "\n",
    "    home_address_MLS = soup.title.string\n",
    "    add_list = text.split(sep=' |')\n",
    "    zip_code = re.search('\\d+$', add_list[0])\n",
    "    mls_num = re.search('\\d+$', add_list[1])\n",
    "    home_add = re.search('(.+?),', home_address_MLS)\n",
    "    home_city = re.search(',(.+?),', home_address_MLS)\n",
    "    home_state = add_list[0].replace(home_add.group(1), '').replace(\n",
    "        home_city.group(1), '').replace(zip_code.group(), '').replace(\n",
    "        ',', '').replace(' ', '')\n",
    "\n",
    "    home_dict['address'] = home_add.group(1)\n",
    "    home_dict['city'] = home_city.group(1)\n",
    "    home_dict['zip_code'] = zip_code.group()\n",
    "    home_dict['state'] = home_state\n",
    "    home_dict['mls_num'] = mls_num.group()\n",
    "\n",
    "    all_top = soup.findAll('div', {'class': 'HomeInfo inline-block'})\n",
    "    price_list = []\n",
    "    for num in all_top:\n",
    "        a = num.text\n",
    "        price_list.extend(re.findall(price_regex, a))\n",
    "        home_dict['num_beds'] = (re.findall(bed_regex, a))\n",
    "        home_dict['num_baths'] = (re.findall(bath_regex, a))\n",
    "        home_dict['home_sqft'] = (re.findall(size_regex, a))\n",
    "        home_dict['yr_blt'] = (re.findall(yr_blt_regex, a))\n",
    "        home_dict['status'] = (re.findall(status_regex, a))\n",
    "\n",
    "    home_dict['redfin_est'] = [num for num in price_list if 'Redfin' in num]\n",
    "    home_dict['sold_price'] = [num for num in price_list if 'Last' in num]\n",
    "\n",
    "    home_description = soup.find('p', {'class': 'font-b1'})\n",
    "    home_dict['description'] = home_description.span.text\n",
    "\n",
    "    all_home_feats = soup.findAll('span', {'class': \"entryItemContent\"})\n",
    "    feats = [num.text for num in all_home_feats]\n",
    "\n",
    "    prop_hist = soup.findAll(\n",
    "        'div', {'id': 'propertyHistory-expandable-segment'})\n",
    "    prop_history = [num.text for num in prop_hist]\n",
    "\n",
    "    school_info = soup.findAll('div', {'class': \"name-and-info\"})\n",
    "    schools = [num.text for num in school_info]\n",
    "\n",
    "    return home_dict, feats, prop_history, schools"
   ]
  },
  {
   "cell_type": "code",
   "execution_count": 166,
   "metadata": {
    "ExecuteTime": {
     "end_time": "2018-09-29T06:19:37.991588Z",
     "start_time": "2018-09-29T06:19:23.520962Z"
    }
   },
   "outputs": [
    {
     "name": "stdout",
     "output_type": "stream",
     "text": [
      "104.37.97.15:39471\n"
     ]
    }
   ],
   "source": [
    "header = random.sample(ua, 1)[0]\n",
    "proxy = random.sample(proxies, 1)[0]\n",
    "sold_url_list = s_main_df['home_link'].tolist()\n",
    "url = random.sample(sold_url_list, 1)[0]\n",
    "print(proxy)\n",
    "\n",
    "home_dict, feats, prop_history, schools = each_property(url, header, proxy)"
   ]
  },
  {
   "cell_type": "code",
   "execution_count": 204,
   "metadata": {
    "ExecuteTime": {
     "end_time": "2018-09-29T18:15:57.811911Z",
     "start_time": "2018-09-29T18:15:57.797493Z"
    }
   },
   "outputs": [
    {
     "data": {
      "text/plain": [
       "['Ortega (jose) Elementary SchoolPublic • K to 5 • Serves this homeGreatSchools Rating: 7/10Parent Rating: ',\n",
       " 'Aptos Middle SchoolPublic • 6 to 8 • Serves this homeGreatSchools Rating: 7/10Parent Rating: ',\n",
       " 'Leadership High SchoolCharter • 9 to 12 • Serves this homeGreatSchools Rating: 4/10Parent Rating: ',\n",
       " 'Balboa High SchoolPublic • 9 to 12 • Serves this homeGreatSchools Rating: 7/10Parent Rating: ',\n",
       " 'Lowell High SchoolPublic • 9 to 12 • Serves this homeGreatSchools Rating: 10/10Parent Rating: ']"
      ]
     },
     "execution_count": 204,
     "metadata": {},
     "output_type": "execute_result"
    }
   ],
   "source": [
    "schools"
   ]
  },
  {
   "cell_type": "code",
   "execution_count": 205,
   "metadata": {
    "ExecuteTime": {
     "end_time": "2018-09-29T18:16:03.744786Z",
     "start_time": "2018-09-29T18:16:03.729548Z"
    }
   },
   "outputs": [
    {
     "data": {
      "text/plain": [
       "['DateEvent & SourcePriceAppreciationNov 30, 2017Sold (MLS) (Sold)San Francisco MLS #463469$1,410,000—Oct 19, 2017PendingSan Francisco MLS #463469——Oct 6, 2017Listed (Active)San Francisco MLS #463469$1,295,000—See all property history']"
      ]
     },
     "execution_count": 205,
     "metadata": {},
     "output_type": "execute_result"
    }
   ],
   "source": [
    "prop_history"
   ]
  },
  {
   "cell_type": "code",
   "execution_count": 206,
   "metadata": {
    "ExecuteTime": {
     "end_time": "2018-09-29T18:16:09.588266Z",
     "start_time": "2018-09-29T18:16:09.572936Z"
    }
   },
   "outputs": [
    {
     "data": {
      "text/plain": [
       "['# of Bedrooms: 3',\n",
       " '3 Bedrooms on Main Level',\n",
       " '# of Baths: 3',\n",
       " '2 Baths on Main Level',\n",
       " '1 Bath on Lower Level',\n",
       " 'Living Room: View',\n",
       " 'Living Room on Main Level',\n",
       " 'Family Room on Lower Level',\n",
       " 'Dining Room on Main Level',\n",
       " 'Combination Living/Dining Room',\n",
       " 'Den/Bonus Room: 0',\n",
       " '# of Fireplace(s): 1, In Living Room',\n",
       " 'Laundry Appliances: Washer/Dryer, In Garage',\n",
       " 'Refrigerator, Freezer, Island, Remodeled',\n",
       " 'Kitchen on Main Level',\n",
       " 'Floors: Hardwood',\n",
       " '# of Rooms (Total): 0',\n",
       " '1 Bath on Lower Level, Family Room on Lower Level',\n",
       " '3 Bedrooms on Main Level, 2 Baths on Main Level, Living Room on Main Level, Dining Room on Main Level, Kitchen on Main Level',\n",
       " 'Heating/Cooling: Central Heating',\n",
       " 'Parking Type: On Site',\n",
       " '# of Garage Spaces: 1',\n",
       " '# of Parking Spaces: 1',\n",
       " 'Garage',\n",
       " 'Parking Access: Side-by-Side',\n",
       " 'Deck(s)',\n",
       " 'Monthly Rent: 0.00',\n",
       " 'Unconfirmed Co-op Fee: 0.00',\n",
       " 'Zoning: RH-1',\n",
       " 'View(s): Ocean',\n",
       " 'Lot Measurement: Square Feet',\n",
       " 'Per Architect',\n",
       " 'Deck(s)',\n",
       " 'APN: 7010013',\n",
       " 'Property Disclaimer: Copyright: 2018 by San Francisco Assoc of REALTORS - All data, including all measurements and calculations of area, is obtained from various sources and has not been, and will not be, verified by broker or MLS. All information should be independently reviewed and verified for accuracy. Properties may or may not be listed by the office/agent presenting the information.',\n",
       " 'Cross Street: Grafton Avenue',\n",
       " 'Original Price: $1,295,000',\n",
       " 'On Market Date: Friday, October 6, 2017']"
      ]
     },
     "execution_count": 206,
     "metadata": {},
     "output_type": "execute_result"
    }
   ],
   "source": [
    "feats"
   ]
  },
  {
   "cell_type": "code",
   "execution_count": null,
   "metadata": {},
   "outputs": [],
   "source": []
  }
 ],
 "metadata": {
  "kernelspec": {
   "display_name": "Python 3",
   "language": "python",
   "name": "python3"
  },
  "language_info": {
   "codemirror_mode": {
    "name": "ipython",
    "version": 3
   },
   "file_extension": ".py",
   "mimetype": "text/x-python",
   "name": "python",
   "nbconvert_exporter": "python",
   "pygments_lexer": "ipython3",
   "version": "3.6.6"
  }
 },
 "nbformat": 4,
 "nbformat_minor": 2
}
