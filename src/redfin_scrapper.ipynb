{
 "cells": [
  {
   "cell_type": "code",
   "execution_count": 804,
   "metadata": {
    "ExecuteTime": {
     "end_time": "2018-10-04T02:49:49.802201Z",
     "start_time": "2018-10-04T02:49:49.786376Z"
    }
   },
   "outputs": [],
   "source": [
    "from math import ceil\n",
    "import time, re, ast, sys, urllib, time, random, string, requests\n",
    "import pandas as pd\n",
    "from bs4 import BeautifulSoup\n",
    "from random import randint\n",
    "from selenium.webdriver.firefox.webdriver import FirefoxProfile\n",
    "from urllib.request import urlopen, Request\n",
    "from urllib.error import HTTPError, URLError\n",
    "from itertools import cycle \n",
    "from header_list import user_agent_list\n",
    "from proxies_list import *\n",
    "from INITIAL_SCRAPPER_FUNCTIONS import *\n",
    "from LIST_DF_FUNCTIONS import *\n",
    "from PARSER_FUNCTIONS import *"
   ]
  },
  {
   "cell_type": "code",
   "execution_count": 805,
   "metadata": {
    "ExecuteTime": {
     "end_time": "2018-10-04T02:51:55.184535Z",
     "start_time": "2018-10-04T02:49:50.236425Z"
    }
   },
   "outputs": [
    {
     "name": "stdout",
     "output_type": "stream",
     "text": [
      "1\n",
      "{'origin': '12.183.155.91'}\n",
      "0.8446402549743652\n",
      "[]\n",
      "2\n",
      "{'origin': '12.2.202.242'}\n",
      "1.342216968536377\n",
      "[]\n",
      "3\n",
      "Skipping. Connnection error\n",
      "0.08500981330871582\n",
      "[3]\n",
      "4\n",
      "{'origin': '188.52.254.27'}\n",
      "6.474175214767456\n",
      "[3]\n",
      "5\n",
      "{'origin': '50.224.173.189'}\n",
      "1.1448442935943604\n",
      "[3]\n",
      "6\n",
      "{'origin': '50.224.173.189'}\n",
      "0.9913425445556641\n",
      "[3]\n",
      "7\n",
      "{'origin': '50.224.173.189'}\n",
      "0.8754110336303711\n",
      "[3]\n",
      "8\n",
      "{'origin': '64.19.116.82'}\n",
      "4.003408432006836\n",
      "[3]\n",
      "9\n",
      "Skipping. Connnection error\n",
      "0.10511994361877441\n",
      "[3, 9]\n",
      "10\n",
      "Skipping. Connnection error\n",
      "0.24464178085327148\n",
      "[3, 9, 10]\n",
      "11\n",
      "{'origin': '72.35.40.34'}\n",
      "0.9725842475891113\n",
      "[3, 9, 10]\n",
      "12\n",
      "Skipping. Connnection error\n",
      "0.10581684112548828\n",
      "[3, 9, 10, 12]\n",
      "13\n",
      "Skipping. Connnection error\n",
      "0.09174799919128418\n",
      "[3, 9, 10, 12, 13]\n",
      "14\n",
      "{'origin': '98.26.32.15'}\n",
      "1.1541237831115723\n",
      "[3, 9, 10, 12, 13]\n",
      "15\n",
      "{'origin': '140.227.60.114'}\n",
      "2.1740779876708984\n",
      "[3, 9, 10, 12, 13]\n",
      "16\n",
      "Skipping. Connnection error\n",
      "1.289520025253296\n",
      "[3, 9, 10, 12, 13, 16]\n",
      "17\n",
      "Skipping. Connnection error\n",
      "0.16283440589904785\n",
      "[3, 9, 10, 12, 13, 16, 17]\n",
      "18\n",
      "Skipping. Connnection error\n",
      "0.24901676177978516\n",
      "[3, 9, 10, 12, 13, 16, 17, 18]\n",
      "19\n",
      "{'origin': '64.58.200.50'}\n",
      "1.6781589984893799\n",
      "[3, 9, 10, 12, 13, 16, 17, 18]\n",
      "20\n",
      "{'origin': '216.85.7.155'}\n",
      "10.087926149368286\n",
      "[3, 9, 10, 12, 13, 16, 17, 18]\n",
      "21\n",
      "{'origin': '97.90.251.228'}\n",
      "3.4187793731689453\n",
      "[3, 9, 10, 12, 13, 16, 17, 18]\n",
      "22\n",
      "Skipping. Connnection error\n",
      "0.09031105041503906\n",
      "[3, 9, 10, 12, 13, 16, 17, 18, 22]\n",
      "23\n",
      "Skipping. Connnection error\n",
      "31.766491889953613\n",
      "[3, 9, 10, 12, 13, 16, 17, 18, 22, 23]\n",
      "24\n",
      "Skipping. Connnection error\n",
      "0.09659218788146973\n",
      "[3, 9, 10, 12, 13, 16, 17, 18, 22, 23, 24]\n",
      "25\n",
      "Skipping. Connnection error\n",
      "0.1490471363067627\n",
      "[3, 9, 10, 12, 13, 16, 17, 18, 22, 23, 24, 25]\n",
      "26\n",
      "{'origin': '97.80.39.42'}\n",
      "0.9414219856262207\n",
      "[3, 9, 10, 12, 13, 16, 17, 18, 22, 23, 24, 25]\n",
      "27\n",
      "{'origin': '66.208.101.138'}\n",
      "8.873406648635864\n",
      "[3, 9, 10, 12, 13, 16, 17, 18, 22, 23, 24, 25]\n",
      "28\n",
      "Skipping. Connnection error\n",
      "0.06354951858520508\n",
      "[3, 9, 10, 12, 13, 16, 17, 18, 22, 23, 24, 25, 28]\n",
      "29\n",
      "{'origin': '50.245.151.237'}\n",
      "0.9930331707000732\n",
      "[3, 9, 10, 12, 13, 16, 17, 18, 22, 23, 24, 25, 28]\n",
      "30\n",
      "Skipping. Connnection error\n",
      "0.10177993774414062\n",
      "[3, 9, 10, 12, 13, 16, 17, 18, 22, 23, 24, 25, 28, 30]\n",
      "31\n",
      "{'origin': '207.109.93.28'}\n",
      "1.0790956020355225\n",
      "[3, 9, 10, 12, 13, 16, 17, 18, 22, 23, 24, 25, 28, 30]\n",
      "32\n",
      "{'origin': '52.124.6.146'}\n",
      "1.0713436603546143\n",
      "[3, 9, 10, 12, 13, 16, 17, 18, 22, 23, 24, 25, 28, 30]\n",
      "33\n",
      "Skipping. Connnection error\n",
      "0.08170461654663086\n",
      "[3, 9, 10, 12, 13, 16, 17, 18, 22, 23, 24, 25, 28, 30, 33]\n",
      "34\n",
      "{'origin': '74.119.250.154'}\n",
      "2.294092893600464\n",
      "[3, 9, 10, 12, 13, 16, 17, 18, 22, 23, 24, 25, 28, 30, 33]\n",
      "35\n",
      "{'origin': '24.124.113.53'}\n",
      "2.340707540512085\n",
      "[3, 9, 10, 12, 13, 16, 17, 18, 22, 23, 24, 25, 28, 30, 33]\n",
      "36\n",
      "{'origin': '8.40.240.90'}\n",
      "0.7807176113128662\n",
      "[3, 9, 10, 12, 13, 16, 17, 18, 22, 23, 24, 25, 28, 30, 33]\n",
      "37\n",
      "Skipping. Connnection error\n",
      "0.06561660766601562\n",
      "[3, 9, 10, 12, 13, 16, 17, 18, 22, 23, 24, 25, 28, 30, 33, 37]\n",
      "38\n"
     ]
    },
    {
     "ename": "IndexError",
     "evalue": "list index out of range",
     "output_type": "error",
     "traceback": [
      "\u001b[0;31m---------------------------------------------------------------------------\u001b[0m",
      "\u001b[0;31mIndexError\u001b[0m                                Traceback (most recent call last)",
      "\u001b[0;32m<ipython-input-805-b80b8449711c>\u001b[0m in \u001b[0;36m<module>\u001b[0;34m()\u001b[0m\n\u001b[1;32m      2\u001b[0m \u001b[0mproxies\u001b[0m \u001b[0;34m=\u001b[0m \u001b[0mproxies_list_\u001b[0m\u001b[0;34m\u001b[0m\u001b[0m\n\u001b[1;32m      3\u001b[0m \u001b[0mprx_pool\u001b[0m \u001b[0;34m=\u001b[0m \u001b[0mproxie_random_pool\u001b[0m\u001b[0;34m\u001b[0m\u001b[0m\n\u001b[0;32m----> 4\u001b[0;31m \u001b[0mproxies\u001b[0m \u001b[0;34m=\u001b[0m \u001b[0mproxie_check\u001b[0m\u001b[0;34m(\u001b[0m\u001b[0mproxies\u001b[0m\u001b[0;34m)\u001b[0m\u001b[0;34m\u001b[0m\u001b[0m\n\u001b[0m",
      "\u001b[0;32m~/apt-get-home/src/INITIAL_SCRAPPER_FUNCTIONS.py\u001b[0m in \u001b[0;36mproxie_check\u001b[0;34m(proxies)\u001b[0m\n\u001b[1;32m     33\u001b[0m \u001b[0;34m\u001b[0m\u001b[0m\n\u001b[1;32m     34\u001b[0m         \u001b[0mprint\u001b[0m\u001b[0;34m(\u001b[0m\u001b[0mi\u001b[0m\u001b[0;34m+\u001b[0m\u001b[0;36m1\u001b[0m\u001b[0;34m)\u001b[0m\u001b[0;34m\u001b[0m\u001b[0m\n\u001b[0;32m---> 35\u001b[0;31m         \u001b[0mproxy\u001b[0m \u001b[0;34m=\u001b[0m \u001b[0mproxies\u001b[0m\u001b[0;34m[\u001b[0m\u001b[0mi\u001b[0m\u001b[0;34m]\u001b[0m\u001b[0;34m\u001b[0m\u001b[0m\n\u001b[0m\u001b[1;32m     36\u001b[0m \u001b[0;34m\u001b[0m\u001b[0m\n\u001b[1;32m     37\u001b[0m         \u001b[0mtime\u001b[0m\u001b[0;34m.\u001b[0m\u001b[0msleep\u001b[0m\u001b[0;34m(\u001b[0m\u001b[0mrandom\u001b[0m\u001b[0;34m.\u001b[0m\u001b[0muniform\u001b[0m\u001b[0;34m(\u001b[0m\u001b[0;36m0.5\u001b[0m\u001b[0;34m,\u001b[0m \u001b[0;36m1.5\u001b[0m\u001b[0;34m)\u001b[0m\u001b[0;34m)\u001b[0m\u001b[0;34m\u001b[0m\u001b[0m\n",
      "\u001b[0;31mIndexError\u001b[0m: list index out of range"
     ]
    }
   ],
   "source": [
    "ua = user_agent_list\n",
    "proxies = proxies_list_\n",
    "prx_pool = proxie_random_pool\n",
    "proxies = proxie_check(proxies)"
   ]
  },
  {
   "cell_type": "code",
   "execution_count": 806,
   "metadata": {
    "ExecuteTime": {
     "end_time": "2018-10-04T02:52:00.120607Z",
     "start_time": "2018-10-04T02:52:00.106222Z"
    },
    "scrolled": true
   },
   "outputs": [
    {
     "data": {
      "text/plain": [
       "37"
      ]
     },
     "execution_count": 806,
     "metadata": {},
     "output_type": "execute_result"
    }
   ],
   "source": [
    "len(proxies)"
   ]
  },
  {
   "cell_type": "code",
   "execution_count": 204,
   "metadata": {
    "ExecuteTime": {
     "end_time": "2018-10-01T23:51:48.614365Z",
     "start_time": "2018-10-01T23:51:48.592595Z"
    }
   },
   "outputs": [],
   "source": [
    "# zip_codes = pd.read_csv('../Data/main_zips.csv')\n",
    "# zip_list = zip_codes['zip'].tolist()"
   ]
  },
  {
   "cell_type": "code",
   "execution_count": 264,
   "metadata": {
    "ExecuteTime": {
     "end_time": "2018-10-02T04:33:36.102670Z",
     "start_time": "2018-10-02T04:33:36.090058Z"
    }
   },
   "outputs": [],
   "source": [
    "# active_zip_url_list, sold_zip_url_list = gen_url_list(zip_list)"
   ]
  },
  {
   "cell_type": "code",
   "execution_count": 213,
   "metadata": {
    "ExecuteTime": {
     "end_time": "2018-10-01T23:51:53.379236Z",
     "start_time": "2018-10-01T23:51:53.364515Z"
    }
   },
   "outputs": [],
   "source": [
    "# a_main_df = pd.DataFrame(columns=['full_address', 'home_link'])\n",
    "# s_main_df = pd.DataFrame(columns=['full_address', 'home_link'])"
   ]
  },
  {
   "cell_type": "code",
   "execution_count": 261,
   "metadata": {
    "ExecuteTime": {
     "end_time": "2018-10-02T04:32:54.682803Z",
     "start_time": "2018-10-02T04:32:54.666117Z"
    },
    "scrolled": true
   },
   "outputs": [],
   "source": [
    "# a = randint(0, 3)\n",
    "# time.sleep(random.uniform(0, 1)*((88/13)**.33)*a)\n",
    "# active_zip_url_list, a_main_df, proxies = links_for_props(proxies, active_zip_url_list, a_main_df, ua)"
   ]
  },
  {
   "cell_type": "code",
   "execution_count": 309,
   "metadata": {
    "ExecuteTime": {
     "end_time": "2018-10-02T18:24:59.974204Z",
     "start_time": "2018-10-02T18:24:59.955960Z"
    },
    "scrolled": true
   },
   "outputs": [],
   "source": [
    "# a = randint(0, 3)\n",
    "# sold_zip_url_list, s_main_df, proxies = links_for_props(proxies, sold_zip_url_list, s_main_df, ua)\n",
    "# time.sleep(random.uniform(0, 1)*((88/13)**.33)*a)"
   ]
  },
  {
   "cell_type": "code",
   "execution_count": 295,
   "metadata": {
    "ExecuteTime": {
     "end_time": "2018-10-02T17:34:47.681976Z",
     "start_time": "2018-10-02T17:34:47.573732Z"
    }
   },
   "outputs": [],
   "source": [
    "# a_main_df.to_csv('../Data/active_props_url_list.csv')\n",
    "# s_main_df.to_csv('../Data/sold_props_url_list.csv')"
   ]
  },
  {
   "cell_type": "code",
   "execution_count": 652,
   "metadata": {
    "ExecuteTime": {
     "end_time": "2018-10-02T23:46:48.916158Z",
     "start_time": "2018-10-02T23:46:48.897117Z"
    }
   },
   "outputs": [],
   "source": [
    "# a_main_df = pd.read_csv('../Data/active_props_url_list.csv')\n",
    "# s_main_df = pd.read_csv('../Data/sold_props_url_list.csv')"
   ]
  },
  {
   "cell_type": "code",
   "execution_count": 304,
   "metadata": {
    "ExecuteTime": {
     "end_time": "2018-10-02T18:19:26.987057Z",
     "start_time": "2018-10-02T18:19:26.963635Z"
    }
   },
   "outputs": [],
   "source": [
    "# a_main_df = a_main_df.drop_duplicates(subset='full_address')\n",
    "# s_main_df = s_main_df.drop_duplicates(subset='full_address')"
   ]
  },
  {
   "cell_type": "code",
   "execution_count": 305,
   "metadata": {
    "ExecuteTime": {
     "end_time": "2018-10-02T18:21:54.917626Z",
     "start_time": "2018-10-02T18:21:54.900591Z"
    }
   },
   "outputs": [],
   "source": [
    "active_url_list = a_main_df.home_link.tolist()\n",
    "sold_url_list = s_main_df.home_link.tolist()"
   ]
  },
  {
   "cell_type": "code",
   "execution_count": 813,
   "metadata": {
    "ExecuteTime": {
     "end_time": "2018-10-04T07:09:50.284653Z",
     "start_time": "2018-10-04T07:09:50.265701Z"
    }
   },
   "outputs": [],
   "source": [
    "def info_from_sold_property(url, hdr, proxy):\n",
    "\n",
    "    soup = session_creator(proxy, ua, url)\n",
    "    \n",
    "    df = top_info_parser(soup)\n",
    "\n",
    "#     home_dict = address_parser(soup)\n",
    "\n",
    "#     top_info_dict = top_info_parser(soup)\n",
    "\n",
    "#     public_info_dict = public_info_parser(soup)\n",
    "\n",
    "#     school_dict = school_parser(soup)\n",
    "\n",
    "#     all_home_feats = feats_parser(soup)\n",
    "\n",
    "#     df = pd.DataFrame()\n",
    "\n",
    "#     df = pd.concat([home_dict, top_info_dict, school_dict,\n",
    "#                     public_info_dict, all_home_feats], axis=1)\n",
    "\n",
    "    return df"
   ]
  },
  {
   "cell_type": "code",
   "execution_count": 814,
   "metadata": {
    "ExecuteTime": {
     "end_time": "2018-10-04T07:09:51.144449Z",
     "start_time": "2018-10-04T07:09:51.131472Z"
    }
   },
   "outputs": [],
   "source": [
    "feat_list = []\n",
    "feat_values = []\n"
   ]
  },
  {
   "cell_type": "code",
   "execution_count": null,
   "metadata": {},
   "outputs": [],
   "source": []
  },
  {
   "cell_type": "code",
   "execution_count": null,
   "metadata": {},
   "outputs": [],
   "source": []
  },
  {
   "cell_type": "code",
   "execution_count": 817,
   "metadata": {
    "ExecuteTime": {
     "end_time": "2018-10-04T07:10:08.837670Z",
     "start_time": "2018-10-04T07:10:07.150117Z"
    }
   },
   "outputs": [
    {
     "name": "stdout",
     "output_type": "stream",
     "text": [
      "98.101.147.86:50259\n",
      "https://www.redfin.com/FL/Port-Richey/11346-Versailles-Ln-34668/unit-B/home/48319510\n",
      "[<div class=\"HomeInfo inline-block\"><div class=\"top-stats\"><h1 class=\"address inline-block\"><span data-rf-test-id=\"abp-homeinfo-homeaddress\" itemscope=\"\" itemtype=\"http://schema.org/SingleFamilyResidence\"><span class=\"adr\" itemprop=\"address\" itemscope=\"\" itemtype=\"http://schema.org/PostalAddress\"><span class=\"street-address\" data-rf-test-id=\"abp-streetLine\" itemprop=\"streetAddress\" title=\"11346 Versailles Ln Unit B\">11346 Versailles Ln Unit B </span><span class=\"citystatezip\" data-rf-test-id=\"abp-cityStateZip\"><span class=\"locality\" itemprop=\"addressLocality\">Port Richey<!-- -->, </span><span class=\"region\" itemprop=\"addressRegion\">FL</span> <span class=\"postal-code\" itemprop=\"postalCode\">34668</span></span></span><span itemprop=\"geo\" itemscope=\"\" itemtype=\"http://schema.org/GeoCoordinates\"><meta content=\"28.322919\" itemprop=\"latitude\"/><meta content=\"-82.674633\" itemprop=\"longitude\"/></span></span></h1><div class=\"HomeMainStats float-right\" data-rf-test-id=\"abp-homeinfo-homemainstats\"><div class=\"info-block avm\" data-rf-test-id=\"avm-price\"><div class=\"statsValue\">$101,271</div><span class=\"\"><span class=\"clickable\"><span class=\"avmLabel\">Redfin Estimate</span></span></span></div><div class=\"info-block price\" data-rf-test-id=\"abp-price\"><div class=\"statsValue\">$104,900</div><span class=\"statsLabel\">Last Sold Price</span></div><div class=\"info-block\" data-rf-test-id=\"abp-beds\"><div class=\"statsValue\">2</div><span class=\"statsLabel\">Beds</span></div><div class=\"info-block\" data-rf-test-id=\"abp-baths\"><div class=\"statsValue\">2</div><span class=\"statsLabel\">Baths</span></div><div class=\"info-block sqft\" data-rf-test-id=\"abp-sqFt\"><span><span class=\"statsValue\">1,051</span> <span class=\"sqft-label\">Sq. Ft.</span><div class=\"statsLabel\" data-rf-test-id=\"abp-priceperft\">$96 / Sq. Ft.</div></span></div><script type=\"application/ld+json\">{\"@context\":\"http://schema.org\",\"@type\":\"Offer\",\"priceCurrency\":\"USD\",\"price\":104900,\"url\":\"/FL/Port-Richey/11346-Versailles-Ln-34668/unit-B/home/48319510\"}</script></div></div><div class=\"HomeBottomStats\" data-rf-test-id=\"abp-homeinfo-homebottomstats\"><div class=\"more-info\"><div><span data-rf-test-name=\"flyout-transition-group\"></span><span data-rf-test-id=\"abp-yearBuilt\"><span class=\"label\">Built: </span><span class=\"value\">1982</span></span></div></div><span class=\"status-container\" data-rf-test-id=\"abp-status\"><span><span class=\"label\">Status: </span><span class=\"value\">Sold</span></span></span><span class=\"source-container\"><span data-rf-test-id=\"abp-source\"><span class=\"label\">Source: </span><span class=\"value\">Public Records</span></span></span></div></div>]\n"
     ]
    }
   ],
   "source": [
    "header = random.sample(ua, 1)[0]\n",
    "proxy = random.sample(proxies, 1)[0]\n",
    "sold_url_list = s_main_df['home_link'].tolist()\n",
    "# url = random.sample(active_url_list, 1)[0]\n",
    "url = random.sample(sold_url_list, 1)[0]\n",
    "print(proxy)\n",
    "print(url)\n",
    "\n",
    "sold_home_df = info_from_sold_property(url, header, proxy)"
   ]
  },
  {
   "cell_type": "code",
   "execution_count": 811,
   "metadata": {
    "ExecuteTime": {
     "end_time": "2018-10-04T02:52:27.419226Z",
     "start_time": "2018-10-04T02:52:27.376846Z"
    }
   },
   "outputs": [
    {
     "data": {
      "text/html": [
       "<div>\n",
       "<style scoped>\n",
       "    .dataframe tbody tr th:only-of-type {\n",
       "        vertical-align: middle;\n",
       "    }\n",
       "\n",
       "    .dataframe tbody tr th {\n",
       "        vertical-align: top;\n",
       "    }\n",
       "\n",
       "    .dataframe thead th {\n",
       "        text-align: right;\n",
       "    }\n",
       "</style>\n",
       "<table border=\"1\" class=\"dataframe\">\n",
       "  <thead>\n",
       "    <tr style=\"text-align: right;\">\n",
       "      <th></th>\n",
       "      <th>address</th>\n",
       "      <th>city</th>\n",
       "      <th>zip_code</th>\n",
       "      <th>state</th>\n",
       "      <th>description</th>\n",
       "      <th>mls_num</th>\n",
       "      <th>num_beds</th>\n",
       "      <th>num_baths</th>\n",
       "      <th>home_sqft</th>\n",
       "      <th>yr_blt</th>\n",
       "      <th>...</th>\n",
       "      <th>Seller Disclosure:</th>\n",
       "      <th>View:</th>\n",
       "      <th>Unit Location:</th>\n",
       "      <th>Legal Description:</th>\n",
       "      <th>Sq. Ft. Source:</th>\n",
       "      <th>Sq. Ft. (Main Level):</th>\n",
       "      <th>Possession:</th>\n",
       "      <th>ListingType:</th>\n",
       "      <th>Limited Representation:</th>\n",
       "      <th>Supplement Number:</th>\n",
       "    </tr>\n",
       "  </thead>\n",
       "  <tbody>\n",
       "    <tr>\n",
       "      <th>1</th>\n",
       "      <td>156 Front St NE #460</td>\n",
       "      <td>Salem</td>\n",
       "      <td>97301</td>\n",
       "      <td>None</td>\n",
       "      <td>Luxury 4th floor condo. Westerly views o/Willa...</td>\n",
       "      <td>18258478</td>\n",
       "      <td>2.0</td>\n",
       "      <td>2.0</td>\n",
       "      <td>753.0</td>\n",
       "      <td>2011</td>\n",
       "      <td>...</td>\n",
       "      <td>Disclosure</td>\n",
       "      <td>River, Territorial</td>\n",
       "      <td>Upper Floor</td>\n",
       "      <td>RIVERS CONDOMINIUMS, LOT R-10</td>\n",
       "      <td>county</td>\n",
       "      <td>1,753</td>\n",
       "      <td>Close Of Escrow</td>\n",
       "      <td>Exclusive Right To Sell</td>\n",
       "      <td>Full Service</td>\n",
       "      <td>1</td>\n",
       "    </tr>\n",
       "  </tbody>\n",
       "</table>\n",
       "<p>1 rows × 64 columns</p>\n",
       "</div>"
      ],
      "text/plain": [
       "                address    city zip_code state  \\\n",
       "1  156 Front St NE #460   Salem    97301  None   \n",
       "\n",
       "                                         description   mls_num  num_beds  \\\n",
       "1  Luxury 4th floor condo. Westerly views o/Willa...  18258478       2.0   \n",
       "\n",
       "   num_baths  home_sqft  yr_blt         ...         Seller Disclosure:   \\\n",
       "1        2.0      753.0    2011         ...                  Disclosure   \n",
       "\n",
       "               View:   Unit Location:             Legal Description:   \\\n",
       "1  River, Territorial      Upper Floor  RIVERS CONDOMINIUMS, LOT R-10   \n",
       "\n",
       "  Sq. Ft. Source:  Sq. Ft. (Main Level):      Possession:   \\\n",
       "1           county                  1,753  Close Of Escrow   \n",
       "\n",
       "             ListingType:  Limited Representation:  Supplement Number:   \n",
       "1  Exclusive Right To Sell             Full Service                   1  \n",
       "\n",
       "[1 rows x 64 columns]"
      ]
     },
     "execution_count": 811,
     "metadata": {},
     "output_type": "execute_result"
    }
   ],
   "source": [
    "sold_home_df"
   ]
  },
  {
   "cell_type": "code",
   "execution_count": 812,
   "metadata": {
    "ExecuteTime": {
     "end_time": "2018-10-04T02:52:29.846638Z",
     "start_time": "2018-10-04T02:52:29.825191Z"
    }
   },
   "outputs": [
    {
     "data": {
      "text/plain": [
       "{'address': {1: '156 Front St NE #460'},\n",
       " 'city': {1: ' Salem'},\n",
       " 'zip_code': {1: '97301'},\n",
       " 'state': {1: None},\n",
       " 'description': {1: 'Luxury 4th floor condo. Westerly views o/Willamette River & Waterfront park w/floor-ceiling windows. Open concept featuring stylish kitchen w/soft close, quartz, lrg island, high-end appliances inc micro drawer all w/5 yr warranty. BRs w/extensive tile & wall hung comfort height toilets. Master boasts large walk in closet,  tiled shower & dual vanities. W/D, included. Front balcony w/gas & overhead heater. Water on both balconies. '},\n",
       " 'mls_num': {1: '18258478'},\n",
       " 'num_beds': {1: 2.0},\n",
       " 'num_baths': {1: 2.0},\n",
       " 'home_sqft': {1: 753.0},\n",
       " 'yr_blt': {1: 2011},\n",
       " 'status': {1: 'Sold'},\n",
       " 'redfin_est': {1: 573814.0},\n",
       " 'sold_price': {1: 716500.0},\n",
       " 'elem_school_name': {1: 'Bush Elementary School'},\n",
       " 'elem_school_grades': {1: ' K to 5'},\n",
       " 'elem_school_rating': {1: '1'},\n",
       " 'Beds': {1: '2'},\n",
       " 'Baths': {1: '2'},\n",
       " 'Sq. Ft.': {1: '1,753'},\n",
       " 'Stories': {1: '—'},\n",
       " 'Lot Size': {1: '—'},\n",
       " 'Style': {1: 'Condo/Co-op'},\n",
       " 'Year Built': {1: '2011'},\n",
       " 'Year Renovated': {1: '—'},\n",
       " 'County': {1: 'Marion County'},\n",
       " 'APN': {1: 'R347332'},\n",
       " 'Level: ': {1: 'Main'},\n",
       " '# of Bathrooms (Full): ': {1: '2'},\n",
       " '# of Main Level Bathrooms (Full): ': {1: '2'},\n",
       " 'Appliances: ': {1: 'Built-in Microwave, Built-in Range, Built-in Dishwasher, Disposal, Island, Pantry, Stainless Steel Appliance(s), Quartz, Range Hood'},\n",
       " '# of Fireplaces: ': {1: '1'},\n",
       " 'Fireplace: ': {1: 'Gas'},\n",
       " 'Interior Features: ': {1: 'Ceiling Fan, Laundry, Tile Floor, Washer/Dryer, Laminate Flooring, Quartz, Heated Tile Floor'},\n",
       " 'Heating: ': {1: 'Other'},\n",
       " 'Fuel: ': {1: 'Electricity, Gas'},\n",
       " 'Hot Water: ': {1: 'Gas'},\n",
       " '# of Garage/Parking Spaces: ': {1: '2'},\n",
       " 'Year Built Details: ': {1: 'Resale'},\n",
       " 'Exterior: ': {1: 'Metal Siding'},\n",
       " 'Features: ': {1: 'Covered Patio'},\n",
       " 'Elementary School: ': {1: 'Bush'},\n",
       " 'Middle School: ': {1: 'Leslie'},\n",
       " 'High School: ': {1: 'South Salem'},\n",
       " 'Water: ': {1: 'Public'},\n",
       " 'Sewer: ': {1: 'Public Sewer'},\n",
       " 'Condo Association Name: ': {1: 'Association of Unit Owners'},\n",
       " 'Condo Association Contact: ': {1: 'Teresa Krause'},\n",
       " 'Association Fee Includes: ': {1: 'Gas, Sewer, Water, Maintenance'},\n",
       " '# of Stories (Total): ': {1: '8'},\n",
       " 'Tax Amount: ': {1: '$2,516.02'},\n",
       " 'Tax Deferral: ': {1: 'No'},\n",
       " 'Terms: ': {1: 'Cash, Conventional'},\n",
       " 'Terms Of Sale: ': {1: 'Conventional'},\n",
       " 'Area: ': {1: 'Marion Co: Central Salem'},\n",
       " 'Seller Disclosure: ': {1: 'Disclosure'},\n",
       " 'View: ': {1: 'River, Territorial'},\n",
       " 'Unit Location: ': {1: 'Upper Floor'},\n",
       " 'Legal Description: ': {1: 'RIVERS CONDOMINIUMS, LOT R-10'},\n",
       " 'Sq. Ft. Source: ': {1: 'county'},\n",
       " 'Sq. Ft. (Main Level): ': {1: '1,753'},\n",
       " 'Possession: ': {1: 'Close Of Escrow'},\n",
       " 'ListingType: ': {1: 'Exclusive Right To Sell'},\n",
       " 'Limited Representation: ': {1: 'Full Service'},\n",
       " 'Supplement Number: ': {1: '1'}}"
      ]
     },
     "execution_count": 812,
     "metadata": {},
     "output_type": "execute_result"
    }
   ],
   "source": [
    "sold_home_df.to_dict()"
   ]
  },
  {
   "cell_type": "code",
   "execution_count": null,
   "metadata": {},
   "outputs": [],
   "source": []
  },
  {
   "cell_type": "code",
   "execution_count": null,
   "metadata": {},
   "outputs": [],
   "source": []
  },
  {
   "cell_type": "code",
   "execution_count": null,
   "metadata": {},
   "outputs": [],
   "source": []
  },
  {
   "cell_type": "code",
   "execution_count": null,
   "metadata": {},
   "outputs": [],
   "source": []
  },
  {
   "cell_type": "code",
   "execution_count": null,
   "metadata": {},
   "outputs": [],
   "source": []
  },
  {
   "cell_type": "code",
   "execution_count": null,
   "metadata": {},
   "outputs": [],
   "source": []
  },
  {
   "cell_type": "code",
   "execution_count": null,
   "metadata": {},
   "outputs": [],
   "source": []
  }
 ],
 "metadata": {
  "kernelspec": {
   "display_name": "Python 3",
   "language": "python",
   "name": "python3"
  },
  "language_info": {
   "codemirror_mode": {
    "name": "ipython",
    "version": 3
   },
   "file_extension": ".py",
   "mimetype": "text/x-python",
   "name": "python",
   "nbconvert_exporter": "python",
   "pygments_lexer": "ipython3",
   "version": "3.6.6"
  }
 },
 "nbformat": 4,
 "nbformat_minor": 2
}
