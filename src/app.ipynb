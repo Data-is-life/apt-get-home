{
 "cells": [
  {
   "cell_type": "code",
   "execution_count": 1,
   "metadata": {
    "ExecuteTime": {
     "end_time": "2018-09-20T23:28:39.221883Z",
     "start_time": "2018-09-20T23:28:38.887900Z"
    }
   },
   "outputs": [],
   "source": [
    "from selenium import webdriver\n",
    "from selenium.webdriver.common.by import By\n",
    "from selenium.webdriver.support.ui import WebDriverWait\n",
    "from selenium.webdriver.support import expected_conditions as EC\n",
    "from selenium.common.exceptions import TimeoutException\n",
    "from selenium.common.exceptions import NoSuchElementException\n",
    "from selenium.webdriver.common.keys import Keys\n",
    "from selenium.webdriver import Firefox\n",
    "from selenium.webdriver.firefox.webdriver import FirefoxProfile\n",
    "import time\n",
    "import pandas as pd\n",
    "from bs4 import BeautifulSoup\n",
    "import re"
   ]
  },
  {
   "cell_type": "code",
   "execution_count": null,
   "metadata": {},
   "outputs": [],
   "source": [
    "def get_info(url):\n",
    "    driver = webdriver.Firefox()\n",
    "    driver.set_page_load_timeout(30)\n",
    "    driver.get(url)\n",
    "    bbsq = driver.find_elements_by_class_name('zsg-photo-card-info')\n",
    "    status = \n",
    "    price =     \n",
    "    _bbsq = [x.text for x in bbsq]    "
   ]
  },
  {
   "cell_type": "code",
   "execution_count": 13,
   "metadata": {
    "ExecuteTime": {
     "end_time": "2018-09-19T21:43:05.151774Z",
     "start_time": "2018-09-19T21:42:59.964000Z"
    }
   },
   "outputs": [],
   "source": [
    "url = 'https://www.zillow.com/homes/for_sale/Milpitas-CA-95035/house,condo,apartment_duplex,townhouse_type/1-_baths/20000-_price/82-_mp/globalrelevanceex_sort/0_mmm/'"
   ]
  },
  {
   "cell_type": "code",
   "execution_count": 14,
   "metadata": {
    "ExecuteTime": {
     "end_time": "2018-09-19T21:43:13.560749Z",
     "start_time": "2018-09-19T21:43:13.540158Z"
    }
   },
   "outputs": [
    {
     "data": {
      "text/plain": [
       "['3 bds · 2 ba · 1,042 sqft',\n",
       " '4 bds · 2 ba · 1,358 sqft',\n",
       " '3 bds · 2 ba · 1,281 sqft',\n",
       " '5 bds · 5 ba · 3,815 sqft',\n",
       " '3 bds · 3 ba · 1,767 sqft',\n",
       " '5 bds · 4 ba · 2,243 sqft',\n",
       " '3 bds · 3 ba · 1,528 sqft',\n",
       " '3 bds · 3 ba · 1,512 sqft',\n",
       " '4 bds · 2 ba · 1,854 sqft',\n",
       " '3 bds · 2 ba · 1,102 sqft',\n",
       " '2 bds · 3 ba · 1,459 sqft',\n",
       " '2 bds · 1 ba · 882 sqft',\n",
       " '4 bds · 3 ba · 1,626 sqft',\n",
       " '6 bds · 7 ba · 6,682 sqft',\n",
       " '3 bds · 3 ba · 1,550 sqft',\n",
       " '5 bds · 3 ba · 5,000 sqft',\n",
       " '4 bds · 2 ba · 1,666 sqft',\n",
       " '5 bds · 3 ba · 2,697 sqft',\n",
       " '2 bds · 1 ba · 842 sqft',\n",
       " '3 bds · 2 ba · 1,838+ sqft',\n",
       " '4 bds · 2 ba · 1,208 sqft',\n",
       " '4 bds · 3 ba · 1,988 sqft',\n",
       " '6 bds · 4 ba · 2,573 sqft',\n",
       " '4 bds · 3 ba · 1,824 sqft',\n",
       " '6 bds · 3 ba · 3,376 sqft']"
      ]
     },
     "execution_count": 14,
     "metadata": {},
     "output_type": "execute_result"
    }
   ],
   "source": [
    "info"
   ]
  },
  {
   "cell_type": "code",
   "execution_count": null,
   "metadata": {},
   "outputs": [],
   "source": []
  }
 ],
 "metadata": {
  "kernelspec": {
   "display_name": "Python 3",
   "language": "python",
   "name": "python3"
  },
  "language_info": {
   "codemirror_mode": {
    "name": "ipython",
    "version": 3
   },
   "file_extension": ".py",
   "mimetype": "text/x-python",
   "name": "python",
   "nbconvert_exporter": "python",
   "pygments_lexer": "ipython3",
   "version": "3.6.6"
  }
 },
 "nbformat": 4,
 "nbformat_minor": 2
}
