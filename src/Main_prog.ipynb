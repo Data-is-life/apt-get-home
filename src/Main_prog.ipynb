{
 "cells": [
  {
   "cell_type": "markdown",
   "metadata": {},
   "source": [
    "# Apt-Get-Home"
   ]
  },
  {
   "cell_type": "code",
   "execution_count": 5,
   "metadata": {
    "ExecuteTime": {
     "end_time": "2018-10-22T16:06:09.656199Z",
     "start_time": "2018-10-22T16:06:09.635588Z"
    }
   },
   "outputs": [],
   "source": [
    "from math import ceil\n",
    "import time, re, ast, sys, urllib, random, string, requests\n",
    "import pandas as pd\n",
    "from bs4 import BeautifulSoup\n",
    "from random import randint\n",
    "from selenium.webdriver.firefox.webdriver import FirefoxProfile\n",
    "from urllib.request import urlopen, Request\n",
    "from urllib.error import HTTPError, URLError\n",
    "from itertools import cycle\n",
    "from header_list import user_agent_list\n",
    "from proxies_list import proxies_list_\n",
    "from initial_scrapper_function import *\n",
    "from parser_functions import *\n",
    "from list_df_functions import *\n",
    "from search_url_gen import *\n",
    "from get_search_url import *\n",
    "from get_results import *\n",
    "ua = user_agent_list\n",
    "proxies = proxies_list_"
   ]
  },
  {
   "cell_type": "markdown",
   "metadata": {},
   "source": [
    "## This asks user to input the url for the home they are interested in"
   ]
  },
  {
   "cell_type": "code",
   "execution_count": 2,
   "metadata": {
    "ExecuteTime": {
     "end_time": "2018-10-09T21:52:57.963759Z",
     "start_time": "2018-10-09T21:52:55.312936Z"
    }
   },
   "outputs": [
    {
     "name": "stdout",
     "output_type": "stream",
     "text": [
      "Input the Redfin URL of the Home: https://www.redfin.com/CA/Fremont/4464-Bidwell-Dr-94538/home/1059041\n"
     ]
    }
   ],
   "source": [
    "customer_url = input(\"Input the Redfin URL of the Home: \")"
   ]
  },
  {
   "cell_type": "markdown",
   "metadata": {},
   "source": [
    "## This creates the user session and gets information from the url"
   ]
  },
  {
   "cell_type": "code",
   "execution_count": 3,
   "metadata": {
    "ExecuteTime": {
     "end_time": "2018-10-09T21:52:59.898212Z",
     "start_time": "2018-10-09T21:52:58.653040Z"
    }
   },
   "outputs": [
    {
     "name": "stdout",
     "output_type": "stream",
     "text": [
      "https://www.redfin.com/CA/Fremont/4464-Bidwell-Dr-94538/home/1059041\n"
     ]
    }
   ],
   "source": [
    "header = random.sample(ua, 1)[0]\n",
    "# proxy = random.sample(proxies, 1)[0]\n",
    "url = customer_url\n",
    "# print(proxy)\n",
    "print(url)\n",
    "soup = session_creator(ua, url)"
   ]
  },
  {
   "cell_type": "markdown",
   "metadata": {},
   "source": [
    "## Input all the information from the property in a dataframe"
   ]
  },
  {
   "cell_type": "code",
   "execution_count": 4,
   "metadata": {
    "ExecuteTime": {
     "end_time": "2018-10-09T21:53:00.583098Z",
     "start_time": "2018-10-09T21:53:00.397851Z"
    },
    "scrolled": true
   },
   "outputs": [
    {
     "name": "stderr",
     "output_type": "stream",
     "text": [
      "/home/guess/apt-get-home/src/PARSER_FUNCTIONS.py:308: UserWarning: DataFrame columns are not unique, some columns will be omitted.\n",
      "  all_dict = df.to_dict()\n"
     ]
    }
   ],
   "source": [
    "customer_df = info_from_property(soup)"
   ]
  },
  {
   "cell_type": "markdown",
   "metadata": {},
   "source": [
    "## Create a search URL matching criteria of the home "
   ]
  },
  {
   "cell_type": "code",
   "execution_count": 5,
   "metadata": {
    "ExecuteTime": {
     "end_time": "2018-10-09T21:53:01.257153Z",
     "start_time": "2018-10-09T21:53:01.231730Z"
    }
   },
   "outputs": [],
   "source": [
    "c_url = gen_zip_url(customer_df)"
   ]
  },
  {
   "cell_type": "markdown",
   "metadata": {},
   "source": [
    "## Create another session to run the search"
   ]
  },
  {
   "cell_type": "code",
   "execution_count": 7,
   "metadata": {
    "ExecuteTime": {
     "end_time": "2018-10-09T21:53:03.296894Z",
     "start_time": "2018-10-09T21:53:02.721755Z"
    }
   },
   "outputs": [
    {
     "name": "stdout",
     "output_type": "stream",
     "text": [
      "47.157.73.215:80\n",
      "Found 6 properties\n",
      "Here are top two homes out of 6:\n",
      "Home # 1: https://www.redfin.com/CA/Fremont/4543-Val-St-94538/home/860317\n",
      "Home # 2: https://www.redfin.com/CA/Fremont/5164-Trade-Wind-Ln-94538/home/1124392\n"
     ]
    }
   ],
   "source": [
    "header = random.sample(ua, 1)[0]\n",
    "proxy = random.sample(proxies, 1)[0]\n",
    "print(proxy)\n",
    "soup = session_creator(ua, c_url)\n",
    "get_results(soup, customer_df)"
   ]
  }
 ],
 "metadata": {
  "kernelspec": {
   "display_name": "Python 3",
   "language": "python",
   "name": "python3"
  },
  "language_info": {
   "codemirror_mode": {
    "name": "ipython",
    "version": 3
   },
   "file_extension": ".py",
   "mimetype": "text/x-python",
   "name": "python",
   "nbconvert_exporter": "python",
   "pygments_lexer": "ipython3",
   "version": "3.6.6"
  }
 },
 "nbformat": 4,
 "nbformat_minor": 2
}
