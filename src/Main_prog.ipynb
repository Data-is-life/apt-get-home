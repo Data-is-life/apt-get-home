{
 "cells": [
  {
   "cell_type": "code",
   "execution_count": 179,
   "metadata": {
    "ExecuteTime": {
     "end_time": "2018-10-04T21:24:44.944258Z",
     "start_time": "2018-10-04T21:24:44.921976Z"
    }
   },
   "outputs": [],
   "source": [
    "from math import ceil\n",
    "import time, re, ast, sys, urllib, random, string, requests\n",
    "import pandas as pd\n",
    "from bs4 import BeautifulSoup\n",
    "from random import randint\n",
    "from selenium.webdriver.firefox.webdriver import FirefoxProfile\n",
    "from urllib.request import urlopen, Request\n",
    "from urllib.error import HTTPError, URLError\n",
    "from itertools import cycle\n",
    "from header_list import user_agent_list\n",
    "from proxies_list import proxies_list_\n",
    "from INITIAL_SCRAPPER_FUNCTIONS import *\n",
    "from PARSER_FUNCTIONS import *\n",
    "from LIST_DF_FUNCTIONS import *\n",
    "from SEARCH_URL_GEN import *\n",
    "from GET_SEARCH_URL import *\n",
    "ua = user_agent_list\n",
    "proxies = proxies_list_"
   ]
  },
  {
   "cell_type": "code",
   "execution_count": 152,
   "metadata": {
    "ExecuteTime": {
     "end_time": "2018-10-02T00:40:50.031436Z",
     "start_time": "2018-10-02T00:40:49.888294Z"
    }
   },
   "outputs": [
    {
     "name": "stdin",
     "output_type": "stream",
     "text": [
      "Input the Redfin URL of the Home:  https://www.redfin.com/WA/Seattle/619-NW-75th-St-98117/home/495668\n"
     ]
    }
   ],
   "source": [
    "customer_url = input(\"Input the Redfin URL of the Home: \")"
   ]
  },
  {
   "cell_type": "code",
   "execution_count": 154,
   "metadata": {
    "ExecuteTime": {
     "end_time": "2018-10-02T00:40:50.173215Z",
     "start_time": "2018-10-02T00:40:50.153358Z"
    }
   },
   "outputs": [
    {
     "name": "stdout",
     "output_type": "stream",
     "text": [
      "24.227.222.4:53281\n",
      "https://www.redfin.com/WA/Seattle/619-NW-75th-St-98117/home/495668\n"
     ]
    }
   ],
   "source": [
    "header = random.sample(ua, 1)[0]\n",
    "proxy = random.sample(proxies, 1)[0]\n",
    "url = customer_url\n",
    "print(proxy)\n",
    "print(url)\n",
    "soup = session_creator(proxy, ua, url)\n",
    "customer_df = info_from_property(soup)"
   ]
  },
  {
   "cell_type": "code",
   "execution_count": 180,
   "metadata": {
    "ExecuteTime": {
     "end_time": "2018-10-04T21:24:50.591095Z",
     "start_time": "2018-10-04T21:24:50.569110Z"
    }
   },
   "outputs": [],
   "source": [
    "def gen_url(customer_df):\n",
    "    zip_code = int(customer_df['zip_code'][1])\n",
    "    city = customer_df['city'][1].replace(',', '')\n",
    "    type_home = customer_df['style'][1]\n",
    "    price = float(customer_df['last_sold_price'][\n",
    "                  1].replace('$', '').replace(',', ''))\n",
    "    num_bds = int(customer_df['num_bdrms'][1])\n",
    "    num_bths = float(customer_df['num_bths'][1])\n",
    "    sqft = int(customer_df['sqft'][1].replace(',', '').replace(' ', ''))\n",
    "    yr_blt = int(customer_df['yr_blt'][1])\n",
    "    lot_sqft = customer_df['lot_size'][1].replace(',', '').replace(' ', '').replace('—', '0')\n",
    "    \n",
    "    if ('Sq' in lot_sqft or 'Ft' in lot_sqft):\n",
    "        lot_sqft = int(''.join(num for num in re.findall(r'\\d', lot_sqft)))\n",
    "    elif ('ac' in lot_sqft or 're' in lot_sqft):\n",
    "        lot_sqft = int(float(''.join(num for num in re.findall(r'\\d?\\.?\\d?\\d?', lot_sqft)))*43560)\n",
    "    elif (float(lot_sqft)>0 and float (lot_sqft)<10):\n",
    "        lot_sqft = int(float(''.join(num for num in re.findall(r'\\d?\\.?\\d?\\d?', lot_sqft)))*43560)\n",
    "    else:\n",
    "        lot_sqft = int(''.join(num for num in re.findall(r'\\d', lot_sqft)))\n",
    "\n",
    "    if 'hoa' in customer_df.columns:\n",
    "        hoa = customer_df['hoa'].values\n",
    "        hoa_fee = float(customer_df['hoa_fee'].values)\n",
    "        url_part_nine = ',' + search_url_part_nine_gen(hoa_fee)\n",
    "    else:\n",
    "        url_part_nine = ''\n",
    "\n",
    "    url_part_one = 'https://www.redfin.com/zipcode/' + \\\n",
    "        str(zip_code) + '/filter/sort=lo-days'\n",
    "\n",
    "    url_part_two = ',' + search_url_part_two_gen(type_home)\n",
    "    if len(url_part_two) <= 1:\n",
    "        url_part_two = ''\n",
    "\n",
    "    url_part_three = ',' + search_url_part_three_gen(price)\n",
    "    if len(url_part_three) <= 1:\n",
    "        url_part_three = ''\n",
    "\n",
    "    url_part_four = ',' + search_url_part_four_gen(num_bds)\n",
    "    if len(url_part_four) <= 1:\n",
    "        url_part_four = ''\n",
    "\n",
    "    url_part_five = ',' + search_url_part_five_gen(num_bths)\n",
    "    if len(url_part_five) <= 1:\n",
    "        url_part_five = ''\n",
    "\n",
    "    url_part_six = ',' + search_url_part_six_gen(sqft)\n",
    "    if len(url_part_six) <= 1:\n",
    "        url_part_six = ''\n",
    "\n",
    "    url_part_seven = ',' + search_url_part_seven_gen(yr_blt)\n",
    "    if len(url_part_seven) <= 1:\n",
    "        url_part_seven = ''\n",
    "    \n",
    "    url_part_eight = ',' + search_url_part_eight_gen(lot_sqft)\n",
    "    if (len(url_part_eight) <= 1 or (type_home == 'Condo/Co-op' or type_home == 'Townhouse')):\n",
    "        url_part_eight = ''\n",
    "\n",
    "    search_url = url_part_one + url_part_two + url_part_three + \\\n",
    "        url_part_four + url_part_five + url_part_six + \\\n",
    "        url_part_seven + url_part_eight + url_part_nine\n",
    "\n",
    "    return search_url"
   ]
  },
  {
   "cell_type": "code",
   "execution_count": 181,
   "metadata": {
    "ExecuteTime": {
     "end_time": "2018-10-04T21:42:53.738907Z",
     "start_time": "2018-10-04T21:42:53.719429Z"
    }
   },
   "outputs": [
    {
     "data": {
      "text/plain": [
       "'https://www.redfin.com/zipcode/98117/filter/sort=lo-days,min-price=750k,max-price=900k,min-beds=3,max-beds=4,min-baths=1,min-sqft=1.25k-sqft,max-sqft=1.75k-sqft,min-year-built=1940,max-year-built=1960,min-lot-size=2k-sqft,max-lot-size=6.5k-sqft'"
      ]
     },
     "execution_count": 181,
     "metadata": {},
     "output_type": "execute_result"
    }
   ],
   "source": [
    "gen_url(customer_df)"
   ]
  }
 ],
 "metadata": {
  "kernelspec": {
   "display_name": "Python 3",
   "language": "python",
   "name": "python3"
  },
  "language_info": {
   "codemirror_mode": {
    "name": "ipython",
    "version": 3
   },
   "file_extension": ".py",
   "mimetype": "text/x-python",
   "name": "python",
   "nbconvert_exporter": "python",
   "pygments_lexer": "ipython3",
   "version": "3.6.6"
  }
 },
 "nbformat": 4,
 "nbformat_minor": 2
}
