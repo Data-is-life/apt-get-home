{
 "cells": [
  {
   "cell_type": "code",
   "execution_count": 76,
   "metadata": {
    "ExecuteTime": {
     "end_time": "2018-10-04T21:24:44.944258Z",
     "start_time": "2018-10-04T21:24:44.921976Z"
    }
   },
   "outputs": [],
   "source": [
    "from math import ceil\n",
    "import time, re, ast, sys, urllib, random, string, requests\n",
    "import pandas as pd\n",
    "from bs4 import BeautifulSoup\n",
    "from random import randint\n",
    "from selenium.webdriver.firefox.webdriver import FirefoxProfile\n",
    "from urllib.request import urlopen, Request\n",
    "from urllib.error import HTTPError, URLError\n",
    "from itertools import cycle\n",
    "from header_list import user_agent_list\n",
    "from proxies_list import proxies_list_\n",
    "from INITIAL_SCRAPPER_FUNCTIONS import *\n",
    "from PARSER_FUNCTIONS import *\n",
    "from LIST_DF_FUNCTIONS import *\n",
    "from SEARCH_URL_GEN import *\n",
    "from GET_SEARCH_URL import *\n",
    "ua = user_agent_list\n",
    "proxies = proxies_list_"
   ]
  },
  {
   "cell_type": "code",
   "execution_count": 13,
   "metadata": {
    "ExecuteTime": {
     "end_time": "2018-10-02T00:40:50.031436Z",
     "start_time": "2018-10-02T00:40:49.888294Z"
    }
   },
   "outputs": [
    {
     "name": "stdout",
     "output_type": "stream",
     "text": [
      "Input the Redfin URL of the Home: \n"
     ]
    }
   ],
   "source": [
    "customer_url = input(\"Input the Redfin URL of the Home: \")"
   ]
  },
  {
   "cell_type": "code",
   "execution_count": 14,
   "metadata": {
    "ExecuteTime": {
     "end_time": "2018-10-02T00:40:50.173215Z",
     "start_time": "2018-10-02T00:40:50.153358Z"
    }
   },
   "outputs": [],
   "source": [
    "# customer_df = each_property(customer_url, header, proxy)"
   ]
  },
  {
   "cell_type": "code",
   "execution_count": 34,
   "metadata": {
    "ExecuteTime": {
     "end_time": "2018-10-03T22:07:01.911478Z",
     "start_time": "2018-10-03T22:07:01.886412Z"
    }
   },
   "outputs": [],
   "source": [
    "customer_df = pd.DataFrame(columns=['address', 'city', 'state', 'zip', 'type',\n",
    "                                    'price', 'sqft', 'num_bds', 'num_bths',\n",
    "                                    'lot_sf', 'yr_blt', 'HOA', 'HOA_fee'])"
   ]
  },
  {
   "cell_type": "code",
   "execution_count": 77,
   "metadata": {
    "ExecuteTime": {
     "end_time": "2018-10-04T21:24:50.591095Z",
     "start_time": "2018-10-04T21:24:50.569110Z"
    }
   },
   "outputs": [],
   "source": [
    "def gen_url(customer_df):\n",
    "    zip_code = int(customer_df['zip'].values)\n",
    "    city = str(customer_df['city'].values)\n",
    "    type_home = (customer_df['home_type'].values)\n",
    "    price = float(customer_df['price'].values)\n",
    "    num_bds = int(customer_df['num_bds'].values)\n",
    "    num_bths = float(customer_df['num_bths'].values)\n",
    "    sqft = int(customer_df['sqft'].values)\n",
    "    yr_blt = int(customer_df['yr_blt'].values)\n",
    "    lot_sqft = int(customer_df['lot_sf'].values)\n",
    "    hoa = customer_df['HOA'].values\n",
    "    hoa_fee = float(customer_df['HOA_fee'].values)\n",
    "\n",
    "    url_part_one = 'https://www.redfin.com/zipcode/' + \\\n",
    "        str(zip_code) + '/filter/sort=lo-days/'\n",
    "\n",
    "    url_part_two = search_url_part_two_gen(type_home)\n",
    "\n",
    "    url_part_three = search_url_part_three_gen(price)\n",
    "\n",
    "    url_part_four = search_url_part_four_gen(num_bds)\n",
    "\n",
    "    url_part_five = search_url_part_five_gen(num_bths)\n",
    "\n",
    "    url_part_six = search_url_part_six_gen(sqft)\n",
    "\n",
    "    url_part_seven = search_url_part_seven_gen(yr_blt)\n",
    "\n",
    "    url_part_eight = search_url_part_eight_gen(lot_sqft)\n",
    "\n",
    "    url_part_nine = search_url_part_nine_gen(hoa)\n",
    "\n",
    "    search_url = url_part_one + url_part_two + url_part_three + \\\n",
    "        url_part_four + url_part_five + url_part_six + \\\n",
    "        url_part_seven + url_part_eight + url_part_nine\n",
    "\n",
    "    return search_url"
   ]
  },
  {
   "cell_type": "code",
   "execution_count": 78,
   "metadata": {
    "ExecuteTime": {
     "end_time": "2018-10-04T21:24:54.066450Z",
     "start_time": "2018-10-04T21:24:54.035777Z"
    }
   },
   "outputs": [
    {
     "ename": "NameError",
     "evalue": "name 'gen_active_url_list' is not defined",
     "output_type": "error",
     "traceback": [
      "\u001b[0;31m---------------------------------------------------------------------------\u001b[0m",
      "\u001b[0;31mNameError\u001b[0m                                 Traceback (most recent call last)",
      "\u001b[0;32m<ipython-input-78-251ab387a652>\u001b[0m in \u001b[0;36m<module>\u001b[0;34m()\u001b[0m\n\u001b[0;32m----> 1\u001b[0;31m \u001b[0mactive_zip_url_list\u001b[0m \u001b[0;34m=\u001b[0m \u001b[0mgen_active_url_list\u001b[0m\u001b[0;34m(\u001b[0m\u001b[0mzip_\u001b[0m\u001b[0;34m)\u001b[0m\u001b[0;34m\u001b[0m\u001b[0m\n\u001b[0m\u001b[1;32m      2\u001b[0m \u001b[0mdf\u001b[0m \u001b[0;34m=\u001b[0m \u001b[0mpd\u001b[0m\u001b[0;34m.\u001b[0m\u001b[0mDataFrame\u001b[0m\u001b[0;34m(\u001b[0m\u001b[0mcolumns\u001b[0m\u001b[0;34m=\u001b[0m\u001b[0;34m[\u001b[0m\u001b[0;34m'full_address'\u001b[0m\u001b[0;34m,\u001b[0m \u001b[0;34m'home_link'\u001b[0m\u001b[0;34m]\u001b[0m\u001b[0;34m)\u001b[0m\u001b[0;34m\u001b[0m\u001b[0m\n\u001b[1;32m      3\u001b[0m \u001b[0mactive_zip_url_list\u001b[0m\u001b[0;34m,\u001b[0m \u001b[0mdf\u001b[0m\u001b[0;34m,\u001b[0m \u001b[0mproxies\u001b[0m \u001b[0;34m=\u001b[0m \u001b[0mlinks_for_active_props\u001b[0m\u001b[0;34m(\u001b[0m\u001b[0mproxies\u001b[0m\u001b[0;34m,\u001b[0m \u001b[0mactive_zip_url_list\u001b[0m\u001b[0;34m,\u001b[0m \u001b[0mdf\u001b[0m\u001b[0;34m,\u001b[0m \u001b[0mua\u001b[0m\u001b[0;34m)\u001b[0m\u001b[0;34m\u001b[0m\u001b[0m\n\u001b[1;32m      4\u001b[0m \u001b[0;31m# for url in df['home_link']:\u001b[0m\u001b[0;34m\u001b[0m\u001b[0;34m\u001b[0m\u001b[0m\n\u001b[1;32m      5\u001b[0m \u001b[0;31m#     active_df = each_property(url, header, proxy)\u001b[0m\u001b[0;34m\u001b[0m\u001b[0;34m\u001b[0m\u001b[0m\n",
      "\u001b[0;31mNameError\u001b[0m: name 'gen_active_url_list' is not defined"
     ]
    }
   ],
   "source": [
    "active_zip_url_list = gen_active_url_list(zip_)\n",
    "df = pd.DataFrame(columns=['full_address', 'home_link'])\n",
    "active_zip_url_list, df, proxies = links_for_active_props(proxies, active_zip_url_list, df, ua)\n",
    "# for url in df['home_link']:\n",
    "#     active_df = each_property(url, header, proxy)\n",
    "# return active_df[0:2]"
   ]
  },
  {
   "cell_type": "code",
   "execution_count": 85,
   "metadata": {
    "ExecuteTime": {
     "end_time": "2018-10-04T21:42:53.738907Z",
     "start_time": "2018-10-04T21:42:53.719429Z"
    }
   },
   "outputs": [
    {
     "name": "stdout",
     "output_type": "stream",
     "text": [
      "world , i'm a beginner \n"
     ]
    }
   ],
   "source": []
  },
  {
   "cell_type": "code",
   "execution_count": null,
   "metadata": {},
   "outputs": [],
   "source": []
  }
 ],
 "metadata": {
  "kernelspec": {
   "display_name": "Python 3",
   "language": "python",
   "name": "python3"
  },
  "language_info": {
   "codemirror_mode": {
    "name": "ipython",
    "version": 3
   },
   "file_extension": ".py",
   "mimetype": "text/x-python",
   "name": "python",
   "nbconvert_exporter": "python",
   "pygments_lexer": "ipython3",
   "version": "3.6.6"
  }
 },
 "nbformat": 4,
 "nbformat_minor": 2
}
