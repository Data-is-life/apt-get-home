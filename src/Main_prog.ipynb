{
 "cells": [
  {
   "cell_type": "code",
   "execution_count": 12,
   "metadata": {
    "ExecuteTime": {
     "end_time": "2018-10-02T00:40:09.989696Z",
     "start_time": "2018-10-02T00:40:09.970185Z"
    }
   },
   "outputs": [],
   "source": [
    "from math import ceil\n",
    "import time\n",
    "import re\n",
    "import ast\n",
    "import sys\n",
    "import urllib\n",
    "import time\n",
    "import random\n",
    "import pandas as pd\n",
    "from bs4 import BeautifulSoup\n",
    "from random import randint\n",
    "from selenium.webdriver.firefox.webdriver import FirefoxProfile\n",
    "from urllib.request import urlopen, Request\n",
    "from urllib.error import HTTPError\n",
    "from urllib.error import URLError\n",
    "import requests\n",
    "from itertools import cycle\n",
    "import string\n",
    "from header_list import user_agent_list\n",
    "from proxies_list import proxies_list_\n",
    "from FUNCTIONS import proxie_check, strip_count, gen_url_list\n",
    "from SCRAPPER_FUNCTIONS import session_creator, each_page, links_for_props\n",
    "from MAIN_FUNCTIONS import each_property\n",
    "ua = user_agent_list\n",
    "proxies = proxies_list_"
   ]
  },
  {
   "cell_type": "code",
   "execution_count": 13,
   "metadata": {
    "ExecuteTime": {
     "end_time": "2018-10-02T00:40:50.031436Z",
     "start_time": "2018-10-02T00:40:49.888294Z"
    }
   },
   "outputs": [
    {
     "name": "stdout",
     "output_type": "stream",
     "text": [
      "Input the Redfin URL of the Home: \n"
     ]
    }
   ],
   "source": [
    "customer_url = input(\"Input the Redfin URL of the Home: \")"
   ]
  },
  {
   "cell_type": "code",
   "execution_count": 14,
   "metadata": {
    "ExecuteTime": {
     "end_time": "2018-10-02T00:40:50.173215Z",
     "start_time": "2018-10-02T00:40:50.153358Z"
    }
   },
   "outputs": [],
   "source": [
    "# customer_df = each_property(customer_url, header, proxy)"
   ]
  },
  {
   "cell_type": "code",
   "execution_count": 20,
   "metadata": {
    "ExecuteTime": {
     "end_time": "2018-10-02T06:04:03.692886Z",
     "start_time": "2018-10-02T06:04:03.677070Z"
    }
   },
   "outputs": [],
   "source": [
    "customer_df = pd.DataFrame(columns=['address', 'city', 'state', 'zip', 'price', \n",
    "                                    'size', 'num_beds', 'num_baths', 'lot_size',\n",
    "                                    'yr_blt', 'HOA', 'HOA_fee'])"
   ]
  },
  {
   "cell_type": "code",
   "execution_count": 19,
   "metadata": {
    "ExecuteTime": {
     "end_time": "2018-10-02T06:02:25.531735Z",
     "start_time": "2018-10-02T06:02:25.517853Z"
    }
   },
   "outputs": [],
   "source": [
    "search_zip_code = customer_df['zip'].values\n",
    "search_city = customer_df['city'].values\n",
    "price = customer_df['price'].values\n",
    "sqft = customer_df['sqft'].values\n",
    "num_bds = customer_df['num_bds'].values\n",
    "num_bths = customer_df['num_bths'].values\n",
    "lot_sqft = customer_df['lot_sf'].values\n",
    "yr_blt = customer_df['yr_blt'].values\n",
    "hoa = customer_df['HOA'].values\n",
    "hoa_fee = customer_df['HOA_fee'].values\n",
    "\n",
    "if price<=50000:\n",
    "    min_price = ''\n",
    "\n",
    "# search_url = 'https://www.redfin.com/zipcode/'+customer_df['zip']+ \\\n",
    "# '/filter/sort=lo-days,property-type='+\n",
    "# house+condo+townhouse\n",
    "# ,min-price=\n",
    "# 100k\n",
    "# ,max-price=\n",
    "# 1M\n",
    "# ,min-beds=\n",
    "# 3\n",
    "# ,min-baths=\n",
    "# 1\n",
    "# ,min-sqft=\n",
    "# 1.25k\n",
    "# -sqft\n",
    "# ,min-year-built=\n",
    "# 1960\n",
    "# ,min-lot-size=\n",
    "# 6.5k-sqft\n",
    "# ,hoa=\n",
    "# 400\n"
   ]
  },
  {
   "cell_type": "code",
   "execution_count": 15,
   "metadata": {
    "ExecuteTime": {
     "end_time": "2018-10-02T00:40:51.048116Z",
     "start_time": "2018-10-02T00:40:51.032115Z"
    }
   },
   "outputs": [],
   "source": [
    "active_zip_url_list = gen_active_url_list(zip_)\n",
    "df = pd.DataFrame(columns=['full_address', 'home_link'])\n",
    "active_zip_url_list, df, proxies = links_for_active_props(proxies, active_zip_url_list, df, ua)\n",
    "# for url in df['home_link']:\n",
    "#     active_df = each_property(url, header, proxy)\n",
    "# return active_df[0:2]"
   ]
  },
  {
   "cell_type": "code",
   "execution_count": null,
   "metadata": {},
   "outputs": [],
   "source": []
  }
 ],
 "metadata": {
  "kernelspec": {
   "display_name": "Python 3",
   "language": "python",
   "name": "python3"
  },
  "language_info": {
   "codemirror_mode": {
    "name": "ipython",
    "version": 3
   },
   "file_extension": ".py",
   "mimetype": "text/x-python",
   "name": "python",
   "nbconvert_exporter": "python",
   "pygments_lexer": "ipython3",
   "version": "3.6.6"
  }
 },
 "nbformat": 4,
 "nbformat_minor": 2
}
