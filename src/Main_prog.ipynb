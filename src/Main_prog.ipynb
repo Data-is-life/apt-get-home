{
 "cells": [
  {
   "cell_type": "code",
   "execution_count": 59,
   "metadata": {
    "ExecuteTime": {
     "end_time": "2018-10-08T18:37:52.967989Z",
     "start_time": "2018-10-08T18:37:52.947732Z"
    }
   },
   "outputs": [],
   "source": [
    "from math import ceil\n",
    "import time, re, ast, sys, urllib, random, string, requests\n",
    "import pandas as pd\n",
    "from bs4 import BeautifulSoup\n",
    "from random import randint\n",
    "from selenium.webdriver.firefox.webdriver import FirefoxProfile\n",
    "from urllib.request import urlopen, Request\n",
    "from urllib.error import HTTPError, URLError\n",
    "from itertools import cycle\n",
    "from header_list import user_agent_list\n",
    "from proxies_list import proxies_list_\n",
    "from INITIAL_SCRAPPER_FUNCTIONS import *\n",
    "from PARSER_FUNCTIONS import *\n",
    "from LIST_DF_FUNCTIONS import *\n",
    "from SEARCH_URL_GEN import *\n",
    "from GET_SEARCH_URL import *\n",
    "from GET_RESULTS import *\n",
    "ua = user_agent_list\n",
    "proxies = proxies_list_"
   ]
  },
  {
   "cell_type": "code",
   "execution_count": 60,
   "metadata": {
    "ExecuteTime": {
     "end_time": "2018-10-08T18:37:55.875779Z",
     "start_time": "2018-10-08T18:37:53.597820Z"
    }
   },
   "outputs": [
    {
     "name": "stdout",
     "output_type": "stream",
     "text": [
      "Input the Redfin URL of the Home: https://www.redfin.com/TX/Haslet/1009-Morton-Hill-Ln-76052/home/32449755\n"
     ]
    }
   ],
   "source": [
    "customer_url = input(\"Input the Redfin URL of the Home: \")"
   ]
  },
  {
   "cell_type": "code",
   "execution_count": 65,
   "metadata": {
    "ExecuteTime": {
     "end_time": "2018-10-08T18:38:11.355272Z",
     "start_time": "2018-10-08T18:38:10.044162Z"
    }
   },
   "outputs": [
    {
     "name": "stdout",
     "output_type": "stream",
     "text": [
      "https://www.redfin.com/TX/Haslet/1009-Morton-Hill-Ln-76052/home/32449755\n"
     ]
    }
   ],
   "source": [
    "header = random.sample(ua, 1)[0]\n",
    "# proxy = random.sample(proxies, 1)[0]\n",
    "url = customer_url\n",
    "# print(proxy)\n",
    "print(url)\n",
    "soup = session_creator(ua, url)"
   ]
  },
  {
   "cell_type": "code",
   "execution_count": 66,
   "metadata": {
    "ExecuteTime": {
     "end_time": "2018-10-08T18:38:12.162645Z",
     "start_time": "2018-10-08T18:38:11.939757Z"
    }
   },
   "outputs": [],
   "source": [
    "customer_df = info_from_property(soup)"
   ]
  },
  {
   "cell_type": "code",
   "execution_count": 67,
   "metadata": {
    "ExecuteTime": {
     "end_time": "2018-10-08T18:38:12.954270Z",
     "start_time": "2018-10-08T18:38:12.927670Z"
    }
   },
   "outputs": [],
   "source": [
    "c_url = gen_zip_url(customer_df)"
   ]
  },
  {
   "cell_type": "code",
   "execution_count": 68,
   "metadata": {
    "ExecuteTime": {
     "end_time": "2018-10-08T18:38:13.835511Z",
     "start_time": "2018-10-08T18:38:13.811569Z"
    }
   },
   "outputs": [
    {
     "data": {
      "text/plain": [
       "'https://www.redfin.com/zipcode/76052/filter/sort=lo-days,property-type=house,min-baths=2,min-sqft=2.5k-sqft,max-sqft=3.5k-sqft,min-year-built=1980,max-year-built=2010,min-lot-size=0.25-acre,max-lot-size=3-acre,hoa=100'"
      ]
     },
     "execution_count": 68,
     "metadata": {},
     "output_type": "execute_result"
    }
   ],
   "source": [
    "c_url"
   ]
  },
  {
   "cell_type": "code",
   "execution_count": 69,
   "metadata": {
    "ExecuteTime": {
     "end_time": "2018-10-08T18:38:15.543229Z",
     "start_time": "2018-10-08T18:38:14.694339Z"
    }
   },
   "outputs": [
    {
     "name": "stdout",
     "output_type": "stream",
     "text": [
      "108.170.48.187:3128\n",
      "Found 20 properties\n",
      "Here are top two homes out of 20:\n",
      "Home # 1: https://www.redfin.com/TX/Haslet/509-Birchwood-Ln-76052/home/32449549\n",
      "Home # 2: https://www.redfin.com/TX/Haslet/948-Chalk-Hill-Ln-76052/home/32449829\n"
     ]
    }
   ],
   "source": [
    "header = random.sample(ua, 1)[0]\n",
    "proxy = random.sample(proxies, 1)[0]\n",
    "print(proxy)\n",
    "soup = session_creator(ua, c_url)\n",
    "get_results(soup, customer_df)"
   ]
  },
  {
   "cell_type": "code",
   "execution_count": null,
   "metadata": {},
   "outputs": [],
   "source": []
  }
 ],
 "metadata": {
  "kernelspec": {
   "display_name": "Python 3",
   "language": "python",
   "name": "python3"
  },
  "language_info": {
   "codemirror_mode": {
    "name": "ipython",
    "version": 3
   },
   "file_extension": ".py",
   "mimetype": "text/x-python",
   "name": "python",
   "nbconvert_exporter": "python",
   "pygments_lexer": "ipython3",
   "version": "3.6.6"
  }
 },
 "nbformat": 4,
 "nbformat_minor": 2
}
