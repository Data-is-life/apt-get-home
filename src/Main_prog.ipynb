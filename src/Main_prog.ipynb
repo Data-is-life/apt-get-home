{
 "cells": [
  {
   "cell_type": "code",
   "execution_count": 74,
   "metadata": {
    "ExecuteTime": {
     "end_time": "2018-10-04T00:55:54.463027Z",
     "start_time": "2018-10-04T00:55:54.444878Z"
    }
   },
   "outputs": [],
   "source": [
    "from math import ceil\n",
    "import time, re, ast, sys, urllib, random, string, requests\n",
    "import pandas as pd\n",
    "from bs4 import BeautifulSoup\n",
    "from random import randint\n",
    "from selenium.webdriver.firefox.webdriver import FirefoxProfile\n",
    "from urllib.request import urlopen, Request\n",
    "from urllib.error import HTTPError, URLError\n",
    "from itertools import cycle\n",
    "from header_list import user_agent_list\n",
    "from proxies_list import proxies_list_\n",
    "from INITIAL_SCRAPPER_FUNCTIONS import *\n",
    "from PARSER_FUNCTIONS import *\n",
    "from LIST_DF_FUNCTIONS import *\n",
    "from SEARCH_URL_GEN import *\n",
    "ua = user_agent_list\n",
    "proxies = proxies_list_"
   ]
  },
  {
   "cell_type": "code",
   "execution_count": 13,
   "metadata": {
    "ExecuteTime": {
     "end_time": "2018-10-02T00:40:50.031436Z",
     "start_time": "2018-10-02T00:40:49.888294Z"
    }
   },
   "outputs": [
    {
     "name": "stdout",
     "output_type": "stream",
     "text": [
      "Input the Redfin URL of the Home: \n"
     ]
    }
   ],
   "source": [
    "customer_url = input(\"Input the Redfin URL of the Home: \")"
   ]
  },
  {
   "cell_type": "code",
   "execution_count": 14,
   "metadata": {
    "ExecuteTime": {
     "end_time": "2018-10-02T00:40:50.173215Z",
     "start_time": "2018-10-02T00:40:50.153358Z"
    }
   },
   "outputs": [],
   "source": [
    "# customer_df = each_property(customer_url, header, proxy)"
   ]
  },
  {
   "cell_type": "code",
   "execution_count": 34,
   "metadata": {
    "ExecuteTime": {
     "end_time": "2018-10-03T22:07:01.911478Z",
     "start_time": "2018-10-03T22:07:01.886412Z"
    }
   },
   "outputs": [],
   "source": [
    "customer_df = pd.DataFrame(columns=['address', 'city', 'state', 'zip', 'type',\n",
    "                                    'price', 'sqft', 'num_bds', 'num_bths',\n",
    "                                    'lot_sf', 'yr_blt', 'HOA', 'HOA_fee'])"
   ]
  },
  {
   "cell_type": "code",
   "execution_count": 19,
   "metadata": {
    "ExecuteTime": {
     "end_time": "2018-10-02T06:02:25.531735Z",
     "start_time": "2018-10-02T06:02:25.517853Z"
    }
   },
   "outputs": [],
   "source": [
    "def gen_url(customer_df):\n",
    "    zip_code = int(customer_df['zip'].values)\n",
    "    city = str(customer_df['city'].values)\n",
    "    type_home = (customer_df['home_type'].values)\n",
    "    price = float(customer_df['price'].values)\n",
    "    num_bds = int(customer_df['num_bds'].values)\n",
    "    num_bths = float(customer_df['num_bths'].values)\n",
    "    sqft = int(customer_df['sqft'].values)\n",
    "    yr_blt = int(customer_df['yr_blt'].values)\n",
    "    lot_sqft = int(customer_df['lot_sf'].values)\n",
    "    hoa = customer_df['HOA'].values\n",
    "    hoa_fee = float(customer_df['HOA_fee'].values)\n",
    "\n",
    "    url_part_one = 'https://www.redfin.com/zipcode/' + \\\n",
    "        str(zip_code) + '/filter/sort=lo-days/'\n",
    "\n",
    "    url_part_two = search_url_part_two_gen(type_home)\n",
    "\n",
    "    url_part_three = search_url_part_three_gen(price)\n",
    "\n",
    "    url_part_four = search_url_part_four_gen(num_bds)\n",
    "\n",
    "    url_part_five = search_url_part_five_gen(num_bths)\n",
    "\n",
    "    url_part_six = search_url_part_six_gen(sqft)\n",
    "\n",
    "    url_part_seven = search_url_part_seven_gen(yr_blt)\n",
    "\n",
    "    url_part_eight = search_url_part_eight_gen(lot_sqft)\n",
    "\n",
    "    url_part_nine = search_url_part_nine_gen(hoa)\n",
    "\n",
    "    search_url = url_part_one + url_part_two + url_part_three + \\\n",
    "        url_part_four + url_part_five + url_part_six + \\\n",
    "        url_part_seven + url_part_eight + url_part_nine\n",
    "\n",
    "    return search_url"
   ]
  },
  {
   "cell_type": "code",
   "execution_count": 15,
   "metadata": {
    "ExecuteTime": {
     "end_time": "2018-10-02T00:40:51.048116Z",
     "start_time": "2018-10-02T00:40:51.032115Z"
    }
   },
   "outputs": [],
   "source": [
    "active_zip_url_list = gen_active_url_list(zip_)\n",
    "df = pd.DataFrame(columns=['full_address', 'home_link'])\n",
    "active_zip_url_list, df, proxies = links_for_active_props(proxies, active_zip_url_list, df, ua)\n",
    "# for url in df['home_link']:\n",
    "#     active_df = each_property(url, header, proxy)\n",
    "# return active_df[0:2]"
   ]
  },
  {
   "cell_type": "code",
   "execution_count": 71,
   "metadata": {
    "ExecuteTime": {
     "end_time": "2018-10-04T00:05:27.725219Z",
     "start_time": "2018-10-04T00:05:27.709316Z"
    }
   },
   "outputs": [],
   "source": []
  },
  {
   "cell_type": "code",
   "execution_count": null,
   "metadata": {},
   "outputs": [],
   "source": []
  }
 ],
 "metadata": {
  "kernelspec": {
   "display_name": "Python 3",
   "language": "python",
   "name": "python3"
  },
  "language_info": {
   "codemirror_mode": {
    "name": "ipython",
    "version": 3
   },
   "file_extension": ".py",
   "mimetype": "text/x-python",
   "name": "python",
   "nbconvert_exporter": "python",
   "pygments_lexer": "ipython3",
   "version": "3.6.6"
  }
 },
 "nbformat": 4,
 "nbformat_minor": 2
}
