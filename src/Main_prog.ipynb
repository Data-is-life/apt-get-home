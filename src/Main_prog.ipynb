{
 "cells": [
  {
   "cell_type": "code",
   "execution_count": 229,
   "metadata": {
    "ExecuteTime": {
     "end_time": "2018-10-07T18:21:19.675613Z",
     "start_time": "2018-10-07T18:21:19.646974Z"
    }
   },
   "outputs": [],
   "source": [
    "from math import ceil\n",
    "import time, re, ast, sys, urllib, random, string, requests\n",
    "import pandas as pd\n",
    "from bs4 import BeautifulSoup\n",
    "from random import randint\n",
    "from selenium.webdriver.firefox.webdriver import FirefoxProfile\n",
    "from urllib.request import urlopen, Request\n",
    "from urllib.error import HTTPError, URLError\n",
    "from itertools import cycle\n",
    "from header_list import user_agent_list\n",
    "from proxies_list import proxies_list_\n",
    "from INITIAL_SCRAPPER_FUNCTIONS import *\n",
    "from PARSER_FUNCTIONS import *\n",
    "from LIST_DF_FUNCTIONS import *\n",
    "from SEARCH_URL_GEN import *\n",
    "from GET_SEARCH_URL import *\n",
    "from GET_RESULTS import *\n",
    "ua = user_agent_list\n",
    "proxies = proxies_list_"
   ]
  },
  {
   "cell_type": "code",
   "execution_count": 238,
   "metadata": {
    "ExecuteTime": {
     "end_time": "2018-10-07T18:22:24.417678Z",
     "start_time": "2018-10-07T18:22:22.247567Z"
    }
   },
   "outputs": [
    {
     "name": "stdout",
     "output_type": "stream",
     "text": [
      "Input the Redfin URL of the Home: http://www.redfin.com/WA/Bainbridge-Island/12612-Kallgren-Rd-NE-98110/home/2198065\n"
     ]
    }
   ],
   "source": [
    "customer_url = input(\"Input the Redfin URL of the Home: \")"
   ]
  },
  {
   "cell_type": "code",
   "execution_count": 239,
   "metadata": {
    "ExecuteTime": {
     "end_time": "2018-10-07T18:22:34.375222Z",
     "start_time": "2018-10-07T18:22:24.941739Z"
    }
   },
   "outputs": [
    {
     "name": "stdout",
     "output_type": "stream",
     "text": [
      "172.83.138.45:53281\n",
      "http://www.redfin.com/WA/Bainbridge-Island/12612-Kallgren-Rd-NE-98110/home/2198065\n"
     ]
    }
   ],
   "source": [
    "header = random.sample(ua, 1)[0]\n",
    "proxy = random.sample(proxies, 1)[0]\n",
    "url = customer_url\n",
    "print(proxy)\n",
    "print(url)\n",
    "soup = session_creator(proxy, ua, url)"
   ]
  },
  {
   "cell_type": "code",
   "execution_count": 240,
   "metadata": {
    "ExecuteTime": {
     "end_time": "2018-10-07T18:22:34.606665Z",
     "start_time": "2018-10-07T18:22:34.377642Z"
    }
   },
   "outputs": [
    {
     "name": "stderr",
     "output_type": "stream",
     "text": [
      "/home/guess/apt-get-home/src/PARSER_FUNCTIONS.py:308: UserWarning: DataFrame columns are not unique, some columns will be omitted.\n",
      "  all_dict = df.to_dict()\n"
     ]
    }
   ],
   "source": [
    "customer_df = info_from_property(soup)"
   ]
  },
  {
   "cell_type": "code",
   "execution_count": 241,
   "metadata": {
    "ExecuteTime": {
     "end_time": "2018-10-07T18:22:34.653372Z",
     "start_time": "2018-10-07T18:22:34.612033Z"
    }
   },
   "outputs": [
    {
     "data": {
      "text/html": [
       "<div>\n",
       "<style scoped>\n",
       "    .dataframe tbody tr th:only-of-type {\n",
       "        vertical-align: middle;\n",
       "    }\n",
       "\n",
       "    .dataframe tbody tr th {\n",
       "        vertical-align: top;\n",
       "    }\n",
       "\n",
       "    .dataframe thead th {\n",
       "        text-align: right;\n",
       "    }\n",
       "</style>\n",
       "<table border=\"1\" class=\"dataframe\">\n",
       "  <thead>\n",
       "    <tr style=\"text-align: right;\">\n",
       "      <th></th>\n",
       "      <th>address</th>\n",
       "      <th>city</th>\n",
       "      <th>state</th>\n",
       "      <th>zip_code</th>\n",
       "      <th>sq_ft</th>\n",
       "      <th>latitude</th>\n",
       "      <th>longitude</th>\n",
       "      <th>redfin_est</th>\n",
       "      <th>last_sold_price</th>\n",
       "      <th>num_bdrs</th>\n",
       "      <th>...</th>\n",
       "      <th>zoning_jurisdiction</th>\n",
       "      <th>sq_ft_finished</th>\n",
       "      <th>preliminary_title_ordered</th>\n",
       "      <th>tax_id_#</th>\n",
       "      <th>extra_feats</th>\n",
       "      <th>prop_type</th>\n",
       "      <th>view_s</th>\n",
       "      <th>offer_review_date</th>\n",
       "      <th>community</th>\n",
       "      <th>mls#</th>\n",
       "    </tr>\n",
       "  </thead>\n",
       "  <tbody>\n",
       "    <tr>\n",
       "      <th>1</th>\n",
       "      <td>12612 Kallgren Rd NE</td>\n",
       "      <td>Bainbridge Island,</td>\n",
       "      <td>WA</td>\n",
       "      <td>98110</td>\n",
       "      <td>2,960</td>\n",
       "      <td>47.6776916</td>\n",
       "      <td>-122.5152098</td>\n",
       "      <td>$934,449</td>\n",
       "      <td>$941,800</td>\n",
       "      <td>4</td>\n",
       "      <td>...</td>\n",
       "      <td>City</td>\n",
       "      <td>2,960</td>\n",
       "      <td>Yes</td>\n",
       "      <td>11250220812000</td>\n",
       "      <td>Hardwood Floor, Composition Roof, Deck, Jetted...</td>\n",
       "      <td>Single Family Residence</td>\n",
       "      <td>Territorial</td>\n",
       "      <td>Tuesday, June 12, 2018</td>\n",
       "      <td>Rolling Bay</td>\n",
       "      <td>1302171</td>\n",
       "    </tr>\n",
       "  </tbody>\n",
       "</table>\n",
       "<p>1 rows × 62 columns</p>\n",
       "</div>"
      ],
      "text/plain": [
       "                 address                 city state zip_code  sq_ft  \\\n",
       "1  12612 Kallgren Rd NE   Bainbridge Island,     WA    98110  2,960   \n",
       "\n",
       "     latitude     longitude redfin_est last_sold_price num_bdrs   ...     \\\n",
       "1  47.6776916  -122.5152098   $934,449        $941,800        4   ...      \n",
       "\n",
       "  zoning_jurisdiction sq_ft_finished preliminary_title_ordered  \\\n",
       "1                City          2,960                       Yes   \n",
       "\n",
       "         tax_id_#                                        extra_feats  \\\n",
       "1  11250220812000  Hardwood Floor, Composition Roof, Deck, Jetted...   \n",
       "\n",
       "                 prop_type       view_s       offer_review_date    community  \\\n",
       "1  Single Family Residence  Territorial  Tuesday, June 12, 2018  Rolling Bay   \n",
       "\n",
       "      mls#  \n",
       "1  1302171  \n",
       "\n",
       "[1 rows x 62 columns]"
      ]
     },
     "execution_count": 241,
     "metadata": {},
     "output_type": "execute_result"
    }
   ],
   "source": [
    "customer_df"
   ]
  },
  {
   "cell_type": "code",
   "execution_count": 242,
   "metadata": {
    "ExecuteTime": {
     "end_time": "2018-10-07T18:22:34.681334Z",
     "start_time": "2018-10-07T18:22:34.658704Z"
    }
   },
   "outputs": [
    {
     "data": {
      "text/plain": [
       "'min-lot-size=0.25-acre,max-lot-size=3-acre'"
      ]
     },
     "execution_count": 242,
     "metadata": {},
     "output_type": "execute_result"
    }
   ],
   "source": [
    "c_url = gen_zip_url(customer_df)\n",
    "search_url_part_eight_gen(1.02*43260)"
   ]
  },
  {
   "cell_type": "code",
   "execution_count": 243,
   "metadata": {
    "ExecuteTime": {
     "end_time": "2018-10-07T18:22:34.706065Z",
     "start_time": "2018-10-07T18:22:34.683343Z"
    }
   },
   "outputs": [
    {
     "data": {
      "text/plain": [
       "1    2,960\n",
       "Name: sq_ft, dtype: object"
      ]
     },
     "execution_count": 243,
     "metadata": {},
     "output_type": "execute_result"
    }
   ],
   "source": [
    "customer_df['sq_ft']"
   ]
  },
  {
   "cell_type": "code",
   "execution_count": 244,
   "metadata": {
    "ExecuteTime": {
     "end_time": "2018-10-07T18:22:34.736671Z",
     "start_time": "2018-10-07T18:22:34.713764Z"
    }
   },
   "outputs": [
    {
     "data": {
      "text/plain": [
       "'https://www.redfin.com/zipcode/98110/filter/sort=lo-days,property-type=house,min-price=750k,max-price=1M,min-baths=1.25,min-sqft=2.5k-sqft,max-sqft=3.5k-sqft,min-year-built=1980,max-year-built=2010,min-lot-size=0.25-acre,max-lot-size=3-acre'"
      ]
     },
     "execution_count": 244,
     "metadata": {},
     "output_type": "execute_result"
    }
   ],
   "source": [
    "c_url"
   ]
  },
  {
   "cell_type": "code",
   "execution_count": 246,
   "metadata": {
    "ExecuteTime": {
     "end_time": "2018-10-07T18:22:41.118773Z",
     "start_time": "2018-10-07T18:22:39.934158Z"
    }
   },
   "outputs": [
    {
     "name": "stdout",
     "output_type": "stream",
     "text": [
      "205.169.145.130:39438\n",
      "Found 9 properties\n",
      "Here are top two homes out of 9:\n",
      "Home # 1: https://www.redfin.com/WA/Bainbridge-Island/13690-Sunrise-Dr-NE-98110/home/2148184\n",
      "Home # 2: https://www.redfin.com/WA/Bainbridge-Island/14235-Sunrise-Dr-NE-98110/home/2148490\n"
     ]
    }
   ],
   "source": [
    "header = random.sample(ua, 1)[0]\n",
    "proxy = random.sample(proxies, 1)[0]\n",
    "print(proxy)\n",
    "soup = session_creator(proxy, ua, c_url)\n",
    "get_results(soup, customer_df)"
   ]
  },
  {
   "cell_type": "code",
   "execution_count": null,
   "metadata": {},
   "outputs": [],
   "source": []
  }
 ],
 "metadata": {
  "kernelspec": {
   "display_name": "Python 3",
   "language": "python",
   "name": "python3"
  },
  "language_info": {
   "codemirror_mode": {
    "name": "ipython",
    "version": 3
   },
   "file_extension": ".py",
   "mimetype": "text/x-python",
   "name": "python",
   "nbconvert_exporter": "python",
   "pygments_lexer": "ipython3",
   "version": "3.6.6"
  }
 },
 "nbformat": 4,
 "nbformat_minor": 2
}
