{
 "cells": [
  {
   "cell_type": "code",
   "execution_count": 68,
   "metadata": {
    "ExecuteTime": {
     "end_time": "2018-10-05T17:18:11.200488Z",
     "start_time": "2018-10-05T17:18:11.174076Z"
    }
   },
   "outputs": [],
   "source": [
    "from math import ceil\n",
    "import time, re, ast, sys, urllib, random, string, requests\n",
    "import pandas as pd\n",
    "from bs4 import BeautifulSoup\n",
    "from random import randint\n",
    "from selenium.webdriver.firefox.webdriver import FirefoxProfile\n",
    "from urllib.request import urlopen, Request\n",
    "from urllib.error import HTTPError, URLError\n",
    "from itertools import cycle\n",
    "from header_list import user_agent_list\n",
    "from proxies_list import proxies_list_\n",
    "from INITIAL_SCRAPPER_FUNCTIONS import *\n",
    "from PARSER_FUNCTIONS import *\n",
    "from LIST_DF_FUNCTIONS import *\n",
    "from SEARCH_URL_GEN import *\n",
    "from GET_SEARCH_URL import *\n",
    "ua = user_agent_list\n",
    "proxies = proxies_list_"
   ]
  },
  {
   "cell_type": "code",
   "execution_count": 44,
   "metadata": {
    "ExecuteTime": {
     "end_time": "2018-10-05T17:07:35.238804Z",
     "start_time": "2018-10-05T17:07:33.670085Z"
    }
   },
   "outputs": [
    {
     "name": "stdout",
     "output_type": "stream",
     "text": [
      "Input the Redfin URL of the Home: https://www.redfin.com/CA/Newark/36995-Newark-Blvd-94560/unit-F/home/868458\n"
     ]
    }
   ],
   "source": [
    "customer_url = input(\"Input the Redfin URL of the Home: \")"
   ]
  },
  {
   "cell_type": "code",
   "execution_count": 45,
   "metadata": {
    "ExecuteTime": {
     "end_time": "2018-10-05T17:07:42.944361Z",
     "start_time": "2018-10-05T17:07:36.117065Z"
    }
   },
   "outputs": [
    {
     "name": "stdout",
     "output_type": "stream",
     "text": [
      "208.68.236.6:36489\n",
      "https://www.redfin.com/CA/Newark/36995-Newark-Blvd-94560/unit-F/home/868458\n"
     ]
    }
   ],
   "source": [
    "header = random.sample(ua, 1)[0]\n",
    "proxy = random.sample(proxies, 1)[0]\n",
    "url = customer_url\n",
    "print(proxy)\n",
    "print(url)\n",
    "soup = session_creator(proxy, ua, url)"
   ]
  },
  {
   "cell_type": "code",
   "execution_count": 69,
   "metadata": {
    "ExecuteTime": {
     "end_time": "2018-10-05T17:18:14.086023Z",
     "start_time": "2018-10-05T17:18:13.955160Z"
    }
   },
   "outputs": [],
   "source": [
    "customer_df = info_from_property(soup)"
   ]
  },
  {
   "cell_type": "code",
   "execution_count": 70,
   "metadata": {
    "ExecuteTime": {
     "end_time": "2018-10-05T17:18:14.330189Z",
     "start_time": "2018-10-05T17:18:14.313778Z"
    }
   },
   "outputs": [
    {
     "data": {
      "text/plain": [
       "Index(['address', 'city', 'state', 'zip_code', 'sq_ft', 'latitude',\n",
       "       'longitude', 'price', 'num_bdrs', 'num_bts', 'redfin_est', 'on_redfin',\n",
       "       'status', 'description', 'elem_school_name', 'elem_school_grades',\n",
       "       'elem_school_rating', 'middle_school_name', 'middle_school_grades',\n",
       "       'middle_school_rating', 'high_school_name', 'high_school_grades',\n",
       "       'high_school_rating', 'beds', 'baths', 'finished_sq_ft',\n",
       "       'unfinished_sq_ft', 'total_sq_ft', 'stories', 'lot_size', 'style',\n",
       "       'year_built', 'year_renovated', 'county', 'apn', '#_of_bedrooms_min',\n",
       "       '#_of_bedrooms_max', 'bedrooms', '#_of_baths_full', '#_of_baths_1/2',\n",
       "       'bathroom_description', 'dining_room_description',\n",
       "       'kitchen_description', 'laundry', 'flooring',\n",
       "       '<span>has_fireplace</span>', 'fireplace_description', 'fireplaces_min',\n",
       "       'cooling', 'heating', 'garage_min', 'garage_max', 'parking_description',\n",
       "       'garage_spaces', 'parking_spaces', '<span>has_hoa</span>',\n",
       "       'fees_include', 'hoa_amenities', 'hoa_documents', 'hoa_fee',\n",
       "       'hoa_fee_frequency', 'hoa_name', 'hoa_primary_phone',\n",
       "       'elementary_school_district', 'middle_school', 'high_school',\n",
       "       'high_school_district', 'city_transfer_tax', 'fencing', 'roof',\n",
       "       'yard/grounds', 'construction_type',\n",
       "       '<span>concrete_slab_wood_frame</span>', 'building_height_min',\n",
       "       'building_height_max', '<span>has_pool</span>', 'pool_description',\n",
       "       'min_floor_number', '#_of_stories', '#_of_units_in_building_min',\n",
       "       '#_of_units_in_building_max', '#_of_units_in_complex_min',\n",
       "       'energy_features', 'sewer_septic', 'utilities', 'water', 'amenities',\n",
       "       'living_sq_ft', 'ownership_type', 'property_faces',\n",
       "       'property_master_id', 'restrictions', 'lot_acres', 'lot_description',\n",
       "       'lot_size_area_min_units', 'lot_size_area_max_units', 'lot_size_source',\n",
       "       'zoning', 'directions', 'incorporated'],\n",
       "      dtype='object')"
      ]
     },
     "execution_count": 70,
     "metadata": {},
     "output_type": "execute_result"
    }
   ],
   "source": [
    "customer_df.columns"
   ]
  },
  {
   "cell_type": "code",
   "execution_count": 71,
   "metadata": {
    "ExecuteTime": {
     "end_time": "2018-10-05T17:18:15.128869Z",
     "start_time": "2018-10-05T17:18:15.106830Z"
    }
   },
   "outputs": [],
   "source": []
  },
  {
   "cell_type": "code",
   "execution_count": 72,
   "metadata": {
    "ExecuteTime": {
     "end_time": "2018-10-05T17:18:15.678427Z",
     "start_time": "2018-10-05T17:18:15.662798Z"
    }
   },
   "outputs": [
    {
     "data": {
      "text/plain": [
       "'https://www.redfin.com/zipcode/94560/filter/sort=lo-days,min-price=475k,max-price=675k,min-beds=1,max-beds=3,min-baths=2,min-sqft=1k-sqft,max-sqft=1.75k-sqft,min-year-built=1970,max-year-built=2005'"
      ]
     },
     "execution_count": 72,
     "metadata": {},
     "output_type": "execute_result"
    }
   ],
   "source": [
    "gen_url(customer_df)"
   ]
  },
  {
   "cell_type": "code",
   "execution_count": null,
   "metadata": {},
   "outputs": [],
   "source": []
  }
 ],
 "metadata": {
  "kernelspec": {
   "display_name": "Python 3",
   "language": "python",
   "name": "python3"
  },
  "language_info": {
   "codemirror_mode": {
    "name": "ipython",
    "version": 3
   },
   "file_extension": ".py",
   "mimetype": "text/x-python",
   "name": "python",
   "nbconvert_exporter": "python",
   "pygments_lexer": "ipython3",
   "version": "3.6.6"
  }
 },
 "nbformat": 4,
 "nbformat_minor": 2
}
