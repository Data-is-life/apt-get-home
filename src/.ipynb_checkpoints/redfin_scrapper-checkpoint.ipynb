{
 "cells": [
  {
   "cell_type": "code",
   "execution_count": 4,
   "metadata": {
    "ExecuteTime": {
     "end_time": "2018-10-04T18:30:53.474433Z",
     "start_time": "2018-10-04T18:30:53.051273Z"
    }
   },
   "outputs": [],
   "source": [
    "from math import ceil\n",
    "import time, re, ast, sys, urllib, time, random, string, requests\n",
    "import pandas as pd\n",
    "from bs4 import BeautifulSoup\n",
    "from random import randint\n",
    "from selenium.webdriver.firefox.webdriver import FirefoxProfile\n",
    "from urllib.request import urlopen, Request\n",
    "from urllib.error import HTTPError, URLError\n",
    "from itertools import cycle \n",
    "from header_list import user_agent_list\n",
    "from proxies_list import *\n",
    "from INITIAL_SCRAPPER_FUNCTIONS import *\n",
    "from LIST_DF_FUNCTIONS import *\n",
    "# from PARSER_FUNCTIONS import *"
   ]
  },
  {
   "cell_type": "code",
   "execution_count": 5,
   "metadata": {
    "ExecuteTime": {
     "end_time": "2018-10-04T18:30:54.272112Z",
     "start_time": "2018-10-04T18:30:54.258575Z"
    },
    "scrolled": false
   },
   "outputs": [],
   "source": [
    "ua = user_agent_list\n",
    "proxies = proxies_list_\n",
    "prx_pool = proxie_random_pool\n",
    "# proxie_check(proxies)"
   ]
  },
  {
   "cell_type": "code",
   "execution_count": 6,
   "metadata": {
    "ExecuteTime": {
     "end_time": "2018-10-04T18:30:55.410227Z",
     "start_time": "2018-10-04T18:30:55.391049Z"
    },
    "scrolled": true
   },
   "outputs": [
    {
     "data": {
      "text/plain": [
       "34"
      ]
     },
     "execution_count": 6,
     "metadata": {},
     "output_type": "execute_result"
    }
   ],
   "source": [
    "len(proxies)"
   ]
  },
  {
   "cell_type": "code",
   "execution_count": 204,
   "metadata": {
    "ExecuteTime": {
     "end_time": "2018-10-01T23:51:48.614365Z",
     "start_time": "2018-10-01T23:51:48.592595Z"
    }
   },
   "outputs": [],
   "source": [
    "# zip_codes = pd.read_csv('../Data/main_zips.csv')\n",
    "# zip_list = zip_codes['zip'].tolist()"
   ]
  },
  {
   "cell_type": "code",
   "execution_count": 264,
   "metadata": {
    "ExecuteTime": {
     "end_time": "2018-10-02T04:33:36.102670Z",
     "start_time": "2018-10-02T04:33:36.090058Z"
    }
   },
   "outputs": [],
   "source": [
    "# active_zip_url_list, sold_zip_url_list = gen_url_list(zip_list)"
   ]
  },
  {
   "cell_type": "code",
   "execution_count": 213,
   "metadata": {
    "ExecuteTime": {
     "end_time": "2018-10-01T23:51:53.379236Z",
     "start_time": "2018-10-01T23:51:53.364515Z"
    }
   },
   "outputs": [],
   "source": [
    "# a_main_df = pd.DataFrame(columns=['full_address', 'home_link'])\n",
    "# s_main_df = pd.DataFrame(columns=['full_address', 'home_link'])"
   ]
  },
  {
   "cell_type": "code",
   "execution_count": 261,
   "metadata": {
    "ExecuteTime": {
     "end_time": "2018-10-02T04:32:54.682803Z",
     "start_time": "2018-10-02T04:32:54.666117Z"
    },
    "scrolled": true
   },
   "outputs": [],
   "source": [
    "# a = randint(0, 3)\n",
    "# time.sleep(random.uniform(0, 1)*((88/13)**.33)*a)\n",
    "# active_zip_url_list, a_main_df, proxies = links_for_props(proxies, active_zip_url_list, a_main_df, ua)"
   ]
  },
  {
   "cell_type": "code",
   "execution_count": 309,
   "metadata": {
    "ExecuteTime": {
     "end_time": "2018-10-02T18:24:59.974204Z",
     "start_time": "2018-10-02T18:24:59.955960Z"
    },
    "scrolled": true
   },
   "outputs": [],
   "source": [
    "# a = randint(0, 3)\n",
    "# sold_zip_url_list, s_main_df, proxies = links_for_props(proxies, sold_zip_url_list, s_main_df, ua)\n",
    "# time.sleep(random.uniform(0, 1)*((88/13)**.33)*a)"
   ]
  },
  {
   "cell_type": "code",
   "execution_count": 295,
   "metadata": {
    "ExecuteTime": {
     "end_time": "2018-10-02T17:34:47.681976Z",
     "start_time": "2018-10-02T17:34:47.573732Z"
    }
   },
   "outputs": [],
   "source": [
    "# a_main_df.to_csv('../Data/active_props_url_list.csv')\n",
    "# s_main_df.to_csv('../Data/sold_props_url_list.csv')"
   ]
  },
  {
   "cell_type": "code",
   "execution_count": 7,
   "metadata": {
    "ExecuteTime": {
     "end_time": "2018-10-04T18:31:18.038574Z",
     "start_time": "2018-10-04T18:31:17.881075Z"
    }
   },
   "outputs": [],
   "source": [
    "a_main_df = pd.read_csv('../Data/active_props_url_list.csv')\n",
    "s_main_df = pd.read_csv('../Data/sold_props_url_list.csv')"
   ]
  },
  {
   "cell_type": "code",
   "execution_count": 8,
   "metadata": {
    "ExecuteTime": {
     "end_time": "2018-10-04T18:31:18.595990Z",
     "start_time": "2018-10-04T18:31:18.554718Z"
    }
   },
   "outputs": [],
   "source": [
    "a_main_df = a_main_df.drop_duplicates(subset='full_address')\n",
    "s_main_df = s_main_df.drop_duplicates(subset='full_address')"
   ]
  },
  {
   "cell_type": "code",
   "execution_count": 9,
   "metadata": {
    "ExecuteTime": {
     "end_time": "2018-10-04T18:31:19.217899Z",
     "start_time": "2018-10-04T18:31:19.203046Z"
    }
   },
   "outputs": [],
   "source": [
    "active_url_list = a_main_df.home_link.tolist()\n",
    "sold_url_list = s_main_df.home_link.tolist()"
   ]
  },
  {
   "cell_type": "code",
   "execution_count": 199,
   "metadata": {
    "ExecuteTime": {
     "end_time": "2018-10-04T20:21:21.874674Z",
     "start_time": "2018-10-04T20:21:21.856119Z"
    }
   },
   "outputs": [],
   "source": [
    "def top_info_parser(soup):\n",
    "\n",
    "    all_top = soup.findAll('div', {'class': 'HomeInfo inline-block'})\n",
    "    \n",
    "    top_info_dict = {}\n",
    "    values_ = []\n",
    "    cats_ = []\n",
    "    sqft = []\n",
    "    lat_lon = []\n",
    "    \n",
    "    for num in all_top:\n",
    "\n",
    "        address_ = num.findAll('span', {'class': 'street-address'})\n",
    "        top_info_dict['address'] = [num.text for num in address_][0]\n",
    "\n",
    "        city_ = num.findAll('span', {'class': 'locality'})\n",
    "        top_info_dict['city'] = [num.text for num in city_][0]\n",
    "\n",
    "        state_ = num.findAll('span', {'class': 'region'})\n",
    "        top_info_dict['state'] = [num.text for num in state_][0]\n",
    "\n",
    "        zip_code_ = num.findAll('span', {'class': 'postal-code'})\n",
    "        top_info_dict['zip_code'] = [num.text for num in zip_code_][0]\n",
    "        \n",
    "        red_est = num.findAll('div', {'class': 'info-block avm'})\n",
    "        for i in red_est:\n",
    "            cats_.append(i.div.text)\n",
    "            values_.append(i.span.text)\n",
    "\n",
    "        price_ = num.findAll('div', {'class': 'info-block price'})\n",
    "        for i in price_:\n",
    "            values_.append(i.div.text)\n",
    "            cats_.append(i.span.text)\n",
    "\n",
    "        bdrs_ = num.findAll('div', {'data-rf-test-id': 'abp-beds'})\n",
    "        for i in bdrs_:\n",
    "            values_.append(i.div.text)\n",
    "            cats_.append(i.span.text)\n",
    "\n",
    "        bths_ = num.findAll('div', {'data-rf-test-id': 'abp-baths'})\n",
    "        for i in bths_:\n",
    "            values_.append(i.div.text)\n",
    "            cats_.append(i.span.text)\n",
    "\n",
    "        sqft_ = num.findAll('div', {'data-rf-test-id': 'abp-sqFt'})\n",
    "        for i in sqft_:\n",
    "            top_info_dict['sqft'] = i.span.text\n",
    "\n",
    "        yrblt_ = num.findAll('div', {'class': 'HomeBottomStats'})\n",
    "        for i in yrblt_:\n",
    "            lbls_ = i.findAll('span', {'class': 'label'})\n",
    "            vals_ = i.findAll('span', {'class': 'value'})\n",
    "            for j in lbls_:\n",
    "                values_.append(j.text)\n",
    "            for k in vals_:\n",
    "                cats_.append(k.text)\n",
    "\n",
    "        lat_lon_ = num.findAll('span', {'itemprop': 'geo'})\n",
    "        for i in lat_lon_:\n",
    "            ll_ = i.findAll('meta')\n",
    "            for num in ll_:\n",
    "                lat_lon.append(num['content'])\n",
    "\n",
    "    top_info_dict['latitude'] = lat_lon[0]\n",
    "    top_info_dict['longitude'] = lat_lon[1]\n",
    "\n",
    "    values_ = [num for num in values_ if num!='—']\n",
    "    cats_ = [num for num in cats_ if num!='—']\n",
    "    info_dict = dict(zip(cats_, values_))        \n",
    "\n",
    "    return info_dict, top_info_dict\n",
    "\n",
    "#     return pd.DataFrame(_info_dict, index=[1])"
   ]
  },
  {
   "cell_type": "code",
   "execution_count": 200,
   "metadata": {
    "ExecuteTime": {
     "end_time": "2018-10-04T20:21:22.714595Z",
     "start_time": "2018-10-04T20:21:22.697773Z"
    }
   },
   "outputs": [],
   "source": [
    "def info_from_sold_property(url, hdr, proxy):\n",
    "\n",
    "    soup = session_creator(proxy, ua, url)\n",
    "    \n",
    "    df = top_info_parser(soup)\n",
    "\n",
    "#     home_dict = address_parser(soup)\n",
    "\n",
    "#     top_info_dict = top_info_parser(soup)\n",
    "\n",
    "#     public_info_dict = public_info_parser(soup)\n",
    "\n",
    "#     school_dict = school_parser(soup)\n",
    "\n",
    "#     all_home_feats = feats_parser(soup)\n",
    "\n",
    "#     df = pd.DataFrame()\n",
    "\n",
    "#     df = pd.concat([home_dict, top_info_dict, school_dict,\n",
    "#                     public_info_dict, all_home_feats], axis=1)\n",
    "\n",
    "    return df"
   ]
  },
  {
   "cell_type": "code",
   "execution_count": null,
   "metadata": {
    "ExecuteTime": {
     "start_time": "2018-10-04T20:21:23.497Z"
    }
   },
   "outputs": [
    {
     "name": "stdout",
     "output_type": "stream",
     "text": [
      "216.85.7.155:59880\n",
      "https://www.redfin.com/TX/McKinney/9965-George-Washington-Dr-75070/home/31606972\n"
     ]
    }
   ],
   "source": [
    "header = random.sample(ua, 1)[0]\n",
    "proxy = random.sample(proxies, 1)[0]\n",
    "sold_url_list = s_main_df['home_link'].tolist()\n",
    "url = random.sample(active_url_list, 1)[0]\n",
    "# url = random.sample(sold_url_list, 1)[0]\n",
    "print(proxy)\n",
    "print(url)\n",
    "\n",
    "soup = session_creator(proxy, ua, url)\n",
    "\n",
    "a, b= top_info_parser(soup)\n",
    "# sold_home_df = info_from_sold_property(url, header, proxy)"
   ]
  },
  {
   "cell_type": "code",
   "execution_count": null,
   "metadata": {
    "ExecuteTime": {
     "start_time": "2018-10-04T20:21:25.130Z"
    }
   },
   "outputs": [],
   "source": [
    "print(a)\n",
    "print(b)"
   ]
  },
  {
   "cell_type": "code",
   "execution_count": 812,
   "metadata": {
    "ExecuteTime": {
     "end_time": "2018-10-04T02:52:29.846638Z",
     "start_time": "2018-10-04T02:52:29.825191Z"
    },
    "scrolled": true
   },
   "outputs": [
    {
     "data": {
      "text/plain": [
       "{'address': {1: '156 Front St NE #460'},\n",
       " 'city': {1: ' Salem'},\n",
       " 'zip_code': {1: '97301'},\n",
       " 'state': {1: None},\n",
       " 'description': {1: 'Luxury 4th floor condo. Westerly views o/Willamette River & Waterfront park w/floor-ceiling windows. Open concept featuring stylish kitchen w/soft close, quartz, lrg island, high-end appliances inc micro drawer all w/5 yr warranty. BRs w/extensive tile & wall hung comfort height toilets. Master boasts large walk in closet,  tiled shower & dual vanities. W/D, included. Front balcony w/gas & overhead heater. Water on both balconies. '},\n",
       " 'mls_num': {1: '18258478'},\n",
       " 'num_beds': {1: 2.0},\n",
       " 'num_baths': {1: 2.0},\n",
       " 'home_sqft': {1: 753.0},\n",
       " 'yr_blt': {1: 2011},\n",
       " 'status': {1: 'Sold'},\n",
       " 'redfin_est': {1: 573814.0},\n",
       " 'sold_price': {1: 716500.0},\n",
       " 'elem_school_name': {1: 'Bush Elementary School'},\n",
       " 'elem_school_grades': {1: ' K to 5'},\n",
       " 'elem_school_rating': {1: '1'},\n",
       " 'Beds': {1: '2'},\n",
       " 'Baths': {1: '2'},\n",
       " 'Sq. Ft.': {1: '1,753'},\n",
       " 'Stories': {1: '—'},\n",
       " 'Lot Size': {1: '—'},\n",
       " 'Style': {1: 'Condo/Co-op'},\n",
       " 'Year Built': {1: '2011'},\n",
       " 'Year Renovated': {1: '—'},\n",
       " 'County': {1: 'Marion County'},\n",
       " 'APN': {1: 'R347332'},\n",
       " 'Level: ': {1: 'Main'},\n",
       " '# of Bathrooms (Full): ': {1: '2'},\n",
       " '# of Main Level Bathrooms (Full): ': {1: '2'},\n",
       " 'Appliances: ': {1: 'Built-in Microwave, Built-in Range, Built-in Dishwasher, Disposal, Island, Pantry, Stainless Steel Appliance(s), Quartz, Range Hood'},\n",
       " '# of Fireplaces: ': {1: '1'},\n",
       " 'Fireplace: ': {1: 'Gas'},\n",
       " 'Interior Features: ': {1: 'Ceiling Fan, Laundry, Tile Floor, Washer/Dryer, Laminate Flooring, Quartz, Heated Tile Floor'},\n",
       " 'Heating: ': {1: 'Other'},\n",
       " 'Fuel: ': {1: 'Electricity, Gas'},\n",
       " 'Hot Water: ': {1: 'Gas'},\n",
       " '# of Garage/Parking Spaces: ': {1: '2'},\n",
       " 'Year Built Details: ': {1: 'Resale'},\n",
       " 'Exterior: ': {1: 'Metal Siding'},\n",
       " 'Features: ': {1: 'Covered Patio'},\n",
       " 'Elementary School: ': {1: 'Bush'},\n",
       " 'Middle School: ': {1: 'Leslie'},\n",
       " 'High School: ': {1: 'South Salem'},\n",
       " 'Water: ': {1: 'Public'},\n",
       " 'Sewer: ': {1: 'Public Sewer'},\n",
       " 'Condo Association Name: ': {1: 'Association of Unit Owners'},\n",
       " 'Condo Association Contact: ': {1: 'Teresa Krause'},\n",
       " 'Association Fee Includes: ': {1: 'Gas, Sewer, Water, Maintenance'},\n",
       " '# of Stories (Total): ': {1: '8'},\n",
       " 'Tax Amount: ': {1: '$2,516.02'},\n",
       " 'Tax Deferral: ': {1: 'No'},\n",
       " 'Terms: ': {1: 'Cash, Conventional'},\n",
       " 'Terms Of Sale: ': {1: 'Conventional'},\n",
       " 'Area: ': {1: 'Marion Co: Central Salem'},\n",
       " 'Seller Disclosure: ': {1: 'Disclosure'},\n",
       " 'View: ': {1: 'River, Territorial'},\n",
       " 'Unit Location: ': {1: 'Upper Floor'},\n",
       " 'Legal Description: ': {1: 'RIVERS CONDOMINIUMS, LOT R-10'},\n",
       " 'Sq. Ft. Source: ': {1: 'county'},\n",
       " 'Sq. Ft. (Main Level): ': {1: '1,753'},\n",
       " 'Possession: ': {1: 'Close Of Escrow'},\n",
       " 'ListingType: ': {1: 'Exclusive Right To Sell'},\n",
       " 'Limited Representation: ': {1: 'Full Service'},\n",
       " 'Supplement Number: ': {1: '1'}}"
      ]
     },
     "execution_count": 812,
     "metadata": {},
     "output_type": "execute_result"
    }
   ],
   "source": [
    "sold_home_df.to_dict()"
   ]
  },
  {
   "cell_type": "code",
   "execution_count": null,
   "metadata": {},
   "outputs": [],
   "source": []
  },
  {
   "cell_type": "code",
   "execution_count": null,
   "metadata": {},
   "outputs": [],
   "source": []
  },
  {
   "cell_type": "code",
   "execution_count": null,
   "metadata": {},
   "outputs": [],
   "source": []
  },
  {
   "cell_type": "code",
   "execution_count": null,
   "metadata": {},
   "outputs": [],
   "source": []
  },
  {
   "cell_type": "code",
   "execution_count": null,
   "metadata": {},
   "outputs": [],
   "source": []
  },
  {
   "cell_type": "code",
   "execution_count": null,
   "metadata": {},
   "outputs": [],
   "source": []
  },
  {
   "cell_type": "code",
   "execution_count": null,
   "metadata": {},
   "outputs": [],
   "source": []
  }
 ],
 "metadata": {
  "kernelspec": {
   "display_name": "Python 3",
   "language": "python",
   "name": "python3"
  },
  "language_info": {
   "codemirror_mode": {
    "name": "ipython",
    "version": 3
   },
   "file_extension": ".py",
   "mimetype": "text/x-python",
   "name": "python",
   "nbconvert_exporter": "python",
   "pygments_lexer": "ipython3",
   "version": "3.6.6"
  }
 },
 "nbformat": 4,
 "nbformat_minor": 2
}
