{
 "cells": [
  {
   "cell_type": "code",
   "execution_count": 747,
   "metadata": {
    "ExecuteTime": {
     "end_time": "2018-10-03T00:48:31.051113Z",
     "start_time": "2018-10-03T00:48:31.033700Z"
    }
   },
   "outputs": [],
   "source": [
    "from math import ceil\n",
    "import time, re, ast, sys, urllib, time, random, string, requests\n",
    "import pandas as pd\n",
    "from bs4 import BeautifulSoup\n",
    "from random import randint\n",
    "from selenium.webdriver.firefox.webdriver import FirefoxProfile\n",
    "from urllib.request import urlopen, Request\n",
    "from urllib.error import HTTPError, URLError\n",
    "from itertools import cycle \n",
    "from header_list import user_agent_list\n",
    "from proxies_list import proxies_list_, proxie_random_pool\n",
    "from FUNCTIONS import proxie_check, strip_count, gen_url_list\n",
    "from SCRAPPER_FUNCTIONS import session_creator, zip_prop_count, each_page, links_for_props\n",
    "from MAIN_FUNCTIONS import address_parser, top_info_parser, public_info_parser, school_parser, feats_parser"
   ]
  },
  {
   "cell_type": "code",
   "execution_count": 739,
   "metadata": {
    "ExecuteTime": {
     "end_time": "2018-10-03T00:42:07.787125Z",
     "start_time": "2018-10-03T00:42:07.767179Z"
    }
   },
   "outputs": [],
   "source": [
    "ua = user_agent_list\n",
    "proxies = proxies_list_\n",
    "prx_pool = proxie_random_pool\n",
    "# proxies = proxie_check(proxies)"
   ]
  },
  {
   "cell_type": "code",
   "execution_count": 740,
   "metadata": {
    "ExecuteTime": {
     "end_time": "2018-10-03T00:42:08.369624Z",
     "start_time": "2018-10-03T00:42:08.349704Z"
    },
    "scrolled": true
   },
   "outputs": [
    {
     "data": {
      "text/plain": [
       "60"
      ]
     },
     "execution_count": 740,
     "metadata": {},
     "output_type": "execute_result"
    }
   ],
   "source": [
    "len(proxies)"
   ]
  },
  {
   "cell_type": "code",
   "execution_count": 204,
   "metadata": {
    "ExecuteTime": {
     "end_time": "2018-10-01T23:51:48.614365Z",
     "start_time": "2018-10-01T23:51:48.592595Z"
    }
   },
   "outputs": [],
   "source": [
    "# zip_codes = pd.read_csv('../Data/main_zips.csv')\n",
    "# zip_list = zip_codes['zip'].tolist()"
   ]
  },
  {
   "cell_type": "code",
   "execution_count": 264,
   "metadata": {
    "ExecuteTime": {
     "end_time": "2018-10-02T04:33:36.102670Z",
     "start_time": "2018-10-02T04:33:36.090058Z"
    }
   },
   "outputs": [],
   "source": [
    "# active_zip_url_list, sold_zip_url_list = gen_url_list(zip_list)"
   ]
  },
  {
   "cell_type": "code",
   "execution_count": 213,
   "metadata": {
    "ExecuteTime": {
     "end_time": "2018-10-01T23:51:53.379236Z",
     "start_time": "2018-10-01T23:51:53.364515Z"
    }
   },
   "outputs": [],
   "source": [
    "# a_main_df = pd.DataFrame(columns=['full_address', 'home_link'])\n",
    "# s_main_df = pd.DataFrame(columns=['full_address', 'home_link'])"
   ]
  },
  {
   "cell_type": "code",
   "execution_count": 261,
   "metadata": {
    "ExecuteTime": {
     "end_time": "2018-10-02T04:32:54.682803Z",
     "start_time": "2018-10-02T04:32:54.666117Z"
    },
    "scrolled": true
   },
   "outputs": [],
   "source": [
    "# a = randint(0, 3)\n",
    "# time.sleep(random.uniform(0, 1)*((88/13)**.33)*a)\n",
    "# active_zip_url_list, a_main_df, proxies = links_for_props(proxies, active_zip_url_list, a_main_df, ua)"
   ]
  },
  {
   "cell_type": "code",
   "execution_count": 309,
   "metadata": {
    "ExecuteTime": {
     "end_time": "2018-10-02T18:24:59.974204Z",
     "start_time": "2018-10-02T18:24:59.955960Z"
    },
    "scrolled": true
   },
   "outputs": [],
   "source": [
    "# a = randint(0, 3)\n",
    "# sold_zip_url_list, s_main_df, proxies = links_for_props(proxies, sold_zip_url_list, s_main_df, ua)\n",
    "# time.sleep(random.uniform(0, 1)*((88/13)**.33)*a)"
   ]
  },
  {
   "cell_type": "code",
   "execution_count": 295,
   "metadata": {
    "ExecuteTime": {
     "end_time": "2018-10-02T17:34:47.681976Z",
     "start_time": "2018-10-02T17:34:47.573732Z"
    }
   },
   "outputs": [],
   "source": [
    "# a_main_df.to_csv('../Data/active_props_url_list.csv')\n",
    "# s_main_df.to_csv('../Data/sold_props_url_list.csv')"
   ]
  },
  {
   "cell_type": "code",
   "execution_count": 652,
   "metadata": {
    "ExecuteTime": {
     "end_time": "2018-10-02T23:46:48.916158Z",
     "start_time": "2018-10-02T23:46:48.897117Z"
    }
   },
   "outputs": [],
   "source": [
    "# a_main_df = pd.read_csv('../Data/active_props_url_list.csv')\n",
    "# s_main_df = pd.read_csv('../Data/sold_props_url_list.csv')"
   ]
  },
  {
   "cell_type": "code",
   "execution_count": 304,
   "metadata": {
    "ExecuteTime": {
     "end_time": "2018-10-02T18:19:26.987057Z",
     "start_time": "2018-10-02T18:19:26.963635Z"
    }
   },
   "outputs": [],
   "source": [
    "# a_main_df = a_main_df.drop_duplicates(subset='full_address')\n",
    "# s_main_df = s_main_df.drop_duplicates(subset='full_address')"
   ]
  },
  {
   "cell_type": "code",
   "execution_count": 305,
   "metadata": {
    "ExecuteTime": {
     "end_time": "2018-10-02T18:21:54.917626Z",
     "start_time": "2018-10-02T18:21:54.900591Z"
    }
   },
   "outputs": [],
   "source": [
    "active_url_list = a_main_df.home_link.tolist()\n",
    "sold_url_list = s_main_df.home_link.tolist()"
   ]
  },
  {
   "cell_type": "code",
   "execution_count": 763,
   "metadata": {
    "ExecuteTime": {
     "end_time": "2018-10-03T01:20:25.390737Z",
     "start_time": "2018-10-03T01:20:25.371008Z"
    }
   },
   "outputs": [],
   "source": [
    "def each_property(url, hdr, proxy):\n",
    "\n",
    "    soup = session_creator(proxy, ua, url)\n",
    "\n",
    "    home_dict = address_parser(soup)\n",
    "\n",
    "    top_info_dict = top_info_parser(soup)\n",
    "\n",
    "    public_info_dict = public_info_parser(soup)\n",
    "\n",
    "    school_dict = school_parser(soup)\n",
    "\n",
    "    all_home_feats = feats_parser(soup)\n",
    "    \n",
    "    df = pd.DataFrame()\n",
    "    \n",
    "    df = pd.concat([home_dict, top_info_dict, top_info_dict, public_info_dict, all_home_feats], axis=1)\n",
    "\n",
    "    return df"
   ]
  },
  {
   "cell_type": "code",
   "execution_count": 765,
   "metadata": {
    "ExecuteTime": {
     "end_time": "2018-10-03T01:21:00.567538Z",
     "start_time": "2018-10-03T01:20:57.597194Z"
    }
   },
   "outputs": [
    {
     "name": "stdout",
     "output_type": "stream",
     "text": [
      "69.38.69.254:52168\n",
      "https://www.redfin.com/CA/Santa-Rosa/2051-Gardenview-Pl-95403/home/2640288\n"
     ]
    }
   ],
   "source": [
    "header = random.sample(ua, 1)[0]\n",
    "proxy = random.sample(proxies, 1)[0]\n",
    "sold_url_list = s_main_df['home_link'].tolist()\n",
    "# url = random.sample(active_url_list, 1)[0]\n",
    "url = random.sample(sold_url_list, 1)[0]\n",
    "print(proxy)\n",
    "print(url)\n",
    "\n",
    "sold_home_df = each_property(url, header, proxy)"
   ]
  },
  {
   "cell_type": "code",
   "execution_count": 766,
   "metadata": {
    "ExecuteTime": {
     "end_time": "2018-10-03T01:21:00.605374Z",
     "start_time": "2018-10-03T01:21:00.569418Z"
    }
   },
   "outputs": [
    {
     "data": {
      "text/html": [
       "<div>\n",
       "<style scoped>\n",
       "    .dataframe tbody tr th:only-of-type {\n",
       "        vertical-align: middle;\n",
       "    }\n",
       "\n",
       "    .dataframe tbody tr th {\n",
       "        vertical-align: top;\n",
       "    }\n",
       "\n",
       "    .dataframe thead th {\n",
       "        text-align: right;\n",
       "    }\n",
       "</style>\n",
       "<table border=\"1\" class=\"dataframe\">\n",
       "  <thead>\n",
       "    <tr style=\"text-align: right;\">\n",
       "      <th></th>\n",
       "      <th>address</th>\n",
       "      <th>city</th>\n",
       "      <th>zip_code</th>\n",
       "      <th>state</th>\n",
       "      <th>description</th>\n",
       "      <th>mls_num</th>\n",
       "      <th>num_beds</th>\n",
       "      <th>num_baths</th>\n",
       "      <th>home_sqft</th>\n",
       "      <th>yr_blt</th>\n",
       "      <th>...</th>\n",
       "      <th>Property Subtype 1:</th>\n",
       "      <th>Style:</th>\n",
       "      <th>Age:</th>\n",
       "      <th>Year Built:</th>\n",
       "      <th>Year Built Source:</th>\n",
       "      <th>Square Footage:</th>\n",
       "      <th>Planned Unit Develop:</th>\n",
       "      <th>Property Disclaimer:</th>\n",
       "      <th>Original Price:</th>\n",
       "      <th>Sale/Lease-Rent:</th>\n",
       "    </tr>\n",
       "  </thead>\n",
       "  <tbody>\n",
       "    <tr>\n",
       "      <th>1</th>\n",
       "      <td>2051 Gardenview Pl</td>\n",
       "      <td>Santa Rosa</td>\n",
       "      <td>95403</td>\n",
       "      <td>None</td>\n",
       "      <td>Enjoy Sonoma County living in this beautifully...</td>\n",
       "      <td>21818180</td>\n",
       "      <td>4.0</td>\n",
       "      <td>3.0</td>\n",
       "      <td>872.0</td>\n",
       "      <td>2000</td>\n",
       "      <td>...</td>\n",
       "      <td>Single Family Residence</td>\n",
       "      <td>Unknown</td>\n",
       "      <td>0</td>\n",
       "      <td>2000</td>\n",
       "      <td>Realist Public Rec</td>\n",
       "      <td>2,872</td>\n",
       "      <td>Yes</td>\n",
       "      <td>Information has not been verified, is not guar...</td>\n",
       "      <td>995000.00</td>\n",
       "      <td>Sale</td>\n",
       "    </tr>\n",
       "  </tbody>\n",
       "</table>\n",
       "<p>1 rows × 75 columns</p>\n",
       "</div>"
      ],
      "text/plain": [
       "              address         city zip_code state  \\\n",
       "1  2051 Gardenview Pl   Santa Rosa    95403  None   \n",
       "\n",
       "                                         description   mls_num  num_beds  \\\n",
       "1  Enjoy Sonoma County living in this beautifully...  21818180       4.0   \n",
       "\n",
       "   num_baths  home_sqft  yr_blt        ...             Property Subtype 1:   \\\n",
       "1        3.0      872.0    2000        ...          Single Family Residence   \n",
       "\n",
       "   Style:   Age:   Year Built:   Year Built Source:   Square Footage:   \\\n",
       "1  Unknown      0          2000   Realist Public Rec             2,872   \n",
       "\n",
       "   Planned Unit Develop:                               Property Disclaimer:   \\\n",
       "1                     Yes  Information has not been verified, is not guar...   \n",
       "\n",
       "   Original Price:   Sale/Lease-Rent:   \n",
       "1         995000.00               Sale  \n",
       "\n",
       "[1 rows x 75 columns]"
      ]
     },
     "execution_count": 766,
     "metadata": {},
     "output_type": "execute_result"
    }
   ],
   "source": [
    "sold_home_df"
   ]
  },
  {
   "cell_type": "code",
   "execution_count": null,
   "metadata": {},
   "outputs": [],
   "source": []
  }
 ],
 "metadata": {
  "kernelspec": {
   "display_name": "Python 3",
   "language": "python",
   "name": "python3"
  },
  "language_info": {
   "codemirror_mode": {
    "name": "ipython",
    "version": 3
   },
   "file_extension": ".py",
   "mimetype": "text/x-python",
   "name": "python",
   "nbconvert_exporter": "python",
   "pygments_lexer": "ipython3",
   "version": "3.6.6"
  }
 },
 "nbformat": 4,
 "nbformat_minor": 2
}
