{
 "cells": [
  {
   "cell_type": "code",
   "execution_count": 152,
   "metadata": {
    "ExecuteTime": {
     "end_time": "2018-10-04T20:40:12.033288Z",
     "start_time": "2018-10-04T20:40:12.016329Z"
    }
   },
   "outputs": [],
   "source": [
    "from math import ceil\n",
    "import time, re, ast, sys, urllib, time, random, string, requests\n",
    "import pandas as pd\n",
    "from bs4 import BeautifulSoup\n",
    "from random import randint\n",
    "from selenium.webdriver.firefox.webdriver import FirefoxProfile\n",
    "from urllib.request import urlopen, Request\n",
    "from urllib.error import HTTPError, URLError\n",
    "from itertools import cycle \n",
    "from header_list import user_agent_list\n",
    "from proxies_list import *\n",
    "from INITIAL_SCRAPPER_FUNCTIONS import *\n",
    "from LIST_DF_FUNCTIONS import *\n",
    "from PARSER_FUNCTIONS import *\n",
    "from GET_SEARCH_URL import *"
   ]
  },
  {
   "cell_type": "code",
   "execution_count": 153,
   "metadata": {
    "ExecuteTime": {
     "end_time": "2018-10-04T20:40:13.092525Z",
     "start_time": "2018-10-04T20:40:13.078169Z"
    },
    "scrolled": false
   },
   "outputs": [],
   "source": [
    "ua = user_agent_list\n",
    "proxies = proxies_list_\n",
    "prx_pool = proxie_random_pool\n",
    "# proxie_check(proxies)"
   ]
  },
  {
   "cell_type": "code",
   "execution_count": 154,
   "metadata": {
    "ExecuteTime": {
     "end_time": "2018-10-04T20:40:13.239603Z",
     "start_time": "2018-10-04T20:40:13.222542Z"
    },
    "scrolled": true
   },
   "outputs": [
    {
     "data": {
      "text/plain": [
       "50"
      ]
     },
     "execution_count": 154,
     "metadata": {},
     "output_type": "execute_result"
    }
   ],
   "source": [
    "len(proxies)"
   ]
  },
  {
   "cell_type": "code",
   "execution_count": 155,
   "metadata": {
    "ExecuteTime": {
     "end_time": "2018-10-04T20:40:13.361630Z",
     "start_time": "2018-10-04T20:40:13.341163Z"
    }
   },
   "outputs": [],
   "source": [
    "# zip_codes = pd.read_csv('../Data/main_zips.csv')\n",
    "# zip_list = zip_codes['zip'].tolist()"
   ]
  },
  {
   "cell_type": "code",
   "execution_count": 15,
   "metadata": {
    "ExecuteTime": {
     "end_time": "2018-10-04T20:40:13.470057Z",
     "start_time": "2018-10-04T20:40:13.454373Z"
    }
   },
   "outputs": [],
   "source": [
    "# active_zip_url_list, sold_zip_url_list = gen_url_list(zip_list)"
   ]
  },
  {
   "cell_type": "code",
   "execution_count": 16,
   "metadata": {
    "ExecuteTime": {
     "end_time": "2018-10-04T20:40:13.600422Z",
     "start_time": "2018-10-04T20:40:13.580446Z"
    }
   },
   "outputs": [],
   "source": [
    "# a_main_df = pd.DataFrame(columns=['full_address', 'home_link'])\n",
    "# s_main_df = pd.DataFrame(columns=['full_address', 'home_link'])"
   ]
  },
  {
   "cell_type": "code",
   "execution_count": 17,
   "metadata": {
    "ExecuteTime": {
     "end_time": "2018-10-04T20:40:13.708635Z",
     "start_time": "2018-10-04T20:40:13.688904Z"
    },
    "scrolled": true
   },
   "outputs": [],
   "source": [
    "# a = randint(0, 3)\n",
    "# time.sleep(random.uniform(0, 1)*((88/13)**.33)*a)\n",
    "# active_zip_url_list, a_main_df, proxies = links_for_props(proxies, active_zip_url_list, a_main_df, ua)"
   ]
  },
  {
   "cell_type": "code",
   "execution_count": 18,
   "metadata": {
    "ExecuteTime": {
     "end_time": "2018-10-04T20:40:13.822477Z",
     "start_time": "2018-10-04T20:40:13.803862Z"
    },
    "scrolled": true
   },
   "outputs": [],
   "source": [
    "# a = randint(0, 3)\n",
    "# sold_zip_url_list, s_main_df, proxies = links_for_props(proxies, sold_zip_url_list, s_main_df, ua)\n",
    "# time.sleep(random.uniform(0, 1)*((88/13)**.33)*a)"
   ]
  },
  {
   "cell_type": "code",
   "execution_count": 19,
   "metadata": {
    "ExecuteTime": {
     "end_time": "2018-10-04T20:40:13.937948Z",
     "start_time": "2018-10-04T20:40:13.920620Z"
    }
   },
   "outputs": [],
   "source": [
    "# a_main_df.to_csv('../Data/active_props_url_list.csv')\n",
    "# s_main_df.to_csv('../Data/sold_props_url_list.csv')"
   ]
  },
  {
   "cell_type": "code",
   "execution_count": 20,
   "metadata": {
    "ExecuteTime": {
     "end_time": "2018-10-04T20:40:14.100325Z",
     "start_time": "2018-10-04T20:40:14.038871Z"
    }
   },
   "outputs": [],
   "source": [
    "a_main_df = pd.read_csv('../Data/active_props_url_list.csv')\n",
    "s_main_df = pd.read_csv('../Data/sold_props_url_list.csv')"
   ]
  },
  {
   "cell_type": "code",
   "execution_count": 21,
   "metadata": {
    "ExecuteTime": {
     "end_time": "2018-10-04T20:40:14.204550Z",
     "start_time": "2018-10-04T20:40:14.174509Z"
    }
   },
   "outputs": [],
   "source": [
    "a_main_df = a_main_df.drop_duplicates(subset='full_address')\n",
    "s_main_df = s_main_df.drop_duplicates(subset='full_address')"
   ]
  },
  {
   "cell_type": "code",
   "execution_count": 22,
   "metadata": {
    "ExecuteTime": {
     "end_time": "2018-10-04T20:40:14.910775Z",
     "start_time": "2018-10-04T20:40:14.893124Z"
    }
   },
   "outputs": [],
   "source": [
    "active_url_list = a_main_df.home_link.tolist()\n",
    "sold_url_list = s_main_df.home_link.tolist()"
   ]
  },
  {
   "cell_type": "code",
   "execution_count": 77,
   "metadata": {
    "ExecuteTime": {
     "end_time": "2018-10-04T20:40:46.537896Z",
     "start_time": "2018-10-04T20:40:46.524816Z"
    }
   },
   "outputs": [],
   "source": [
    "def info_from_property(soup):\n",
    "\n",
    "    top_info_dict = top_info_parser(soup, 1)\n",
    "    public_info_dict = public_info_parser(soup, 1)\n",
    "    school_dict = school_parser(soup, 1)\n",
    "    all_home_feats = feats_parser(soup, 1)\n",
    "    \n",
    "    df = pd.DataFrame()\n",
    "    df = pd.concat([top_info_dict, school_dict, public_info_dict, \n",
    "                    all_home_feats], axis=1)\n",
    "    \n",
    "    return df"
   ]
  },
  {
   "cell_type": "code",
   "execution_count": 105,
   "metadata": {
    "ExecuteTime": {
     "end_time": "2018-10-04T20:41:55.770355Z",
     "start_time": "2018-10-04T20:41:50.832796Z"
    }
   },
   "outputs": [
    {
     "name": "stdout",
     "output_type": "stream",
     "text": [
      "69.206.51.199:56454\n",
      "https://www.redfin.com/CA/Palo-Alto/753-Maplewood-Pl-94303/home/592649\n"
     ]
    }
   ],
   "source": [
    "header = random.sample(ua, 1)[0]\n",
    "proxy = random.sample(proxies, 1)[0]\n",
    "sold_url_list = s_main_df['home_link'].tolist()\n",
    "url = random.sample(sold_url_list, 1)[0]\n",
    "print(proxy)\n",
    "print(url)\n",
    "soup = session_creator(proxy, ua, url)\n",
    "sold_home_df = info_from_sold_property(soup)"
   ]
  },
  {
   "cell_type": "code",
   "execution_count": null,
   "metadata": {},
   "outputs": [],
   "source": [
    "sold_home_df = sold_home_df.rename(columns={'': 'redfin_est', 'Built': 'yr_blt', 'Last Sold Price': 'ls_price', Beds})"
   ]
  },
  {
   "cell_type": "code",
   "execution_count": 107,
   "metadata": {},
   "outputs": [
    {
     "data": {
      "text/plain": [
       "Index(['address', 'city', 'state', 'zip_code', 'sqft', 'latitude', 'longitude',\n",
       "       'Redfin Estimate', 'Last Sold Price', 'Beds', 'Baths', 'Built: ',\n",
       "       'Status: ', 'description', 'elem_school_name', 'elem_school_grades',\n",
       "       'elem_school_rating', 'middle_school_name', 'middle_school_grades',\n",
       "       'middle_school_rating', 'high_school_name', 'high_school_grades',\n",
       "       'high_school_rating', 'Beds', 'Baths', 'Sq. Ft.', 'Stories', 'Lot Size',\n",
       "       'Style', 'Year Built', 'Year Renovated', 'County', 'APN',\n",
       "       '# of Bedrooms (Minimum): ', '# of Bedrooms (Maximum): ',\n",
       "       '# of Baths (Full): ', '# of Baths (1/2): ',\n",
       "       'Family Room Description: ', 'Dining Room Description: ',\n",
       "       '<span>Has Fireplace</span>', 'Fireplace Description: ',\n",
       "       'Fireplaces (Minimum): ', 'Heating: ', 'Garage (Minimum): ',\n",
       "       'Garage (Maximum): ', 'Parking Description: ', 'Garage Spaces: ',\n",
       "       '# of Stories: ', 'Elementary School: ', 'Elementary School District: ',\n",
       "       'Middle School: ', 'High School: ', 'High School District: ',\n",
       "       'City Transfer Tax: ', 'Roof: ', 'Building Type: ',\n",
       "       '<span>Concrete Slab</span>', '<span>Has Pool</span>', 'Sewer Septic: ',\n",
       "       'Utilities: ', 'Water: ', 'Living Sq. Ft.: ', 'Property Master ID: ',\n",
       "       'Lot Acres: ', 'Lot Size Area Minimum Units: ',\n",
       "       'Lot Size Area Maximum Units: ', 'Lot Size Source: ', 'Zoning: ',\n",
       "       'Incorporated: '],\n",
       "      dtype='object')"
      ]
     },
     "execution_count": 107,
     "metadata": {},
     "output_type": "execute_result"
    }
   ],
   "source": [
    "sold_home_df.columns"
   ]
  },
  {
   "cell_type": "code",
   "execution_count": 127,
   "metadata": {},
   "outputs": [],
   "source": [
    "    "
   ]
  },
  {
   "cell_type": "code",
   "execution_count": 128,
   "metadata": {},
   "outputs": [
    {
     "data": {
      "text/plain": [
       "['address',\n",
       " 'city',\n",
       " 'state',\n",
       " 'zip_code',\n",
       " 'sqft',\n",
       " 'latitude',\n",
       " 'longitude',\n",
       " 'redfin_est',\n",
       " 'last_sold_price',\n",
       " 'num_bdrms',\n",
       " 'num_bths',\n",
       " 'yr_blt',\n",
       " 'status',\n",
       " 'description',\n",
       " 'elem_school_name',\n",
       " 'elem_school_grades',\n",
       " 'elem_school_rating',\n",
       " 'middle_school_name',\n",
       " 'middle_school_grades',\n",
       " 'middle_school_rating',\n",
       " 'high_school_name',\n",
       " 'high_school_grades',\n",
       " 'high_school_rating',\n",
       " 'num_bdrms',\n",
       " 'num_bths',\n",
       " 'sqft',\n",
       " 'stories',\n",
       " 'lot_size',\n",
       " 'style',\n",
       " 'yr_blt',\n",
       " 'year_renovated',\n",
       " 'county',\n",
       " 'apn',\n",
       " 'num_bedrooms_min',\n",
       " 'num_bedrooms_max',\n",
       " 'num_num_bths_full',\n",
       " 'num_num_bths_1/2',\n",
       " 'family_room_description',\n",
       " 'dining_room_description',\n",
       " '<span>has_fireplace</span>',\n",
       " 'fireplace_description',\n",
       " 'fireplaces_min',\n",
       " 'heating',\n",
       " 'garage_min',\n",
       " 'garage_max',\n",
       " 'parking_description',\n",
       " 'garage_spaces',\n",
       " 'num_stories',\n",
       " 'elementary_school',\n",
       " 'elementary_school_district',\n",
       " 'middle_school',\n",
       " 'high_school',\n",
       " 'high_school_district',\n",
       " 'city_transfer_tax',\n",
       " 'roof',\n",
       " 'building_type',\n",
       " '<span>concrete_slab</span>',\n",
       " '<span>has_pool</span>',\n",
       " 'sewer_septic',\n",
       " 'utilities',\n",
       " 'water',\n",
       " 'living_sqft',\n",
       " 'property_master_id',\n",
       " 'lot_acres',\n",
       " 'lot_size_area_min_units',\n",
       " 'lot_size_area_max_units',\n",
       " 'lot_size_source',\n",
       " 'zoning',\n",
       " 'incorporated']"
      ]
     },
     "execution_count": 128,
     "metadata": {},
     "output_type": "execute_result"
    }
   ],
   "source": [
    "df_cols = rename_columns(sold_home_df.columns)\n",
    "df_cols\n",
    "# sold_home_df.columns\n",
    "# df_cols = [num.replace().\n",
    "# df_cols = [num for num in ]\n",
    "# df_cols = [num for num in df_cols]\n",
    "# df_cols\n",
    "# sold_home_df.columns = df_cols\n",
    "# sold_home_df.columns"
   ]
  },
  {
   "cell_type": "code",
   "execution_count": 126,
   "metadata": {},
   "outputs": [
    {
     "data": {
      "text/plain": [
       "['address',\n",
       " 'city',\n",
       " 'state',\n",
       " 'zip_code',\n",
       " 'sqft',\n",
       " 'latitude',\n",
       " 'longitude',\n",
       " 'Redfin Estimate',\n",
       " 'Last Sold Price',\n",
       " 'Beds',\n",
       " 'Baths',\n",
       " 'Built: ',\n",
       " 'Status: ',\n",
       " 'description',\n",
       " 'elem_school_name',\n",
       " 'elem_school_grades',\n",
       " 'elem_school_rating',\n",
       " 'middle_school_name',\n",
       " 'middle_school_grades',\n",
       " 'high_school_name',\n",
       " 'high_school_grades',\n",
       " 'Baths',\n",
       " 'Sq. Ft.',\n",
       " 'Stories',\n",
       " 'Lot Size',\n",
       " 'Style',\n",
       " 'Year Renovated',\n",
       " 'County',\n",
       " 'APN',\n",
       " 'Family Room Description: ',\n",
       " 'Dining Room Description: ',\n",
       " '<span>Has Fireplace</span>',\n",
       " 'Fireplace Description: ',\n",
       " 'Heating: ',\n",
       " 'Parking Description: ',\n",
       " 'Elementary School: ',\n",
       " 'Elementary School District: ',\n",
       " 'Middle School: ',\n",
       " 'High School: ',\n",
       " 'City Transfer Tax: ',\n",
       " 'Roof: ',\n",
       " '<span>Concrete Slab</span>',\n",
       " '<span>Has Pool</span>',\n",
       " 'Sewer Septic: ',\n",
       " 'Utilities: ',\n",
       " 'Water: ',\n",
       " 'Property Master ID: ',\n",
       " 'Lot Acres: ',\n",
       " 'Lot Size Area Minimum Units: ',\n",
       " 'Lot Size Source: ',\n",
       " 'Zoning: ']"
      ]
     },
     "execution_count": 126,
     "metadata": {},
     "output_type": "execute_result"
    }
   ],
   "source": [
    "[num for num in sold_home_df.T.drop_duplicates().T.columns]"
   ]
  },
  {
   "cell_type": "code",
   "execution_count": 30,
   "metadata": {
    "ExecuteTime": {
     "end_time": "2018-10-04T22:41:42.104955Z",
     "start_time": "2018-10-04T22:41:28.665626Z"
    },
    "scrolled": true
   },
   "outputs": [
    {
     "name": "stdout",
     "output_type": "stream",
     "text": [
      "107.178.9.195:44767\n",
      "https://www.redfin.com/CA/Fremont/1622-Mento-Ter-94539/home/22962572\n"
     ]
    },
    {
     "ename": "KeyboardInterrupt",
     "evalue": "",
     "output_type": "error",
     "traceback": [
      "\u001b[0;31m---------------------------------------------------------------------------\u001b[0m",
      "\u001b[0;31mKeyboardInterrupt\u001b[0m                         Traceback (most recent call last)",
      "\u001b[0;32m<ipython-input-30-68e4b71d3585>\u001b[0m in \u001b[0;36m<module>\u001b[0;34m()\u001b[0m\n\u001b[1;32m      6\u001b[0m \u001b[0mprint\u001b[0m\u001b[0;34m(\u001b[0m\u001b[0mproxy\u001b[0m\u001b[0;34m)\u001b[0m\u001b[0;34m\u001b[0m\u001b[0m\n\u001b[1;32m      7\u001b[0m \u001b[0mprint\u001b[0m\u001b[0;34m(\u001b[0m\u001b[0murl\u001b[0m\u001b[0;34m)\u001b[0m\u001b[0;34m\u001b[0m\u001b[0m\n\u001b[0;32m----> 8\u001b[0;31m \u001b[0msoup\u001b[0m \u001b[0;34m=\u001b[0m \u001b[0msession_creator\u001b[0m\u001b[0;34m(\u001b[0m\u001b[0mproxy\u001b[0m\u001b[0;34m,\u001b[0m \u001b[0mua\u001b[0m\u001b[0;34m,\u001b[0m \u001b[0murl\u001b[0m\u001b[0;34m)\u001b[0m\u001b[0;34m\u001b[0m\u001b[0m\n\u001b[0m\u001b[1;32m      9\u001b[0m \u001b[0mschool_parser\u001b[0m\u001b[0;34m(\u001b[0m\u001b[0msoup\u001b[0m\u001b[0;34m,\u001b[0m \u001b[0;36m1\u001b[0m\u001b[0;34m)\u001b[0m\u001b[0;34m\u001b[0m\u001b[0m\n",
      "\u001b[0;32m~/apt-get-home/src/INITIAL_SCRAPPER_FUNCTIONS.py\u001b[0m in \u001b[0;36msession_creator\u001b[0;34m(proxy, ua, url)\u001b[0m\n\u001b[1;32m     18\u001b[0m     \u001b[0msession\u001b[0m \u001b[0;34m=\u001b[0m \u001b[0mrequests\u001b[0m\u001b[0;34m.\u001b[0m\u001b[0mSession\u001b[0m\u001b[0;34m(\u001b[0m\u001b[0;34m)\u001b[0m\u001b[0;34m\u001b[0m\u001b[0m\n\u001b[1;32m     19\u001b[0m     \u001b[0msession\u001b[0m\u001b[0;34m.\u001b[0m\u001b[0mproxies\u001b[0m \u001b[0;34m=\u001b[0m \u001b[0;34m{\u001b[0m\u001b[0;34m\"http\"\u001b[0m\u001b[0;34m:\u001b[0m \u001b[0mproxy\u001b[0m\u001b[0;34m,\u001b[0m \u001b[0;34m\"https\"\u001b[0m\u001b[0;34m:\u001b[0m \u001b[0mproxy\u001b[0m\u001b[0;34m}\u001b[0m\u001b[0;34m\u001b[0m\u001b[0m\n\u001b[0;32m---> 20\u001b[0;31m     \u001b[0mreq\u001b[0m \u001b[0;34m=\u001b[0m \u001b[0msession\u001b[0m\u001b[0;34m.\u001b[0m\u001b[0mget\u001b[0m\u001b[0;34m(\u001b[0m\u001b[0murl\u001b[0m\u001b[0;34m,\u001b[0m \u001b[0mheaders\u001b[0m\u001b[0;34m=\u001b[0m\u001b[0mheader\u001b[0m\u001b[0;34m)\u001b[0m\u001b[0;34m\u001b[0m\u001b[0m\n\u001b[0m\u001b[1;32m     21\u001b[0m \u001b[0;34m\u001b[0m\u001b[0m\n\u001b[1;32m     22\u001b[0m     \u001b[0msoup\u001b[0m \u001b[0;34m=\u001b[0m \u001b[0mBeautifulSoup\u001b[0m\u001b[0;34m(\u001b[0m\u001b[0mreq\u001b[0m\u001b[0;34m.\u001b[0m\u001b[0mtext\u001b[0m\u001b[0;34m,\u001b[0m \u001b[0;34m'lxml'\u001b[0m\u001b[0;34m)\u001b[0m\u001b[0;34m\u001b[0m\u001b[0m\n",
      "\u001b[0;32m~/anaconda3/lib/python3.6/site-packages/requests/sessions.py\u001b[0m in \u001b[0;36mget\u001b[0;34m(self, url, **kwargs)\u001b[0m\n\u001b[1;32m    523\u001b[0m \u001b[0;34m\u001b[0m\u001b[0m\n\u001b[1;32m    524\u001b[0m         \u001b[0mkwargs\u001b[0m\u001b[0;34m.\u001b[0m\u001b[0msetdefault\u001b[0m\u001b[0;34m(\u001b[0m\u001b[0;34m'allow_redirects'\u001b[0m\u001b[0;34m,\u001b[0m \u001b[0;32mTrue\u001b[0m\u001b[0;34m)\u001b[0m\u001b[0;34m\u001b[0m\u001b[0m\n\u001b[0;32m--> 525\u001b[0;31m         \u001b[0;32mreturn\u001b[0m \u001b[0mself\u001b[0m\u001b[0;34m.\u001b[0m\u001b[0mrequest\u001b[0m\u001b[0;34m(\u001b[0m\u001b[0;34m'GET'\u001b[0m\u001b[0;34m,\u001b[0m \u001b[0murl\u001b[0m\u001b[0;34m,\u001b[0m \u001b[0;34m**\u001b[0m\u001b[0mkwargs\u001b[0m\u001b[0;34m)\u001b[0m\u001b[0;34m\u001b[0m\u001b[0m\n\u001b[0m\u001b[1;32m    526\u001b[0m \u001b[0;34m\u001b[0m\u001b[0m\n\u001b[1;32m    527\u001b[0m     \u001b[0;32mdef\u001b[0m \u001b[0moptions\u001b[0m\u001b[0;34m(\u001b[0m\u001b[0mself\u001b[0m\u001b[0;34m,\u001b[0m \u001b[0murl\u001b[0m\u001b[0;34m,\u001b[0m \u001b[0;34m**\u001b[0m\u001b[0mkwargs\u001b[0m\u001b[0;34m)\u001b[0m\u001b[0;34m:\u001b[0m\u001b[0;34m\u001b[0m\u001b[0m\n",
      "\u001b[0;32m~/anaconda3/lib/python3.6/site-packages/requests/sessions.py\u001b[0m in \u001b[0;36mrequest\u001b[0;34m(self, method, url, params, data, headers, cookies, files, auth, timeout, allow_redirects, proxies, hooks, stream, verify, cert, json)\u001b[0m\n\u001b[1;32m    510\u001b[0m         }\n\u001b[1;32m    511\u001b[0m         \u001b[0msend_kwargs\u001b[0m\u001b[0;34m.\u001b[0m\u001b[0mupdate\u001b[0m\u001b[0;34m(\u001b[0m\u001b[0msettings\u001b[0m\u001b[0;34m)\u001b[0m\u001b[0;34m\u001b[0m\u001b[0m\n\u001b[0;32m--> 512\u001b[0;31m         \u001b[0mresp\u001b[0m \u001b[0;34m=\u001b[0m \u001b[0mself\u001b[0m\u001b[0;34m.\u001b[0m\u001b[0msend\u001b[0m\u001b[0;34m(\u001b[0m\u001b[0mprep\u001b[0m\u001b[0;34m,\u001b[0m \u001b[0;34m**\u001b[0m\u001b[0msend_kwargs\u001b[0m\u001b[0;34m)\u001b[0m\u001b[0;34m\u001b[0m\u001b[0m\n\u001b[0m\u001b[1;32m    513\u001b[0m \u001b[0;34m\u001b[0m\u001b[0m\n\u001b[1;32m    514\u001b[0m         \u001b[0;32mreturn\u001b[0m \u001b[0mresp\u001b[0m\u001b[0;34m\u001b[0m\u001b[0m\n",
      "\u001b[0;32m~/anaconda3/lib/python3.6/site-packages/requests/sessions.py\u001b[0m in \u001b[0;36msend\u001b[0;34m(self, request, **kwargs)\u001b[0m\n\u001b[1;32m    620\u001b[0m \u001b[0;34m\u001b[0m\u001b[0m\n\u001b[1;32m    621\u001b[0m         \u001b[0;31m# Send the request\u001b[0m\u001b[0;34m\u001b[0m\u001b[0;34m\u001b[0m\u001b[0m\n\u001b[0;32m--> 622\u001b[0;31m         \u001b[0mr\u001b[0m \u001b[0;34m=\u001b[0m \u001b[0madapter\u001b[0m\u001b[0;34m.\u001b[0m\u001b[0msend\u001b[0m\u001b[0;34m(\u001b[0m\u001b[0mrequest\u001b[0m\u001b[0;34m,\u001b[0m \u001b[0;34m**\u001b[0m\u001b[0mkwargs\u001b[0m\u001b[0;34m)\u001b[0m\u001b[0;34m\u001b[0m\u001b[0m\n\u001b[0m\u001b[1;32m    623\u001b[0m \u001b[0;34m\u001b[0m\u001b[0m\n\u001b[1;32m    624\u001b[0m         \u001b[0;31m# Total elapsed time of the request (approximately)\u001b[0m\u001b[0;34m\u001b[0m\u001b[0;34m\u001b[0m\u001b[0m\n",
      "\u001b[0;32m~/anaconda3/lib/python3.6/site-packages/requests/adapters.py\u001b[0m in \u001b[0;36msend\u001b[0;34m(self, request, stream, timeout, verify, cert, proxies)\u001b[0m\n\u001b[1;32m    528\u001b[0m                 \u001b[0;32mraise\u001b[0m\u001b[0;34m\u001b[0m\u001b[0m\n\u001b[1;32m    529\u001b[0m \u001b[0;34m\u001b[0m\u001b[0m\n\u001b[0;32m--> 530\u001b[0;31m         \u001b[0;32mreturn\u001b[0m \u001b[0mself\u001b[0m\u001b[0;34m.\u001b[0m\u001b[0mbuild_response\u001b[0m\u001b[0;34m(\u001b[0m\u001b[0mrequest\u001b[0m\u001b[0;34m,\u001b[0m \u001b[0mresp\u001b[0m\u001b[0;34m)\u001b[0m\u001b[0;34m\u001b[0m\u001b[0m\n\u001b[0m",
      "\u001b[0;32m~/anaconda3/lib/python3.6/site-packages/requests/adapters.py\u001b[0m in \u001b[0;36mbuild_response\u001b[0;34m(self, req, resp)\u001b[0m\n\u001b[1;32m    281\u001b[0m \u001b[0;34m\u001b[0m\u001b[0m\n\u001b[1;32m    282\u001b[0m         \u001b[0;31m# Add new cookies from the server.\u001b[0m\u001b[0;34m\u001b[0m\u001b[0;34m\u001b[0m\u001b[0m\n\u001b[0;32m--> 283\u001b[0;31m         \u001b[0mextract_cookies_to_jar\u001b[0m\u001b[0;34m(\u001b[0m\u001b[0mresponse\u001b[0m\u001b[0;34m.\u001b[0m\u001b[0mcookies\u001b[0m\u001b[0;34m,\u001b[0m \u001b[0mreq\u001b[0m\u001b[0;34m,\u001b[0m \u001b[0mresp\u001b[0m\u001b[0;34m)\u001b[0m\u001b[0;34m\u001b[0m\u001b[0m\n\u001b[0m\u001b[1;32m    284\u001b[0m \u001b[0;34m\u001b[0m\u001b[0m\n\u001b[1;32m    285\u001b[0m         \u001b[0;31m# Give the Response some context.\u001b[0m\u001b[0;34m\u001b[0m\u001b[0;34m\u001b[0m\u001b[0m\n",
      "\u001b[0;32m~/anaconda3/lib/python3.6/site-packages/requests/cookies.py\u001b[0m in \u001b[0;36mextract_cookies_to_jar\u001b[0;34m(jar, request, response)\u001b[0m\n\u001b[1;32m    130\u001b[0m     \u001b[0;31m# pull out the HTTPMessage with the headers and put it in the mock:\u001b[0m\u001b[0;34m\u001b[0m\u001b[0;34m\u001b[0m\u001b[0m\n\u001b[1;32m    131\u001b[0m     \u001b[0mres\u001b[0m \u001b[0;34m=\u001b[0m \u001b[0mMockResponse\u001b[0m\u001b[0;34m(\u001b[0m\u001b[0mresponse\u001b[0m\u001b[0;34m.\u001b[0m\u001b[0m_original_response\u001b[0m\u001b[0;34m.\u001b[0m\u001b[0mmsg\u001b[0m\u001b[0;34m)\u001b[0m\u001b[0;34m\u001b[0m\u001b[0m\n\u001b[0;32m--> 132\u001b[0;31m     \u001b[0mjar\u001b[0m\u001b[0;34m.\u001b[0m\u001b[0mextract_cookies\u001b[0m\u001b[0;34m(\u001b[0m\u001b[0mres\u001b[0m\u001b[0;34m,\u001b[0m \u001b[0mreq\u001b[0m\u001b[0;34m)\u001b[0m\u001b[0;34m\u001b[0m\u001b[0m\n\u001b[0m\u001b[1;32m    133\u001b[0m \u001b[0;34m\u001b[0m\u001b[0m\n\u001b[1;32m    134\u001b[0m \u001b[0;34m\u001b[0m\u001b[0m\n",
      "\u001b[0;32m~/anaconda3/lib/python3.6/http/cookiejar.py\u001b[0m in \u001b[0;36mextract_cookies\u001b[0;34m(self, response, request)\u001b[0m\n\u001b[1;32m   1663\u001b[0m \u001b[0;34m\u001b[0m\u001b[0m\n\u001b[1;32m   1664\u001b[0m             \u001b[0;32mfor\u001b[0m \u001b[0mcookie\u001b[0m \u001b[0;32min\u001b[0m \u001b[0mself\u001b[0m\u001b[0;34m.\u001b[0m\u001b[0mmake_cookies\u001b[0m\u001b[0;34m(\u001b[0m\u001b[0mresponse\u001b[0m\u001b[0;34m,\u001b[0m \u001b[0mrequest\u001b[0m\u001b[0;34m)\u001b[0m\u001b[0;34m:\u001b[0m\u001b[0;34m\u001b[0m\u001b[0m\n\u001b[0;32m-> 1665\u001b[0;31m                 \u001b[0;32mif\u001b[0m \u001b[0mself\u001b[0m\u001b[0;34m.\u001b[0m\u001b[0m_policy\u001b[0m\u001b[0;34m.\u001b[0m\u001b[0mset_ok\u001b[0m\u001b[0;34m(\u001b[0m\u001b[0mcookie\u001b[0m\u001b[0;34m,\u001b[0m \u001b[0mrequest\u001b[0m\u001b[0;34m)\u001b[0m\u001b[0;34m:\u001b[0m\u001b[0;34m\u001b[0m\u001b[0m\n\u001b[0m\u001b[1;32m   1666\u001b[0m                     \u001b[0m_debug\u001b[0m\u001b[0;34m(\u001b[0m\u001b[0;34m\" setting cookie: %s\"\u001b[0m\u001b[0;34m,\u001b[0m \u001b[0mcookie\u001b[0m\u001b[0;34m)\u001b[0m\u001b[0;34m\u001b[0m\u001b[0m\n\u001b[1;32m   1667\u001b[0m                     \u001b[0mself\u001b[0m\u001b[0;34m.\u001b[0m\u001b[0mset_cookie\u001b[0m\u001b[0;34m(\u001b[0m\u001b[0mcookie\u001b[0m\u001b[0;34m)\u001b[0m\u001b[0;34m\u001b[0m\u001b[0m\n",
      "\u001b[0;32m~/anaconda3/lib/python3.6/http/cookiejar.py\u001b[0m in \u001b[0;36mset_ok\u001b[0;34m(self, cookie, request)\u001b[0m\n\u001b[1;32m    948\u001b[0m             \u001b[0mfn_name\u001b[0m \u001b[0;34m=\u001b[0m \u001b[0;34m\"set_ok_\"\u001b[0m\u001b[0;34m+\u001b[0m\u001b[0mn\u001b[0m\u001b[0;34m\u001b[0m\u001b[0m\n\u001b[1;32m    949\u001b[0m             \u001b[0mfn\u001b[0m \u001b[0;34m=\u001b[0m \u001b[0mgetattr\u001b[0m\u001b[0;34m(\u001b[0m\u001b[0mself\u001b[0m\u001b[0;34m,\u001b[0m \u001b[0mfn_name\u001b[0m\u001b[0;34m)\u001b[0m\u001b[0;34m\u001b[0m\u001b[0m\n\u001b[0;32m--> 950\u001b[0;31m             \u001b[0;32mif\u001b[0m \u001b[0;32mnot\u001b[0m \u001b[0mfn\u001b[0m\u001b[0;34m(\u001b[0m\u001b[0mcookie\u001b[0m\u001b[0;34m,\u001b[0m \u001b[0mrequest\u001b[0m\u001b[0;34m)\u001b[0m\u001b[0;34m:\u001b[0m\u001b[0;34m\u001b[0m\u001b[0m\n\u001b[0m\u001b[1;32m    951\u001b[0m                 \u001b[0;32mreturn\u001b[0m \u001b[0;32mFalse\u001b[0m\u001b[0;34m\u001b[0m\u001b[0m\n\u001b[1;32m    952\u001b[0m \u001b[0;34m\u001b[0m\u001b[0m\n",
      "\u001b[0;32m~/anaconda3/lib/python3.6/http/cookiejar.py\u001b[0m in \u001b[0;36mset_ok_domain\u001b[0;34m(self, cookie, request)\u001b[0m\n\u001b[1;32m   1008\u001b[0m             \u001b[0;32mreturn\u001b[0m \u001b[0;32mFalse\u001b[0m\u001b[0;34m\u001b[0m\u001b[0m\n\u001b[1;32m   1009\u001b[0m         \u001b[0;32mif\u001b[0m \u001b[0mcookie\u001b[0m\u001b[0;34m.\u001b[0m\u001b[0mdomain_specified\u001b[0m\u001b[0;34m:\u001b[0m\u001b[0;34m\u001b[0m\u001b[0m\n\u001b[0;32m-> 1010\u001b[0;31m             \u001b[0mreq_host\u001b[0m\u001b[0;34m,\u001b[0m \u001b[0merhn\u001b[0m \u001b[0;34m=\u001b[0m \u001b[0meff_request_host\u001b[0m\u001b[0;34m(\u001b[0m\u001b[0mrequest\u001b[0m\u001b[0;34m)\u001b[0m\u001b[0;34m\u001b[0m\u001b[0m\n\u001b[0m\u001b[1;32m   1011\u001b[0m             \u001b[0mdomain\u001b[0m \u001b[0;34m=\u001b[0m \u001b[0mcookie\u001b[0m\u001b[0;34m.\u001b[0m\u001b[0mdomain\u001b[0m\u001b[0;34m\u001b[0m\u001b[0m\n\u001b[1;32m   1012\u001b[0m             \u001b[0;32mif\u001b[0m \u001b[0mself\u001b[0m\u001b[0;34m.\u001b[0m\u001b[0mstrict_domain\u001b[0m \u001b[0;32mand\u001b[0m \u001b[0;34m(\u001b[0m\u001b[0mdomain\u001b[0m\u001b[0;34m.\u001b[0m\u001b[0mcount\u001b[0m\u001b[0;34m(\u001b[0m\u001b[0;34m\".\"\u001b[0m\u001b[0;34m)\u001b[0m \u001b[0;34m>=\u001b[0m \u001b[0;36m2\u001b[0m\u001b[0;34m)\u001b[0m\u001b[0;34m:\u001b[0m\u001b[0;34m\u001b[0m\u001b[0m\n",
      "\u001b[0;32m~/anaconda3/lib/python3.6/http/cookiejar.py\u001b[0m in \u001b[0;36meff_request_host\u001b[0;34m(request)\u001b[0m\n\u001b[1;32m    629\u001b[0m \u001b[0;34m\u001b[0m\u001b[0m\n\u001b[1;32m    630\u001b[0m     \"\"\"\n\u001b[0;32m--> 631\u001b[0;31m     \u001b[0merhn\u001b[0m \u001b[0;34m=\u001b[0m \u001b[0mreq_host\u001b[0m \u001b[0;34m=\u001b[0m \u001b[0mrequest_host\u001b[0m\u001b[0;34m(\u001b[0m\u001b[0mrequest\u001b[0m\u001b[0;34m)\u001b[0m\u001b[0;34m\u001b[0m\u001b[0m\n\u001b[0m\u001b[1;32m    632\u001b[0m     \u001b[0;32mif\u001b[0m \u001b[0mreq_host\u001b[0m\u001b[0;34m.\u001b[0m\u001b[0mfind\u001b[0m\u001b[0;34m(\u001b[0m\u001b[0;34m\".\"\u001b[0m\u001b[0;34m)\u001b[0m \u001b[0;34m==\u001b[0m \u001b[0;34m-\u001b[0m\u001b[0;36m1\u001b[0m \u001b[0;32mand\u001b[0m \u001b[0;32mnot\u001b[0m \u001b[0mIPV4_RE\u001b[0m\u001b[0;34m.\u001b[0m\u001b[0msearch\u001b[0m\u001b[0;34m(\u001b[0m\u001b[0mreq_host\u001b[0m\u001b[0;34m)\u001b[0m\u001b[0;34m:\u001b[0m\u001b[0;34m\u001b[0m\u001b[0m\n\u001b[1;32m    633\u001b[0m         \u001b[0merhn\u001b[0m \u001b[0;34m=\u001b[0m \u001b[0mreq_host\u001b[0m \u001b[0;34m+\u001b[0m \u001b[0;34m\".local\"\u001b[0m\u001b[0;34m\u001b[0m\u001b[0m\n",
      "\u001b[0;31mKeyboardInterrupt\u001b[0m: "
     ]
    }
   ],
   "source": [
    "header = random.sample(ua, 1)[0]\n",
    "proxy = random.sample(proxies, 1)[0]\n",
    "sold_url_list = s_main_df['home_link'].tolist()\n",
    "url = 'https://www.redfin.com/CA/Fremont/1622-Mento-Ter-94539/home/22962572'\n",
    "# url = random.sample(sold_url_list, 1)[0]\n",
    "print(proxy)\n",
    "print(url)\n",
    "soup = session_creator(proxy, ua, url)\n",
    "school_parser(soup, 1)"
   ]
  },
  {
   "cell_type": "code",
   "execution_count": 109,
   "metadata": {},
   "outputs": [],
   "source": [
    "a = 'hello!'"
   ]
  },
  {
   "cell_type": "code",
   "execution_count": 110,
   "metadata": {},
   "outputs": [
    {
     "data": {
      "text/plain": [
       "'hello'"
      ]
     },
     "execution_count": 110,
     "metadata": {},
     "output_type": "execute_result"
    }
   ],
   "source": [
    "a[:-1]"
   ]
  },
  {
   "cell_type": "code",
   "execution_count": null,
   "metadata": {},
   "outputs": [],
   "source": []
  },
  {
   "cell_type": "code",
   "execution_count": null,
   "metadata": {},
   "outputs": [],
   "source": []
  },
  {
   "cell_type": "code",
   "execution_count": null,
   "metadata": {},
   "outputs": [],
   "source": []
  }
 ],
 "metadata": {
  "kernelspec": {
   "display_name": "Python 3",
   "language": "python",
   "name": "python3"
  },
  "language_info": {
   "codemirror_mode": {
    "name": "ipython",
    "version": 3
   },
   "file_extension": ".py",
   "mimetype": "text/x-python",
   "name": "python",
   "nbconvert_exporter": "python",
   "pygments_lexer": "ipython3",
   "version": "3.6.6"
  }
 },
 "nbformat": 4,
 "nbformat_minor": 2
}
