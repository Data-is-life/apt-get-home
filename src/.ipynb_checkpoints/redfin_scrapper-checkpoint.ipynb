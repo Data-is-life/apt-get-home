{
 "cells": [
  {
   "cell_type": "code",
   "execution_count": 595,
   "metadata": {
    "ExecuteTime": {
     "end_time": "2018-10-02T23:09:47.643848Z",
     "start_time": "2018-10-02T23:09:47.618321Z"
    }
   },
   "outputs": [],
   "source": [
    "from math import ceil\n",
    "import time\n",
    "import re\n",
    "import ast\n",
    "import sys\n",
    "import urllib\n",
    "import time\n",
    "import random\n",
    "import pandas as pd\n",
    "from bs4 import BeautifulSoup\n",
    "from random import randint\n",
    "from selenium.webdriver.firefox.webdriver import FirefoxProfile\n",
    "from urllib.request import urlopen, Request\n",
    "from urllib.error import HTTPError\n",
    "from urllib.error import URLError\n",
    "import requests\n",
    "from itertools import cycle\n",
    "import string\n",
    "from header_list import user_agent_list\n",
    "from proxies_list import proxies_list_, proxie_random_pool\n",
    "from FUNCTIONS import proxie_check, strip_count, gen_url_list\n",
    "from SCRAPPER_FUNCTIONS import session_creator, zip_prop_count, each_page, links_for_props"
   ]
  },
  {
   "cell_type": "code",
   "execution_count": 596,
   "metadata": {
    "ExecuteTime": {
     "end_time": "2018-10-02T23:09:47.814775Z",
     "start_time": "2018-10-02T23:09:47.796629Z"
    }
   },
   "outputs": [],
   "source": [
    "ua = user_agent_list\n",
    "proxies = proxies_list_\n",
    "prx_pool = proxie_random_pool"
   ]
  },
  {
   "cell_type": "code",
   "execution_count": 597,
   "metadata": {
    "ExecuteTime": {
     "end_time": "2018-10-02T23:09:48.005039Z",
     "start_time": "2018-10-02T23:09:47.982339Z"
    },
    "scrolled": true
   },
   "outputs": [
    {
     "data": {
      "text/plain": [
       "60"
      ]
     },
     "execution_count": 597,
     "metadata": {},
     "output_type": "execute_result"
    }
   ],
   "source": [
    "# proxies = proxie_check(proxies)\n",
    "len(proxies)"
   ]
  },
  {
   "cell_type": "code",
   "execution_count": 204,
   "metadata": {
    "ExecuteTime": {
     "end_time": "2018-10-01T23:51:48.614365Z",
     "start_time": "2018-10-01T23:51:48.592595Z"
    }
   },
   "outputs": [],
   "source": [
    "zip_codes = pd.read_csv('../Data/main_zips.csv')\n",
    "zip_list = zip_codes['zip'].tolist()"
   ]
  },
  {
   "cell_type": "code",
   "execution_count": 264,
   "metadata": {
    "ExecuteTime": {
     "end_time": "2018-10-02T04:33:36.102670Z",
     "start_time": "2018-10-02T04:33:36.090058Z"
    }
   },
   "outputs": [],
   "source": [
    "# active_url_list, sold_url_list = gen_url_list(zip_list)"
   ]
  },
  {
   "cell_type": "code",
   "execution_count": 213,
   "metadata": {
    "ExecuteTime": {
     "end_time": "2018-10-01T23:51:53.379236Z",
     "start_time": "2018-10-01T23:51:53.364515Z"
    }
   },
   "outputs": [],
   "source": [
    "# a_main_df = pd.DataFrame(columns=['full_address', 'home_link'])\n",
    "# s_main_df = pd.DataFrame(columns=['full_address', 'home_link'])"
   ]
  },
  {
   "cell_type": "code",
   "execution_count": 261,
   "metadata": {
    "ExecuteTime": {
     "end_time": "2018-10-02T04:32:54.682803Z",
     "start_time": "2018-10-02T04:32:54.666117Z"
    },
    "scrolled": true
   },
   "outputs": [],
   "source": [
    "# a = randint(0, 3)\n",
    "# time.sleep(random.uniform(0, 1)*((88/13)**.33)*a)\n",
    "# active_url_list, a_main_df, proxies = links_for_props(\n",
    "#     proxies, active_url_list, a_main_df, ua)"
   ]
  },
  {
   "cell_type": "code",
   "execution_count": 307,
   "metadata": {
    "ExecuteTime": {
     "end_time": "2018-10-02T18:24:37.912744Z",
     "start_time": "2018-10-02T18:24:37.899663Z"
    },
    "scrolled": true
   },
   "outputs": [],
   "source": [
    "# a_main_df"
   ]
  },
  {
   "cell_type": "code",
   "execution_count": 310,
   "metadata": {
    "ExecuteTime": {
     "end_time": "2018-10-02T18:25:02.916844Z",
     "start_time": "2018-10-02T18:25:02.904147Z"
    }
   },
   "outputs": [],
   "source": [
    "# len(active_url_list)"
   ]
  },
  {
   "cell_type": "code",
   "execution_count": 309,
   "metadata": {
    "ExecuteTime": {
     "end_time": "2018-10-02T18:24:59.974204Z",
     "start_time": "2018-10-02T18:24:59.955960Z"
    },
    "scrolled": true
   },
   "outputs": [],
   "source": [
    "# a = randint(0, 3)\n",
    "# sold_url_list, s_main_df, proxies = links_for_props(\n",
    "#     proxies, sold_url_list, s_main_df, ua)"
   ]
  },
  {
   "cell_type": "code",
   "execution_count": 160,
   "metadata": {
    "ExecuteTime": {
     "end_time": "2018-09-29T06:12:47.161386Z",
     "start_time": "2018-09-29T06:12:47.145144Z"
    }
   },
   "outputs": [],
   "source": [
    "# sld_under_url_list = sld_under_url_list[1:]\n",
    "# print(len(sld_under_url_list))"
   ]
  },
  {
   "cell_type": "code",
   "execution_count": 614,
   "metadata": {
    "ExecuteTime": {
     "end_time": "2018-09-28T20:44:08.886948Z",
     "start_time": "2018-09-28T20:44:08.872336Z"
    },
    "scrolled": true
   },
   "outputs": [],
   "source": [
    "# sld_under_url_list, s_main_df = links_for_props(\n",
    "#     proxies, sld_under_url_list, s_main_df, ua)"
   ]
  },
  {
   "cell_type": "code",
   "execution_count": 616,
   "metadata": {
    "ExecuteTime": {
     "end_time": "2018-09-28T20:44:16.925278Z",
     "start_time": "2018-09-28T20:44:16.908689Z"
    }
   },
   "outputs": [],
   "source": [
    "# list_ = list(s_main_df.full_address.values)\n",
    "# set([num[-5:] for num in list_])"
   ]
  },
  {
   "cell_type": "code",
   "execution_count": 612,
   "metadata": {
    "ExecuteTime": {
     "end_time": "2018-09-28T20:44:06.749963Z",
     "start_time": "2018-09-28T20:44:06.733486Z"
    }
   },
   "outputs": [],
   "source": [
    "# main_df.to_csv('../Data/main_df_ap.csv')\n",
    "# s_main_df.to_csv('../Data/s_main.csv')"
   ]
  },
  {
   "cell_type": "code",
   "execution_count": 21,
   "metadata": {
    "ExecuteTime": {
     "end_time": "2018-09-28T23:24:54.736939Z",
     "start_time": "2018-09-28T23:24:54.658430Z"
    },
    "scrolled": true
   },
   "outputs": [],
   "source": [
    "# s_main_df = pd.read_csv('../Data/s_main.csv')\n",
    "# main_df = pd.read_csv('../Data/main_df_ap.csv')"
   ]
  },
  {
   "cell_type": "code",
   "execution_count": 295,
   "metadata": {
    "ExecuteTime": {
     "end_time": "2018-10-02T17:34:47.681976Z",
     "start_time": "2018-10-02T17:34:47.573732Z"
    }
   },
   "outputs": [],
   "source": [
    "a_main_df.to_csv('../Data/active_props_url_list.csv')\n",
    "s_main_df.to_csv('../Data/sold_props_url_list.csv')"
   ]
  },
  {
   "cell_type": "code",
   "execution_count": 304,
   "metadata": {
    "ExecuteTime": {
     "end_time": "2018-10-02T18:19:26.987057Z",
     "start_time": "2018-10-02T18:19:26.963635Z"
    }
   },
   "outputs": [],
   "source": [
    "a_main_df = a_main_df.drop_duplicates(subset='full_address')\n",
    "s_main_df = s_main_df.drop_duplicates(subset='full_address')"
   ]
  },
  {
   "cell_type": "code",
   "execution_count": 305,
   "metadata": {
    "ExecuteTime": {
     "end_time": "2018-10-02T18:21:54.917626Z",
     "start_time": "2018-10-02T18:21:54.900591Z"
    }
   },
   "outputs": [],
   "source": [
    "active_url_list = a_main_df.home_link.tolist()"
   ]
  },
  {
   "cell_type": "code",
   "execution_count": 306,
   "metadata": {
    "ExecuteTime": {
     "end_time": "2018-10-02T18:22:03.554001Z",
     "start_time": "2018-10-02T18:22:03.537382Z"
    }
   },
   "outputs": [
    {
     "data": {
      "text/plain": [
       "10153"
      ]
     },
     "execution_count": 306,
     "metadata": {},
     "output_type": "execute_result"
    }
   ],
   "source": [
    "len(active_url_list)"
   ]
  },
  {
   "cell_type": "code",
   "execution_count": 646,
   "metadata": {
    "ExecuteTime": {
     "end_time": "2018-10-02T23:35:35.371654Z",
     "start_time": "2018-10-02T23:35:35.350123Z"
    }
   },
   "outputs": [],
   "source": [
    "def each_property(url, hdr, proxy):\n",
    "\n",
    "    soup = session_creator(proxy, ua, url)\n",
    "\n",
    "    home_dict = address_parser(soup)\n",
    "\n",
    "    top_info_dict = top_info_parser(soup)\n",
    "\n",
    "    public_info_dict = public_info_parser(soup)\n",
    "\n",
    "    school_dict = school_parser(soup)\n",
    "\n",
    "    home_description = soup.find('p', {'class': 'font-b1'})\n",
    "    if home_description != None:\n",
    "        home_dict['description'] = home_description.span.text\n",
    "\n",
    "    all_home_feats = soup.findAll('span', {'class': \"entryItemContent\"})\n",
    "    \n",
    "#     feats = [num.text for num in all_home_feats]\n",
    "\n",
    "#     prop_hist = soup.findAll(\n",
    "#         'div', {'id': 'propertyHistory-expandable-segment'})\n",
    "#     prop_history = [num.text for num in prop_hist]\n",
    "    \n",
    "    df = pd.concat([home_dict, top_info_dict, top_info_dict, public_info_dict], sort=False, )\n",
    "\n",
    "    return df, all_home_feats"
   ]
  },
  {
   "cell_type": "code",
   "execution_count": 647,
   "metadata": {
    "ExecuteTime": {
     "end_time": "2018-10-02T23:35:56.466255Z",
     "start_time": "2018-10-02T23:35:35.487294Z"
    }
   },
   "outputs": [
    {
     "name": "stdout",
     "output_type": "stream",
     "text": [
      "37.224.84.90:8080\n",
      "https://www.redfin.com/FL/Naples/4238-27th-Ct-SW-34116/unit-204/home/67465617\n",
      "<_sre.SRE_Match object; span=(0, 21), match='4238 27th Ct SW #204,'>\n"
     ]
    }
   ],
   "source": [
    "header = random.sample(ua, 1)[0]\n",
    "proxy = random.sample(proxies, 1)[0]\n",
    "sold_url_list = s_main_df['home_link'].tolist()\n",
    "# url = random.sample(active_url_list, 1)[0]\n",
    "url = random.sample(sold_url_list, 1)[0]\n",
    "print(proxy)\n",
    "print(url)\n",
    "\n",
    "sold_home_df, feats = each_property(url, header, proxy)"
   ]
  },
  {
   "cell_type": "code",
   "execution_count": 648,
   "metadata": {
    "ExecuteTime": {
     "end_time": "2018-10-02T23:35:56.507356Z",
     "start_time": "2018-10-02T23:35:56.468546Z"
    }
   },
   "outputs": [
    {
     "data": {
      "text/html": [
       "<div>\n",
       "<style scoped>\n",
       "    .dataframe tbody tr th:only-of-type {\n",
       "        vertical-align: middle;\n",
       "    }\n",
       "\n",
       "    .dataframe tbody tr th {\n",
       "        vertical-align: top;\n",
       "    }\n",
       "\n",
       "    .dataframe thead th {\n",
       "        text-align: right;\n",
       "    }\n",
       "</style>\n",
       "<table border=\"1\" class=\"dataframe\">\n",
       "  <thead>\n",
       "    <tr style=\"text-align: right;\">\n",
       "      <th></th>\n",
       "      <th>address</th>\n",
       "      <th>city</th>\n",
       "      <th>zip_code</th>\n",
       "      <th>state</th>\n",
       "      <th>mls_num</th>\n",
       "      <th>description</th>\n",
       "      <th>num_beds</th>\n",
       "      <th>num_baths</th>\n",
       "      <th>home_sqft</th>\n",
       "      <th>yr_blt</th>\n",
       "      <th>...</th>\n",
       "      <th>Beds</th>\n",
       "      <th>Baths</th>\n",
       "      <th>Sq. Ft.</th>\n",
       "      <th>Stories</th>\n",
       "      <th>Lot Size</th>\n",
       "      <th>Style</th>\n",
       "      <th>Year Built</th>\n",
       "      <th>Year Renovated</th>\n",
       "      <th>County</th>\n",
       "      <th>APN</th>\n",
       "    </tr>\n",
       "  </thead>\n",
       "  <tbody>\n",
       "    <tr>\n",
       "      <th>1</th>\n",
       "      <td>4238 27th Ct SW #204</td>\n",
       "      <td>Naples</td>\n",
       "      <td>34116</td>\n",
       "      <td>None</td>\n",
       "      <td>218032168</td>\n",
       "      <td>SPECTACULAR GOLF COURSE VIEW, where membership...</td>\n",
       "      <td>NaN</td>\n",
       "      <td>NaN</td>\n",
       "      <td>NaN</td>\n",
       "      <td>NaN</td>\n",
       "      <td>...</td>\n",
       "      <td>NaN</td>\n",
       "      <td>NaN</td>\n",
       "      <td>NaN</td>\n",
       "      <td>NaN</td>\n",
       "      <td>NaN</td>\n",
       "      <td>NaN</td>\n",
       "      <td>NaN</td>\n",
       "      <td>NaN</td>\n",
       "      <td>NaN</td>\n",
       "      <td>NaN</td>\n",
       "    </tr>\n",
       "    <tr>\n",
       "      <th>1</th>\n",
       "      <td>NaN</td>\n",
       "      <td>NaN</td>\n",
       "      <td>NaN</td>\n",
       "      <td>NaN</td>\n",
       "      <td>NaN</td>\n",
       "      <td>NaN</td>\n",
       "      <td>2.0</td>\n",
       "      <td>2.0</td>\n",
       "      <td>800.0</td>\n",
       "      <td>1983.0</td>\n",
       "      <td>...</td>\n",
       "      <td>NaN</td>\n",
       "      <td>NaN</td>\n",
       "      <td>NaN</td>\n",
       "      <td>NaN</td>\n",
       "      <td>NaN</td>\n",
       "      <td>NaN</td>\n",
       "      <td>NaN</td>\n",
       "      <td>NaN</td>\n",
       "      <td>NaN</td>\n",
       "      <td>NaN</td>\n",
       "    </tr>\n",
       "    <tr>\n",
       "      <th>1</th>\n",
       "      <td>NaN</td>\n",
       "      <td>NaN</td>\n",
       "      <td>NaN</td>\n",
       "      <td>NaN</td>\n",
       "      <td>NaN</td>\n",
       "      <td>NaN</td>\n",
       "      <td>2.0</td>\n",
       "      <td>2.0</td>\n",
       "      <td>800.0</td>\n",
       "      <td>1983.0</td>\n",
       "      <td>...</td>\n",
       "      <td>NaN</td>\n",
       "      <td>NaN</td>\n",
       "      <td>NaN</td>\n",
       "      <td>NaN</td>\n",
       "      <td>NaN</td>\n",
       "      <td>NaN</td>\n",
       "      <td>NaN</td>\n",
       "      <td>NaN</td>\n",
       "      <td>NaN</td>\n",
       "      <td>NaN</td>\n",
       "    </tr>\n",
       "    <tr>\n",
       "      <th>1</th>\n",
       "      <td>NaN</td>\n",
       "      <td>NaN</td>\n",
       "      <td>NaN</td>\n",
       "      <td>NaN</td>\n",
       "      <td>NaN</td>\n",
       "      <td>NaN</td>\n",
       "      <td>NaN</td>\n",
       "      <td>NaN</td>\n",
       "      <td>NaN</td>\n",
       "      <td>NaN</td>\n",
       "      <td>...</td>\n",
       "      <td>—</td>\n",
       "      <td>—</td>\n",
       "      <td>800</td>\n",
       "      <td>—</td>\n",
       "      <td>—</td>\n",
       "      <td>Condo/Co-op</td>\n",
       "      <td>1985</td>\n",
       "      <td>1985</td>\n",
       "      <td>Collier County</td>\n",
       "      <td>32282960004</td>\n",
       "    </tr>\n",
       "  </tbody>\n",
       "</table>\n",
       "<p>4 rows × 23 columns</p>\n",
       "</div>"
      ],
      "text/plain": [
       "                address     city zip_code state    mls_num  \\\n",
       "1  4238 27th Ct SW #204   Naples    34116  None  218032168   \n",
       "1                   NaN      NaN      NaN   NaN        NaN   \n",
       "1                   NaN      NaN      NaN   NaN        NaN   \n",
       "1                   NaN      NaN      NaN   NaN        NaN   \n",
       "\n",
       "                                         description  num_beds  num_baths  \\\n",
       "1  SPECTACULAR GOLF COURSE VIEW, where membership...       NaN        NaN   \n",
       "1                                                NaN       2.0        2.0   \n",
       "1                                                NaN       2.0        2.0   \n",
       "1                                                NaN       NaN        NaN   \n",
       "\n",
       "   home_sqft  yr_blt     ...      Beds  Baths  Sq. Ft. Stories Lot Size  \\\n",
       "1        NaN     NaN     ...       NaN    NaN      NaN     NaN      NaN   \n",
       "1      800.0  1983.0     ...       NaN    NaN      NaN     NaN      NaN   \n",
       "1      800.0  1983.0     ...       NaN    NaN      NaN     NaN      NaN   \n",
       "1        NaN     NaN     ...         —      —      800       —        —   \n",
       "\n",
       "         Style Year Built Year Renovated          County          APN  \n",
       "1          NaN        NaN            NaN             NaN          NaN  \n",
       "1          NaN        NaN            NaN             NaN          NaN  \n",
       "1          NaN        NaN            NaN             NaN          NaN  \n",
       "1  Condo/Co-op       1985           1985  Collier County  32282960004  \n",
       "\n",
       "[4 rows x 23 columns]"
      ]
     },
     "execution_count": 648,
     "metadata": {},
     "output_type": "execute_result"
    }
   ],
   "source": [
    "sold_home_df"
   ]
  },
  {
   "cell_type": "code",
   "execution_count": null,
   "metadata": {
    "ExecuteTime": {
     "end_time": "2018-10-02T23:22:47.977385Z",
     "start_time": "2018-10-02T23:22:46.878Z"
    }
   },
   "outputs": [],
   "source": [
    "label_list = []\n",
    "values_list = []\n",
    "for num in all_info:\n",
    "    cats = num.findAll('span', {'class': 'table-label'})\n",
    "    for i in cats:\n",
    "        label_list.append(i.text)\n",
    "for num in all_info:\n",
    "    vals = num.findAll('div', {'class': 'table-value'})\n",
    "    for i in vals:\n",
    "        values_list.append(i.text)\n",
    "new_dict = dict(zip(label_list, values_list))\n",
    "print({**home_dict, **new_dict})"
   ]
  },
  {
   "cell_type": "code",
   "execution_count": 583,
   "metadata": {
    "ExecuteTime": {
     "end_time": "2018-10-02T22:48:53.143885Z",
     "start_time": "2018-10-02T22:48:53.127240Z"
    }
   },
   "outputs": [
    {
     "data": {
      "text/plain": [
       "['# of Bedrooms (Upper): 4',\n",
       " 'Master Bedroom on Upper Level',\n",
       " '# of Baths (Full): 3',\n",
       " '# of Baths (1/2): 1',\n",
       " '# of Lower Baths (Full): 1',\n",
       " '# of Upper Baths (Full): 2',\n",
       " '# of Main Baths (1/2): 1',\n",
       " 'Kitchen with Eating Space on Main Level',\n",
       " 'Dining Room on Main Level',\n",
       " 'Living Room on Main Level',\n",
       " 'Family Room on Lower Level',\n",
       " 'Den/Office on Main Level',\n",
       " 'Bonus Room on Lower Level',\n",
       " 'Utility Room on Upper Level',\n",
       " 'Daylight Basement, Fully Finished Basement',\n",
       " 'Second Kitchen, Wet Bar, Wine Cellar, Bath Off Master, Built-In Vacuum, Double Pane/Storm Windows, Dining Room, French Doors, High Tech Cabling, Vaulted Ceilings, Walk-In Pantry, Walk-In Closet',\n",
       " '# of Fireplaces: 1',\n",
       " '# of Fireplaces (Main): 1',\n",
       " 'Ceramic Tile Floor, Hardwood Floor, Wall-to-Wall Carpet',\n",
       " 'Dishwasher, Double Oven, Microwave, Range/Oven, Refrigerator',\n",
       " 'Central Air Conditioning, Forced Air Heating, 90%+ High Efficiency',\n",
       " 'Water Heater: Basement-Gas',\n",
       " '# of Covered Spaces: 2',\n",
       " 'Attached Garage',\n",
       " 'Building Condition: Very Good',\n",
       " 'Built On Site',\n",
       " 'Cement Planked Exterior',\n",
       " 'Poured Concrete Foundation',\n",
       " 'Composition Roof',\n",
       " 'Elementary School: Dieringer Hs Elem',\n",
       " 'Junior High School: North Tapps Mid',\n",
       " 'Senior High School: Buyer To Verify',\n",
       " 'School District: Dieringer',\n",
       " 'Energy Source: Electric, Natural Gas',\n",
       " 'Public Water Source',\n",
       " 'Septic System',\n",
       " 'Power Company: PSE',\n",
       " 'Water Company: City of Bonney Lake',\n",
       " 'Sewer Company: City of Bonney Lake',\n",
       " 'Septic Permits (# of Bedrooms): 4',\n",
       " 'No Senior Exemption',\n",
       " 'Lake Tapp/Bonney Lake',\n",
       " 'Reviewed on Receipt',\n",
       " 'Possession: Closing',\n",
       " 'Cable Television, Deck, Dock, Partially Fenced, Natural Gas Available, High Speed Internet, Sprinkler System',\n",
       " 'Property Fronts at Medium Bank, Property Fronts At Bulkhead, Property Fronts on Lake',\n",
       " 'Waterfront Footage: 81',\n",
       " 'Lot on Cul-de-Sac, Lot on Dead-End Street, Lot Is On Paved Street',\n",
       " 'Level, Sloped, Terraces',\n",
       " 'Zoning Jurisdiction: County',\n",
       " 'Sq. Ft. (Finished): 3,860',\n",
       " 'Entry on Main Level',\n",
       " 'Preliminary Title Ordered: Yes',\n",
       " 'Tax ID #: 504500-027-0']"
      ]
     },
     "execution_count": 583,
     "metadata": {},
     "output_type": "execute_result"
    }
   ],
   "source": [
    "feats"
   ]
  },
  {
   "cell_type": "code",
   "execution_count": 478,
   "metadata": {
    "ExecuteTime": {
     "end_time": "2018-10-02T20:07:53.415882Z",
     "start_time": "2018-10-02T20:07:53.400500Z"
    }
   },
   "outputs": [
    {
     "data": {
      "text/plain": [
       "[<div class=\"sectionContainer\" data-rf-test-id=\"publicRecords\"><h2 class=\"h2 inline-block\">Public Facts<span class=\"adr\" itemprop=\"address\" itemscope=\"\" itemtype=\"http://schema.org/PostalAddress\"><span> for </span><span class=\"street-address\" itemprop=\"streetAddress\">8451 Moore Street</span></span></h2><div class=\"main-content\"><div class=\"public-records-taxes\"><div class=\"taxable-value\"><h3 class=\"h3\">Taxable Value</h3><div class=\"tax-values\"><div class=\"tax-table\"><table><tbody><tr><td class=\"heading\">Land</td><td class=\"value\">N/A</td></tr><tr><td class=\"heading\">Additions</td><td class=\"value\">N/A</td></tr><tr class=\"line\"><td class=\"heading\">Total</td><td class=\"value\">N/A</td></tr></tbody></table></div></div></div><div class=\"tax-record\"><h3 class=\"h3\">Tax Record</h3><div class=\"tax-values gray-border\"><div class=\"tax-table totals\"><table><tbody><tr><td class=\"header padded\">2017</td><td class=\"value padded font-weight-bold\">$8,016</td></tr></tbody></table></div></div></div></div><div class=\"basic-info\" id=\"basicInfo\"><div><h3 class=\"h3 home-facts-title\">Home Facts</h3><div class=\"edit-facts-button-container\"><div class=\"edit-facts-button\"><button class=\"button Button tertiary v3\" tabindex=\"0\" type=\"button\"><div class=\"with-text svg-icon\"><svg class=\"SvgIcon rfSvg edit\"><svg viewbox=\"0 0 24 24\"><g fill-rule=\"evenodd\"><path d=\"M22.224 3.022l-1.17-1.172c-1.135-1.133-3.11-1.133-4.244 0L2.278 16.382a1.238 1.238 0 0 0-.342.639l-.912 4.557a1.25 1.25 0 0 0 1.224 1.497l4.806-.937c.243-.05.463-.167.638-.342L22.225 7.264a3.005 3.005 0 0 0 0-4.242zm-6.793 3.035l2.586 2.586-9.586 9.586-2.586-2.586 9.586-9.586zM3.206 20.869l.646-3.233.58-.58 2.585 2.587-.579.578-3.232.648zM20.81 5.849l-1.379 1.38-2.586-2.586 1.38-1.38a1.02 1.02 0 0 1 1.413 0l1.171 1.173c.39.39.39 1.024.001 1.414z\"></path></g></svg></svg></div><span>Edit Facts</span></button></div></div></div><div class=\"median-values\"><div class=\"facts-table\"><div class=\"table-row\"><span class=\"table-label\">Beds</span><div class=\"table-value\">4</div></div><div class=\"table-row\"><span class=\"table-label\">Baths</span><div class=\"table-value\">4</div></div><div class=\"table-row\"><span class=\"table-label\">Sq. Ft.</span><div class=\"table-value\">3,210</div></div><div class=\"table-row\"><span class=\"table-label\">Stories</span><div class=\"table-value\">2</div></div><div class=\"table-row\"><span class=\"table-label\">Lot Size</span><div class=\"table-value\">—</div></div><div class=\"table-row\"><span class=\"table-label\">Style</span><div class=\"table-value\">Townhouse</div></div><div class=\"table-row\"><span class=\"table-label\">Year Built</span><div class=\"table-value\">2007</div></div><div class=\"table-row\"><span class=\"table-label\">Year Renovated</span><div class=\"table-value\">2007</div></div><div class=\"table-row\"><span class=\"table-label\">County</span><div class=\"table-value\">Collin County</div></div><div class=\"table-row\"><span class=\"table-label\">APN</span><div class=\"table-value\">R86530F601401</div></div></div><div class=\"source-info-container\"><div class=\"source-info\">Home facts updated by <!-- -->county records<!-- --> on <!-- -->Aug 25, 2018<!-- -->. </div></div></div></div></div></div>]"
      ]
     },
     "execution_count": 478,
     "metadata": {},
     "output_type": "execute_result"
    }
   ],
   "source": [
    "all_info"
   ]
  },
  {
   "cell_type": "code",
   "execution_count": 206,
   "metadata": {
    "ExecuteTime": {
     "end_time": "2018-09-29T18:16:09.588266Z",
     "start_time": "2018-09-29T18:16:09.572936Z"
    }
   },
   "outputs": [
    {
     "data": {
      "text/plain": [
       "['# of Bedrooms: 3',\n",
       " '3 Bedrooms on Main Level',\n",
       " '# of Baths: 3',\n",
       " '2 Baths on Main Level',\n",
       " '1 Bath on Lower Level',\n",
       " 'Living Room: View',\n",
       " 'Living Room on Main Level',\n",
       " 'Family Room on Lower Level',\n",
       " 'Dining Room on Main Level',\n",
       " 'Combination Living/Dining Room',\n",
       " 'Den/Bonus Room: 0',\n",
       " '# of Fireplace(s): 1, In Living Room',\n",
       " 'Laundry Appliances: Washer/Dryer, In Garage',\n",
       " 'Refrigerator, Freezer, Island, Remodeled',\n",
       " 'Kitchen on Main Level',\n",
       " 'Floors: Hardwood',\n",
       " '# of Rooms (Total): 0',\n",
       " '1 Bath on Lower Level, Family Room on Lower Level',\n",
       " '3 Bedrooms on Main Level, 2 Baths on Main Level, Living Room on Main Level, Dining Room on Main Level, Kitchen on Main Level',\n",
       " 'Heating/Cooling: Central Heating',\n",
       " 'Parking Type: On Site',\n",
       " '# of Garage Spaces: 1',\n",
       " '# of Parking Spaces: 1',\n",
       " 'Garage',\n",
       " 'Parking Access: Side-by-Side',\n",
       " 'Deck(s)',\n",
       " 'Monthly Rent: 0.00',\n",
       " 'Unconfirmed Co-op Fee: 0.00',\n",
       " 'Zoning: RH-1',\n",
       " 'View(s): Ocean',\n",
       " 'Lot Measurement: Square Feet',\n",
       " 'Per Architect',\n",
       " 'Deck(s)',\n",
       " 'APN: 7010013',\n",
       " 'Property Disclaimer: Copyright: 2018 by San Francisco Assoc of REALTORS - All data, including all measurements and calculations of area, is obtained from various sources and has not been, and will not be, verified by broker or MLS. All information should be independently reviewed and verified for accuracy. Properties may or may not be listed by the office/agent presenting the information.',\n",
       " 'Cross Street: Grafton Avenue',\n",
       " 'Original Price: $1,295,000',\n",
       " 'On Market Date: Friday, October 6, 2017']"
      ]
     },
     "execution_count": 206,
     "metadata": {},
     "output_type": "execute_result"
    }
   ],
   "source": [
    "feats"
   ]
  },
  {
   "cell_type": "code",
   "execution_count": null,
   "metadata": {},
   "outputs": [],
   "source": []
  }
 ],
 "metadata": {
  "kernelspec": {
   "display_name": "Python 3",
   "language": "python",
   "name": "python3"
  },
  "language_info": {
   "codemirror_mode": {
    "name": "ipython",
    "version": 3
   },
   "file_extension": ".py",
   "mimetype": "text/x-python",
   "name": "python",
   "nbconvert_exporter": "python",
   "pygments_lexer": "ipython3",
   "version": "3.6.6"
  }
 },
 "nbformat": 4,
 "nbformat_minor": 2
}
