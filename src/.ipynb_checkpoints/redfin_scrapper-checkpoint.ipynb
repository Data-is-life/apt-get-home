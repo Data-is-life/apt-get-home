{
 "cells": [
  {
   "cell_type": "code",
   "execution_count": 769,
   "metadata": {
    "ExecuteTime": {
     "end_time": "2018-10-03T04:33:18.044225Z",
     "start_time": "2018-10-03T04:33:18.026539Z"
    }
   },
   "outputs": [],
   "source": [
    "from math import ceil\n",
    "import time, re, ast, sys, urllib, time, random, string, requests\n",
    "import pandas as pd\n",
    "from bs4 import BeautifulSoup\n",
    "from random import randint\n",
    "from selenium.webdriver.firefox.webdriver import FirefoxProfile\n",
    "from urllib.request import urlopen, Request\n",
    "from urllib.error import HTTPError, URLError\n",
    "from itertools import cycle \n",
    "from header_list import user_agent_list\n",
    "from proxies_list import *\n",
    "from INITIAL_SCRAPPER_FUNCTIONS import *\n",
    "from LIST_DF_FUNCTIONS import *\n",
    "from PARSER_FUNCTIONS import *"
   ]
  },
  {
   "cell_type": "code",
   "execution_count": 771,
   "metadata": {
    "ExecuteTime": {
     "end_time": "2018-10-03T04:39:58.368231Z",
     "start_time": "2018-10-03T04:33:24.870002Z"
    }
   },
   "outputs": [
    {
     "name": "stdout",
     "output_type": "stream",
     "text": [
      "1\n",
      "{'origin': '12.183.155.91'}\n",
      "0.7570817470550537\n",
      "[]\n",
      "2\n",
      "{'origin': '12.2.202.242'}\n",
      "0.5710539817810059\n",
      "[]\n",
      "3\n",
      "{'origin': '12.239.213.145'}\n",
      "0.7439837455749512\n",
      "[]\n",
      "4\n",
      "{'origin': '24.177.187.101'}\n",
      "1.8767225742340088\n",
      "[]\n",
      "5\n",
      "{'origin': '24.248.37.66'}\n",
      "2.518296957015991\n",
      "[]\n",
      "6\n",
      "{'origin': '188.52.254.27'}\n",
      "4.865988254547119\n",
      "[]\n",
      "7\n",
      "{'origin': '50.224.173.189'}\n",
      "0.5978987216949463\n",
      "[]\n",
      "8\n",
      "{'origin': '50.224.173.189'}\n",
      "0.5621523857116699\n",
      "[]\n",
      "9\n",
      "{'origin': '50.224.173.189'}\n",
      "0.6128227710723877\n",
      "[]\n",
      "10\n",
      "{'origin': '64.19.116.82'}\n",
      "34.43549180030823\n",
      "[]\n",
      "11\n",
      "{'origin': '66.60.134.102'}\n",
      "4.1960978507995605\n",
      "[]\n",
      "12\n",
      "{'origin': '67.165.205.83'}\n",
      "0.7805047035217285\n",
      "[]\n",
      "13\n",
      "{'origin': '68.188.21.10'}\n",
      "1.9718196392059326\n",
      "[]\n",
      "14\n",
      "{'origin': '69.38.69.254'}\n",
      "1.0229053497314453\n",
      "[]\n",
      "15\n",
      "{'origin': '72.35.40.34'}\n",
      "0.880622148513794\n",
      "[]\n",
      "16\n",
      "{'origin': '96.250.47.126'}\n",
      "0.8027937412261963\n",
      "[]\n",
      "17\n",
      "{'origin': '96.43.255.82'}\n",
      "1.1936490535736084\n",
      "[]\n",
      "18\n",
      "{'origin': '96.87.222.225'}\n",
      "2.7981693744659424\n",
      "[]\n",
      "19\n",
      "{'origin': '98.101.147.86'}\n",
      "1.2404816150665283\n",
      "[]\n",
      "20\n",
      "{'origin': '98.26.32.15'}\n",
      "1.8934071063995361\n",
      "[]\n",
      "21\n",
      "{'origin': '140.227.60.114'}\n",
      "2.0195248126983643\n",
      "[]\n",
      "22\n",
      "{'origin': '160.2.250.19'}\n",
      "1.0144243240356445\n",
      "[]\n",
      "23\n",
      "{'origin': '173.88.208.145'}\n",
      "0.8626201152801514\n",
      "[]\n",
      "24\n",
      "{'origin': '216.21.162.200'}\n",
      "0.9524087905883789\n",
      "[]\n",
      "25\n",
      "{'origin': '24.112.63.248'}\n",
      "2.885934829711914\n",
      "[]\n",
      "26\n",
      "{'origin': '50.224.87.210'}\n",
      "2.161990165710449\n",
      "[]\n",
      "27\n",
      "{'origin': '50.78.238.83'}\n",
      "1.0482275485992432\n",
      "[]\n",
      "28\n",
      "{'origin': '64.58.200.50'}\n",
      "2.8651726245880127\n",
      "[]\n",
      "29\n",
      "{'origin': '216.85.7.155'}\n",
      "0.48431897163391113\n",
      "[]\n",
      "30\n",
      "{'origin': '97.90.251.228'}\n",
      "1.4825212955474854\n",
      "[]\n",
      "31\n",
      "{'origin': '160.2.232.154'}\n",
      "1.034045696258545\n",
      "[]\n",
      "32\n",
      "{'origin': '108.29.37.161'}\n",
      "1.0852432250976562\n",
      "[]\n",
      "33\n",
      "{'origin': '74.0.244.146'}\n",
      "11.088927745819092\n",
      "[]\n",
      "34\n",
      "{'origin': '104.160.108.10'}\n",
      "56.405330419540405\n",
      "[]\n",
      "35\n",
      "{'origin': '65.154.9.12'}\n",
      "0.6906771659851074\n",
      "[]\n",
      "36\n",
      "{'origin': '71.43.23.74'}\n",
      "1.016864538192749\n",
      "[]\n",
      "37\n",
      "{'origin': '67.79.64.90'}\n",
      "4.355686902999878\n",
      "[]\n",
      "38\n",
      "{'origin': '23.25.254.91'}\n",
      "1.1470818519592285\n",
      "[]\n",
      "39\n",
      "{'origin': '173.17.122.32'}\n",
      "1.3797361850738525\n",
      "[]\n",
      "40\n",
      "{'origin': '173.15.195.9'}\n",
      "0.7979602813720703\n",
      "[]\n",
      "41\n",
      "{'origin': '97.80.39.42'}\n",
      "1.410170555114746\n",
      "[]\n",
      "42\n",
      "Skipping. Connnection error\n",
      "130.19562602043152\n",
      "[42]\n",
      "43\n",
      "{'origin': '192.0.10.186'}\n",
      "0.9282405376434326\n",
      "[42]\n",
      "44\n",
      "Skipping. Connnection error\n",
      "21.210334300994873\n",
      "[42, 44]\n",
      "45\n",
      "Skipping. Connnection error\n",
      "0.09644007682800293\n",
      "[42, 44, 45]\n",
      "46\n",
      "{'origin': '50.243.212.225'}\n",
      "1.1945030689239502\n",
      "[42, 44, 45]\n",
      "47\n",
      "{'origin': '76.185.16.94'}\n",
      "0.8613593578338623\n",
      "[42, 44, 45]\n",
      "48\n",
      "Skipping. Connnection error\n",
      "1.5914647579193115\n",
      "[42, 44, 45, 48]\n",
      "49\n",
      "{'origin': '52.124.6.146'}\n",
      "3.9426088333129883\n",
      "[42, 44, 45, 48]\n",
      "50\n",
      "{'origin': '50.84.251.202'}\n",
      "0.7435295581817627\n",
      "[42, 44, 45, 48]\n",
      "51\n",
      "{'origin': '96.2.94.149'}\n",
      "0.9556307792663574\n",
      "[42, 44, 45, 48]\n",
      "52\n",
      "{'origin': '74.119.250.154'}\n",
      "0.7527203559875488\n",
      "[42, 44, 45, 48]\n",
      "53\n",
      "{'origin': '24.124.113.53'}\n",
      "1.3807387351989746\n",
      "[42, 44, 45, 48]\n",
      "54\n",
      "{'origin': '8.40.240.90'}\n",
      "5.0924296379089355\n",
      "[42, 44, 45, 48]\n",
      "55\n",
      "{'origin': '47.208.214.33'}\n",
      "0.9436404705047607\n",
      "[42, 44, 45, 48]\n",
      "56\n",
      "{'origin': '138.68.254.198'}\n",
      "3.337965488433838\n",
      "[42, 44, 45, 48]\n"
     ]
    },
    {
     "ename": "IndexError",
     "evalue": "list index out of range",
     "output_type": "error",
     "traceback": [
      "\u001b[0;31m---------------------------------------------------------------------------\u001b[0m",
      "\u001b[0;31mIndexError\u001b[0m                                Traceback (most recent call last)",
      "\u001b[0;32m<ipython-input-771-b80b8449711c>\u001b[0m in \u001b[0;36m<module>\u001b[0;34m()\u001b[0m\n\u001b[1;32m      2\u001b[0m \u001b[0mproxies\u001b[0m \u001b[0;34m=\u001b[0m \u001b[0mproxies_list_\u001b[0m\u001b[0;34m\u001b[0m\u001b[0m\n\u001b[1;32m      3\u001b[0m \u001b[0mprx_pool\u001b[0m \u001b[0;34m=\u001b[0m \u001b[0mproxie_random_pool\u001b[0m\u001b[0;34m\u001b[0m\u001b[0m\n\u001b[0;32m----> 4\u001b[0;31m \u001b[0mproxies\u001b[0m \u001b[0;34m=\u001b[0m \u001b[0mproxie_check\u001b[0m\u001b[0;34m(\u001b[0m\u001b[0mproxies\u001b[0m\u001b[0;34m)\u001b[0m\u001b[0;34m\u001b[0m\u001b[0m\n\u001b[0m",
      "\u001b[0;32m~/apt-get-home/src/SCRAPPER_FUNCTIONS.py\u001b[0m in \u001b[0;36mproxie_check\u001b[0;34m(proxies)\u001b[0m\n\u001b[1;32m     35\u001b[0m     \u001b[0;32mfor\u001b[0m \u001b[0mi\u001b[0m \u001b[0;32min\u001b[0m \u001b[0mrange\u001b[0m\u001b[0;34m(\u001b[0m\u001b[0;36m0\u001b[0m\u001b[0;34m,\u001b[0m \u001b[0mlen\u001b[0m\u001b[0;34m(\u001b[0m\u001b[0mproxies\u001b[0m\u001b[0;34m)\u001b[0m\u001b[0;34m)\u001b[0m\u001b[0;34m:\u001b[0m\u001b[0;34m\u001b[0m\u001b[0m\n\u001b[1;32m     36\u001b[0m         \u001b[0mtime\u001b[0m\u001b[0;34m.\u001b[0m\u001b[0msleep\u001b[0m\u001b[0;34m(\u001b[0m\u001b[0mrandom\u001b[0m\u001b[0;34m.\u001b[0m\u001b[0muniform\u001b[0m\u001b[0;34m(\u001b[0m\u001b[0;36m0.5\u001b[0m\u001b[0;34m,\u001b[0m\u001b[0;36m1.5\u001b[0m\u001b[0;34m)\u001b[0m\u001b[0;34m)\u001b[0m\u001b[0;34m\u001b[0m\u001b[0m\n\u001b[0;32m---> 37\u001b[0;31m         \u001b[0mproxy\u001b[0m \u001b[0;34m=\u001b[0m \u001b[0mproxies\u001b[0m\u001b[0;34m[\u001b[0m\u001b[0mi\u001b[0m\u001b[0;34m]\u001b[0m\u001b[0;34m\u001b[0m\u001b[0m\n\u001b[0m\u001b[1;32m     38\u001b[0m         \u001b[0mprint\u001b[0m\u001b[0;34m(\u001b[0m\u001b[0mi\u001b[0m\u001b[0;34m+\u001b[0m\u001b[0;36m1\u001b[0m\u001b[0;34m)\u001b[0m\u001b[0;34m\u001b[0m\u001b[0m\n\u001b[1;32m     39\u001b[0m         \u001b[0mstart_time\u001b[0m \u001b[0;34m=\u001b[0m \u001b[0mtime\u001b[0m\u001b[0;34m.\u001b[0m\u001b[0mtime\u001b[0m\u001b[0;34m(\u001b[0m\u001b[0;34m)\u001b[0m\u001b[0;34m\u001b[0m\u001b[0m\n",
      "\u001b[0;31mIndexError\u001b[0m: list index out of range"
     ]
    }
   ],
   "source": [
    "ua = user_agent_list\n",
    "proxies = proxies_list_\n",
    "prx_pool = proxie_random_pool\n",
    "proxies = proxie_check(proxies)"
   ]
  },
  {
   "cell_type": "code",
   "execution_count": 740,
   "metadata": {
    "ExecuteTime": {
     "end_time": "2018-10-03T00:42:08.369624Z",
     "start_time": "2018-10-03T00:42:08.349704Z"
    },
    "scrolled": true
   },
   "outputs": [
    {
     "data": {
      "text/plain": [
       "60"
      ]
     },
     "execution_count": 740,
     "metadata": {},
     "output_type": "execute_result"
    }
   ],
   "source": [
    "len(proxies)"
   ]
  },
  {
   "cell_type": "code",
   "execution_count": 204,
   "metadata": {
    "ExecuteTime": {
     "end_time": "2018-10-01T23:51:48.614365Z",
     "start_time": "2018-10-01T23:51:48.592595Z"
    }
   },
   "outputs": [],
   "source": [
    "# zip_codes = pd.read_csv('../Data/main_zips.csv')\n",
    "# zip_list = zip_codes['zip'].tolist()"
   ]
  },
  {
   "cell_type": "code",
   "execution_count": 264,
   "metadata": {
    "ExecuteTime": {
     "end_time": "2018-10-02T04:33:36.102670Z",
     "start_time": "2018-10-02T04:33:36.090058Z"
    }
   },
   "outputs": [],
   "source": [
    "# active_zip_url_list, sold_zip_url_list = gen_url_list(zip_list)"
   ]
  },
  {
   "cell_type": "code",
   "execution_count": 213,
   "metadata": {
    "ExecuteTime": {
     "end_time": "2018-10-01T23:51:53.379236Z",
     "start_time": "2018-10-01T23:51:53.364515Z"
    }
   },
   "outputs": [],
   "source": [
    "# a_main_df = pd.DataFrame(columns=['full_address', 'home_link'])\n",
    "# s_main_df = pd.DataFrame(columns=['full_address', 'home_link'])"
   ]
  },
  {
   "cell_type": "code",
   "execution_count": 261,
   "metadata": {
    "ExecuteTime": {
     "end_time": "2018-10-02T04:32:54.682803Z",
     "start_time": "2018-10-02T04:32:54.666117Z"
    },
    "scrolled": true
   },
   "outputs": [],
   "source": [
    "# a = randint(0, 3)\n",
    "# time.sleep(random.uniform(0, 1)*((88/13)**.33)*a)\n",
    "# active_zip_url_list, a_main_df, proxies = links_for_props(proxies, active_zip_url_list, a_main_df, ua)"
   ]
  },
  {
   "cell_type": "code",
   "execution_count": 309,
   "metadata": {
    "ExecuteTime": {
     "end_time": "2018-10-02T18:24:59.974204Z",
     "start_time": "2018-10-02T18:24:59.955960Z"
    },
    "scrolled": true
   },
   "outputs": [],
   "source": [
    "# a = randint(0, 3)\n",
    "# sold_zip_url_list, s_main_df, proxies = links_for_props(proxies, sold_zip_url_list, s_main_df, ua)\n",
    "# time.sleep(random.uniform(0, 1)*((88/13)**.33)*a)"
   ]
  },
  {
   "cell_type": "code",
   "execution_count": 295,
   "metadata": {
    "ExecuteTime": {
     "end_time": "2018-10-02T17:34:47.681976Z",
     "start_time": "2018-10-02T17:34:47.573732Z"
    }
   },
   "outputs": [],
   "source": [
    "# a_main_df.to_csv('../Data/active_props_url_list.csv')\n",
    "# s_main_df.to_csv('../Data/sold_props_url_list.csv')"
   ]
  },
  {
   "cell_type": "code",
   "execution_count": 652,
   "metadata": {
    "ExecuteTime": {
     "end_time": "2018-10-02T23:46:48.916158Z",
     "start_time": "2018-10-02T23:46:48.897117Z"
    }
   },
   "outputs": [],
   "source": [
    "# a_main_df = pd.read_csv('../Data/active_props_url_list.csv')\n",
    "# s_main_df = pd.read_csv('../Data/sold_props_url_list.csv')"
   ]
  },
  {
   "cell_type": "code",
   "execution_count": 304,
   "metadata": {
    "ExecuteTime": {
     "end_time": "2018-10-02T18:19:26.987057Z",
     "start_time": "2018-10-02T18:19:26.963635Z"
    }
   },
   "outputs": [],
   "source": [
    "# a_main_df = a_main_df.drop_duplicates(subset='full_address')\n",
    "# s_main_df = s_main_df.drop_duplicates(subset='full_address')"
   ]
  },
  {
   "cell_type": "code",
   "execution_count": 305,
   "metadata": {
    "ExecuteTime": {
     "end_time": "2018-10-02T18:21:54.917626Z",
     "start_time": "2018-10-02T18:21:54.900591Z"
    }
   },
   "outputs": [],
   "source": [
    "active_url_list = a_main_df.home_link.tolist()\n",
    "sold_url_list = s_main_df.home_link.tolist()"
   ]
  },
  {
   "cell_type": "code",
   "execution_count": 763,
   "metadata": {
    "ExecuteTime": {
     "end_time": "2018-10-03T01:20:25.390737Z",
     "start_time": "2018-10-03T01:20:25.371008Z"
    }
   },
   "outputs": [],
   "source": [
    "def info_from_sold_property(url, hdr, proxy):\n",
    "\n",
    "    soup = session_creator(proxy, ua, url)\n",
    "\n",
    "    home_dict = address_parser(soup)\n",
    "\n",
    "    top_info_dict = top_info_parser(soup)\n",
    "\n",
    "    public_info_dict = public_info_parser(soup)\n",
    "\n",
    "    school_dict = school_parser(soup)\n",
    "\n",
    "    all_home_feats = feats_parser(soup)\n",
    "\n",
    "    df = pd.DataFrame()\n",
    "\n",
    "    df = pd.concat([home_dict, top_info_dict, top_info_dict,\n",
    "                    public_info_dict, all_home_feats], axis=1)\n",
    "\n",
    "    return df"
   ]
  },
  {
   "cell_type": "code",
   "execution_count": 765,
   "metadata": {
    "ExecuteTime": {
     "end_time": "2018-10-03T01:21:00.567538Z",
     "start_time": "2018-10-03T01:20:57.597194Z"
    }
   },
   "outputs": [
    {
     "name": "stdout",
     "output_type": "stream",
     "text": [
      "69.38.69.254:52168\n",
      "https://www.redfin.com/CA/Santa-Rosa/2051-Gardenview-Pl-95403/home/2640288\n"
     ]
    }
   ],
   "source": [
    "header = random.sample(ua, 1)[0]\n",
    "proxy = random.sample(proxies, 1)[0]\n",
    "sold_url_list = s_main_df['home_link'].tolist()\n",
    "# url = random.sample(active_url_list, 1)[0]\n",
    "url = random.sample(sold_url_list, 1)[0]\n",
    "print(proxy)\n",
    "print(url)\n",
    "\n",
    "sold_home_df = each_property(url, header, proxy)"
   ]
  },
  {
   "cell_type": "code",
   "execution_count": 767,
   "metadata": {
    "ExecuteTime": {
     "end_time": "2018-10-03T04:02:48.488065Z",
     "start_time": "2018-10-03T04:02:48.457500Z"
    }
   },
   "outputs": [
    {
     "data": {
      "text/html": [
       "<div>\n",
       "<style scoped>\n",
       "    .dataframe tbody tr th:only-of-type {\n",
       "        vertical-align: middle;\n",
       "    }\n",
       "\n",
       "    .dataframe tbody tr th {\n",
       "        vertical-align: top;\n",
       "    }\n",
       "\n",
       "    .dataframe thead th {\n",
       "        text-align: right;\n",
       "    }\n",
       "</style>\n",
       "<table border=\"1\" class=\"dataframe\">\n",
       "  <thead>\n",
       "    <tr style=\"text-align: right;\">\n",
       "      <th></th>\n",
       "      <th>address</th>\n",
       "      <th>city</th>\n",
       "      <th>zip_code</th>\n",
       "      <th>state</th>\n",
       "      <th>description</th>\n",
       "      <th>mls_num</th>\n",
       "      <th>num_beds</th>\n",
       "      <th>num_baths</th>\n",
       "      <th>home_sqft</th>\n",
       "      <th>yr_blt</th>\n",
       "      <th>...</th>\n",
       "      <th>Property Subtype 1:</th>\n",
       "      <th>Style:</th>\n",
       "      <th>Age:</th>\n",
       "      <th>Year Built:</th>\n",
       "      <th>Year Built Source:</th>\n",
       "      <th>Square Footage:</th>\n",
       "      <th>Planned Unit Develop:</th>\n",
       "      <th>Property Disclaimer:</th>\n",
       "      <th>Original Price:</th>\n",
       "      <th>Sale/Lease-Rent:</th>\n",
       "    </tr>\n",
       "  </thead>\n",
       "  <tbody>\n",
       "    <tr>\n",
       "      <th>1</th>\n",
       "      <td>2051 Gardenview Pl</td>\n",
       "      <td>Santa Rosa</td>\n",
       "      <td>95403</td>\n",
       "      <td>None</td>\n",
       "      <td>Enjoy Sonoma County living in this beautifully...</td>\n",
       "      <td>21818180</td>\n",
       "      <td>4.0</td>\n",
       "      <td>3.0</td>\n",
       "      <td>872.0</td>\n",
       "      <td>2000</td>\n",
       "      <td>...</td>\n",
       "      <td>Single Family Residence</td>\n",
       "      <td>Unknown</td>\n",
       "      <td>0</td>\n",
       "      <td>2000</td>\n",
       "      <td>Realist Public Rec</td>\n",
       "      <td>2,872</td>\n",
       "      <td>Yes</td>\n",
       "      <td>Information has not been verified, is not guar...</td>\n",
       "      <td>995000.00</td>\n",
       "      <td>Sale</td>\n",
       "    </tr>\n",
       "  </tbody>\n",
       "</table>\n",
       "<p>1 rows × 75 columns</p>\n",
       "</div>"
      ],
      "text/plain": [
       "              address         city zip_code state  \\\n",
       "1  2051 Gardenview Pl   Santa Rosa    95403  None   \n",
       "\n",
       "                                         description   mls_num  num_beds  \\\n",
       "1  Enjoy Sonoma County living in this beautifully...  21818180       4.0   \n",
       "\n",
       "   num_baths  home_sqft  yr_blt        ...             Property Subtype 1:   \\\n",
       "1        3.0      872.0    2000        ...          Single Family Residence   \n",
       "\n",
       "   Style:   Age:   Year Built:   Year Built Source:   Square Footage:   \\\n",
       "1  Unknown      0          2000   Realist Public Rec             2,872   \n",
       "\n",
       "   Planned Unit Develop:                               Property Disclaimer:   \\\n",
       "1                     Yes  Information has not been verified, is not guar...   \n",
       "\n",
       "   Original Price:   Sale/Lease-Rent:   \n",
       "1         995000.00               Sale  \n",
       "\n",
       "[1 rows x 75 columns]"
      ]
     },
     "execution_count": 767,
     "metadata": {},
     "output_type": "execute_result"
    }
   ],
   "source": [
    "sold_home_df"
   ]
  },
  {
   "cell_type": "code",
   "execution_count": 772,
   "metadata": {
    "ExecuteTime": {
     "end_time": "2018-10-03T04:42:27.556564Z",
     "start_time": "2018-10-03T04:42:27.530820Z"
    }
   },
   "outputs": [],
   "source": []
  },
  {
   "cell_type": "code",
   "execution_count": null,
   "metadata": {},
   "outputs": [],
   "source": []
  },
  {
   "cell_type": "code",
   "execution_count": null,
   "metadata": {},
   "outputs": [],
   "source": []
  },
  {
   "cell_type": "code",
   "execution_count": null,
   "metadata": {},
   "outputs": [],
   "source": []
  },
  {
   "cell_type": "code",
   "execution_count": null,
   "metadata": {},
   "outputs": [],
   "source": []
  },
  {
   "cell_type": "code",
   "execution_count": null,
   "metadata": {},
   "outputs": [],
   "source": []
  },
  {
   "cell_type": "code",
   "execution_count": null,
   "metadata": {},
   "outputs": [],
   "source": []
  },
  {
   "cell_type": "code",
   "execution_count": null,
   "metadata": {},
   "outputs": [],
   "source": []
  }
 ],
 "metadata": {
  "kernelspec": {
   "display_name": "Python 3",
   "language": "python",
   "name": "python3"
  },
  "language_info": {
   "codemirror_mode": {
    "name": "ipython",
    "version": 3
   },
   "file_extension": ".py",
   "mimetype": "text/x-python",
   "name": "python",
   "nbconvert_exporter": "python",
   "pygments_lexer": "ipython3",
   "version": "3.6.6"
  }
 },
 "nbformat": 4,
 "nbformat_minor": 2
}
