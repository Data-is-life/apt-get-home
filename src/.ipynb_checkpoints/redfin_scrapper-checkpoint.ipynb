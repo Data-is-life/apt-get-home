{
 "cells": [
  {
   "cell_type": "code",
   "execution_count": 143,
   "metadata": {
    "ExecuteTime": {
     "end_time": "2018-10-01T22:57:23.777252Z",
     "start_time": "2018-10-01T22:57:23.762480Z"
    }
   },
   "outputs": [],
   "source": [
    "from math import ceil\n",
    "import time\n",
    "import re\n",
    "import ast\n",
    "import sys\n",
    "import urllib\n",
    "import time\n",
    "import random\n",
    "import pandas as pd\n",
    "from bs4 import BeautifulSoup\n",
    "from random import randint\n",
    "from selenium.webdriver.firefox.webdriver import FirefoxProfile\n",
    "from urllib.request import urlopen, Request\n",
    "from urllib.error import HTTPError\n",
    "from urllib.error import URLError\n",
    "import requests\n",
    "from itertools import cycle\n",
    "import string\n",
    "from header_list import user_agent_list\n",
    "from proxies_list import proxies_list, proxie_random_pool \n",
    "from FUNCTIONS import proxie_check, strip_count, gen_url_list\n",
    "from SCRAPPER_FUNCTIONS import session_creator, zip_prop_count, each_page, links_for_props"
   ]
  },
  {
   "cell_type": "code",
   "execution_count": 144,
   "metadata": {
    "ExecuteTime": {
     "end_time": "2018-10-01T22:57:24.141752Z",
     "start_time": "2018-10-01T22:57:24.125458Z"
    }
   },
   "outputs": [],
   "source": [
    "ua = user_agent_list\n",
    "proxies = proxies_list\n",
    "prx_pool = proxie_random_pool"
   ]
  },
  {
   "cell_type": "code",
   "execution_count": 145,
   "metadata": {
    "ExecuteTime": {
     "end_time": "2018-10-01T22:57:24.866488Z",
     "start_time": "2018-10-01T22:57:24.849047Z"
    }
   },
   "outputs": [
    {
     "data": {
      "text/plain": [
       "16"
      ]
     },
     "execution_count": 145,
     "metadata": {},
     "output_type": "execute_result"
    }
   ],
   "source": [
    "# proxie_check(proxies)\n",
    "len(proxies)"
   ]
  },
  {
   "cell_type": "code",
   "execution_count": 146,
   "metadata": {
    "ExecuteTime": {
     "end_time": "2018-10-01T22:57:27.412075Z",
     "start_time": "2018-10-01T22:57:27.387902Z"
    }
   },
   "outputs": [],
   "source": [
    "zip_codes = pd.read_csv('../Data/main_zips.csv')\n",
    "zip_list = zip_codes['zip'].tolist()\n",
    "# zip_list = [str(num) if num >= 10000 else '0'+str(num) for num in zip_list]"
   ]
  },
  {
   "cell_type": "code",
   "execution_count": 147,
   "metadata": {
    "ExecuteTime": {
     "end_time": "2018-10-01T22:57:28.081674Z",
     "start_time": "2018-10-01T22:57:28.069416Z"
    }
   },
   "outputs": [],
   "source": [
    "# rand_zip_list_ap = random.sample(zip_list, len(zip_list))\n",
    "# ap_prp_count_list = []"
   ]
  },
  {
   "cell_type": "code",
   "execution_count": 148,
   "metadata": {
    "ExecuteTime": {
     "end_time": "2018-10-01T22:57:28.634303Z",
     "start_time": "2018-10-01T22:57:28.616702Z"
    }
   },
   "outputs": [],
   "source": [
    "# rand_zip_sld = random.sample(zip_list, len(zip_list))\n",
    "# sold_prp_list = []\n",
    "# ezl = []"
   ]
  },
  {
   "cell_type": "code",
   "execution_count": 149,
   "metadata": {
    "ExecuteTime": {
     "end_time": "2018-10-01T22:57:29.117946Z",
     "start_time": "2018-10-01T22:57:29.102732Z"
    },
    "scrolled": true
   },
   "outputs": [],
   "source": [
    "# ap_prp_count_list, rand_zip_list, proxies = zip_prop_count(rand_zip_list_ap, proxies, ap_prp_count_list, ua)\n",
    "# sold_prp_list, rand_zip_sld, proxies, ezl = zip_prop_count(rand_zip_sld, proxies, sold_prp_list, ua, ezl)"
   ]
  },
  {
   "cell_type": "code",
   "execution_count": 150,
   "metadata": {
    "ExecuteTime": {
     "end_time": "2018-10-01T22:57:29.539944Z",
     "start_time": "2018-10-01T22:57:29.525114Z"
    }
   },
   "outputs": [],
   "source": [
    "# sold_prp_list = [str(num) for num in sold_prp_list]\n",
    "# sold_prp_list = [num.replace(\n",
    "#     '[<div class=\"homes summary\" data-rf-test-id=\"homes-description\"><span class=\"showingText\">Showing </span>', '') for num in sold_prp_list]\n",
    "# sold_prp_list = [num.replace(\n",
    "#     ' Homes<span class=\"summarySeparator \">•</span></div>]', '') for num in sold_prp_list]\n",
    "# sold_prp_list = [num.replace('20 of ', '') for num in sold_prp_list]"
   ]
  },
  {
   "cell_type": "code",
   "execution_count": 151,
   "metadata": {
    "ExecuteTime": {
     "end_time": "2018-10-01T22:57:30.100008Z",
     "start_time": "2018-10-01T22:57:30.085768Z"
    }
   },
   "outputs": [],
   "source": [
    "# sdf = pd.DataFrame({'zip': ezl, 'sld': sold_prp_list})\n",
    "# apdf = strip_count(ap_prp_count_list)\n",
    "# apdf.to_csv('../Data/apdf.csv')\n",
    "# sdf.to_csv('../Data/sdf.csv')\n",
    "\n",
    "# apdf.index = ap_df['zip']\n",
    "# sdf.index = sdf['zip']\n",
    "\n",
    "# sdf['sld'] = (sdf['sld']).astype(int)\n",
    "# apdf['num_ap_homes'] = (ap_df['num_ap_homes']).astype(int)\n",
    "\n",
    "# sdf['zip'] = (sdf['zip']).astype(int)\n",
    "# apdf['zip'] = (ap_df['zip']).astype(int)\n",
    "\n",
    "# sld_pgs = [ceil(num/20) for num in sdf['sld']]\n",
    "# ap_pgs = [ceil(num/20) for num in apdf['num_ap_homes']]\n",
    "\n",
    "# sdf['pages'] = sld_pgs\n",
    "# apdf['pages'] = ap_pgs\n",
    "\n",
    "# sdf = sdf.sort_values(by='pages')\n",
    "# apdf = apdf.sort_values(by='pages')\n",
    "\n",
    "# sdf_under = sdf[sdf['pages'] <= 18]\n",
    "# sdf_over = sdf[sdf['pages'] > 18]"
   ]
  },
  {
   "cell_type": "code",
   "execution_count": 152,
   "metadata": {
    "ExecuteTime": {
     "end_time": "2018-10-01T22:57:30.624890Z",
     "start_time": "2018-10-01T22:57:30.610209Z"
    }
   },
   "outputs": [],
   "source": [
    "# ap_url_list = []\n",
    "# for num in zip_list:\n",
    "#     num_pages_count = apdf.loc[apdf['zip'] == num].pages.values[0]\n",
    "#     for i in range(1, num_pages_count+1):\n",
    "#         url = 'https://www.redfin.com/zipcode/'+str(num) + \\\n",
    "#             '/filter/property-type=house+condo+townhouse,min-baths=1,status=active+pending+contingent/page-' + \\\n",
    "#             str(i)\n",
    "#         ap_url_list.append(url)\n",
    "\n",
    "\n",
    "# ap_url_list = [num.replace(r'/page-1^', '') for num in ap_url_list]\n",
    "# ap_url_list = [num.replace('contingent0', 'contingent/page-10')\n",
    "#                for num in ap_url_list]\n",
    "# ap_url_list = [num.replace('contingent1', 'contingent/page-11')\n",
    "#                for num in ap_url_list]\n",
    "# ap_url_list = [num.replace('contingent2', 'contingent/page-12')\n",
    "#                for num in ap_url_list]\n",
    "# ap_url_list = [num.replace('contingent3', 'contingent/page-13')\n",
    "#                for num in ap_url_list]\n",
    "\n",
    "# main_df = pd.DataFrame(columns=['full_address', 'home_link'])\n",
    "\n",
    "# ap_url_list = sorted(ap_url_list)\n",
    "# print(ap_url_list)"
   ]
  },
  {
   "cell_type": "code",
   "execution_count": 153,
   "metadata": {
    "ExecuteTime": {
     "end_time": "2018-10-01T22:57:31.414199Z",
     "start_time": "2018-10-01T22:57:31.399805Z"
    }
   },
   "outputs": [],
   "source": [
    "# sld_under_url_list = []\n",
    "\n",
    "# for num in sdf_under['zip']:\n",
    "#     num_pages_count = sdf_under.loc[sdf_under['zip'] == num].pages.values[0]\n",
    "#     for i in range(1, num_pages_count+1):\n",
    "#         url = 'https://www.redfin.com/zipcode/'+str(num) + \\\n",
    "#             '/filter/property-type=house+condo+townhouse,min-price=100k,min-baths=1,include=sold-1yr/page-' + \\\n",
    "#             str(i)\n",
    "#         sld_under_url_list.append(url)\n",
    "\n",
    "\n",
    "# sld_under_url_list = [num.replace('/page-1', '') for num in sld_under_url_list]\n",
    "# sld_under_url_list = [num.replace(\n",
    "#     '=sold-1yr0', '=sold-1yr/page-10') for num in sld_under_url_list]\n",
    "# sld_under_url_list = [num.replace(\n",
    "#     '=sold-1yr1', '=sold-1yr/page-11') for num in sld_under_url_list]\n",
    "# sld_under_url_list = [num.replace(\n",
    "#     '=sold-1yr2', '=sold-1yr/page-12') for num in sld_under_url_list]\n",
    "# sld_under_url_list = [num.replace(\n",
    "#     '=sold-1yr3', '=sold-1yr/page-13') for num in sld_under_url_list]\n",
    "# sld_under_url_list = [num.replace(\n",
    "#     '=sold-1yr4', '=sold-1yr/page-14') for num in sld_under_url_list]\n",
    "# sld_under_url_list = [num.replace(\n",
    "#     '=sold-1yr5', '=sold-1yr/page-15') for num in sld_under_url_list]\n",
    "# sld_under_url_list = [num.replace(\n",
    "#     '=sold-1yr6', '=sold-1yr/page-16') for num in sld_under_url_list]\n",
    "# sld_under_url_list = [num.replace(\n",
    "#     '=sold-1yr7', '=sold-1yr/page-17') for num in sld_under_url_list]\n",
    "# sld_under_url_list = [num.replace(\n",
    "#     '=sold-1yr8', '=sold-1yr/page-18') for num in sld_under_url_list]\n",
    "\n",
    "# s_main_df = pd.DataFrame(columns=['full_address', 'home_link'])\n",
    "\n",
    "# sld_under_url_list = sorted(sld_under_url_list)\n",
    "# print(len(sld_under_url_list))"
   ]
  },
  {
   "cell_type": "code",
   "execution_count": 154,
   "metadata": {
    "ExecuteTime": {
     "end_time": "2018-10-01T22:57:32.275724Z",
     "start_time": "2018-10-01T22:57:32.255390Z"
    }
   },
   "outputs": [],
   "source": [
    "active_url_list, sold_url_list = gen_url_list(zip_list)"
   ]
  },
  {
   "cell_type": "code",
   "execution_count": 155,
   "metadata": {
    "ExecuteTime": {
     "end_time": "2018-10-01T22:57:32.899644Z",
     "start_time": "2018-10-01T22:57:32.880366Z"
    }
   },
   "outputs": [],
   "source": [
    "a_main_df = pd.DataFrame(columns=['full_address', 'home_link'])\n",
    "s_main_df = pd.DataFrame(columns=['full_address', 'home_link'])"
   ]
  },
  {
   "cell_type": "code",
   "execution_count": 156,
   "metadata": {
    "ExecuteTime": {
     "end_time": "2018-10-01T22:57:43.446094Z",
     "start_time": "2018-10-01T22:57:33.894093Z"
    },
    "scrolled": false
   },
   "outputs": [
    {
     "name": "stdout",
     "output_type": "stream",
     "text": [
      "7\n",
      "50.224.173.179:8080\n",
      "864\n",
      "https://www.redfin.com/zipcode/90650/filter/sort=lo-price,property-type=house\n",
      "0.5617673397064209\n",
      "Captcha\n"
     ]
    },
    {
     "ename": "ValueError",
     "evalue": "not enough values to unpack (expected 3, got 2)",
     "output_type": "error",
     "traceback": [
      "\u001b[0;31m---------------------------------------------------------------------------\u001b[0m",
      "\u001b[0;31mValueError\u001b[0m                                Traceback (most recent call last)",
      "\u001b[0;32m<ipython-input-156-87695cdb04ed>\u001b[0m in \u001b[0;36m<module>\u001b[0;34m()\u001b[0m\n\u001b[1;32m      1\u001b[0m \u001b[0ma\u001b[0m \u001b[0;34m=\u001b[0m \u001b[0mrandint\u001b[0m\u001b[0;34m(\u001b[0m\u001b[0;36m0\u001b[0m\u001b[0;34m,\u001b[0m \u001b[0;36m5\u001b[0m\u001b[0;34m)\u001b[0m\u001b[0;34m\u001b[0m\u001b[0m\n\u001b[1;32m      2\u001b[0m \u001b[0mtime\u001b[0m\u001b[0;34m.\u001b[0m\u001b[0msleep\u001b[0m\u001b[0;34m(\u001b[0m\u001b[0mrandom\u001b[0m\u001b[0;34m.\u001b[0m\u001b[0muniform\u001b[0m\u001b[0;34m(\u001b[0m\u001b[0;36m0\u001b[0m\u001b[0;34m,\u001b[0m \u001b[0;36m1\u001b[0m\u001b[0;34m)\u001b[0m\u001b[0;34m*\u001b[0m\u001b[0;34m(\u001b[0m\u001b[0;34m(\u001b[0m\u001b[0;36m88\u001b[0m\u001b[0;34m/\u001b[0m\u001b[0;36m13\u001b[0m\u001b[0;34m)\u001b[0m\u001b[0;34m**\u001b[0m\u001b[0;36m.33\u001b[0m\u001b[0;34m)\u001b[0m\u001b[0;34m*\u001b[0m\u001b[0ma\u001b[0m\u001b[0;34m)\u001b[0m\u001b[0;34m\u001b[0m\u001b[0m\n\u001b[0;32m----> 3\u001b[0;31m \u001b[0mactive_url_list\u001b[0m\u001b[0;34m,\u001b[0m \u001b[0ma_main_df\u001b[0m\u001b[0;34m,\u001b[0m \u001b[0mproxies\u001b[0m \u001b[0;34m=\u001b[0m \u001b[0mlinks_for_props\u001b[0m\u001b[0;34m(\u001b[0m\u001b[0mproxies\u001b[0m\u001b[0;34m,\u001b[0m \u001b[0mactive_url_list\u001b[0m\u001b[0;34m,\u001b[0m \u001b[0ma_main_df\u001b[0m\u001b[0;34m,\u001b[0m \u001b[0mua\u001b[0m\u001b[0;34m)\u001b[0m\u001b[0;34m\u001b[0m\u001b[0m\n\u001b[0m\u001b[1;32m      4\u001b[0m \u001b[0;31m# time.sleep(random.uniform(0, 1)*((88/13)**.33)*a)\u001b[0m\u001b[0;34m\u001b[0m\u001b[0;34m\u001b[0m\u001b[0m\n\u001b[1;32m      5\u001b[0m \u001b[0;31m# active_url_list, a_main_df, proxies = links_for_props(proxies, active_url_list, a_main_df, ua)\u001b[0m\u001b[0;34m\u001b[0m\u001b[0;34m\u001b[0m\u001b[0m\n",
      "\u001b[0;31mValueError\u001b[0m: not enough values to unpack (expected 3, got 2)"
     ]
    }
   ],
   "source": [
    "a = randint(0, 5)\n",
    "time.sleep(random.uniform(0, 1)*((88/13)**.33)*a)\n",
    "active_url_list, a_main_df, proxies = links_for_props(proxies, active_url_list, a_main_df, ua)\n",
    "# time.sleep(random.uniform(0, 1)*((88/13)**.33)*a)\n",
    "# active_url_list, a_main_df, proxies = links_for_props(proxies, active_url_list, a_main_df, ua)\n",
    "# time.sleep(random.uniform(0, 1)*((88/13)**.33)*a)\n",
    "# active_url_list, a_main_df, proxies = links_for_props(proxies, active_url_list, a_main_df, ua)\n",
    "# time.sleep(random.uniform(0, 1)*((88/13)**.33)*a)\n",
    "# active_url_list, a_main_df, proxies = links_for_props(proxies, active_url_list, a_main_df, ua)\n",
    "# time.sleep(random.uniform(0, 1)*((88/13)**.33)*a)\n",
    "# active_url_list, a_main_df, proxies = links_for_props(proxies, active_url_list, a_main_df, ua)\n",
    "# time.sleep(random.uniform(0, 1)*((88/13)**.33)*a)\n",
    "# active_url_list, a_main_df, proxies = links_for_props(proxies, active_url_list, a_main_df, ua)\n",
    "# time.sleep(random.uniform(0, 1)*((88/13)**.33)*a)\n",
    "# active_url_list, a_main_df, proxies = links_for_props(proxies, active_url_list, a_main_df, ua)\n",
    "# time.sleep(random.uniform(0, 1)*((88/13)**.33)*a)\n",
    "# active_url_list, a_main_df, proxies = links_for_props(proxies, active_url_list, a_main_df, ua)\n",
    "# time.sleep(random.uniform(0, 1)*((88/13)**.33)*a)\n",
    "# active_url_list, a_main_df, proxies = links_for_props(proxies, active_url_list, a_main_df, ua)\n",
    "# time.sleep(random.uniform(0, 1)*((88/13)**.33)*a)\n",
    "# active_url_list, a_main_df, proxies = links_for_props(proxies, active_url_list, a_main_df, ua)\n",
    "# time.sleep(random.uniform(0, 1)*((88/13)**.33)*a)\n",
    "# active_url_list, a_main_df, proxies = links_for_props(proxies, active_url_list, a_main_df, ua)\n",
    "# time.sleep(random.uniform(0, 1)*((88/13)**.33)*a)\n",
    "# active_url_list, a_main_df, proxies = links_for_props(proxies, active_url_list, a_main_df, ua)\n",
    "# time.sleep(random.uniform(0, 1)*((88/13)**.33)*a)\n",
    "# active_url_list, a_main_df, proxies = links_for_props(proxies, active_url_list, a_main_df, ua)\n",
    "# time.sleep(random.uniform(0, 1)*((88/13)**.33)*a)\n",
    "# active_url_list, a_main_df, proxies = links_for_props(proxies, active_url_list, a_main_df, ua)"
   ]
  },
  {
   "cell_type": "code",
   "execution_count": null,
   "metadata": {
    "ExecuteTime": {
     "end_time": "2018-10-01T22:57:43.447055Z",
     "start_time": "2018-10-01T22:57:36.176Z"
    }
   },
   "outputs": [],
   "source": [
    "len(active_url_list)"
   ]
  },
  {
   "cell_type": "code",
   "execution_count": 127,
   "metadata": {
    "ExecuteTime": {
     "end_time": "2018-10-01T22:55:43.579953Z",
     "start_time": "2018-10-01T22:55:43.560886Z"
    }
   },
   "outputs": [
    {
     "data": {
      "text/html": [
       "<div>\n",
       "<style scoped>\n",
       "    .dataframe tbody tr th:only-of-type {\n",
       "        vertical-align: middle;\n",
       "    }\n",
       "\n",
       "    .dataframe tbody tr th {\n",
       "        vertical-align: top;\n",
       "    }\n",
       "\n",
       "    .dataframe thead th {\n",
       "        text-align: right;\n",
       "    }\n",
       "</style>\n",
       "<table border=\"1\" class=\"dataframe\">\n",
       "  <thead>\n",
       "    <tr style=\"text-align: right;\">\n",
       "      <th></th>\n",
       "      <th>full_address</th>\n",
       "      <th>home_link</th>\n",
       "    </tr>\n",
       "  </thead>\n",
       "  <tbody>\n",
       "  </tbody>\n",
       "</table>\n",
       "</div>"
      ],
      "text/plain": [
       "Empty DataFrame\n",
       "Columns: [full_address, home_link]\n",
       "Index: []"
      ]
     },
     "execution_count": 127,
     "metadata": {},
     "output_type": "execute_result"
    }
   ],
   "source": [
    "a_main_df"
   ]
  },
  {
   "cell_type": "code",
   "execution_count": 160,
   "metadata": {
    "ExecuteTime": {
     "end_time": "2018-09-29T06:12:47.161386Z",
     "start_time": "2018-09-29T06:12:47.145144Z"
    }
   },
   "outputs": [],
   "source": [
    "sld_under_url_list = sld_under_url_list[1:]\n",
    "print(len(sld_under_url_list))"
   ]
  },
  {
   "cell_type": "code",
   "execution_count": 614,
   "metadata": {
    "ExecuteTime": {
     "end_time": "2018-09-28T20:44:08.886948Z",
     "start_time": "2018-09-28T20:44:08.872336Z"
    },
    "scrolled": true
   },
   "outputs": [],
   "source": [
    "sld_under_url_list, s_main_df = links_for_props(\n",
    "    proxies, sld_under_url_list, s_main_df, ua)"
   ]
  },
  {
   "cell_type": "code",
   "execution_count": 616,
   "metadata": {
    "ExecuteTime": {
     "end_time": "2018-09-28T20:44:16.925278Z",
     "start_time": "2018-09-28T20:44:16.908689Z"
    }
   },
   "outputs": [],
   "source": [
    "list_ = list(s_main_df.full_address.values)\n",
    "set([num[-5:] for num in list_])"
   ]
  },
  {
   "cell_type": "code",
   "execution_count": 612,
   "metadata": {
    "ExecuteTime": {
     "end_time": "2018-09-28T20:44:06.749963Z",
     "start_time": "2018-09-28T20:44:06.733486Z"
    }
   },
   "outputs": [],
   "source": [
    "main_df.to_csv('../Data/main_df_ap.csv')\n",
    "s_main_df.to_csv('../Data/s_main.csv')"
   ]
  },
  {
   "cell_type": "code",
   "execution_count": 21,
   "metadata": {
    "ExecuteTime": {
     "end_time": "2018-09-28T23:24:54.736939Z",
     "start_time": "2018-09-28T23:24:54.658430Z"
    },
    "scrolled": true
   },
   "outputs": [],
   "source": [
    "s_main_df = pd.read_csv('../Data/s_main.csv')\n",
    "main_df = pd.read_csv('../Data/main_df_ap.csv')"
   ]
  },
  {
   "cell_type": "code",
   "execution_count": null,
   "metadata": {},
   "outputs": [],
   "source": [
    "#     all_home_feats = soup.findAll('div', {'class':\"amenities-container\"})\n",
    "#     for num in all_home_feats:\n",
    "#         print(num.findAll('li'))\n",
    "\n",
    "#     other_home_feats = soup.findAll('span', {'data-rf-test-id':\"propertyDetails\"})\n",
    "#     print(f'other_home_feats = {other_home_feats}')\n",
    "#     other_home_feats_vals = soup.findAll('span', {'class':\"content font-weight-roman\"})\n",
    "#     print(f'other_home_feats_vals = {other_home_feats_vals}')\n",
    "    #both are in soup.findAll('div', {'class':\"keyDetail font-size-base\"})\n",
    "\n",
    "#     home_full_feat_desc = soup.findAll('span', {'class': 'statsLabel'})\n",
    "#     for desc in home_full_feat_desc:\n",
    "#         print(f'hffd = {desc}')\n",
    "#         homefeat_desc.append(str(desc.contents[0]))\n",
    "\n",
    "#     home_full_feat_info = soup.findAll('span', {'class': 'statsValue'})\n",
    "#     for info in home_full_feat_info:\n",
    "#         print(f'info = {info}')\n",
    "#         homefeat_info.append(str(info.contents[0]))\n",
    "\n",
    "#     school_grades = soup.findAll('div', {'class': 'nearby-schools-grades'})\n",
    "#     for grade in school_grades:\n",
    "#         print(grade.text)\n",
    "\n",
    "#     school_assigned = soup.findAll(\n",
    "#         'span', {'class': 'assigned-label zsg-fineprint'})\n",
    "\n",
    "#     for assi in school_assigned:\n",
    "#         print(assi.text)\n",
    "\n",
    "#     school_dist = soup.findAll('div', {'class': 'nearby-schools-distance'})\n",
    "#     for dist in school_dist:\n",
    "#         print(dist.text)\n",
    "\n",
    "#     school_rating = soup.findAll('div', {'class': 'nearby-schools-rating'})\n",
    "#     for rating in school_rating:\n",
    "#         print(rating.span.text)\n",
    "\n",
    "#     school_name_regex = r'school-name notranslate$'\n",
    "#     school_name = soup.findAll('a', {'class': 'school-name notranslate'})\n",
    "#     for mane in school_name:\n",
    "#         print(mane.next_element)\n",
    "\n",
    "#     homefeat_desc = []\n",
    "#     homefeat_info = []\n",
    "\n",
    "#     new_dict = dict(zip(homefeat_desc, homefeat_info))\n",
    "#     new_dict['address'] = str(home_address_MLS)\n",
    "\n",
    "# #     new_dict['home_description'] = str(home_description.attrs['content'])\n",
    "\n",
    "# lots of info:\n",
    "\n",
    "#     estimate = soup.find('div', {'data-rf-test-name': 'avmValue\"'})\n",
    "#     print(f'estimate = {estimate}')\n",
    "\n",
    "#     home_hist_src = soup.findAll('td', {'class': 'zsg-sm-hide'})\n",
    "#     print(home_hist_src)"
   ]
  },
  {
   "cell_type": "code",
   "execution_count": 203,
   "metadata": {
    "ExecuteTime": {
     "end_time": "2018-09-29T18:12:12.523039Z",
     "start_time": "2018-09-29T18:12:12.503617Z"
    }
   },
   "outputs": [],
   "source": [
    "def each_property(url, hdr, proxy):\n",
    "    soup = session_creator(proxy, ua, url)\n",
    "\n",
    "    price_regex = r'\\$\\S+\\s+'\n",
    "    bed_regex = r'\\d+\\S?\\d?\\d?Bed'\n",
    "    bath_regex = r'\\d+\\S?\\d?\\d?Bath'\n",
    "    size_regex = r'\\d+\\S?\\d?\\d?\\s?Sq'\n",
    "    yr_blt_regex = r'Built: \\d+'\n",
    "    status_regex = r'Status: \\w+'\n",
    "    home_dict = dict()\n",
    "\n",
    "    home_address_MLS = soup.title.string\n",
    "    add_list = text.split(sep=' |')\n",
    "    zip_code = re.search('\\d+$', add_list[0])\n",
    "    mls_num = re.search('\\d+$', add_list[1])\n",
    "    home_add = re.search('(.+?),', home_address_MLS)\n",
    "    home_city = re.search(',(.+?),', home_address_MLS)\n",
    "    home_state = add_list[0].replace(home_add.group(1),'').replace(\n",
    "        home_city.group(1),'').replace(zip_code.group(),'').replace(\n",
    "        ',','').replace(' ','')\n",
    "\n",
    "    home_dict['address'] = home_add.group(1)\n",
    "    home_dict['city'] = home_city.group(1)\n",
    "    home_dict['zip_code'] = zip_code.group()\n",
    "    home_dict['state'] = home_state\n",
    "    home_dict['mls_num'] = mls_num.group()\n",
    "\n",
    "    all_top = soup.findAll('div', {'class': 'HomeInfo inline-block'})\n",
    "    price_list = []\n",
    "    for num in all_top:\n",
    "        a = num.text\n",
    "        price_list.extend(re.findall(price_regex, a))\n",
    "        home_dict['num_beds'] = (re.findall(bed_regex, a))\n",
    "        home_dict['num_baths'] = (re.findall(bath_regex, a))\n",
    "        home_dict['home_sqft'] = (re.findall(size_regex, a))\n",
    "        home_dict['yr_blt'] = (re.findall(yr_blt_regex, a))\n",
    "        home_dict['status'] = (re.findall(status_regex, a))\n",
    "\n",
    "    home_dict['redfin_est'] = [num for num in price_list if 'Redfin' in num]\n",
    "    home_dict['sold_price'] = [num for num in price_list if 'Last' in num]\n",
    "\n",
    "    home_description = soup.find('p', {'class': 'font-b1'})\n",
    "    home_dict['description'] = home_description.span.text\n",
    "\n",
    "    all_home_feats = soup.findAll('span', {'class': \"entryItemContent\"})\n",
    "    feats = [num.text for num in all_home_feats]\n",
    "\n",
    "    prop_hist = soup.findAll(\n",
    "        'div', {'id': 'propertyHistory-expandable-segment'})\n",
    "    prop_history = [num.text for num in prop_hist]\n",
    "\n",
    "    school_info = soup.findAll('div', {'class': \"name-and-info\"})\n",
    "    schools = [num.text for num in school_info]\n",
    "\n",
    "    return home_dict, feats, prop_history, schools"
   ]
  },
  {
   "cell_type": "code",
   "execution_count": 166,
   "metadata": {
    "ExecuteTime": {
     "end_time": "2018-09-29T06:19:37.991588Z",
     "start_time": "2018-09-29T06:19:23.520962Z"
    }
   },
   "outputs": [
    {
     "name": "stdout",
     "output_type": "stream",
     "text": [
      "104.37.97.15:39471\n"
     ]
    }
   ],
   "source": [
    "header = random.sample(ua, 1)[0]\n",
    "proxy = random.sample(proxies, 1)[0]\n",
    "sold_url_list = s_main_df['home_link'].tolist()\n",
    "url = random.sample(sold_url_list, 1)[0]\n",
    "print(proxy)\n",
    "\n",
    "home_dict, feats, prop_history, schools = each_property(url, header, proxy)"
   ]
  },
  {
   "cell_type": "code",
   "execution_count": 204,
   "metadata": {
    "ExecuteTime": {
     "end_time": "2018-09-29T18:15:57.811911Z",
     "start_time": "2018-09-29T18:15:57.797493Z"
    }
   },
   "outputs": [
    {
     "data": {
      "text/plain": [
       "['Ortega (jose) Elementary SchoolPublic • K to 5 • Serves this homeGreatSchools Rating: 7/10Parent Rating: ',\n",
       " 'Aptos Middle SchoolPublic • 6 to 8 • Serves this homeGreatSchools Rating: 7/10Parent Rating: ',\n",
       " 'Leadership High SchoolCharter • 9 to 12 • Serves this homeGreatSchools Rating: 4/10Parent Rating: ',\n",
       " 'Balboa High SchoolPublic • 9 to 12 • Serves this homeGreatSchools Rating: 7/10Parent Rating: ',\n",
       " 'Lowell High SchoolPublic • 9 to 12 • Serves this homeGreatSchools Rating: 10/10Parent Rating: ']"
      ]
     },
     "execution_count": 204,
     "metadata": {},
     "output_type": "execute_result"
    }
   ],
   "source": [
    "schools"
   ]
  },
  {
   "cell_type": "code",
   "execution_count": 205,
   "metadata": {
    "ExecuteTime": {
     "end_time": "2018-09-29T18:16:03.744786Z",
     "start_time": "2018-09-29T18:16:03.729548Z"
    }
   },
   "outputs": [
    {
     "data": {
      "text/plain": [
       "['DateEvent & SourcePriceAppreciationNov 30, 2017Sold (MLS) (Sold)San Francisco MLS #463469$1,410,000—Oct 19, 2017PendingSan Francisco MLS #463469——Oct 6, 2017Listed (Active)San Francisco MLS #463469$1,295,000—See all property history']"
      ]
     },
     "execution_count": 205,
     "metadata": {},
     "output_type": "execute_result"
    }
   ],
   "source": [
    "prop_history"
   ]
  },
  {
   "cell_type": "code",
   "execution_count": 206,
   "metadata": {
    "ExecuteTime": {
     "end_time": "2018-09-29T18:16:09.588266Z",
     "start_time": "2018-09-29T18:16:09.572936Z"
    }
   },
   "outputs": [
    {
     "data": {
      "text/plain": [
       "['# of Bedrooms: 3',\n",
       " '3 Bedrooms on Main Level',\n",
       " '# of Baths: 3',\n",
       " '2 Baths on Main Level',\n",
       " '1 Bath on Lower Level',\n",
       " 'Living Room: View',\n",
       " 'Living Room on Main Level',\n",
       " 'Family Room on Lower Level',\n",
       " 'Dining Room on Main Level',\n",
       " 'Combination Living/Dining Room',\n",
       " 'Den/Bonus Room: 0',\n",
       " '# of Fireplace(s): 1, In Living Room',\n",
       " 'Laundry Appliances: Washer/Dryer, In Garage',\n",
       " 'Refrigerator, Freezer, Island, Remodeled',\n",
       " 'Kitchen on Main Level',\n",
       " 'Floors: Hardwood',\n",
       " '# of Rooms (Total): 0',\n",
       " '1 Bath on Lower Level, Family Room on Lower Level',\n",
       " '3 Bedrooms on Main Level, 2 Baths on Main Level, Living Room on Main Level, Dining Room on Main Level, Kitchen on Main Level',\n",
       " 'Heating/Cooling: Central Heating',\n",
       " 'Parking Type: On Site',\n",
       " '# of Garage Spaces: 1',\n",
       " '# of Parking Spaces: 1',\n",
       " 'Garage',\n",
       " 'Parking Access: Side-by-Side',\n",
       " 'Deck(s)',\n",
       " 'Monthly Rent: 0.00',\n",
       " 'Unconfirmed Co-op Fee: 0.00',\n",
       " 'Zoning: RH-1',\n",
       " 'View(s): Ocean',\n",
       " 'Lot Measurement: Square Feet',\n",
       " 'Per Architect',\n",
       " 'Deck(s)',\n",
       " 'APN: 7010013',\n",
       " 'Property Disclaimer: Copyright: 2018 by San Francisco Assoc of REALTORS - All data, including all measurements and calculations of area, is obtained from various sources and has not been, and will not be, verified by broker or MLS. All information should be independently reviewed and verified for accuracy. Properties may or may not be listed by the office/agent presenting the information.',\n",
       " 'Cross Street: Grafton Avenue',\n",
       " 'Original Price: $1,295,000',\n",
       " 'On Market Date: Friday, October 6, 2017']"
      ]
     },
     "execution_count": 206,
     "metadata": {},
     "output_type": "execute_result"
    }
   ],
   "source": [
    "feats"
   ]
  },
  {
   "cell_type": "code",
   "execution_count": null,
   "metadata": {},
   "outputs": [],
   "source": []
  }
 ],
 "metadata": {
  "kernelspec": {
   "display_name": "Python 3",
   "language": "python",
   "name": "python3"
  },
  "language_info": {
   "codemirror_mode": {
    "name": "ipython",
    "version": 3
   },
   "file_extension": ".py",
   "mimetype": "text/x-python",
   "name": "python",
   "nbconvert_exporter": "python",
   "pygments_lexer": "ipython3",
   "version": "3.6.6"
  }
 },
 "nbformat": 4,
 "nbformat_minor": 2
}
