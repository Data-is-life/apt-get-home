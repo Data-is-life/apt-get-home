{
 "cells": [
  {
   "cell_type": "code",
   "execution_count": 7,
   "metadata": {
    "ExecuteTime": {
     "end_time": "2018-10-07T18:30:59.237723Z",
     "start_time": "2018-10-07T18:30:59.218410Z"
    }
   },
   "outputs": [],
   "source": [
    "from math import ceil\n",
    "import time, re, ast, sys, urllib, time, random, string, requests\n",
    "import pandas as pd\n",
    "from bs4 import BeautifulSoup\n",
    "from random import randint\n",
    "from selenium.webdriver.firefox.webdriver import FirefoxProfile\n",
    "from urllib.request import urlopen, Request\n",
    "from urllib.error import HTTPError, URLError\n",
    "from itertools import cycle \n",
    "from header_list import user_agent_list\n",
    "from proxies_list import *\n",
    "from INITIAL_SCRAPPER_FUNCTIONS import *\n",
    "from LIST_DF_FUNCTIONS import *\n",
    "from PARSER_FUNCTIONS import *\n",
    "from GET_SEARCH_URL import *"
   ]
  },
  {
   "cell_type": "code",
   "execution_count": 8,
   "metadata": {
    "ExecuteTime": {
     "end_time": "2018-10-07T18:49:22.701503Z",
     "start_time": "2018-10-07T18:30:59.985833Z"
    },
    "scrolled": false
   },
   "outputs": [
    {
     "name": "stdout",
     "output_type": "stream",
     "text": [
      "1\n",
      "{'origin': '12.183.155.91'}\n",
      "0.9800357818603516\n",
      "[]\n",
      "2\n",
      "{'origin': '12.2.202.242'}\n",
      "0.8142313957214355\n",
      "[]\n",
      "3\n",
      "Skipping. Connnection error\n",
      "9.604052543640137\n",
      "[3]\n",
      "4\n",
      "{'origin': '50.224.173.189'}\n",
      "0.7030434608459473\n",
      "[3]\n",
      "5\n",
      "{'origin': '50.224.173.189'}\n",
      "0.6716418266296387\n",
      "[3]\n",
      "6\n",
      "Skipping. Connnection error\n",
      "99.23229813575745\n",
      "[3, 6]\n",
      "7\n",
      "{'origin': '97.90.251.228'}\n",
      "3.520226001739502\n",
      "[3, 6]\n",
      "8\n",
      "{'origin': '12.175.211.121'}\n",
      "12.033978939056396\n",
      "[3, 6]\n",
      "9\n",
      "{'origin': '100.40.55.83'}\n",
      "7.2319700717926025\n",
      "[3, 6]\n",
      "10\n",
      "{'origin': '142.147.112.246'}\n",
      "3.605827569961548\n",
      "[3, 6]\n",
      "11\n",
      "Skipping. Connnection error\n",
      "125.33210158348083\n",
      "[3, 6, 11]\n",
      "12\n",
      "{'origin': '71.183.100.76'}\n",
      "6.073854207992554\n",
      "[3, 6, 11]\n",
      "13\n",
      "{'origin': '67.198.99.138'}\n",
      "3.54941987991333\n",
      "[3, 6, 11]\n",
      "14\n",
      "{'origin': '64.19.116.82'}\n",
      "10.3679039478302\n",
      "[3, 6, 11]\n",
      "15\n",
      "Skipping. Connnection error\n",
      "0.08725190162658691\n",
      "[3, 6, 11, 15]\n",
      "16\n",
      "{'origin': '47.157.73.215'}\n",
      "9.99105429649353\n",
      "[3, 6, 11, 15]\n",
      "17\n",
      "{'origin': '73.244.187.99'}\n",
      "7.682477951049805\n",
      "[3, 6, 11, 15]\n",
      "18\n",
      "{'origin': '66.194.211.198'}\n",
      "3.405139207839966\n",
      "[3, 6, 11, 15]\n",
      "19\n",
      "Skipping. Connnection error\n",
      "0.04709434509277344\n",
      "[3, 6, 11, 15, 19]\n",
      "20\n",
      "{'origin': '71.43.26.18'}\n",
      "5.847240209579468\n",
      "[3, 6, 11, 15, 19]\n",
      "21\n",
      "{'origin': '107.178.9.195'}\n",
      "35.776214599609375\n",
      "[3, 6, 11, 15, 19]\n",
      "22\n",
      "Skipping. Connnection error\n",
      "0.10502910614013672\n",
      "[3, 6, 11, 15, 19, 22]\n",
      "23\n",
      "{'origin': '98.172.142.113'}\n",
      "6.207759141921997\n",
      "[3, 6, 11, 15, 19, 22]\n",
      "24\n",
      "{'origin': '66.208.101.138'}\n",
      "0.694843053817749\n",
      "[3, 6, 11, 15, 19, 22]\n",
      "25\n",
      "Skipping. Connnection error\n",
      "120.9126706123352\n",
      "[3, 6, 11, 15, 19, 22, 25]\n",
      "26\n",
      "Skipping. Connnection error\n",
      "1.4150218963623047\n",
      "[3, 6, 11, 15, 19, 22, 25, 26]\n",
      "27\n",
      "{'origin': '72.35.40.34'}\n",
      "0.7567899227142334\n",
      "[3, 6, 11, 15, 19, 22, 25, 26]\n",
      "28\n",
      "{'origin': '104.193.237.26'}\n",
      "10.440746068954468\n",
      "[3, 6, 11, 15, 19, 22, 25, 26]\n",
      "29\n",
      "{'origin': '76.10.248.156'}\n",
      "6.051239728927612\n",
      "[3, 6, 11, 15, 19, 22, 25, 26]\n",
      "30\n",
      "Skipping. Connnection error\n",
      "0.20717763900756836\n",
      "[3, 6, 11, 15, 19, 22, 25, 26, 30]\n",
      "31\n",
      "{'origin': '50.224.173.189'}\n",
      "1.0606932640075684\n",
      "[3, 6, 11, 15, 19, 22, 25, 26, 30]\n",
      "32\n",
      "{'origin': '12.127.44.138'}\n",
      "3.2011656761169434\n",
      "[3, 6, 11, 15, 19, 22, 25, 26, 30]\n",
      "33\n",
      "{'origin': '50.192.195.69'}\n",
      "3.6325252056121826\n",
      "[3, 6, 11, 15, 19, 22, 25, 26, 30]\n",
      "34\n",
      "Skipping. Connnection error\n",
      "1.0468037128448486\n",
      "[3, 6, 11, 15, 19, 22, 25, 26, 30, 34]\n",
      "35\n",
      "{'origin': '205.169.145.130'}\n",
      "3.506870985031128\n",
      "[3, 6, 11, 15, 19, 22, 25, 26, 30, 34]\n",
      "36\n",
      "Skipping. Connnection error\n",
      "0.09714531898498535\n",
      "[3, 6, 11, 15, 19, 22, 25, 26, 30, 34, 36]\n",
      "37\n",
      "Skipping. Connnection error\n",
      "0.11692953109741211\n",
      "[3, 6, 11, 15, 19, 22, 25, 26, 30, 34, 36, 37]\n",
      "38\n",
      "{'origin': '24.227.222.4'}\n",
      "7.18238639831543\n",
      "[3, 6, 11, 15, 19, 22, 25, 26, 30, 34, 36, 37]\n",
      "39\n",
      "{'origin': '217.147.169.75'}\n",
      "27.30484414100647\n",
      "[3, 6, 11, 15, 19, 22, 25, 26, 30, 34, 36, 37]\n",
      "40\n",
      "{'origin': '64.58.200.50'}\n",
      "8.223846197128296\n",
      "[3, 6, 11, 15, 19, 22, 25, 26, 30, 34, 36, 37]\n",
      "41\n",
      "Skipping. Connnection error\n",
      "2.8886301517486572\n",
      "[3, 6, 11, 15, 19, 22, 25, 26, 30, 34, 36, 37, 41]\n",
      "42\n",
      "{'origin': '66.232.186.7'}\n",
      "8.354232549667358\n",
      "[3, 6, 11, 15, 19, 22, 25, 26, 30, 34, 36, 37, 41]\n",
      "43\n",
      "{'origin': '38.80.162.87'}\n",
      "3.814765453338623\n",
      "[3, 6, 11, 15, 19, 22, 25, 26, 30, 34, 36, 37, 41]\n",
      "44\n",
      "{'origin': '66.166.143.58'}\n",
      "23.905709981918335\n",
      "[3, 6, 11, 15, 19, 22, 25, 26, 30, 34, 36, 37, 41]\n",
      "45\n",
      "{'origin': '216.27.126.86'}\n",
      "0.8555300235748291\n",
      "[3, 6, 11, 15, 19, 22, 25, 26, 30, 34, 36, 37, 41]\n",
      "46\n",
      "{'origin': '192.30.85.28'}\n",
      "12.332411766052246\n",
      "[3, 6, 11, 15, 19, 22, 25, 26, 30, 34, 36, 37, 41]\n",
      "47\n",
      "Skipping. Connnection error\n",
      "25.412837028503418\n",
      "[3, 6, 11, 15, 19, 22, 25, 26, 30, 34, 36, 37, 41, 47]\n",
      "48\n",
      "{'origin': '205.169.145.130'}\n",
      "3.560758352279663\n",
      "[3, 6, 11, 15, 19, 22, 25, 26, 30, 34, 36, 37, 41, 47]\n",
      "49\n",
      "Skipping. Connnection error\n",
      "0.6908307075500488\n",
      "[3, 6, 11, 15, 19, 22, 25, 26, 30, 34, 36, 37, 41, 47, 49]\n",
      "50\n",
      "{'origin': '72.4.34.79'}\n",
      "0.8642539978027344\n",
      "[3, 6, 11, 15, 19, 22, 25, 26, 30, 34, 36, 37, 41, 47, 49]\n",
      "51\n",
      "{'origin': '71.164.141.8'}\n",
      "52.67232918739319\n",
      "[3, 6, 11, 15, 19, 22, 25, 26, 30, 34, 36, 37, 41, 47, 49]\n",
      "52\n",
      "{'origin': '104.139.105.234'}\n",
      "21.66831684112549\n",
      "[3, 6, 11, 15, 19, 22, 25, 26, 30, 34, 36, 37, 41, 47, 49]\n",
      "53\n",
      "{'origin': '63.64.47.172'}\n",
      "9.517590284347534\n",
      "[3, 6, 11, 15, 19, 22, 25, 26, 30, 34, 36, 37, 41, 47, 49]\n",
      "54\n",
      "{'origin': '172.83.138.45'}\n",
      "11.812139511108398\n",
      "[3, 6, 11, 15, 19, 22, 25, 26, 30, 34, 36, 37, 41, 47, 49]\n",
      "55\n",
      "{'origin': '45.30.170.25'}\n",
      "1.9362964630126953\n",
      "[3, 6, 11, 15, 19, 22, 25, 26, 30, 34, 36, 37, 41, 47, 49]\n",
      "56\n",
      "{'origin': '119.74.83.1'}\n",
      "7.042746305465698\n",
      "[3, 6, 11, 15, 19, 22, 25, 26, 30, 34, 36, 37, 41, 47, 49]\n",
      "57\n",
      "Skipping. Connnection error\n",
      "0.08968758583068848\n",
      "[3, 6, 11, 15, 19, 22, 25, 26, 30, 34, 36, 37, 41, 47, 49, 57]\n",
      "58\n",
      "{'origin': '24.119.8.100'}\n",
      "5.575257778167725\n",
      "[3, 6, 11, 15, 19, 22, 25, 26, 30, 34, 36, 37, 41, 47, 49, 57]\n",
      "59\n",
      "{'origin': '108.170.48.187'}\n",
      "13.55134391784668\n",
      "[3, 6, 11, 15, 19, 22, 25, 26, 30, 34, 36, 37, 41, 47, 49, 57]\n",
      "60\n",
      "{'origin': '42.60.255.233'}\n",
      "3.7509446144104004\n",
      "[3, 6, 11, 15, 19, 22, 25, 26, 30, 34, 36, 37, 41, 47, 49, 57]\n",
      "61\n",
      "{'origin': '72.95.19.165'}\n",
      "0.8154664039611816\n",
      "[3, 6, 11, 15, 19, 22, 25, 26, 30, 34, 36, 37, 41, 47, 49, 57]\n",
      "62\n",
      "{'origin': '73.73.118.230'}\n",
      "2.6945598125457764\n",
      "[3, 6, 11, 15, 19, 22, 25, 26, 30, 34, 36, 37, 41, 47, 49, 57]\n",
      "63\n",
      "{'origin': '50.234.76.70'}\n",
      "4.303401470184326\n",
      "[3, 6, 11, 15, 19, 22, 25, 26, 30, 34, 36, 37, 41, 47, 49, 57]\n",
      "64\n",
      "{'origin': '209.105.225.218'}\n",
      "4.6789000034332275\n",
      "[3, 6, 11, 15, 19, 22, 25, 26, 30, 34, 36, 37, 41, 47, 49, 57]\n",
      "65\n",
      "{'origin': '97.79.207.83'}\n",
      "1.250568151473999\n",
      "[3, 6, 11, 15, 19, 22, 25, 26, 30, 34, 36, 37, 41, 47, 49, 57]\n",
      "66\n",
      "{'origin': '66.205.0.186'}\n",
      "16.744459629058838\n",
      "[3, 6, 11, 15, 19, 22, 25, 26, 30, 34, 36, 37, 41, 47, 49, 57]\n",
      "67\n",
      "{'origin': '96.57.81.210'}\n",
      "3.058199882507324\n",
      "[3, 6, 11, 15, 19, 22, 25, 26, 30, 34, 36, 37, 41, 47, 49, 57]\n"
     ]
    },
    {
     "data": {
      "text/plain": [
       "['12.183.155.91:39828',\n",
       " '12.2.202.242:8080',\n",
       " '37.224.84.90:8080',\n",
       " '50.224.173.179:8080',\n",
       " '50.224.173.189:8080',\n",
       " '140.227.60.114:3128',\n",
       " '97.90.251.228:8080',\n",
       " '12.175.211.121:59669',\n",
       " '100.40.55.83:30657',\n",
       " '142.147.112.246:59640',\n",
       " '199.120.67.246:49382',\n",
       " '71.183.100.76:42413',\n",
       " '67.198.99.138:60810',\n",
       " '64.19.116.82:60814',\n",
       " '71.14.255.180:45487',\n",
       " '47.157.73.215:80',\n",
       " '73.244.187.99:53281',\n",
       " '66.194.211.225:8080',\n",
       " '24.113.168.225:52252',\n",
       " '71.43.26.18:46024',\n",
       " '107.178.9.195:44767',\n",
       " '104.228.224.241:44956',\n",
       " '98.172.142.113:8080',\n",
       " '38.134.10.106:53281',\n",
       " '104.165.219.164:46101',\n",
       " '216.70.153.14:33600',\n",
       " '72.35.40.34:8080',\n",
       " '104.193.237.26:49537',\n",
       " '76.10.248.156:8080',\n",
       " '50.247.184.179:36228',\n",
       " '50.224.173.190:8080',\n",
       " '12.7.109.249:50856',\n",
       " '50.192.195.69:57534',\n",
       " '71.9.92.60:42779',\n",
       " '205.169.145.130:39438',\n",
       " '24.124.113.53:47677',\n",
       " '69.206.51.199:56454',\n",
       " '24.227.222.4:53281',\n",
       " '96.65.123.249:8118',\n",
       " '64.58.192.36:41258',\n",
       " '50.252.132.229:31116',\n",
       " '66.232.186.7:53281',\n",
       " '38.80.162.87:41737',\n",
       " '66.166.143.58:52534',\n",
       " '216.27.126.86:53146',\n",
       " '192.30.85.28:8888',\n",
       " '63.246.49.113:8080',\n",
       " '205.169.145.130:39438',\n",
       " '67.205.174.56:8118',\n",
       " '72.4.34.79:53281',\n",
       " '71.164.141.8:56255',\n",
       " '104.139.105.234:35633',\n",
       " '63.64.47.172:54321',\n",
       " '172.83.138.45:53281',\n",
       " '45.30.170.25:8888',\n",
       " '37.61.224.104:8195',\n",
       " '50.237.58.161:40213',\n",
       " '24.119.8.100:53281',\n",
       " '108.170.48.187:3128',\n",
       " '37.61.224.231:8195',\n",
       " '72.95.19.165:57701',\n",
       " '73.73.118.230:48757',\n",
       " '50.226.80.129:55322',\n",
       " '209.105.225.218:53281',\n",
       " '97.79.207.83:8080',\n",
       " '66.205.0.186:55460',\n",
       " '96.57.81.211:35702',\n",
       " '52.38.253.195:1080']"
      ]
     },
     "execution_count": 8,
     "metadata": {},
     "output_type": "execute_result"
    }
   ],
   "source": [
    "ua = user_agent_list\n",
    "proxies = proxies_list_\n",
    "prx_pool = proxie_random_pool\n",
    "proxie_check(proxies)"
   ]
  },
  {
   "cell_type": "code",
   "execution_count": 2,
   "metadata": {
    "ExecuteTime": {
     "end_time": "2018-10-07T18:26:13.100613Z",
     "start_time": "2018-10-07T18:26:13.079789Z"
    },
    "scrolled": true
   },
   "outputs": [
    {
     "data": {
      "text/plain": [
       "68"
      ]
     },
     "execution_count": 2,
     "metadata": {},
     "output_type": "execute_result"
    }
   ],
   "source": [
    "len(proxies)"
   ]
  },
  {
   "cell_type": "code",
   "execution_count": null,
   "metadata": {
    "ExecuteTime": {
     "end_time": "2018-10-04T20:40:13.361630Z",
     "start_time": "2018-10-04T20:40:13.341163Z"
    }
   },
   "outputs": [],
   "source": [
    "# zip_codes = pd.read_csv('../Data/main_zips.csv')\n",
    "# zip_list = zip_codes['zip'].tolist()"
   ]
  },
  {
   "cell_type": "code",
   "execution_count": null,
   "metadata": {
    "ExecuteTime": {
     "end_time": "2018-10-04T20:40:13.470057Z",
     "start_time": "2018-10-04T20:40:13.454373Z"
    }
   },
   "outputs": [],
   "source": [
    "# active_zip_url_list, sold_zip_url_list = gen_url_list(zip_list)"
   ]
  },
  {
   "cell_type": "code",
   "execution_count": null,
   "metadata": {
    "ExecuteTime": {
     "end_time": "2018-10-04T20:40:13.600422Z",
     "start_time": "2018-10-04T20:40:13.580446Z"
    }
   },
   "outputs": [],
   "source": [
    "# a_main_df = pd.DataFrame(columns=['full_address', 'home_link'])\n",
    "# s_main_df = pd.DataFrame(columns=['full_address', 'home_link'])"
   ]
  },
  {
   "cell_type": "code",
   "execution_count": null,
   "metadata": {
    "ExecuteTime": {
     "end_time": "2018-10-04T20:40:13.708635Z",
     "start_time": "2018-10-04T20:40:13.688904Z"
    },
    "scrolled": true
   },
   "outputs": [],
   "source": [
    "# a = randint(0, 3)\n",
    "# time.sleep(random.uniform(0, 1)*((88/13)**.33)*a)\n",
    "# active_zip_url_list, a_main_df, proxies = links_for_props(proxies, active_zip_url_list, a_main_df, ua)"
   ]
  },
  {
   "cell_type": "code",
   "execution_count": null,
   "metadata": {
    "ExecuteTime": {
     "end_time": "2018-10-04T20:40:13.822477Z",
     "start_time": "2018-10-04T20:40:13.803862Z"
    },
    "scrolled": true
   },
   "outputs": [],
   "source": [
    "# a = randint(0, 3)\n",
    "# sold_zip_url_list, s_main_df, proxies = links_for_props(proxies, sold_zip_url_list, s_main_df, ua)\n",
    "# time.sleep(random.uniform(0, 1)*((88/13)**.33)*a)"
   ]
  },
  {
   "cell_type": "code",
   "execution_count": null,
   "metadata": {
    "ExecuteTime": {
     "end_time": "2018-10-04T20:40:13.937948Z",
     "start_time": "2018-10-04T20:40:13.920620Z"
    }
   },
   "outputs": [],
   "source": [
    "# a_main_df.to_csv('../Data/active_props_url_list.csv')\n",
    "# s_main_df.to_csv('../Data/sold_props_url_list.csv')"
   ]
  },
  {
   "cell_type": "code",
   "execution_count": null,
   "metadata": {
    "ExecuteTime": {
     "end_time": "2018-10-04T20:40:14.100325Z",
     "start_time": "2018-10-04T20:40:14.038871Z"
    }
   },
   "outputs": [],
   "source": [
    "a_main_df = pd.read_csv('../Data/active_props_url_list.csv')\n",
    "s_main_df = pd.read_csv('../Data/sold_props_url_list.csv')"
   ]
  },
  {
   "cell_type": "code",
   "execution_count": null,
   "metadata": {
    "ExecuteTime": {
     "end_time": "2018-10-04T20:40:14.204550Z",
     "start_time": "2018-10-04T20:40:14.174509Z"
    }
   },
   "outputs": [],
   "source": [
    "a_main_df = a_main_df.drop_duplicates(subset='full_address')\n",
    "s_main_df = s_main_df.drop_duplicates(subset='full_address')"
   ]
  },
  {
   "cell_type": "code",
   "execution_count": null,
   "metadata": {
    "ExecuteTime": {
     "end_time": "2018-10-04T20:40:14.910775Z",
     "start_time": "2018-10-04T20:40:14.893124Z"
    }
   },
   "outputs": [],
   "source": [
    "active_url_list = a_main_df.home_link.tolist()\n",
    "sold_url_list = s_main_df.home_link.tolist()"
   ]
  },
  {
   "cell_type": "code",
   "execution_count": null,
   "metadata": {
    "ExecuteTime": {
     "end_time": "2018-10-04T20:40:46.537896Z",
     "start_time": "2018-10-04T20:40:46.524816Z"
    }
   },
   "outputs": [],
   "source": [
    "def info_from_property(soup):\n",
    "\n",
    "    top_info_dict = top_info_parser(soup, 1)\n",
    "    public_info_dict = public_info_parser(soup, 1)\n",
    "    school_dict = school_parser(soup, 1)\n",
    "    all_home_feats = feats_parser(soup, 1)\n",
    "    \n",
    "    df = pd.DataFrame()\n",
    "    df = pd.concat([top_info_dict, school_dict, public_info_dict, \n",
    "                    all_home_feats], axis=1)\n",
    "    \n",
    "    return df"
   ]
  },
  {
   "cell_type": "code",
   "execution_count": null,
   "metadata": {
    "ExecuteTime": {
     "end_time": "2018-10-04T20:41:55.770355Z",
     "start_time": "2018-10-04T20:41:50.832796Z"
    }
   },
   "outputs": [],
   "source": [
    "header = random.sample(ua, 1)[0]\n",
    "proxy = random.sample(proxies, 1)[0]\n",
    "sold_url_list = s_main_df['home_link'].tolist()\n",
    "url = random.sample(sold_url_list, 1)[0]\n",
    "print(proxy)\n",
    "print(url)\n",
    "soup = session_creator(proxy, ua, url)\n",
    "sold_home_df = info_from_sold_property(soup)"
   ]
  },
  {
   "cell_type": "code",
   "execution_count": null,
   "metadata": {},
   "outputs": [],
   "source": [
    "sold_home_df = sold_home_df.rename(columns={'': 'redfin_est', 'Built': 'yr_blt', 'Last Sold Price': 'ls_price', Beds})"
   ]
  },
  {
   "cell_type": "code",
   "execution_count": null,
   "metadata": {},
   "outputs": [],
   "source": [
    "sold_home_df.columns"
   ]
  },
  {
   "cell_type": "code",
   "execution_count": null,
   "metadata": {},
   "outputs": [],
   "source": [
    "df_cols = rename_columns(sold_home_df.columns)\n",
    "df_cols\n",
    "# sold_home_df.columns\n",
    "# df_cols = [num.replace().\n",
    "# df_cols = [num for num in ]\n",
    "# df_cols = [num for num in df_cols]\n",
    "# df_cols\n",
    "# sold_home_df.columns = df_cols\n",
    "# sold_home_df.columns"
   ]
  },
  {
   "cell_type": "code",
   "execution_count": null,
   "metadata": {
    "ExecuteTime": {
     "end_time": "2018-10-05T16:58:00.830068Z",
     "start_time": "2018-10-05T16:58:00.741389Z"
    },
    "scrolled": true
   },
   "outputs": [],
   "source": [
    "header = random.sample(ua, 1)[0]\n",
    "proxy = random.sample(proxies, 1)[0]\n",
    "sold_url_list = s_main_df['home_link'].tolist()\n",
    "url = 'https://www.redfin.com/CA/Fremont/1622-Mento-Ter-94539/home/22962572'\n",
    "# url = random.sample(sold_url_list, 1)[0]\n",
    "print(proxy)\n",
    "print(url)"
   ]
  },
  {
   "cell_type": "code",
   "execution_count": null,
   "metadata": {},
   "outputs": [],
   "source": [
    "a = 'hello!'"
   ]
  },
  {
   "cell_type": "code",
   "execution_count": null,
   "metadata": {},
   "outputs": [],
   "source": [
    "a[:-1]"
   ]
  },
  {
   "cell_type": "code",
   "execution_count": null,
   "metadata": {},
   "outputs": [],
   "source": []
  },
  {
   "cell_type": "code",
   "execution_count": null,
   "metadata": {},
   "outputs": [],
   "source": []
  },
  {
   "cell_type": "code",
   "execution_count": null,
   "metadata": {},
   "outputs": [],
   "source": []
  }
 ],
 "metadata": {
  "kernelspec": {
   "display_name": "Python 3",
   "language": "python",
   "name": "python3"
  },
  "language_info": {
   "codemirror_mode": {
    "name": "ipython",
    "version": 3
   },
   "file_extension": ".py",
   "mimetype": "text/x-python",
   "name": "python",
   "nbconvert_exporter": "python",
   "pygments_lexer": "ipython3",
   "version": "3.6.6"
  }
 },
 "nbformat": 4,
 "nbformat_minor": 2
}
