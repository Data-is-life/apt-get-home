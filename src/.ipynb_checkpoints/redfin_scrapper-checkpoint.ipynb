{
 "cells": [
  {
   "cell_type": "code",
   "execution_count": 318,
   "metadata": {
    "ExecuteTime": {
     "end_time": "2018-10-02T18:37:56.183803Z",
     "start_time": "2018-10-02T18:37:56.163157Z"
    }
   },
   "outputs": [],
   "source": [
    "from math import ceil\n",
    "import time\n",
    "import re\n",
    "import ast\n",
    "import sys\n",
    "import urllib\n",
    "import time\n",
    "import random\n",
    "import pandas as pd\n",
    "from bs4 import BeautifulSoup\n",
    "from random import randint\n",
    "from selenium.webdriver.firefox.webdriver import FirefoxProfile\n",
    "from urllib.request import urlopen, Request\n",
    "from urllib.error import HTTPError\n",
    "from urllib.error import URLError\n",
    "import requests\n",
    "from itertools import cycle\n",
    "import string\n",
    "from header_list import user_agent_list\n",
    "from proxies_list import proxies_list_, proxie_random_pool\n",
    "from FUNCTIONS import proxie_check, strip_count, gen_url_list\n",
    "from SCRAPPER_FUNCTIONS import session_creator, zip_prop_count, each_page, links_for_props"
   ]
  },
  {
   "cell_type": "code",
   "execution_count": 319,
   "metadata": {
    "ExecuteTime": {
     "end_time": "2018-10-02T18:37:56.505607Z",
     "start_time": "2018-10-02T18:37:56.487944Z"
    }
   },
   "outputs": [],
   "source": [
    "ua = user_agent_list\n",
    "proxies = proxies_list_\n",
    "prx_pool = proxie_random_pool"
   ]
  },
  {
   "cell_type": "code",
   "execution_count": 320,
   "metadata": {
    "ExecuteTime": {
     "end_time": "2018-10-02T18:37:57.531721Z",
     "start_time": "2018-10-02T18:37:57.517400Z"
    },
    "scrolled": true
   },
   "outputs": [
    {
     "data": {
      "text/plain": [
       "48"
      ]
     },
     "execution_count": 320,
     "metadata": {},
     "output_type": "execute_result"
    }
   ],
   "source": [
    "# proxie_check(proxies)\n",
    "len(proxies)"
   ]
  },
  {
   "cell_type": "code",
   "execution_count": 204,
   "metadata": {
    "ExecuteTime": {
     "end_time": "2018-10-01T23:51:48.614365Z",
     "start_time": "2018-10-01T23:51:48.592595Z"
    }
   },
   "outputs": [],
   "source": [
    "zip_codes = pd.read_csv('../Data/main_zips.csv')\n",
    "zip_list = zip_codes['zip'].tolist()"
   ]
  },
  {
   "cell_type": "code",
   "execution_count": 264,
   "metadata": {
    "ExecuteTime": {
     "end_time": "2018-10-02T04:33:36.102670Z",
     "start_time": "2018-10-02T04:33:36.090058Z"
    }
   },
   "outputs": [],
   "source": [
    "# active_url_list, sold_url_list = gen_url_list(zip_list)"
   ]
  },
  {
   "cell_type": "code",
   "execution_count": 213,
   "metadata": {
    "ExecuteTime": {
     "end_time": "2018-10-01T23:51:53.379236Z",
     "start_time": "2018-10-01T23:51:53.364515Z"
    }
   },
   "outputs": [],
   "source": [
    "# a_main_df = pd.DataFrame(columns=['full_address', 'home_link'])\n",
    "# s_main_df = pd.DataFrame(columns=['full_address', 'home_link'])"
   ]
  },
  {
   "cell_type": "code",
   "execution_count": 261,
   "metadata": {
    "ExecuteTime": {
     "end_time": "2018-10-02T04:32:54.682803Z",
     "start_time": "2018-10-02T04:32:54.666117Z"
    },
    "scrolled": true
   },
   "outputs": [],
   "source": [
    "# a = randint(0, 3)\n",
    "# time.sleep(random.uniform(0, 1)*((88/13)**.33)*a)\n",
    "# active_url_list, a_main_df, proxies = links_for_props(\n",
    "#     proxies, active_url_list, a_main_df, ua)"
   ]
  },
  {
   "cell_type": "code",
   "execution_count": 307,
   "metadata": {
    "ExecuteTime": {
     "end_time": "2018-10-02T18:24:37.912744Z",
     "start_time": "2018-10-02T18:24:37.899663Z"
    },
    "scrolled": true
   },
   "outputs": [],
   "source": [
    "# a_main_df"
   ]
  },
  {
   "cell_type": "code",
   "execution_count": 310,
   "metadata": {
    "ExecuteTime": {
     "end_time": "2018-10-02T18:25:02.916844Z",
     "start_time": "2018-10-02T18:25:02.904147Z"
    }
   },
   "outputs": [],
   "source": [
    "# len(active_url_list)"
   ]
  },
  {
   "cell_type": "code",
   "execution_count": 309,
   "metadata": {
    "ExecuteTime": {
     "end_time": "2018-10-02T18:24:59.974204Z",
     "start_time": "2018-10-02T18:24:59.955960Z"
    },
    "scrolled": true
   },
   "outputs": [],
   "source": [
    "# a = randint(0, 3)\n",
    "# sold_url_list, s_main_df, proxies = links_for_props(\n",
    "#     proxies, sold_url_list, s_main_df, ua)"
   ]
  },
  {
   "cell_type": "code",
   "execution_count": 160,
   "metadata": {
    "ExecuteTime": {
     "end_time": "2018-09-29T06:12:47.161386Z",
     "start_time": "2018-09-29T06:12:47.145144Z"
    }
   },
   "outputs": [],
   "source": [
    "# sld_under_url_list = sld_under_url_list[1:]\n",
    "# print(len(sld_under_url_list))"
   ]
  },
  {
   "cell_type": "code",
   "execution_count": 614,
   "metadata": {
    "ExecuteTime": {
     "end_time": "2018-09-28T20:44:08.886948Z",
     "start_time": "2018-09-28T20:44:08.872336Z"
    },
    "scrolled": true
   },
   "outputs": [],
   "source": [
    "# sld_under_url_list, s_main_df = links_for_props(\n",
    "#     proxies, sld_under_url_list, s_main_df, ua)"
   ]
  },
  {
   "cell_type": "code",
   "execution_count": 616,
   "metadata": {
    "ExecuteTime": {
     "end_time": "2018-09-28T20:44:16.925278Z",
     "start_time": "2018-09-28T20:44:16.908689Z"
    }
   },
   "outputs": [],
   "source": [
    "# list_ = list(s_main_df.full_address.values)\n",
    "# set([num[-5:] for num in list_])"
   ]
  },
  {
   "cell_type": "code",
   "execution_count": 612,
   "metadata": {
    "ExecuteTime": {
     "end_time": "2018-09-28T20:44:06.749963Z",
     "start_time": "2018-09-28T20:44:06.733486Z"
    }
   },
   "outputs": [],
   "source": [
    "# main_df.to_csv('../Data/main_df_ap.csv')\n",
    "# s_main_df.to_csv('../Data/s_main.csv')"
   ]
  },
  {
   "cell_type": "code",
   "execution_count": 21,
   "metadata": {
    "ExecuteTime": {
     "end_time": "2018-09-28T23:24:54.736939Z",
     "start_time": "2018-09-28T23:24:54.658430Z"
    },
    "scrolled": true
   },
   "outputs": [],
   "source": [
    "# s_main_df = pd.read_csv('../Data/s_main.csv')\n",
    "# main_df = pd.read_csv('../Data/main_df_ap.csv')"
   ]
  },
  {
   "cell_type": "code",
   "execution_count": 295,
   "metadata": {
    "ExecuteTime": {
     "end_time": "2018-10-02T17:34:47.681976Z",
     "start_time": "2018-10-02T17:34:47.573732Z"
    }
   },
   "outputs": [],
   "source": [
    "a_main_df.to_csv('../Data/active_props_url_list.csv')\n",
    "s_main_df.to_csv('../Data/sold_props_url_list.csv')"
   ]
  },
  {
   "cell_type": "code",
   "execution_count": 304,
   "metadata": {
    "ExecuteTime": {
     "end_time": "2018-10-02T18:19:26.987057Z",
     "start_time": "2018-10-02T18:19:26.963635Z"
    }
   },
   "outputs": [],
   "source": [
    "a_main_df = a_main_df.drop_duplicates(subset='full_address')\n",
    "s_main_df = s_main_df.drop_duplicates(subset='full_address')"
   ]
  },
  {
   "cell_type": "code",
   "execution_count": 305,
   "metadata": {
    "ExecuteTime": {
     "end_time": "2018-10-02T18:21:54.917626Z",
     "start_time": "2018-10-02T18:21:54.900591Z"
    }
   },
   "outputs": [],
   "source": [
    "active_url_list = a_main_df.home_link.tolist()"
   ]
  },
  {
   "cell_type": "code",
   "execution_count": 306,
   "metadata": {
    "ExecuteTime": {
     "end_time": "2018-10-02T18:22:03.554001Z",
     "start_time": "2018-10-02T18:22:03.537382Z"
    }
   },
   "outputs": [
    {
     "data": {
      "text/plain": [
       "10153"
      ]
     },
     "execution_count": 306,
     "metadata": {},
     "output_type": "execute_result"
    }
   ],
   "source": [
    "len(active_url_list)"
   ]
  },
  {
   "cell_type": "code",
   "execution_count": 438,
   "metadata": {
    "ExecuteTime": {
     "end_time": "2018-10-02T19:30:58.846936Z",
     "start_time": "2018-10-02T19:30:58.820980Z"
    }
   },
   "outputs": [],
   "source": [
    "def each_property(url, hdr, proxy):\n",
    "    soup = session_creator(proxy, ua, url)\n",
    "\n",
    "    price_regex = r'\\$\\S+\\s+'\n",
    "    bed_regex = r'\\d+\\S?\\d?\\d?Bed'\n",
    "    bath_regex = r'\\d+\\S?\\d?\\d?Bath'\n",
    "    size_regex = r'\\d+\\S?\\d?\\d?\\s?Sq'\n",
    "    yr_blt_regex = r'Built: \\d+'\n",
    "    status_regex = r'Status: \\w+'\n",
    "    home_dict = dict()\n",
    "\n",
    "    home_address_MLS = soup.title.string\n",
    "    add_list = home_address_MLS.split(sep=' |')\n",
    "    zip_code = re.search('\\d+$', add_list[0])\n",
    "    mls_num = re.search('\\d+$', add_list[1])\n",
    "    home_add = re.search('(.+?),', home_address_MLS)\n",
    "    home_city = re.search(',(.+?),', home_address_MLS)\n",
    "    home_state = add_list[0].replace(home_add.group(1), '').replace(\n",
    "        home_city.group(1), '').replace(zip_code.group(), '').replace(\n",
    "        ',', '').replace(' ', '')\n",
    "\n",
    "    home_dict['address'] = home_add.group(1)\n",
    "    home_dict['city'] = home_city.group(1)\n",
    "    home_dict['zip_code'] = zip_code.group()\n",
    "    home_dict['state'] = home_state\n",
    "    #home_dict['mls_num'] = mls_num.group()\n",
    "\n",
    "    all_top = soup.findAll('div', {'class': 'HomeInfo inline-block'})\n",
    "    price_list = []\n",
    "    for num in all_top:\n",
    "        a = num.text\n",
    "        price_list.extend(re.findall(price_regex, a))\n",
    "        home_dict['num_beds'] = float((re.findall(bed_regex, a))[0].replace(\n",
    "            'Bed', '').replace(' ', ''))\n",
    "        home_dict['num_baths'] = float((re.findall(bath_regex, a))[0].replace(\n",
    "            'Bath', '').replace(' ', ''))\n",
    "        home_dict['home_sqft'] = float((re.findall(size_regex, a))[0].replace(\n",
    "            'Sq', '').replace(' ', '').replace(':', ''))\n",
    "        home_dict['yr_blt'] = int((re.findall(yr_blt_regex, a))[0].replace(\n",
    "            'Built', '').replace(' ', '').replace(':', ''))\n",
    "        home_dict['status'] = (re.findall(status_regex, a))[0].replace(\n",
    "            'Status', '').replace(' ', '').replace(':', '')\n",
    "\n",
    "    home_dict['redfin_est'] = float([num for num in price_list if 'Redfin' in num\n",
    "                                     ][0].replace('Redfin ', '').replace('$', '').replace(',', ''))\n",
    "    home_dict['sold_price'] = float([num for num in price_list if 'Last' in num\n",
    "                                     ][0].replace('Last ', '').replace('$', '').replace(',', ''))\n",
    "\n",
    "    home_description = soup.find('p', {'class': 'font-b1'})\n",
    "    home_dict['description'] = home_description.span.text\n",
    "\n",
    "    all_home_feats = soup.findAll('span', {'class': \"entryItemContent\"})\n",
    "    feats = [num.text for num in all_home_feats]\n",
    "\n",
    "#     prop_hist = soup.findAll(\n",
    "#         'div', {'id': 'propertyHistory-expandable-segment'})\n",
    "#     prop_history = [num.text for num in prop_hist]\n",
    "\n",
    "    school_info = soup.findAll('div', {'class': \"name-and-info\"})\n",
    "    schools = [num.text for num in school_info]\n",
    "\n",
    "    if ('Public') in schools[0]:\n",
    "        es = schools[0]\n",
    "        elementary_school = es.split(sep=' •')\n",
    "        home_dict['elem_school_name'] = elementary_school[0][:-6]\n",
    "        home_dict['elem_school_grades'] = elementary_school[1]\n",
    "        home_dict['elem_school_rating'] = elementary_school[2]\n",
    "    else:\n",
    "        es = schools[1]\n",
    "        elementary_school = es.split(sep=' •')\n",
    "        home_dict['elem_school_name'] = elementary_school[0][:-6]\n",
    "        home_dict['elem_school_grades'] = elementary_school[1]\n",
    "        home_dict['elem_school_rating'] = elementary_school[2]\n",
    "    \n",
    "    if (('Middle' or 'Junior') and 'Public') in schools[1]:\n",
    "        ms = schools[1]\n",
    "        middle_school = ms.split(sep=' •')\n",
    "        home_dict['middle_school_name'] = middle_school[0][:-6]\n",
    "        home_dict['middle_school_grades'] = middle_school[1]\n",
    "        home_dict['middle_school_rating'] = middle_school[2]\n",
    "    else:\n",
    "        ms = schools[2]\n",
    "        middle_school = ms.split(sep=' •')\n",
    "        home_dict['middle_school_name'] = middle_school[0][:-6]\n",
    "        home_dict['middle_school_grades'] = middle_school[1]\n",
    "        home_dict['middle_school_rating'] = middle_school[2]\n",
    "\n",
    "    if ('9 to 12' and 'Public') in school:\n",
    "        hs = schools[2]\n",
    "        high_school = hs.split(sep=' •')\n",
    "        home_dict['high_school_name'] = high_school[0][:-6]\n",
    "        home_dict['high_school_grades'] = high_school[1]\n",
    "        home_dict['high_school_rating'] = high_school[2]\n",
    "    else:\n",
    "        hs = schools[3]\n",
    "        high_school = hs.split(sep=' •')\n",
    "        home_dict['high_school_name'] = high_school[0][:-6]\n",
    "        home_dict['high_school_grades'] = high_school[1]\n",
    "        home_dict['high_school_rating'] = high_school[2]\n",
    "\n",
    "#     rating = re.findall('(\\d+)', add_list[-1])\n",
    "#     rating = '/'.join([num for num in rating])\n",
    "#     school_name = add_list[0]\n",
    "#     if 'Public' in school_name:\n",
    "#         print(school_name.replace('Public',''))\n",
    "\n",
    "    return home_dict, feats, schools"
   ]
  },
  {
   "cell_type": "code",
   "execution_count": 441,
   "metadata": {
    "ExecuteTime": {
     "end_time": "2018-10-02T19:31:07.243870Z",
     "start_time": "2018-10-02T19:31:06.039644Z"
    }
   },
   "outputs": [
    {
     "name": "stdout",
     "output_type": "stream",
     "text": [
      "173.88.208.145:41111\n",
      "https://www.redfin.com/PA/Hanover/863-E-Walnut-St-17331/home/140987205\n"
     ]
    },
    {
     "ename": "AttributeError",
     "evalue": "'NoneType' object has no attribute 'string'",
     "output_type": "error",
     "traceback": [
      "\u001b[0;31m---------------------------------------------------------------------------\u001b[0m",
      "\u001b[0;31mAttributeError\u001b[0m                            Traceback (most recent call last)",
      "\u001b[0;32m<ipython-input-441-b4df27b77d7c>\u001b[0m in \u001b[0;36m<module>\u001b[0;34m()\u001b[0m\n\u001b[1;32m      7\u001b[0m \u001b[0mprint\u001b[0m\u001b[0;34m(\u001b[0m\u001b[0murl\u001b[0m\u001b[0;34m)\u001b[0m\u001b[0;34m\u001b[0m\u001b[0m\n\u001b[1;32m      8\u001b[0m \u001b[0;34m\u001b[0m\u001b[0m\n\u001b[0;32m----> 9\u001b[0;31m \u001b[0mhome_dict\u001b[0m\u001b[0;34m,\u001b[0m \u001b[0mfeats\u001b[0m\u001b[0;34m,\u001b[0m \u001b[0mschools\u001b[0m \u001b[0;34m=\u001b[0m \u001b[0meach_property\u001b[0m\u001b[0;34m(\u001b[0m\u001b[0murl\u001b[0m\u001b[0;34m,\u001b[0m \u001b[0mheader\u001b[0m\u001b[0;34m,\u001b[0m \u001b[0mproxy\u001b[0m\u001b[0;34m)\u001b[0m\u001b[0;34m\u001b[0m\u001b[0m\n\u001b[0m",
      "\u001b[0;32m<ipython-input-438-3d7f30eb0588>\u001b[0m in \u001b[0;36meach_property\u001b[0;34m(url, hdr, proxy)\u001b[0m\n\u001b[1;32m     10\u001b[0m     \u001b[0mhome_dict\u001b[0m \u001b[0;34m=\u001b[0m \u001b[0mdict\u001b[0m\u001b[0;34m(\u001b[0m\u001b[0;34m)\u001b[0m\u001b[0;34m\u001b[0m\u001b[0m\n\u001b[1;32m     11\u001b[0m \u001b[0;34m\u001b[0m\u001b[0m\n\u001b[0;32m---> 12\u001b[0;31m     \u001b[0mhome_address_MLS\u001b[0m \u001b[0;34m=\u001b[0m \u001b[0msoup\u001b[0m\u001b[0;34m.\u001b[0m\u001b[0mtitle\u001b[0m\u001b[0;34m.\u001b[0m\u001b[0mstring\u001b[0m\u001b[0;34m\u001b[0m\u001b[0m\n\u001b[0m\u001b[1;32m     13\u001b[0m     \u001b[0madd_list\u001b[0m \u001b[0;34m=\u001b[0m \u001b[0mhome_address_MLS\u001b[0m\u001b[0;34m.\u001b[0m\u001b[0msplit\u001b[0m\u001b[0;34m(\u001b[0m\u001b[0msep\u001b[0m\u001b[0;34m=\u001b[0m\u001b[0;34m' |'\u001b[0m\u001b[0;34m)\u001b[0m\u001b[0;34m\u001b[0m\u001b[0m\n\u001b[1;32m     14\u001b[0m     \u001b[0mzip_code\u001b[0m \u001b[0;34m=\u001b[0m \u001b[0mre\u001b[0m\u001b[0;34m.\u001b[0m\u001b[0msearch\u001b[0m\u001b[0;34m(\u001b[0m\u001b[0;34m'\\d+$'\u001b[0m\u001b[0;34m,\u001b[0m \u001b[0madd_list\u001b[0m\u001b[0;34m[\u001b[0m\u001b[0;36m0\u001b[0m\u001b[0;34m]\u001b[0m\u001b[0;34m)\u001b[0m\u001b[0;34m\u001b[0m\u001b[0m\n",
      "\u001b[0;31mAttributeError\u001b[0m: 'NoneType' object has no attribute 'string'"
     ]
    }
   ],
   "source": [
    "header = random.sample(ua, 1)[0]\n",
    "proxy = random.sample(proxies, 1)[0]\n",
    "sold_url_list = s_main_df['home_link'].tolist()\n",
    "# url = random.sample(active_url_list, 1)[0]\n",
    "url = random.sample(sold_url_list, 1)[0]\n",
    "print(proxy)\n",
    "print(url)\n",
    "\n",
    "home_dict, feats, schools = each_property(url, header, proxy)"
   ]
  },
  {
   "cell_type": "code",
   "execution_count": null,
   "metadata": {
    "ExecuteTime": {
     "end_time": "2018-10-02T19:31:07.244790Z",
     "start_time": "2018-10-02T19:31:06.160Z"
    }
   },
   "outputs": [],
   "source": [
    "home_dict"
   ]
  },
  {
   "cell_type": "code",
   "execution_count": 437,
   "metadata": {
    "ExecuteTime": {
     "end_time": "2018-10-02T19:25:21.577758Z",
     "start_time": "2018-10-02T19:25:21.562752Z"
    }
   },
   "outputs": [
    {
     "data": {
      "text/plain": [
       "'Longfellow School-PortlandPublic • Preschool to 5 • Serves this homeGreatSchools Rating: 7/10Parent Rating: '"
      ]
     },
     "execution_count": 437,
     "metadata": {},
     "output_type": "execute_result"
    }
   ],
   "source": [
    "schools[0]"
   ]
  },
  {
   "cell_type": "code",
   "execution_count": 206,
   "metadata": {
    "ExecuteTime": {
     "end_time": "2018-09-29T18:16:09.588266Z",
     "start_time": "2018-09-29T18:16:09.572936Z"
    }
   },
   "outputs": [
    {
     "data": {
      "text/plain": [
       "['# of Bedrooms: 3',\n",
       " '3 Bedrooms on Main Level',\n",
       " '# of Baths: 3',\n",
       " '2 Baths on Main Level',\n",
       " '1 Bath on Lower Level',\n",
       " 'Living Room: View',\n",
       " 'Living Room on Main Level',\n",
       " 'Family Room on Lower Level',\n",
       " 'Dining Room on Main Level',\n",
       " 'Combination Living/Dining Room',\n",
       " 'Den/Bonus Room: 0',\n",
       " '# of Fireplace(s): 1, In Living Room',\n",
       " 'Laundry Appliances: Washer/Dryer, In Garage',\n",
       " 'Refrigerator, Freezer, Island, Remodeled',\n",
       " 'Kitchen on Main Level',\n",
       " 'Floors: Hardwood',\n",
       " '# of Rooms (Total): 0',\n",
       " '1 Bath on Lower Level, Family Room on Lower Level',\n",
       " '3 Bedrooms on Main Level, 2 Baths on Main Level, Living Room on Main Level, Dining Room on Main Level, Kitchen on Main Level',\n",
       " 'Heating/Cooling: Central Heating',\n",
       " 'Parking Type: On Site',\n",
       " '# of Garage Spaces: 1',\n",
       " '# of Parking Spaces: 1',\n",
       " 'Garage',\n",
       " 'Parking Access: Side-by-Side',\n",
       " 'Deck(s)',\n",
       " 'Monthly Rent: 0.00',\n",
       " 'Unconfirmed Co-op Fee: 0.00',\n",
       " 'Zoning: RH-1',\n",
       " 'View(s): Ocean',\n",
       " 'Lot Measurement: Square Feet',\n",
       " 'Per Architect',\n",
       " 'Deck(s)',\n",
       " 'APN: 7010013',\n",
       " 'Property Disclaimer: Copyright: 2018 by San Francisco Assoc of REALTORS - All data, including all measurements and calculations of area, is obtained from various sources and has not been, and will not be, verified by broker or MLS. All information should be independently reviewed and verified for accuracy. Properties may or may not be listed by the office/agent presenting the information.',\n",
       " 'Cross Street: Grafton Avenue',\n",
       " 'Original Price: $1,295,000',\n",
       " 'On Market Date: Friday, October 6, 2017']"
      ]
     },
     "execution_count": 206,
     "metadata": {},
     "output_type": "execute_result"
    }
   ],
   "source": [
    "feats"
   ]
  },
  {
   "cell_type": "code",
   "execution_count": null,
   "metadata": {},
   "outputs": [],
   "source": []
  }
 ],
 "metadata": {
  "kernelspec": {
   "display_name": "Python 3",
   "language": "python",
   "name": "python3"
  },
  "language_info": {
   "codemirror_mode": {
    "name": "ipython",
    "version": 3
   },
   "file_extension": ".py",
   "mimetype": "text/x-python",
   "name": "python",
   "nbconvert_exporter": "python",
   "pygments_lexer": "ipython3",
   "version": "3.6.6"
  }
 },
 "nbformat": 4,
 "nbformat_minor": 2
}
