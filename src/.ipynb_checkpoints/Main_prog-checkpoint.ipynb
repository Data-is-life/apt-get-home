{
 "cells": [
  {
   "cell_type": "code",
   "execution_count": 12,
   "metadata": {
    "ExecuteTime": {
     "end_time": "2018-10-02T00:40:09.989696Z",
     "start_time": "2018-10-02T00:40:09.970185Z"
    }
   },
   "outputs": [],
   "source": [
    "from math import ceil\n",
    "import time\n",
    "import re\n",
    "import ast\n",
    "import sys\n",
    "import urllib\n",
    "import time\n",
    "import random\n",
    "import pandas as pd\n",
    "from bs4 import BeautifulSoup\n",
    "from random import randint\n",
    "from selenium.webdriver.firefox.webdriver import FirefoxProfile\n",
    "from urllib.request import urlopen, Request\n",
    "from urllib.error import HTTPError\n",
    "from urllib.error import URLError\n",
    "import requests\n",
    "from itertools import cycle\n",
    "import string\n",
    "from header_list import user_agent_list\n",
    "from proxies_list import proxies_list_\n",
    "from FUNCTIONS import proxie_check, strip_count, gen_url_list\n",
    "from SCRAPPER_FUNCTIONS import session_creator, each_page, links_for_props\n",
    "from MAIN_FUNCTIONS import each_property\n",
    "ua = user_agent_list\n",
    "proxies = proxies_list_"
   ]
  },
  {
   "cell_type": "code",
   "execution_count": 13,
   "metadata": {
    "ExecuteTime": {
     "end_time": "2018-10-02T00:40:50.031436Z",
     "start_time": "2018-10-02T00:40:49.888294Z"
    }
   },
   "outputs": [
    {
     "name": "stdout",
     "output_type": "stream",
     "text": [
      "Input the Redfin URL of the Home: \n"
     ]
    }
   ],
   "source": [
    "customer_url = input(\"Input the Redfin URL of the Home: \")"
   ]
  },
  {
   "cell_type": "code",
   "execution_count": 14,
   "metadata": {
    "ExecuteTime": {
     "end_time": "2018-10-02T00:40:50.173215Z",
     "start_time": "2018-10-02T00:40:50.153358Z"
    }
   },
   "outputs": [],
   "source": [
    "# customer_df = each_property(customer_url, header, proxy)"
   ]
  },
  {
   "cell_type": "code",
   "execution_count": 21,
   "metadata": {
    "ExecuteTime": {
     "end_time": "2018-10-02T07:08:07.727456Z",
     "start_time": "2018-10-02T07:08:07.709695Z"
    }
   },
   "outputs": [],
   "source": [
    "customer_df = pd.DataFrame(columns=['address', 'city', 'state', 'zip', 'type', \n",
    "                                    'price', 'sqft', 'num_bds', 'num_bths',\n",
    "                                    'lot_sf', 'yr_blt', 'HOA', 'HOA_fee'])"
   ]
  },
  {
   "cell_type": "code",
   "execution_count": 19,
   "metadata": {
    "ExecuteTime": {
     "end_time": "2018-10-02T06:02:25.531735Z",
     "start_time": "2018-10-02T06:02:25.517853Z"
    }
   },
   "outputs": [],
   "source": [
    "zip_code = customer_df['zip'].values\n",
    "city = customer_df['city'].values\n",
    "price = customer_df['price'].values\n",
    "sqft = customer_df['sqft'].values\n",
    "num_bds = customer_df['num_bds'].values\n",
    "num_bths = customer_df['num_bths'].values\n",
    "lot_sqft = customer_df['lot_sf'].values\n",
    "yr_blt = customer_df['yr_blt'].values\n",
    "hoa = customer_df['HOA'].values\n",
    "hoa_fee = customer_df['HOA_fee'].values\n",
    "\n",
    "\n",
    "url_part_one = 'https://www.redfin.com/zipcode/'+zip_code+'/filter/sort=lo-days/'\n",
    "\n",
    "\n",
    "if type_home == 'Condo' or type_home == 'Townhouse':\n",
    "    url_part_two = ',property-type=condo+townhouse'\n",
    "elif type_home == 'Single Family House':\n",
    "    url_part_two = ',property-type=House'\n",
    "\n",
    "pmik = int(price//100000)\n",
    "pmvk = int(price % 100000)/1000\n",
    "\n",
    "if price <= 500000:\n",
    "    if pmv <= 24.99:\n",
    "        max_price = str(pmi)+'.5k'\n",
    "    elif pmv <= 49.99:\n",
    "        max_price = str(pmi)+'.75k'\n",
    "    elif pmv <= 74.99:\n",
    "        max_price = str(pmi+1)+'k'\n",
    "    else:\n",
    "        max_price = str(pmi+1)+'.25k'\n",
    "    url_part_three = ',max-price='+max_price\n",
    "elif price <= 900000:\n",
    "    if pmv <= 29.99:\n",
    "        max_price = str(pmi)+'.5k'\n",
    "    elif pmv <= 59.99:\n",
    "        max_price = str(pmi+1)+'k'\n",
    "    else:\n",
    "        max_price = str(pmi+1)+'.5k'\n",
    "    url_part_three = ',max-price='+max_price\n",
    "elif price <= 3250000:\n",
    "    max_price=1M\n",
    "elif price <= 950000:\n",
    "    url_part_three = ',min-price=750k,max-price=1M'\n",
    "elif price <= 1000000:\n",
    "    url_part_three = ',min-price=800k,max-price=1.25M'\n",
    "elif price <= 1250000:\n",
    "    url_part_three = ',min-price=950k,max-price=1.5M'\n",
    "elif price <= 1500000:\n",
    "    url_part_three = ',min-price=1.25M,max-price=1.75M'\n",
    "elif price <= 1750000:\n",
    "    url_part_three = ',min-price=1.25M,max-price=2M'\n",
    "elif price <= 2000000:\n",
    "    url_part_three = ',min-price=1.5M,max-price=2.25M'\n",
    "elif price <= 2250000:\n",
    "    url_part_three = ',min-price=1.5M,max-price=2.75M'\n",
    "elif price <= 2500000:\n",
    "    url_part_three = ',min-price=1.75M,max-price=3M'\n",
    "elif price <= 2750000:\n",
    "    url_part_three = ',min-price=1.75M,max-price=3.25M'\n",
    "elif price <= 3000000:\n",
    "    url_part_three = ',min-price=2M,max-price=3.5M'\n",
    "elif price <= 3250000:\n",
    "    url_part_three = ',min-price=2M,max-price=3.75M'\n",
    "elif price <= 3500000:\n",
    "    url_part_three = ',min-price=2.25M,max-price=4.5M'\n",
    "elif price <= 3750000:\n",
    "    url_part_three = ',min-price=2.25M,max-price=5M'\n",
    "elif price <= 4000000:\n",
    "    url_part_three = ',min-price=2.5M,max-price=6M'\n",
    "elif price <= 5000000:\n",
    "    url_part_three = ',min-price=3M,max-price=9M'\n",
    "elif price <= 6000000:\n",
    "    url_part_three = ',min-price=3M,max-price=10M'\n",
    "elif price <= 7000000:\n",
    "    url_part_three = ',min-price=4.5M'\n",
    "elif price <= 9000000:\n",
    "    url_part_three = ',min-price=5M'\n",
    "else:\n",
    "    url_part_three = ',min-price=6M'\n",
    "\n",
    "\n",
    "if sqft <= 300:\n",
    "    max_sqft = '500'\n",
    "elif sqft <= 500:\n",
    "    max_sqft = '750'\n",
    "elif sqft <= 750:\n",
    "    max_sqft = '1k'\n",
    "elif sqft <= 2800:\n",
    "    i = sqft//1000\n",
    "    ii = sqft % 1000\n",
    "    if ii <= 250:\n",
    "        max_sqft = str(i)+'.5k'\n",
    "    elif ii <= 500:\n",
    "        max_sqft = str(i)+'.75k'\n",
    "    elif ii <= 750:\n",
    "        max_sqft = str(i+1)\n",
    "    else:\n",
    "        max_sqft = str(i+1)+'.25k'\n",
    "elif sqft <= 3100:\n",
    "    max_sqft = '3.5k'\n",
    "elif sqft <= 3400:\n",
    "    max_sqft = '4k'\n",
    "elif sqft <= 3750:\n",
    "    max_sqft = '4.5k'\n",
    "elif sqft <= 4100:\n",
    "    max_sqft = '5k'\n",
    "elif sqft <= 5500:\n",
    "    max_sqft = '7.5k'\n",
    "else:\n",
    "    max_sqft = ''\n",
    "\n",
    "url_part_four = ',max-sqft=500-sqft'\n",
    "elif sqft <= 400:\n",
    "    url_part_four = ',max-sqft=750-sqft'\n",
    "elif sqft <= 500:\n",
    "    url_part_four = ',min-sqft=500-sqft,max-sqft=1k-sqft'\n",
    "elif sqft <= 600:\n",
    "    url_part_four = ',min-sqft=750-sqft,max-sqft=1.5k-sqft'\n",
    "elif sqft <= 700:\n",
    "    url_part_four = ',min-sqft=1k-sqft,max-sqft=1.5k-sqft'\n",
    "elif sqft <= 800:\n",
    "    url_part_four = ',min-sqft=1.25k-sqft,max-sqft=2k-sqft'\n",
    "elif sqft <= 900:\n",
    "    url_part_four = ',min-sqft=1.5-sqft,max-sqft=2k-sqft'\n",
    "elif sqft <= 1000:\n",
    "    url_part_four = ',min-sqft=1.75-sqft,max-sqft=2.25k-sqft'\n",
    "elif sqft <= 1100:\n",
    "    url_part_four = ',min-sqft=500-sqft,max-sqft=2.5k-sqft'\n",
    "elif sqft <= 1200:\n",
    "    url_part_four = ',min-sqft=500-sqft,max-sqft=2.75k-sqft'\n",
    "elif sqft <= 1300:\n",
    "    url_part_four = ',min-sqft=500-sqft,max-sqft=3k-sqft'\n",
    "elif sqft <= 1400:\n",
    "    url_part_four = ',min-sqft=500-sqft,max-sqft=3.5k-sqft'\n",
    "elif sqft <= 1500:\n",
    "    url_part_four = ',min-sqft=500-sqft,max-sqft=4k-sqft'\n",
    "elif sqft <= 1600:\n",
    "    url_part_four = ',min-sqft=500-sqft,max-sqft=5k-sqft'\n",
    "elif sqft <= 1700:\n",
    "    url_part_four = ',min-sqft=500-sqft,max-sqft=7.5k-sqft'\n",
    "\n",
    "\n",
    "search_url =\n",
    "\n",
    "1.25k\n",
    "-sqft\n",
    ", min-year-built =\n",
    "1960\n",
    ", min-lot-size =\n",
    "6.5k-sqft\n",
    ", hoa =\n",
    "400"
   ]
  },
  {
   "cell_type": "code",
   "execution_count": null,
   "metadata": {},
   "outputs": [],
   "source": [
    "home_facts = =\"\""
   ]
  },
  {
   "cell_type": "code",
   "execution_count": 15,
   "metadata": {
    "ExecuteTime": {
     "end_time": "2018-10-02T00:40:51.048116Z",
     "start_time": "2018-10-02T00:40:51.032115Z"
    }
   },
   "outputs": [],
   "source": [
    "active_zip_url_list = gen_active_url_list(zip_)\n",
    "df = pd.DataFrame(columns=['full_address', 'home_link'])\n",
    "active_zip_url_list, df, proxies = links_for_active_props(proxies, active_zip_url_list, df, ua)\n",
    "# for url in df['home_link']:\n",
    "#     active_df = each_property(url, header, proxy)\n",
    "# return active_df[0:2]"
   ]
  },
  {
   "cell_type": "code",
   "execution_count": null,
   "metadata": {},
   "outputs": [],
   "source": []
  }
 ],
 "metadata": {
  "kernelspec": {
   "display_name": "Python 3",
   "language": "python",
   "name": "python3"
  },
  "language_info": {
   "codemirror_mode": {
    "name": "ipython",
    "version": 3
   },
   "file_extension": ".py",
   "mimetype": "text/x-python",
   "name": "python",
   "nbconvert_exporter": "python",
   "pygments_lexer": "ipython3",
   "version": "3.6.6"
  }
 },
 "nbformat": 4,
 "nbformat_minor": 2
}
