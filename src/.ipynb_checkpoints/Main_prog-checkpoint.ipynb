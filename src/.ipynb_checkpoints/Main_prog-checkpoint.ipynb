{
 "cells": [
  {
   "cell_type": "code",
   "execution_count": 146,
   "metadata": {
    "ExecuteTime": {
     "end_time": "2018-10-07T02:58:22.998849Z",
     "start_time": "2018-10-07T02:58:22.982515Z"
    }
   },
   "outputs": [],
   "source": [
    "from math import ceil\n",
    "import time, re, ast, sys, urllib, random, string, requests\n",
    "import pandas as pd\n",
    "from bs4 import BeautifulSoup\n",
    "from random import randint\n",
    "from selenium.webdriver.firefox.webdriver import FirefoxProfile\n",
    "from urllib.request import urlopen, Request\n",
    "from urllib.error import HTTPError, URLError\n",
    "from itertools import cycle\n",
    "from header_list import user_agent_list\n",
    "from proxies_list import proxies_list_\n",
    "from INITIAL_SCRAPPER_FUNCTIONS import *\n",
    "from PARSER_FUNCTIONS import *\n",
    "from LIST_DF_FUNCTIONS import *\n",
    "from SEARCH_URL_GEN import *\n",
    "from GET_SEARCH_URL import *\n",
    "from GET_RESULTS import *\n",
    "ua = user_agent_list\n",
    "proxies = proxies_list_"
   ]
  },
  {
   "cell_type": "code",
   "execution_count": 147,
   "metadata": {
    "ExecuteTime": {
     "end_time": "2018-10-07T02:58:25.508224Z",
     "start_time": "2018-10-07T02:58:23.750949Z"
    }
   },
   "outputs": [
    {
     "name": "stdout",
     "output_type": "stream",
     "text": [
      "Input the Redfin URL of the Home: https://www.redfin.com/WA/Port-Orchard/1158-SW-Harper-Rd-98367/home/2189434\n"
     ]
    }
   ],
   "source": [
    "customer_url = input(\"Input the Redfin URL of the Home: \")"
   ]
  },
  {
   "cell_type": "code",
   "execution_count": 148,
   "metadata": {
    "ExecuteTime": {
     "end_time": "2018-10-07T02:58:30.713020Z",
     "start_time": "2018-10-07T02:58:26.224649Z"
    }
   },
   "outputs": [
    {
     "name": "stdout",
     "output_type": "stream",
     "text": [
      "205.169.145.130:39438\n",
      "https://www.redfin.com/WA/Port-Orchard/1158-SW-Harper-Rd-98367/home/2189434\n"
     ]
    }
   ],
   "source": [
    "header = random.sample(ua, 1)[0]\n",
    "proxy = random.sample(proxies, 1)[0]\n",
    "url = customer_url\n",
    "print(proxy)\n",
    "print(url)\n",
    "soup = session_creator(proxy, ua, url)"
   ]
  },
  {
   "cell_type": "code",
   "execution_count": 149,
   "metadata": {
    "ExecuteTime": {
     "end_time": "2018-10-07T02:58:30.935579Z",
     "start_time": "2018-10-07T02:58:30.715607Z"
    }
   },
   "outputs": [],
   "source": [
    "customer_df = info_from_property(soup)"
   ]
  },
  {
   "cell_type": "code",
   "execution_count": 155,
   "metadata": {
    "ExecuteTime": {
     "end_time": "2018-10-07T02:59:17.598433Z",
     "start_time": "2018-10-07T02:59:17.580805Z"
    }
   },
   "outputs": [
    {
     "data": {
      "text/plain": [
       "array([['1158 SW Harper Rd ', 'Port Orchard, ', 'WA', '98367', '2,400',\n",
       "        '47.4962567', '-122.6705454', '$429,929', '$719,000', '3', '2.5',\n",
       "        '2007', 'Sold', 'Owner',\n",
       "        \"Extraordinary 5 Acre Estate!  Beyond the rolling pastures, fully loaded barn  &  shop, the drive ascends into the trees revealing what is undeniably a majestic home! Custom built in 2007 w/ absolutely no details spared, it's 4900 sf gracious private perfection. True main level living, 2 covered decks, 2 double sided stone fireplaces, in floor radiant heating, solid red oak flooring, hand forged artistic iron railings, spa master bath w/ 2 rain head steam shower, Dacor appliances, SO much more! \",\n",
       "        '1', '3', 'Yes', 'Yes', '215,186',\n",
       "        '1 Story with Basement, Craftsman', '2007', '2007', 'Kitsap',\n",
       "        '10230130032007', '—', 'Yes', '—',\n",
       "        'Sidney Glen Elementary School', 'K to 6', '4',\n",
       "        'Cedar Heights Junior High School', '7 To 9', '4',\n",
       "        'South Kitsap High School', '10 To 12', '4', '2', '1', '2', '1',\n",
       "        '1', '1', '1', '2', '1', '1',\n",
       "        'Boiler Room - Lower Level-Propane', '10', 'Rick Schultz',\n",
       "        'Public Records', 'Sidney Glen Elem', 'Cedar Heights Jh',\n",
       "        'So. Kitsap High', 'South Kitsap', 'Electric, Propane',\n",
       "        'Puget Sound Energy', 'Well', 'Septic', '3', 'Closing', 'County',\n",
       "        'RP', '4,886', '123', 'Yes', '10230130032007',\n",
       "        'Outbuildings, Hardwood Floor, Composition Roof, Individual Well, Deck, Rolling, Wall-to-Wall Carpet, Family Room on Lower Level, Jetted Tub, Double Pane/Storm Windows, Extra Finished Room on Lower Level, Shop, South Kitsap (West of Highway 16), Partial Slope, Wooded, Walk-In Closet, Ceiling Fan, Master Bedroom on Main Level, Living Room on Main Level, Cable Television, Pasture, Range/Oven, Lot on Dead-End Street, High Tech Cabling, RV Parking, Fruit Trees, Refrigerator, Propane, Hot Water Recirc Pump, Stable, Secluded Lot, Garden Space, Dining Room on Main Level, Wired for Generator, Microwave, Attached Garage, Kitchen with Eating Space on Main Level, Detached Garage, Cement Planked Exterior, Fully Fenced, High Speed Internet, High Efficiency, Dining Room, Septic System, Den/Office on Main Level, Wet Bar, Bonus Room on Lower Level, Second Kitchen, Vaulted Ceilings, Radiant Heat, Equestrian, Tankless Water Heater, Bath Off Master, Ceramic Tile Floor, Entry on Main Level, Wine Cellar, Utility Room on Main Level, Fully Finished Basement, Barn, Poured Concrete Foundation, Dishwasher, French Doors, No Senior Exemption, Reviewed on Receipt, Disabled Access, Built On Site',\n",
       "        'Single Family Residence', 'Territorial', 'Port Orchard',\n",
       "        '1349511']], dtype=object)"
      ]
     },
     "execution_count": 155,
     "metadata": {},
     "output_type": "execute_result"
    }
   ],
   "source": [
    "customer_df.values"
   ]
  },
  {
   "cell_type": "code",
   "execution_count": 151,
   "metadata": {
    "ExecuteTime": {
     "end_time": "2018-10-07T02:58:30.985845Z",
     "start_time": "2018-10-07T02:58:30.968794Z"
    }
   },
   "outputs": [],
   "source": [
    "c_url = gen_zip_url(customer_df)"
   ]
  },
  {
   "cell_type": "code",
   "execution_count": 152,
   "metadata": {
    "ExecuteTime": {
     "end_time": "2018-10-07T02:58:31.011845Z",
     "start_time": "2018-10-07T02:58:30.990519Z"
    }
   },
   "outputs": [
    {
     "data": {
      "text/plain": [
       "'https://www.redfin.com/zipcode/98367/filter/sort=lo-days,property-type=house,min-price=600k,max-price=775k,min-baths=1.25,max-sqft=500-sqft,min-year-built=1990,max-year-built=2015,max-lot-size=8k-sqft'"
      ]
     },
     "execution_count": 152,
     "metadata": {},
     "output_type": "execute_result"
    }
   ],
   "source": [
    "c_url"
   ]
  },
  {
   "cell_type": "code",
   "execution_count": 153,
   "metadata": {
    "ExecuteTime": {
     "end_time": "2018-10-07T02:58:39.106864Z",
     "start_time": "2018-10-07T02:58:31.014653Z"
    }
   },
   "outputs": [
    {
     "name": "stdout",
     "output_type": "stream",
     "text": [
      "38.134.10.106:53281\n",
      "Error on Page. Please try running it again.\n",
      "Found None properties\n",
      "Didn't find anything in the same zip code, or got Captcha from Redfin\n",
      "Would you like to run the search again? (y or n): y\n",
      "Error on Page. Please try running it again.\n",
      "Found None properties\n",
      "Still didn't find anything in the same zip code, or keep getting captcha from Redfin\n",
      "Would you like to see similar homes in the city? (y or n): y\n",
      "Error on Page. Please try running it again.\n",
      "Found None properties\n",
      "Didn't find anything in the city either, or captcha is strong with Redfin\n"
     ]
    }
   ],
   "source": [
    "header = random.sample(ua, 1)[0]\n",
    "proxy = random.sample(proxies, 1)[0]\n",
    "print(proxy)\n",
    "soup = session_creator(proxy, ua, c_url)\n",
    "get_results(soup, customer_df)"
   ]
  },
  {
   "cell_type": "code",
   "execution_count": null,
   "metadata": {},
   "outputs": [],
   "source": []
  }
 ],
 "metadata": {
  "kernelspec": {
   "display_name": "Python 3",
   "language": "python",
   "name": "python3"
  },
  "language_info": {
   "codemirror_mode": {
    "name": "ipython",
    "version": 3
   },
   "file_extension": ".py",
   "mimetype": "text/x-python",
   "name": "python",
   "nbconvert_exporter": "python",
   "pygments_lexer": "ipython3",
   "version": "3.6.6"
  }
 },
 "nbformat": 4,
 "nbformat_minor": 2
}
