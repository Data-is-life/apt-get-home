{
 "cells": [
  {
   "cell_type": "code",
   "execution_count": 225,
   "metadata": {
    "ExecuteTime": {
     "end_time": "2018-10-04T21:24:44.944258Z",
     "start_time": "2018-10-04T21:24:44.921976Z"
    }
   },
   "outputs": [],
   "source": [
    "from math import ceil\n",
    "import time, re, ast, sys, urllib, random, string, requests\n",
    "import pandas as pd\n",
    "from bs4 import BeautifulSoup\n",
    "from random import randint\n",
    "from selenium.webdriver.firefox.webdriver import FirefoxProfile\n",
    "from urllib.request import urlopen, Request\n",
    "from urllib.error import HTTPError, URLError\n",
    "from itertools import cycle\n",
    "from header_list import user_agent_list\n",
    "from proxies_list import proxies_list_\n",
    "from INITIAL_SCRAPPER_FUNCTIONS import *\n",
    "from PARSER_FUNCTIONS import *\n",
    "from LIST_DF_FUNCTIONS import *\n",
    "from SEARCH_URL_GEN import *\n",
    "from GET_SEARCH_URL import *\n",
    "ua = user_agent_list\n",
    "proxies = proxies_list_"
   ]
  },
  {
   "cell_type": "code",
   "execution_count": 217,
   "metadata": {
    "ExecuteTime": {
     "end_time": "2018-10-02T00:40:50.031436Z",
     "start_time": "2018-10-02T00:40:49.888294Z"
    }
   },
   "outputs": [
    {
     "name": "stdin",
     "output_type": "stream",
     "text": [
      "Input the Redfin URL of the Home:  https://www.redfin.com/NY/Flushing/40-26-College-Point-Blvd-11354/unit-17E/home/40222604\n"
     ]
    }
   ],
   "source": [
    "customer_url = input(\"Input the Redfin URL of the Home: \")"
   ]
  },
  {
   "cell_type": "code",
   "execution_count": 221,
   "metadata": {
    "ExecuteTime": {
     "end_time": "2018-10-02T00:40:50.173215Z",
     "start_time": "2018-10-02T00:40:50.153358Z"
    }
   },
   "outputs": [
    {
     "name": "stdout",
     "output_type": "stream",
     "text": [
      "24.112.63.248:35663\n",
      "https://www.redfin.com/NY/Flushing/40-26-College-Point-Blvd-11354/unit-17E/home/40222604\n"
     ]
    }
   ],
   "source": [
    "header = random.sample(ua, 1)[0]\n",
    "proxy = random.sample(proxies, 1)[0]\n",
    "url = customer_url\n",
    "print(proxy)\n",
    "print(url)\n",
    "soup = session_creator(proxy, ua, url)\n",
    "customer_df = info_from_property(soup)"
   ]
  },
  {
   "cell_type": "code",
   "execution_count": 222,
   "metadata": {},
   "outputs": [
    {
     "data": {
      "text/html": [
       "<div>\n",
       "<style scoped>\n",
       "    .dataframe tbody tr th:only-of-type {\n",
       "        vertical-align: middle;\n",
       "    }\n",
       "\n",
       "    .dataframe tbody tr th {\n",
       "        vertical-align: top;\n",
       "    }\n",
       "\n",
       "    .dataframe thead th {\n",
       "        text-align: right;\n",
       "    }\n",
       "</style>\n",
       "<table border=\"1\" class=\"dataframe\">\n",
       "  <thead>\n",
       "    <tr style=\"text-align: right;\">\n",
       "      <th></th>\n",
       "      <th>address</th>\n",
       "      <th>city</th>\n",
       "      <th>state</th>\n",
       "      <th>zip_code</th>\n",
       "      <th>sqft</th>\n",
       "      <th>latitude</th>\n",
       "      <th>longitude</th>\n",
       "      <th>redfin_est</th>\n",
       "      <th>last_sold_price</th>\n",
       "      <th>num_bdrs</th>\n",
       "      <th>...</th>\n",
       "      <th>&lt;span&gt;in-ground_pool&lt;/span&gt;</th>\n",
       "      <th>fuel</th>\n",
       "      <th>total_tax_amount</th>\n",
       "      <th>county_tax_amount</th>\n",
       "      <th>section</th>\n",
       "      <th>size</th>\n",
       "      <th>&lt;span&gt;water_view&lt;/span&gt;</th>\n",
       "      <th>&lt;span&gt;condominium&lt;/span&gt;</th>\n",
       "      <th>type_of_ownership</th>\n",
       "      <th>mls_li_id</th>\n",
       "    </tr>\n",
       "  </thead>\n",
       "  <tbody>\n",
       "    <tr>\n",
       "      <th>1</th>\n",
       "      <td>40-26 College Point Blvd Unit 17E</td>\n",
       "      <td>Flushing,</td>\n",
       "      <td>NY</td>\n",
       "      <td>11354</td>\n",
       "      <td>1,200</td>\n",
       "      <td>40.7576921</td>\n",
       "      <td>-73.834681</td>\n",
       "      <td>$1,029,428</td>\n",
       "      <td>$985,000</td>\n",
       "      <td>2</td>\n",
       "      <td>...</td>\n",
       "      <td>In-Ground Pool</td>\n",
       "      <td>Gas</td>\n",
       "      <td>$33</td>\n",
       "      <td>$33</td>\n",
       "      <td>00000</td>\n",
       "      <td></td>\n",
       "      <td>Water View</td>\n",
       "      <td>Condominium</td>\n",
       "      <td>Condo</td>\n",
       "      <td>LEVN01</td>\n",
       "    </tr>\n",
       "  </tbody>\n",
       "</table>\n",
       "<p>1 rows × 70 columns</p>\n",
       "</div>"
      ],
      "text/plain": [
       "                              address        city state zip_code    sqft  \\\n",
       "1  40-26 College Point Blvd Unit 17E   Flushing,     NY    11354  1,200    \n",
       "\n",
       "     latitude   longitude  redfin_est last_sold_price num_bdrs    ...     \\\n",
       "1  40.7576921  -73.834681  $1,029,428        $985,000        2    ...      \n",
       "\n",
       "  <span>in-ground_pool</span> fuel total_tax_amount county_tax_amount section  \\\n",
       "1              In-Ground Pool  Gas              $33               $33   00000   \n",
       "\n",
       "  size <span>water_view</span> <span>condominium</span> type_of_ownership  \\\n",
       "1                   Water View              Condominium             Condo   \n",
       "\n",
       "  mls_li_id  \n",
       "1    LEVN01  \n",
       "\n",
       "[1 rows x 70 columns]"
      ]
     },
     "execution_count": 222,
     "metadata": {},
     "output_type": "execute_result"
    }
   ],
   "source": [
    "customer_df"
   ]
  },
  {
   "cell_type": "code",
   "execution_count": 226,
   "metadata": {
    "ExecuteTime": {
     "end_time": "2018-10-04T21:24:50.591095Z",
     "start_time": "2018-10-04T21:24:50.569110Z"
    }
   },
   "outputs": [],
   "source": [
    "def gen_url(customer_df):\n",
    "    zip_code = int(customer_df['zip_code'][1])\n",
    "    city = customer_df['city'][1].replace(',', '')\n",
    "    type_home = customer_df['style'][1]\n",
    "    \n",
    "    if 'last_sold_price' in customer_df.columns:\n",
    "        price = float(customer_df['last_sold_price'][1].replace('$', '').replace(',', ''))\n",
    "    else:\n",
    "        price = float(customer_df['listing_price'][1].replace('$','').replace(',',''))\n",
    "        \n",
    "    num_bds = int(customer_df['num_bdrs'][1])\n",
    "    \n",
    "    num_bths = float(customer_df['num_bts'][1])\n",
    "    \n",
    "    sqft = int(customer_df['sqft'][1].replace(',', '').replace(' ', ''))\n",
    "    \n",
    "    yr_blt = int(customer_df['yr_bt'][1])\n",
    "    \n",
    "    lot_sqft = customer_df['lot_size'][1].replace(',', '').replace(' ', '').replace('—', '0')\n",
    "    \n",
    "    if ('Sq' in lot_sqft or 'Ft' in lot_sqft):\n",
    "        lot_sqft = int(''.join(num for num in re.findall(r'\\d', lot_sqft)))\n",
    "    elif ('ac' in lot_sqft or 're' in lot_sqft):\n",
    "        lot_sqft = int(float(''.join(num for num in re.findall(r'\\d?\\.?\\d?\\d?', lot_sqft)))*43560)\n",
    "    elif (float(lot_sqft)>0 and float (lot_sqft)<10):\n",
    "        lot_sqft = int(float(''.join(num for num in re.findall(r'\\d?\\.?\\d?\\d?', lot_sqft)))*43560)\n",
    "    else:\n",
    "        lot_sqft = int(''.join(num for num in re.findall(r'\\d', lot_sqft)))\n",
    "\n",
    "    if 'hoa' in customer_df.columns:\n",
    "        hoa = customer_df['hoa'].values\n",
    "        hoa_fee = float(customer_df['hoa_fee'].values)\n",
    "        url_part_nine = ',' + search_url_part_nine_gen(hoa_fee)\n",
    "    else:\n",
    "        url_part_nine = ''\n",
    "\n",
    "    url_part_one = 'https://www.redfin.com/zipcode/' + \\\n",
    "        str(zip_code) + '/filter/sort=lo-days'\n",
    "\n",
    "    url_part_two = ',' + search_url_part_two_gen(type_home)\n",
    "    if len(url_part_two) <= 2:\n",
    "        url_part_two = ''\n",
    "\n",
    "    url_part_three = ',' + search_url_part_three_gen(price)\n",
    "    if len(url_part_three) <= 2:\n",
    "        url_part_three = ''\n",
    "\n",
    "    url_part_four = ',' + search_url_part_four_gen(num_bds)\n",
    "    if len(url_part_four) <= 2:\n",
    "        url_part_four = ''\n",
    "\n",
    "    url_part_five = ',' + search_url_part_five_gen(num_bths)\n",
    "    if len(url_part_five) <= 2:\n",
    "        url_part_five = ''\n",
    "\n",
    "    url_part_six = ',' + search_url_part_six_gen(sqft)\n",
    "    if len(url_part_six) <= 2:\n",
    "        url_part_six = ''\n",
    "\n",
    "    url_part_seven = ',' + search_url_part_seven_gen(yr_blt)\n",
    "    if len(url_part_seven) <= 2:\n",
    "        url_part_seven = ''\n",
    "    \n",
    "    url_part_eight = ',' + search_url_part_eight_gen(lot_sqft)\n",
    "    if (len(url_part_eight) <= 1 or (type_home == 'Condo/Co-op' or type_home == 'Townhouse')):\n",
    "        url_part_eight = ''\n",
    "\n",
    "    search_url = url_part_one + url_part_two + url_part_three + \\\n",
    "        url_part_four + url_part_five + url_part_six + \\\n",
    "        url_part_seven + url_part_eight + url_part_nine\n",
    "\n",
    "    return search_url"
   ]
  },
  {
   "cell_type": "code",
   "execution_count": 227,
   "metadata": {
    "ExecuteTime": {
     "end_time": "2018-10-04T21:42:53.738907Z",
     "start_time": "2018-10-04T21:42:53.719429Z"
    }
   },
   "outputs": [
    {
     "ename": "ValueError",
     "evalue": "could not convert string to float: '—'",
     "output_type": "error",
     "traceback": [
      "\u001b[0;31m---------------------------------------------------------------------------\u001b[0m",
      "\u001b[0;31mValueError\u001b[0m                                Traceback (most recent call last)",
      "\u001b[0;32m<ipython-input-227-d8a66f63278a>\u001b[0m in \u001b[0;36m<module>\u001b[0;34m()\u001b[0m\n\u001b[0;32m----> 1\u001b[0;31m \u001b[0mgen_url\u001b[0m\u001b[0;34m(\u001b[0m\u001b[0mcustomer_df\u001b[0m\u001b[0;34m)\u001b[0m\u001b[0;34m\u001b[0m\u001b[0m\n\u001b[0m",
      "\u001b[0;32m<ipython-input-226-ddeebe13acc4>\u001b[0m in \u001b[0;36mgen_url\u001b[0;34m(customer_df)\u001b[0m\n\u001b[1;32m     11\u001b[0m     \u001b[0mnum_bds\u001b[0m \u001b[0;34m=\u001b[0m \u001b[0mint\u001b[0m\u001b[0;34m(\u001b[0m\u001b[0mcustomer_df\u001b[0m\u001b[0;34m[\u001b[0m\u001b[0;34m'num_bdrs'\u001b[0m\u001b[0;34m]\u001b[0m\u001b[0;34m[\u001b[0m\u001b[0;36m1\u001b[0m\u001b[0;34m]\u001b[0m\u001b[0;34m)\u001b[0m\u001b[0;34m\u001b[0m\u001b[0m\n\u001b[1;32m     12\u001b[0m \u001b[0;34m\u001b[0m\u001b[0m\n\u001b[0;32m---> 13\u001b[0;31m     \u001b[0mnum_bths\u001b[0m \u001b[0;34m=\u001b[0m \u001b[0mfloat\u001b[0m\u001b[0;34m(\u001b[0m\u001b[0mcustomer_df\u001b[0m\u001b[0;34m[\u001b[0m\u001b[0;34m'num_bts'\u001b[0m\u001b[0;34m]\u001b[0m\u001b[0;34m[\u001b[0m\u001b[0;36m1\u001b[0m\u001b[0;34m]\u001b[0m\u001b[0;34m)\u001b[0m\u001b[0;34m\u001b[0m\u001b[0m\n\u001b[0m\u001b[1;32m     14\u001b[0m \u001b[0;34m\u001b[0m\u001b[0m\n\u001b[1;32m     15\u001b[0m     \u001b[0msqft\u001b[0m \u001b[0;34m=\u001b[0m \u001b[0mint\u001b[0m\u001b[0;34m(\u001b[0m\u001b[0mcustomer_df\u001b[0m\u001b[0;34m[\u001b[0m\u001b[0;34m'sqft'\u001b[0m\u001b[0;34m]\u001b[0m\u001b[0;34m[\u001b[0m\u001b[0;36m1\u001b[0m\u001b[0;34m]\u001b[0m\u001b[0;34m.\u001b[0m\u001b[0mreplace\u001b[0m\u001b[0;34m(\u001b[0m\u001b[0;34m','\u001b[0m\u001b[0;34m,\u001b[0m \u001b[0;34m''\u001b[0m\u001b[0;34m)\u001b[0m\u001b[0;34m.\u001b[0m\u001b[0mreplace\u001b[0m\u001b[0;34m(\u001b[0m\u001b[0;34m' '\u001b[0m\u001b[0;34m,\u001b[0m \u001b[0;34m''\u001b[0m\u001b[0;34m)\u001b[0m\u001b[0;34m)\u001b[0m\u001b[0;34m\u001b[0m\u001b[0m\n",
      "\u001b[0;31mValueError\u001b[0m: could not convert string to float: '—'"
     ]
    }
   ],
   "source": [
    "gen_url(customer_df)"
   ]
  },
  {
   "cell_type": "code",
   "execution_count": null,
   "metadata": {},
   "outputs": [],
   "source": []
  }
 ],
 "metadata": {
  "kernelspec": {
   "display_name": "Python 3",
   "language": "python",
   "name": "python3"
  },
  "language_info": {
   "codemirror_mode": {
    "name": "ipython",
    "version": 3
   },
   "file_extension": ".py",
   "mimetype": "text/x-python",
   "name": "python",
   "nbconvert_exporter": "python",
   "pygments_lexer": "ipython3",
   "version": "3.6.6"
  }
 },
 "nbformat": 4,
 "nbformat_minor": 2
}
