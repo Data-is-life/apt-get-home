{
 "cells": [
  {
   "cell_type": "code",
   "execution_count": 12,
   "metadata": {
    "ExecuteTime": {
     "end_time": "2018-10-02T00:40:09.989696Z",
     "start_time": "2018-10-02T00:40:09.970185Z"
    }
   },
   "outputs": [],
   "source": [
    "from math import ceil\n",
    "import time\n",
    "import re\n",
    "import ast\n",
    "import sys\n",
    "import urllib\n",
    "import time\n",
    "import random\n",
    "import pandas as pd\n",
    "from bs4 import BeautifulSoup\n",
    "from random import randint\n",
    "from selenium.webdriver.firefox.webdriver import FirefoxProfile\n",
    "from urllib.request import urlopen, Request\n",
    "from urllib.error import HTTPError\n",
    "from urllib.error import URLError\n",
    "import requests\n",
    "from itertools import cycle\n",
    "import string\n",
    "from header_list import user_agent_list\n",
    "from proxies_list import proxies_list_\n",
    "from FUNCTIONS import proxie_check, strip_count, gen_url_list\n",
    "from SCRAPPER_FUNCTIONS import session_creator, each_page, links_for_props\n",
    "from MAIN_FUNCTIONS import each_property\n",
    "ua = user_agent_list\n",
    "proxies = proxies_list_"
   ]
  },
  {
   "cell_type": "code",
   "execution_count": 13,
   "metadata": {
    "ExecuteTime": {
     "end_time": "2018-10-02T00:40:50.031436Z",
     "start_time": "2018-10-02T00:40:49.888294Z"
    }
   },
   "outputs": [
    {
     "name": "stdout",
     "output_type": "stream",
     "text": [
      "Input the Redfin URL of the Home: \n"
     ]
    }
   ],
   "source": [
    "customer_url = input(\"Input the Redfin URL of the Home: \")"
   ]
  },
  {
   "cell_type": "code",
   "execution_count": 14,
   "metadata": {
    "ExecuteTime": {
     "end_time": "2018-10-02T00:40:50.173215Z",
     "start_time": "2018-10-02T00:40:50.153358Z"
    }
   },
   "outputs": [],
   "source": [
    "# customer_df = each_property(customer_url, header, proxy)"
   ]
  },
  {
   "cell_type": "code",
   "execution_count": 21,
   "metadata": {
    "ExecuteTime": {
     "end_time": "2018-10-02T07:08:07.727456Z",
     "start_time": "2018-10-02T07:08:07.709695Z"
    }
   },
   "outputs": [],
   "source": [
    "customer_df = pd.DataFrame(columns=['address', 'city', 'state', 'zip', 'type', \n",
    "                                    'price', 'sqft', 'num_bds', 'num_bths',\n",
    "                                    'lot_sf', 'yr_blt', 'HOA', 'HOA_fee'])"
   ]
  },
  {
   "cell_type": "code",
   "execution_count": 19,
   "metadata": {
    "ExecuteTime": {
     "end_time": "2018-10-02T06:02:25.531735Z",
     "start_time": "2018-10-02T06:02:25.517853Z"
    }
   },
   "outputs": [],
   "source": [
    "zip_code = customer_df['zip'].values\n",
    "city = customer_df['city'].values\n",
    "price = customer_df['price'].values\n",
    "sqft = customer_df['sqft'].values\n",
    "num_bds = customer_df['num_bds'].values\n",
    "num_bths = customer_df['num_bths'].values\n",
    "lot_sqft = customer_df['lot_sf'].values\n",
    "yr_blt = customer_df['yr_blt'].values\n",
    "hoa = customer_df['HOA'].values\n",
    "hoa_fee = customer_df['HOA_fee'].values\n",
    "\n",
    "url_part_one = 'https://www.redfin.com/zipcode/'+zip_code+'/filter/sort=lo-days/'\n",
    "\n",
    "if type_home==''\n",
    "\n",
    "if price<=50000:\n",
    "    url_part_two = ',max-price=75K'\n",
    "elif price<=75000:\n",
    "    url_part_two = ',max-price=100K'\n",
    "elif price<=100000:\n",
    "    url_part_two = ',min-price=50k,max-price=125K'\n",
    "elif price<=125000:\n",
    "    url_part_two = ',min-price=100k,max-price=150K'\n",
    "elif price<=150000:\n",
    "    url_part_two = ',min-price=100k,max-price=175K'\n",
    "elif price<=175000:\n",
    "    url_part_two = ',min-price=125k,max-price=200K'\n",
    "elif price<=200000:\n",
    "    url_part_two = ',min-price=150k,max-price=225K'\n",
    "elif price<=225000:\n",
    "    url_part_two = ',min-price=150k,max-price=250K'\n",
    "elif price<=250000:\n",
    "    url_part_two = ',min-price=200k,max-price=275K'\n",
    "elif price<=275000:\n",
    "    url_part_two = ',min-price=200k,max-price=300K'\n",
    "elif price<=300000:\n",
    "    url_part_two = ',min-price=225k,max-price=325K'\n",
    "elif price<=325000:\n",
    "    url_part_two = ',min-price=250k,max-price=350K'\n",
    "elif price<=350000:\n",
    "    url_part_two = ',min-price=250k,max-price=375K'\n",
    "elif price<=375000:\n",
    "    url_part_two = ',min-price=275k,max-price=400K'\n",
    "elif price<=400000:\n",
    "    url_part_two = ',min-price=300k,max-price=425K'\n",
    "elif price<=425000:\n",
    "    url_part_two = ',min-price=325k,max-price=450K'\n",
    "elif price<=450000:\n",
    "    url_part_two = ',min-price=350k,max-price=475K'\n",
    "elif price<=475000:\n",
    "    url_part_two = ',min-price=400k,max-price=500K'\n",
    "elif price<=500000:\n",
    "    url_part_two = ',min-price=400k,max-price=550K'\n",
    "elif price<=550000:\n",
    "    url_part_two = ',min-price=450k,max-price=600K'\n",
    "elif price<=600000:\n",
    "    url_part_two = ',min-price=500k,max-price=650K'\n",
    "elif price<=650000:\n",
    "    url_part_two = ',min-price=500k,max-price=700K'\n",
    "elif price<=700000:\n",
    "    url_part_two = ',min-price=550k,max-price=750K'\n",
    "elif price<=750000:\n",
    "    url_part_two = ',min-price=600k,max-price=800k'\n",
    "elif price<=800000:\n",
    "    url_part_two = ',min-price=650k,max-price=850K'\n",
    "elif price<=850000:\n",
    "    url_part_two = ',min-price=650k,max-price=900K'\n",
    "elif price<=900000:\n",
    "    url_part_two = ',min-price=700k,max-price=950K'\n",
    "elif price<=950000:\n",
    "    url_part_two = ',min-price=750k,max-price=1M'\n",
    "elif price<=1000000:\n",
    "    url_part_two = ',min-price=800k,max-price=1.25M'\n",
    "elif price<=1250000:\n",
    "    url_part_two = ',min-price=950k,max-price=1.5M'\n",
    "elif price<=1500000:\n",
    "    url_part_two = ',min-price=1.25M,max-price=1.75M'\n",
    "elif price<=1750000:\n",
    "    url_part_two = ',min-price=1.25M,max-price=2M'\n",
    "elif price<=2000000:\n",
    "    url_part_two = ',min-price=1.5M,max-price=2.25M'\n",
    "elif price<=2250000:\n",
    "    url_part_two = ',min-price=1.5M,max-price=2.50M'\n",
    "elif price<=2500000:\n",
    "    url_part_two = ',min-price=1.75M,max-price=2.75M'\n",
    "elif price<=2750000:\n",
    "    url_part_two = ',min-price=1.75M,max-price=3M'\n",
    "elif price<=3000000:\n",
    "    url_part_two = ',min-price=2M,max-price=3.25M'\n",
    "elif price<=3250000:\n",
    "    url_part_two = ',min-price=2M,max-price=3.50M'\n",
    "elif price<=3500000:\n",
    "    url_part_two = ',min-price=2.25M,max-price=3.75M'\n",
    "elif price<=3750000:\n",
    "    url_part_two = ',min-price=2.25M,max-price=4M'\n",
    "elif price<=4000000:\n",
    "    url_part_two = ',min-price=2.5M,max-price=5M'\n",
    "elif price<=5000000:\n",
    "    url_part_two = ',min-price=3M,max-price=6M'\n",
    "elif price<=6000000:\n",
    "    url_part_two = ',min-price=3M,max-price=7M'\n",
    "elif price<=7000000:\n",
    "    url_part_two = ',min-price=3.5M,max-price=8M'\n",
    "elif price<=8000000:\n",
    "    url_part_two = ',min-price=4M,max-price=9M'\n",
    "elif price<=9000000:\n",
    "    url_part_two = ',min-price=5M,max-price=10M'\n",
    "else:\n",
    "    url_part_two = ',min-price=9M\n",
    "    \n",
    "\n",
    "search_url = ',property-type='+\n",
    "house+condo+townhouse\n",
    ",min-price=\n",
    "100k\n",
    ",max-price=\n",
    "1M\n",
    ",min-beds=\n",
    "3\n",
    ",min-baths=\n",
    "1\n",
    ",min-sqft=\n",
    "1.25k\n",
    "-sqft\n",
    ",min-year-built=\n",
    "1960\n",
    ",min-lot-size=\n",
    "6.5k-sqft\n",
    ",hoa=\n",
    "400\n"
   ]
  },
  {
   "cell_type": "code",
   "execution_count": null,
   "metadata": {},
   "outputs": [],
   "source": [
    "home_facts = =\"\""
   ]
  },
  {
   "cell_type": "code",
   "execution_count": 15,
   "metadata": {
    "ExecuteTime": {
     "end_time": "2018-10-02T00:40:51.048116Z",
     "start_time": "2018-10-02T00:40:51.032115Z"
    }
   },
   "outputs": [],
   "source": [
    "active_zip_url_list = gen_active_url_list(zip_)\n",
    "df = pd.DataFrame(columns=['full_address', 'home_link'])\n",
    "active_zip_url_list, df, proxies = links_for_active_props(proxies, active_zip_url_list, df, ua)\n",
    "# for url in df['home_link']:\n",
    "#     active_df = each_property(url, header, proxy)\n",
    "# return active_df[0:2]"
   ]
  },
  {
   "cell_type": "code",
   "execution_count": null,
   "metadata": {},
   "outputs": [],
   "source": []
  }
 ],
 "metadata": {
  "kernelspec": {
   "display_name": "Python 3",
   "language": "python",
   "name": "python3"
  },
  "language_info": {
   "codemirror_mode": {
    "name": "ipython",
    "version": 3
   },
   "file_extension": ".py",
   "mimetype": "text/x-python",
   "name": "python",
   "nbconvert_exporter": "python",
   "pygments_lexer": "ipython3",
   "version": "3.6.6"
  }
 },
 "nbformat": 4,
 "nbformat_minor": 2
}
