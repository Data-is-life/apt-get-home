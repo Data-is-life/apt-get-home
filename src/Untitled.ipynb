{
 "cells": [
  {
   "cell_type": "code",
   "execution_count": 106,
   "metadata": {
    "ExecuteTime": {
     "end_time": "2018-09-29T18:06:10.220667Z",
     "start_time": "2018-09-29T18:06:10.209362Z"
    }
   },
   "outputs": [],
   "source": [
    "import re\n",
    "\n",
    "home_address_MLS = 'Ortega (jose) Elementary SchoolPublic • K to 5 • Serves this homeGreatSchools Rating: 7/10Parent Rating: '"
   ]
  },
  {
   "cell_type": "code",
   "execution_count": 119,
   "metadata": {
    "ExecuteTime": {
     "end_time": "2018-09-29T18:18:47.444934Z",
     "start_time": "2018-09-29T18:18:47.434772Z"
    }
   },
   "outputs": [],
   "source": [
    "# home_dict = dict()\n",
    "\n",
    "# add_list = text.split(sep=' |')\n",
    "# zip_code = re.search('\\d+$', add_list[0])\n",
    "# mls_num = re.search('\\d+$', add_list[1])\n",
    "# home_add = re.search('(.+?),', home_address_MLS)\n",
    "# home_city = re.search(', (.+?),', home_address_MLS)\n",
    "# home_state = add_list[0].replace(home_add.group(1),'').replace(\n",
    "#     home_city.group(1),'').replace(zip_code.group(),'').replace(\n",
    "#     ',','').replace(' ','')\n",
    "\n",
    "# home_dict['address'] = home_add.group(1)\n",
    "# home_dict['city'] = home_city.group(1)\n",
    "# home_dict['zip_code'] = zip_code.group()\n",
    "# home_dict['state'] = home_state\n",
    "# home_dict['mls_num'] = mls_num.group()\n",
    "\n",
    "# home_dict"
   ]
  },
  {
   "cell_type": "code",
   "execution_count": null,
   "metadata": {},
   "outputs": [],
   "source": []
  }
 ],
 "metadata": {
  "kernelspec": {
   "display_name": "Python 3",
   "language": "python",
   "name": "python3"
  },
  "language_info": {
   "codemirror_mode": {
    "name": "ipython",
    "version": 3
   },
   "file_extension": ".py",
   "mimetype": "text/x-python",
   "name": "python",
   "nbconvert_exporter": "python",
   "pygments_lexer": "ipython3",
   "version": "3.6.6"
  }
 },
 "nbformat": 4,
 "nbformat_minor": 2
}
