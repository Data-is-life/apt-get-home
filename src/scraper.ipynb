{
 "cells": [
  {
   "cell_type": "code",
   "execution_count": 289,
   "metadata": {
    "ExecuteTime": {
     "end_time": "2018-09-26T01:18:45.331401Z",
     "start_time": "2018-09-26T01:18:45.314396Z"
    }
   },
   "outputs": [],
   "source": [
    "from math import ceil\n",
    "import time\n",
    "import re\n",
    "import ast\n",
    "import sys\n",
    "import urllib\n",
    "import time\n",
    "import random\n",
    "import pandas as pd\n",
    "from bs4 import BeautifulSoup\n",
    "from random import randint\n",
    "from selenium.webdriver.firefox.webdriver import FirefoxProfile\n",
    "from urllib.request import urlopen, Request\n",
    "from urllib.error import HTTPError\n",
    "from urllib.error import URLError\n",
    "import requests\n",
    "from itertools import cycle\n",
    "import string"
   ]
  },
  {
   "cell_type": "code",
   "execution_count": 290,
   "metadata": {
    "ExecuteTime": {
     "end_time": "2018-09-26T01:18:45.354162Z",
     "start_time": "2018-09-26T01:18:45.333178Z"
    }
   },
   "outputs": [],
   "source": [
    "header1 = {'User-Agent': 'Mozilla/5.0 (Macintosh; Intel Mac OS X 10_9_5) '\n",
    "           'AppleWebKit 537.36 (KHTML, like Gecko) Chrome',\n",
    "           'Accept': 'text/html,application/xhtml+xml,application/xml;'\n",
    "           'q=0.9,image/webp,*/*;q=0.8'}\n",
    "header2 = {'User-Agent': 'Mozilla/5.0 (Macintosh; Intel Mac OS X 10_9_5) '\n",
    "           'AppleWebKit 537.36 (KHTML, like Gecko) Chrome',\n",
    "           'Accept': 'text/html,application/xhtml+xml,application/xml;'\n",
    "           'q=0.9,image/webp,*/*;q=0.8'}\n",
    "header3 = {'User-Agent': 'Mozilla/5.0 (X11; Linux x86_64) '\n",
    "           'AppleWebKit/537.36 (KHTML, like Gecko) Chrome/69.0.3497.100 Safari/537.36',\n",
    "           'Accept': 'text/html,application/xhtml+xml,application/xml;'\n",
    "           'q=0.9,image/webp,image/apng,*/*;q=0.8'}\n",
    "header4 = {'User-Agent': 'Mozilla/5.0 (X11; Ubuntu; Linux x86_64; rv:62.0) '\n",
    "           ' Gecko/20100101 Firefox/62.0',\n",
    "           'Accept': 'text/html,application/xhtml+xml,application/xml;'\n",
    "           'q=0.9,*/*;q=0.8'}\n",
    "ua = [header1, header2, header3, header4]"
   ]
  },
  {
   "cell_type": "code",
   "execution_count": 504,
   "metadata": {
    "ExecuteTime": {
     "end_time": "2018-09-26T07:08:50.150061Z",
     "start_time": "2018-09-26T07:08:50.132499Z"
    }
   },
   "outputs": [
    {
     "data": {
      "text/plain": [
       "14"
      ]
     },
     "execution_count": 504,
     "metadata": {},
     "output_type": "execute_result"
    }
   ],
   "source": [
    "proxies = ['12.2.202.242:8080', '24.148.73.79:8080',\n",
    "           '50.224.173.179:8080', \n",
    "           '50.242.47.41:31128', '52.144.107.142:35569',\n",
    "           '64.125.223.19:55577', '70.183.205.174:33721',\n",
    "           '72.35.40.34:8080', '75.172.104.143:48002',\n",
    "           '96.95.154.205:39668',\n",
    "           '107.165.144.125:45931', '140.227.60.114:3128',\n",
    "           '173.164.26.117:3128',\n",
    "           '184.177.165.96:44134']\n",
    "\n",
    "prx_pool = random.sample(proxies, len(proxies))\n",
    "len(proxies)"
   ]
  },
  {
   "cell_type": "code",
   "execution_count": 292,
   "metadata": {
    "ExecuteTime": {
     "end_time": "2018-09-26T01:28:54.084266Z",
     "start_time": "2018-09-26T01:28:54.069438Z"
    }
   },
   "outputs": [],
   "source": [
    "# default_list = []\n",
    "\n",
    "# url = 'https://httpbin.org/ip'\n",
    "\n",
    "# for i in range(0,len(proxies)):\n",
    "#     proxy = proxies[i]\n",
    "#     print(i+1)\n",
    "#     start_time = time.time()\n",
    "#     try:\n",
    "#         response = requests.get(url,proxies={\"http\": proxy, \"https\": proxy})\n",
    "#         print(response.json())\n",
    "#         print(time.time() - start_time)\n",
    "#     except:\n",
    "#         print(\"Skipping. Connnection error\")\n",
    "#         default_list.append(i+1)\n",
    "#         print(time.time() - start_time)"
   ]
  },
  {
   "cell_type": "code",
   "execution_count": 439,
   "metadata": {
    "ExecuteTime": {
     "end_time": "2018-09-26T05:35:22.043191Z",
     "start_time": "2018-09-26T05:35:22.025438Z"
    }
   },
   "outputs": [],
   "source": [
    "zip_codes = pd.read_csv('./Data/zips.csv')\n",
    "areas = zip_codes['name'].tolist()\n",
    "areas = [num for num in areas if str(num) != 'nan']"
   ]
  },
  {
   "cell_type": "code",
   "execution_count": 102,
   "metadata": {
    "ExecuteTime": {
     "end_time": "2018-09-25T21:15:14.162475Z",
     "start_time": "2018-09-25T21:15:14.145677Z"
    }
   },
   "outputs": [],
   "source": [
    "# areas_pool = random.sample(areas, len(areas))\n",
    "ua_pool = random.sample(ua, len(ua))\n",
    "# prp_list = []"
   ]
  },
  {
   "cell_type": "code",
   "execution_count": 452,
   "metadata": {
    "ExecuteTime": {
     "end_time": "2018-09-26T05:41:15.889519Z",
     "start_time": "2018-09-26T05:41:15.862233Z"
    }
   },
   "outputs": [],
   "source": [
    "url_list_lots = ['https://www.zillow.com/homes/for_sale/Hayward-CA-94544/fsba,fore,new,cmsn_lt/house,condo,apartment_duplex,townhouse_type/1-_baths/20000-630000_price/82-4093_mp/12m_days/1_pnd/pricea_sort/1_rs/',\n",
    "                 'https://www.zillow.com/homes/for_sale/Hayward-CA-94544/fsba,fore,new,cmsn_lt/house,condo,apartment_duplex,townhouse_type/1-_baths/630001-_price/4093-_mp/12m_days/1_pnd/pricea_sort/1_rs/',\n",
    "                 'https://www.zillow.com/homes/for_sale/Oakland-CA-94605/fsba,fore,new,cmsn_lt/house,condo,apartment_duplex,townhouse_type/1-_baths/20000-630000_price/82-4093_mp/12m_days/1_pnd/pricea_sort/1_rs/',\n",
    "                 'https://www.zillow.com/homes/for_sale/Oakland-CA-94605/fsba,fore,new,cmsn_lt/house,condo,apartment_duplex,townhouse_type/1-_baths/630001-_price/4093-_mp/12m_days/1_pnd/pricea_sort/1_rs/',\n",
    "                 'https://www.zillow.com/homes/for_sale/Hayward-CA-94541/fsba,fore,new,cmsn_lt/house,condo,apartment_duplex,townhouse_type/1-_baths/20000-630000_price/82-4093_mp/12m_days/1_pnd/pricea_sort/1_rs/',\n",
    "                 'https://www.zillow.com/homes/for_sale/Hayward-CA-94541/fsba,fore,new,cmsn_lt/house,condo,apartment_duplex,townhouse_type/1-_baths/630001-_price/4093-_mp/12m_days/1_pnd/pricea_sort/1_rs/',\n",
    "                 'https://www.zillow.com/homes/for_sale/San-Leandro-CA-94577/fsba,fore,new,cmsn_lt/house,condo,apartment_duplex,townhouse_type/1-_baths/20000-730000_price/82-4093_mp/12m_days/1_pnd/pricea_sort/1_rs/',\n",
    "                 'https://www.zillow.com/homes/for_sale/San-Leandro-CA-94577/fsba,fore,new,cmsn_lt/house,condo,apartment_duplex,townhouse_type/1-_baths/730001-_price/4093-_mp/12m_days/1_pnd/pricea_sort/1_rs/',\n",
    "                 'https://www.zillow.com/homes/for_sale/Union-City-CA-94587/fsba,fore,new,cmsn_lt/house,condo,apartment_duplex,townhouse_type/1-_baths/20000-730000_price/82-4093_mp/12m_days/1_pnd/pricea_sort/1_rs/',\n",
    "                 'https://www.zillow.com/homes/for_sale/Union-City-CA-94587/fsba,fore,new,cmsn_lt/house,condo,apartment_duplex,townhouse_type/1-_baths/730001-_price/4093-_mp/12m_days/1_pnd/pricea_sort/1_rs/',\n",
    "                 'https://www.zillow.com/homes/for_sale/Livermore-CA-94551/fsba,fore,new,cmsn_lt/house,condo,apartment_duplex,townhouse_type/1-_baths/20000-730000_price/82-4093_mp/12m_days/1_pnd/pricea_sort/1_rs/',\n",
    "                 'https://www.zillow.com/homes/for_sale/Livermore-CA-94551/fsba,fore,new,cmsn_lt/house,condo,apartment_duplex,townhouse_type/1-_baths/730001-_price/4093-_mp/12m_days/1_pnd/pricea_sort/1_rs/',\n",
    "                 'https://www.zillow.com/homes/for_sale/Livermore-CA-94550/fsba,fore,new,cmsn_lt/house,condo,apartment_duplex,townhouse_type/1-_baths/20000-850000_price/82-4093_mp/12m_days/1_pnd/pricea_sort/1_rs/',\n",
    "                 'https://www.zillow.com/homes/for_sale/Livermore-CA-94550/fsba,fore,new,cmsn_lt/house,condo,apartment_duplex,townhouse_type/1-_baths/850001-_price/4093-_mp/12m_days/1_pnd/pricea_sort/1_rs/',\n",
    "                 'https://www.zillow.com/homes/for_sale/Castro-Valley-CA-94546/fsba,fore,new,cmsn_lt/house,condo,apartment_duplex,townhouse_type/1-_baths/20000-850000_price/82-4093_mp/12m_days/1_pnd/pricea_sort/1_rs/',\n",
    "                 'https://www.zillow.com/homes/for_sale/Castro-Valley-CA-94546/fsba,fore,new,cmsn_lt/house,condo,apartment_duplex,townhouse_type/1-_baths/850001-_price/4093-_mp/12m_days/1_pnd/pricea_sort/1_rs/',\n",
    "                 'https://www.zillow.com/homes/for_sale/San-Jose-CA-95127/fsba,fore,new,cmsn_lt/house,condo,apartment_duplex,townhouse_type/1-_baths/20000-850000_price/82-4093_mp/12m_days/1_pnd/pricea_sort/1_rs/',\n",
    "                 'https://www.zillow.com/homes/for_sale/San-Jose-CA-95127/fsba,fore,new,cmsn_lt/house,condo,apartment_duplex,townhouse_type/1-_baths/850001-_price/4093-_mp/12m_days/1_pnd/pricea_sort/1_rs/',\n",
    "                 'https://www.zillow.com/homes/for_sale/Newark-CA-94560/fsba,fore,new,cmsn_lt/house,condo,apartment_duplex,townhouse_type/1-_baths/20000-900000_price/82-4093_mp/12m_days/1_pnd/pricea_sort/1_rs/',\n",
    "                 'https://www.zillow.com/homes/for_sale/Newark-CA-94560/fsba,fore,new,cmsn_lt/house,condo,apartment_duplex,townhouse_type/1-_baths/900001-_price/4093-_mp/12m_days/1_pnd/pricea_sort/1_rs/',\n",
    "                 'https://www.zillow.com/homes/for_sale/Pleasanton-CA-94588/fsba,fore,new,cmsn_lt/house,condo,apartment_duplex,townhouse_type/1-_baths/20000-1000000_price/82-4093_mp/12m_days/1_pnd/pricea_sort/1_rs/',\n",
    "                 'https://www.zillow.com/homes/for_sale/Pleasanton-CA-94588/fsba,fore,new,cmsn_lt/house,condo,apartment_duplex,townhouse_type/1-_baths/1000001-_price/4093-_mp/12m_days/1_pnd/pricea_sort/1_rs/',\n",
    "                 'https://www.zillow.com/homes/for_sale/South-San-Francisco-CA-94080/fsba,fore,new,cmsn_lt/house,condo,apartment_duplex,townhouse_type/1-_baths/20000-1000000_price/82-4093_mp/12m_days/1_pnd/pricea_sort/1_rs/',\n",
    "                 'https://www.zillow.com/homes/for_sale/South-San-Francisco-CA-94080/fsba,fore,new,cmsn_lt/house,condo,apartment_duplex,townhouse_type/1-_baths/1000001-_price/4093-_mp/12m_days/1_pnd/pricea_sort/1_rs/',\n",
    "                 'https://www.zillow.com/homes/for_sale/Pleasanton-CA-94566/fsba,fore,new,cmsn_lt/house,condo,apartment_duplex,townhouse_type/1-_baths/20000-1000000_price/82-4093_mp/12m_days/1_pnd/pricea_sort/1_rs/',\n",
    "                 'https://www.zillow.com/homes/for_sale/Pleasanton-CA-94566/fsba,fore,new,cmsn_lt/house,condo,apartment_duplex,townhouse_type/1-_baths/1000001-_price/4093-_mp/12m_days/1_pnd/pricea_sort/1_rs/',\n",
    "                 'https://www.zillow.com/homes/for_sale/Fremont-CA-94538/fsba,fore,new,cmsn_lt/house,condo,apartment_duplex,townhouse_type/1-_baths/20000-1000000_price/82-4093_mp/12m_days/1_pnd/pricea_sort/1_rs/',\n",
    "                 'https://www.zillow.com/homes/for_sale/Fremont-CA-94538/fsba,fore,new,cmsn_lt/house,condo,apartment_duplex,townhouse_type/1-_baths/1000001-_price/4093-_mp/12m_days/1_pnd/pricea_sort/1_rs/',\n",
    "                 'https://www.zillow.com/homes/for_sale/Milpitas-CA-95035/fsba,fore,new,cmsn_lt/house,condo,apartment_duplex,townhouse_type/1-_baths/20000-1000000_price/82-4093_mp/12m_days/1_pnd/pricea_sort/1_rs/',\n",
    "                 'https://www.zillow.com/homes/for_sale/Milpitas-CA-95035/fsba,fore,new,cmsn_lt/house,condo,apartment_duplex,townhouse_type/1-_baths/1000001-_price/4093-_mp/12m_days/1_pnd/pricea_sort/1_rs/',\n",
    "                 'https://www.zillow.com/homes/for_sale/Fremont-CA-94536/fsba,fore,new,cmsn_lt/house,condo,apartment_duplex,townhouse_type/1-_baths/20000-1000000_price/82-4093_mp/12m_days/1_pnd/pricea_sort/1_rs/',\n",
    "                 'https://www.zillow.com/homes/for_sale/Fremont-CA-94536/fsba,fore,new,cmsn_lt/house,condo,apartment_duplex,townhouse_type/1-_baths/1000001-_price/4093-_mp/12m_days/1_pnd/pricea_sort/1_rs/',\n",
    "                 'https://www.zillow.com/homes/for_sale/San-Francisco-CA-94107/fsba,fore,new,cmsn_lt/house,condo,apartment_duplex,townhouse_type/1-_baths/20000-1300000_price/82-4093_mp/12m_days/1_pnd/pricea_sort/1_rs/',\n",
    "                 'https://www.zillow.com/homes/for_sale/San-Francisco-CA-94107/fsba,fore,new,cmsn_lt/house,condo,apartment_duplex,townhouse_type/1-_baths/1300001-_price/4093-_mp/12m_days/1_pnd/pricea_sort/1_rs/',\n",
    "                 'https://www.zillow.com/homes/for_sale/San-Francisco-CA-94110/fsba,fore,new,cmsn_lt/house,condo,apartment_duplex,townhouse_type/1-_baths/20000-1300000_price/82-4093_mp/12m_days/1_pnd/pricea_sort/1_rs/',\n",
    "                 'https://www.zillow.com/homes/for_sale/San-Francisco-CA-94110/fsba,fore,new,cmsn_lt/house,condo,apartment_duplex,townhouse_type/1-_baths/1300001-_price/4093-_mp/12m_days/1_pnd/pricea_sort/1_rs/',\n",
    "                 'https://www.zillow.com/homes/for_sale/Santa-Clara-CA-95051/fsba,fore,new,cmsn_lt/house,condo,apartment_duplex,townhouse_type/1-_baths/20000-1300000_price/82-4093_mp/12m_days/1_pnd/pricea_sort/1_rs/',\n",
    "                 'https://www.zillow.com/homes/for_sale/Santa-Clara-CA-95051/fsba,fore,new,cmsn_lt/house,condo,apartment_duplex,townhouse_type/1-_baths/1300001-_price/4093-_mp/12m_days/1_pnd/pricea_sort/1_rs/',\n",
    "                 'https://www.zillow.com/homes/for_sale/San-Jose-CA-95125/fsba,fore,new,cmsn_lt/house,condo,apartment_duplex,townhouse_type/1-_baths/20000-1300000_price/82-4093_mp/12m_days/1_pnd/pricea_sort/1_rs/',\n",
    "                 'https://www.zillow.com/homes/for_sale/San-Jose-CA-95125/fsba,fore,new,cmsn_lt/house,condo,apartment_duplex,townhouse_type/1-_baths/1300001-_price/4093-_mp/12m_days/1_pnd/pricea_sort/1_rs/',\n",
    "                 'https://www.zillow.com/homes/for_sale/Fremont-CA-94539/fsba,fore,new,cmsn_lt/house,condo,apartment_duplex,townhouse_type/1-_baths/20000-1300000_price/82-4093_mp/12m_days/1_pnd/pricea_sort/1_rs/',\n",
    "                 'https://www.zillow.com/homes/for_sale/Fremont-CA-94539/fsba,fore,new,cmsn_lt/house,condo,apartment_duplex,townhouse_type/1-_baths/1300001-_price/4093-_mp/12m_days/1_pnd/pricea_sort/1_rs/',\n",
    "                 'https://www.zillow.com/homes/for_sale/Oakland-CA-94611/fsba,fore,new,cmsn_lt/house,condo,apartment_duplex,townhouse_type/1-_baths/20000-1300000_price/82-4093_mp/12m_days/1_pnd/pricea_sort/1_rs/',\n",
    "                 'https://www.zillow.com/homes/for_sale/Oakland-CA-94611/fsba,fore,new,cmsn_lt/house,condo,apartment_duplex,townhouse_type/1-_baths/1300001-_price/4093-_mp/12m_days/1_pnd/pricea_sort/1_rs/',\n",
    "                 'https://www.zillow.com/homes/for_sale/San-Jose-CA-95124/fsba,fore,new,cmsn_lt/house,condo,apartment_duplex,townhouse_type/1-_baths/20000-1300000_price/82-4093_mp/12m_days/1_pnd/pricea_sort/1_rs/',\n",
    "                 'https://www.zillow.com/homes/for_sale/San-Jose-CA-95124/fsba,fore,new,cmsn_lt/house,condo,apartment_duplex,townhouse_type/1-_baths/1300001-_price/4093-_mp/12m_days/1_pnd/pricea_sort/1_rs/',\n",
    "                 'https://www.zillow.com/homes/for_sale/Menlo-Park-CA-94025/fsba,fore,new,cmsn_lt/house,condo,apartment_duplex,townhouse_type/1-_baths/20000-2000000_price/82-4093_mp/12m_days/1_pnd/pricea_sort/1_rs/',\n",
    "                 'https://www.zillow.com/homes/for_sale/Menlo-Park-CA-94025/fsba,fore,new,cmsn_lt/house,condo,apartment_duplex,townhouse_type/1-_baths/2000001-_price/4093-_mp/12m_days/1_pnd/pricea_sort/1_rs/']\n",
    "url_list_lots = sorted(url_list_lots)"
   ]
  },
  {
   "cell_type": "code",
   "execution_count": 453,
   "metadata": {
    "ExecuteTime": {
     "end_time": "2018-09-26T05:41:18.704089Z",
     "start_time": "2018-09-26T05:41:18.687351Z"
    }
   },
   "outputs": [],
   "source": [
    "new_prp_list = []"
   ]
  },
  {
   "cell_type": "code",
   "execution_count": 454,
   "metadata": {
    "ExecuteTime": {
     "end_time": "2018-09-26T05:41:19.543377Z",
     "start_time": "2018-09-26T05:41:19.527319Z"
    }
   },
   "outputs": [],
   "source": [
    "proxy = random.sample(proxies, 1)[0]\n",
    "print(proxy)\n",
    "for url in url_list_lots:\n",
    "    header = random.sample(ua, 1)[0]\n",
    "    session = requests.Session()\n",
    "    session.proxies = {\"http\": proxy, \"https\": proxy}\n",
    "    req = session.get(url, headers=header)\n",
    "    soup = BeautifulSoup(req.text, 'html.parser')\n",
    "    all_count = soup.findAll('meta', {'name': 'description'})\n",
    "    print(all_count)\n",
    "    new_prp_list.append(all_count)\n",
    "    url_list_lots.remove(url)\n",
    "    print(len(url_list_lots))\n",
    "    print(len(new_prp_list))"
   ]
  },
  {
   "cell_type": "code",
   "execution_count": 455,
   "metadata": {
    "ExecuteTime": {
     "end_time": "2018-09-26T05:41:36.873589Z",
     "start_time": "2018-09-26T05:41:36.858632Z"
    },
    "scrolled": false
   },
   "outputs": [],
   "source": [
    "proxy = random.sample(proxies, 1)[0]\n",
    "print(proxy)\n",
    "for num in areas_pool:\n",
    "    url = 'https://www.zillow.com/homes/for_sale/'+num+'/fsba,fore,new,cmsn_lt/house,condo,apartment_duplex,townhouse_type/1-_baths/20000-_price/82-_mp/12m_days/1_pnd/1_rs/'\n",
    "    header = random.sample(ua, 1)[0]\n",
    "    session = requests.Session()\n",
    "    session.proxies = {\"http\": proxy, \"https\": proxy}\n",
    "    req = session.get(url, headers=header)\n",
    "    soup = BeautifulSoup(req.text, 'html.parser')\n",
    "    all_count = soup.findAll('meta', {'name': 'description'})\n",
    "    print(all_count)\n",
    "    prp_list.append(all_count)\n",
    "    areas_pool.remove(num)\n",
    "    print(len(areas_pool))\n",
    "    print(len(prp_list))"
   ]
  },
  {
   "cell_type": "code",
   "execution_count": 313,
   "metadata": {
    "ExecuteTime": {
     "end_time": "2018-09-26T01:40:09.184591Z",
     "start_time": "2018-09-26T01:40:09.163298Z"
    }
   },
   "outputs": [],
   "source": [
    "def strip_count(lst):\n",
    "    lst = [str(num) for num in lst]\n",
    "    lst = [num.replace('[<meta content=\"Zillow has ', '') for num in lst]\n",
    "    lst = ap_prop_list = [num.replace(\n",
    "        '. View listing photos, review sales history, and use our detailed real estate filters to find the perfect place.\" name=\"description\"/>]', '') for num in lst]\n",
    "    lst = list(set(lst))\n",
    "    return lst\n",
    "\n",
    "prp_list = strip_count(prp_list)\n",
    "new_prp_list = strip_count(new_prp_list)"
   ]
  },
  {
   "cell_type": "code",
   "execution_count": 318,
   "metadata": {
    "ExecuteTime": {
     "end_time": "2018-09-26T01:47:10.884838Z",
     "start_time": "2018-09-26T01:47:10.869111Z"
    }
   },
   "outputs": [],
   "source": [
    "def create_df_num_homes(prp_list):\n",
    "    re_all_num = r\"\\d+\\s\"\n",
    "    re_all_zip = r\"\\s\\d+\"\n",
    "\n",
    "    num_homes = []\n",
    "    zip_homes = []\n",
    "\n",
    "    for num in prp_list:\n",
    "        num_homes.append(re.findall(re_all_num, num))\n",
    "        zip_homes.append(re.findall(re_all_zip, num))\n",
    "\n",
    "    num_homes = [[int(y) for y in x] for x in num_homes]\n",
    "    zip_homes = [[int(y) for y in x] for x in zip_homes]\n",
    "\n",
    "    num_all_homes = []\n",
    "    zip_all_homes = []\n",
    "\n",
    "    i = 0\n",
    "    while i < len(prp_list):\n",
    "        num_all_homes.extend(num_homes[i])\n",
    "        zip_all_homes.extend(zip_homes[i])\n",
    "        i += 1\n",
    "\n",
    "    df = pd.DataFrame({\"all_homes\": num_all_homes}, index=zip_all_homes)\n",
    "    all_pages = [ceil(num/25) for num in df['all_homes']]\n",
    "    df['all_pages'] = all_pages\n",
    "    return df\n",
    "\n",
    "df_all = create_df_num_homes(prp_list)\n",
    "df_over_five = create_df_num_homes(new_prp_list)"
   ]
  },
  {
   "cell_type": "code",
   "execution_count": 440,
   "metadata": {
    "ExecuteTime": {
     "end_time": "2018-09-26T05:35:45.883590Z",
     "start_time": "2018-09-26T05:35:45.861560Z"
    }
   },
   "outputs": [],
   "source": [
    "zippy = [int(num) for num in zip_codes['zip']]\n",
    "zip_codes.index = zippy\n",
    "zip_codes = zip_codes.drop(\n",
    "    columns=['Sold', 'A/P', 'tot', 'page', 'city', 'county', 'st', 'zip'])"
   ]
  },
  {
   "cell_type": "code",
   "execution_count": 459,
   "metadata": {
    "ExecuteTime": {
     "end_time": "2018-09-26T05:43:10.094304Z",
     "start_time": "2018-09-26T05:43:10.075043Z"
    }
   },
   "outputs": [
    {
     "data": {
      "text/plain": [
       "''"
      ]
     },
     "execution_count": 459,
     "metadata": {},
     "output_type": "execute_result"
    }
   ],
   "source": [
    "all_info = pd.concat([zip_codes, df_all], axis=1)\n",
    "all_info = all_info.sort_values(by=['all_homes'])\n",
    "''"
   ]
  },
  {
   "cell_type": "code",
   "execution_count": 188,
   "metadata": {
    "ExecuteTime": {
     "end_time": "2018-09-25T22:22:14.048029Z",
     "start_time": "2018-09-25T22:22:14.032965Z"
    }
   },
   "outputs": [],
   "source": [
    "all_info.to_csv('all_all_info.csv')"
   ]
  },
  {
   "cell_type": "code",
   "execution_count": 463,
   "metadata": {
    "ExecuteTime": {
     "end_time": "2018-09-26T05:56:27.935726Z",
     "start_time": "2018-09-26T05:56:27.920792Z"
    }
   },
   "outputs": [],
   "source": [
    "df_over_five['name'] = [zip_codes.name[num] for\n",
    "                        num in df_over_five.index]\n",
    "df_over_five = df_over_five.sort_values(by=['name'])\n",
    "df_over_five['page_url'] = url_list_lots"
   ]
  },
  {
   "cell_type": "code",
   "execution_count": 464,
   "metadata": {
    "ExecuteTime": {
     "end_time": "2018-09-26T05:56:29.421531Z",
     "start_time": "2018-09-26T05:56:29.399973Z"
    }
   },
   "outputs": [],
   "source": [
    "def each_page(url, ua, proxy):\n",
    "    header = random.sample(ua, 1)[0]\n",
    "    session = requests.Session()\n",
    "    session.proxies = {\"http\": proxy, \"https\": proxy}\n",
    "    req = session.get(url, headers=header)\n",
    "    soup = BeautifulSoup(req.text, 'lxml')\n",
    "\n",
    "    address_soup = soup.findAll('span', {'itemprop': 'streetAddress'})\n",
    "    address = [str(adrs.text) for adrs in address_soup]\n",
    "\n",
    "    city_soup = soup.findAll('span', {'itemprop': 'addressLocality'})\n",
    "    city = [str(cit.text) for cit in city_soup]\n",
    "\n",
    "    zipcode_soup = soup.findAll('span', {'itemprop': 'postalCode'})\n",
    "    zipcode = [str(zpcd.text) for zpcd in zipcode_soup]\n",
    "\n",
    "    state_soup = soup.findAll('span', {'itemprop': 'addressRegion'})\n",
    "    state = [str(stas.text) for stas in state_soup]\n",
    "\n",
    "    status_soup = soup.findAll('span', {'class': 'zsg-photo-card-status'})\n",
    "    status = [str(ss.text) for ss in status_soup]\n",
    "\n",
    "    price_soup = soup.findAll('span', {'class': 'zsg-photo-card-price'})\n",
    "    price = [str(ps.text) for ps in price_soup]\n",
    "\n",
    "    bed_bath_size_soup = soup.findAll('span', {'class': 'zsg-photo-card-info'})\n",
    "    bd_bth_sqft = [str(bbss.text) for bbss in bed_bath_size_soup]\n",
    "\n",
    "    full_address_soup = soup.findAll(\n",
    "        'span', {'class': 'zsg-photo-card-address'})\n",
    "    full_address = [str(fas.text) for fas in full_address_soup]\n",
    "\n",
    "    home_link_soup = soup.findAll('a', {'class': 'zsg-photo-card-overlay-link '\n",
    "                                        'routable hdp-link routable mask hdp-link'})\n",
    "    home_link = ['https://www.zillow.com' +\n",
    "                 str(hls.get('href'))+'?fullpage=true' for hls in home_link_soup]\n",
    "\n",
    "    df = {'full_address': full_address, 'status': status, 'bd_bth_sqft': bd_bth_sqft,\n",
    "          'address': address, 'city': city, 'state': state, 'zipcode': zipcode, 'home_link': home_link}\n",
    "\n",
    "    return df"
   ]
  },
  {
   "cell_type": "code",
   "execution_count": 223,
   "metadata": {
    "ExecuteTime": {
     "end_time": "2018-09-25T22:51:33.959885Z",
     "start_time": "2018-09-25T22:51:33.940590Z"
    }
   },
   "outputs": [],
   "source": [
    "main_df = pd.DataFrame(columns=['full_address', 'status', 'bd_bth_sqft',\n",
    "                                'price', 'address', 'city', 'state',\n",
    "                                'zipcode', 'home_link'])\n",
    "areas_un_five_df = all_info[all_info['all_pages'] <= 20]\n",
    "areas = areas_un_five_df['name'].tolist()\n",
    "areas_pool = random.sample(areas, len(areas))\n",
    "ua_pool = random.sample(ua, len(ua))"
   ]
  },
  {
   "cell_type": "code",
   "execution_count": 472,
   "metadata": {
    "ExecuteTime": {
     "end_time": "2018-09-26T06:23:56.764933Z",
     "start_time": "2018-09-26T06:23:56.748396Z"
    }
   },
   "outputs": [],
   "source": [
    "url_list = []\n",
    "url_list_over = []"
   ]
  },
  {
   "cell_type": "code",
   "execution_count": 473,
   "metadata": {
    "ExecuteTime": {
     "end_time": "2018-09-26T06:23:57.324663Z",
     "start_time": "2018-09-26T06:23:57.305237Z"
    }
   },
   "outputs": [],
   "source": [
    "for num in areas_pool:\n",
    "    num_pages_count = areas_un_five_df.loc[areas_un_five_df['name'] == num].all_pages.values[0]\n",
    "    for i in range(1,num_pages_count+1):\n",
    "        url = 'https://www.zillow.com/homes/for_sale/'+num+'/fsba,fore,new,cmsn_lt/house,condo,apartment_duplex,townhouse_type/1-_baths/20000-_price/82-_mp/12m_days/1_pnd/pricea_sort/'+str(i)+'_p/1_rs/'\n",
    "        url_list.append(url)"
   ]
  },
  {
   "cell_type": "code",
   "execution_count": 474,
   "metadata": {
    "ExecuteTime": {
     "end_time": "2018-09-26T06:23:57.992779Z",
     "start_time": "2018-09-26T06:23:57.946637Z"
    }
   },
   "outputs": [],
   "source": [
    "for url in df_over_five['page_url']:\n",
    "    num_pages_count = df_over_five.loc[df_over_five['page_url'] == url].all_pages.values[0]\n",
    "    for i in range(1,num_pages_count+1):\n",
    "        new_url = url[:-5]+str(i)+'_p/'+url[-5:]\n",
    "        url_list_over.append(new_url)"
   ]
  },
  {
   "cell_type": "code",
   "execution_count": 476,
   "metadata": {
    "ExecuteTime": {
     "end_time": "2018-09-26T06:24:29.606851Z",
     "start_time": "2018-09-26T06:24:29.590345Z"
    }
   },
   "outputs": [
    {
     "data": {
      "text/plain": [
       "671"
      ]
     },
     "execution_count": 476,
     "metadata": {},
     "output_type": "execute_result"
    }
   ],
   "source": [
    "len(url_list_over)"
   ]
  },
  {
   "cell_type": "code",
   "execution_count": 316,
   "metadata": {
    "ExecuteTime": {
     "end_time": "2018-09-26T01:46:06.364186Z",
     "start_time": "2018-09-26T01:46:06.348353Z"
    }
   },
   "outputs": [],
   "source": [
    "len(url_list)"
   ]
  },
  {
   "cell_type": "code",
   "execution_count": 317,
   "metadata": {
    "ExecuteTime": {
     "end_time": "2018-09-26T01:46:09.542905Z",
     "start_time": "2018-09-26T01:46:09.529039Z"
    }
   },
   "outputs": [],
   "source": [
    "url_list\n",
    "url_list_over"
   ]
  },
  {
   "cell_type": "code",
   "execution_count": 273,
   "metadata": {
    "ExecuteTime": {
     "end_time": "2018-09-26T00:34:21.033983Z",
     "start_time": "2018-09-26T00:34:21.018360Z"
    },
    "scrolled": false
   },
   "outputs": [
    {
     "name": "stdout",
     "output_type": "stream",
     "text": [
      "140.227.60.114:3128\n"
     ]
    }
   ],
   "source": [
    "proxy = random.sample(proxies, 1)[0]\n",
    "print(proxy)\n",
    "\n",
    "i = 0\n",
    "while i<len(url_list):\n",
    "    url = url_list[i]\n",
    "    print(len(url_list))\n",
    "    print(url)\n",
    "    data = each_page(url, ua_pool, proxy)\n",
    "    df = pd.DataFrame(data)\n",
    "    main_df = pd.concat([main_df, df])\n",
    "    url_list.pop(i)"
   ]
  },
  {
   "cell_type": "code",
   "execution_count": 484,
   "metadata": {
    "ExecuteTime": {
     "end_time": "2018-09-26T06:56:07.803441Z",
     "start_time": "2018-09-26T06:56:07.786521Z"
    },
    "scrolled": true
   },
   "outputs": [
    {
     "name": "stdout",
     "output_type": "stream",
     "text": [
      "184.177.165.96:44134\n"
     ]
    }
   ],
   "source": [
    "proxy = random.sample(proxies, 1)[0]\n",
    "print(proxy)\n",
    "\n",
    "i = 0\n",
    "while i<len(url_list_over):\n",
    "    url = url_list_over[i]\n",
    "    print(len(url_list_over))\n",
    "    print(url)\n",
    "    data = each_page(url, ua_pool, proxy)\n",
    "    df = pd.DataFrame(data)\n",
    "    main_df = pd.concat([main_df, df])\n",
    "    #url_list.remove(num)\n",
    "    url_list_over.pop(i)"
   ]
  },
  {
   "cell_type": "code",
   "execution_count": 485,
   "metadata": {
    "ExecuteTime": {
     "end_time": "2018-09-26T06:56:32.316879Z",
     "start_time": "2018-09-26T06:56:32.302866Z"
    }
   },
   "outputs": [],
   "source": [
    "proxy = random.sample(proxies, 1)[0]\n",
    "print(proxy)\n",
    "for num in url_list:\n",
    "    print(len(url_list))\n",
    "    print(num)\n",
    "    data = each_page(num, ua_pool, proxy)\n",
    "    df = pd.DataFrame(data)\n",
    "    main_df = pd.concat([main_df, df])\n",
    "    url_list.remove(num)"
   ]
  },
  {
   "cell_type": "code",
   "execution_count": 510,
   "metadata": {
    "ExecuteTime": {
     "end_time": "2018-09-26T15:58:28.847987Z",
     "start_time": "2018-09-26T15:58:28.387137Z"
    }
   },
   "outputs": [],
   "source": [
    "main_df = main_df.reset_index().drop(columns=['index'])\n",
    "main_df = main_df.drop_duplicates(subset=['bd_bth_sqft', 'full_address', 'home_link','status'])\n",
    "main_df.to_csv('all_prop_initial.csv')"
   ]
  },
  {
   "cell_type": "code",
   "execution_count": 501,
   "metadata": {
    "ExecuteTime": {
     "end_time": "2018-09-26T07:08:30.839424Z",
     "start_time": "2018-09-26T07:08:30.820250Z"
    }
   },
   "outputs": [],
   "source": [
    "def each_property(url, hdr, proxy):\n",
    "    session = requests.Session()\n",
    "    session.proxies = {\"http\": proxy, \"https\": proxy}\n",
    "    req = session.get(url, headers=hdr)\n",
    "    soup = BeautifulSoup(req.text, 'lxml')\n",
    "    home_address_MLS = soup.title.string\n",
    "    print(home_address_MLS)\n",
    "\n",
    "    home_full_feat_desc = soup.findAll('div', {'class': 'fact-label'})\n",
    "    for desc in home_full_feat_desc:\n",
    "        print(desc.contents[0])\n",
    "\n",
    "    home_full_feat_info = soup.findAll('div', {'class': 'fact-value'})\n",
    "    for info in home_full_feat_info:\n",
    "        print(info.contents[0])\n",
    "\n",
    "    home_description = soup.find('meta', {'property': 'og:description'})\n",
    "    print(home_description.attrs['content'])\n",
    "\n",
    "    zestimate = soup.find('div', {'class': 'zestimate'})\n",
    "    zest_rex = r'\\$\\d+\\,\\d+\\,?\\d+?\\,?\\d+?'\n",
    "    zesti = str(zestimate.div)\n",
    "    zestimate = re.findall(zest_rex, str(a))[0]\n",
    "    print(zestimate)\n",
    "\n",
    "    home_hist_src = soup.findAll('td', {'class': 'zsg-sm-hide'})\n",
    "    print(home_hist_src)\n",
    "\n",
    "    prop_hist = soup.findAll(\n",
    "        'table', {'class': 'zsg-table zsg-content-component'})\n",
    "    print(prop_hist)\n",
    "\n",
    "    school_rating = soup.findAll('div', {'class': 'nearby-schools-rating'})\n",
    "    for rating in school_rating:\n",
    "        print(rating.span.text)\n",
    "\n",
    "    school_name = soup.findAll('a', {'class': 'school-name notranslate'})\n",
    "    for mane in school_name:\n",
    "        print(mane.next_element)\n",
    "\n",
    "    school_grades = soup.findAll('div', {'class': 'nearby-schools-grades'})\n",
    "    for grade in school_grades:\n",
    "        print(grade.text)\n",
    "\n",
    "    school_assigned = soup.findAll(\n",
    "        'span', {'class': 'assigned-label zsg-fineprint'})\n",
    "\n",
    "    for assi in school_assigned:\n",
    "        print(assi.text)\n",
    "\n",
    "    school_dist = soup.findAll('div', {'class': 'nearby-schools-distance'})\n",
    "    for dist in school_dist:\n",
    "        print(dist.text)\n",
    "\n",
    "    discalimer = soup.find('section', {'class': 'zsg-content-section'})\n",
    "    print(discalimer)"
   ]
  },
  {
   "cell_type": "code",
   "execution_count": 502,
   "metadata": {
    "ExecuteTime": {
     "end_time": "2018-09-26T07:08:31.628718Z",
     "start_time": "2018-09-26T07:08:31.610678Z"
    }
   },
   "outputs": [],
   "source": [
    "url = 'https://www.zillow.com/homedetails/90-6th-Ave-San-Francisco-CA-94118/15089378_zpid/?fullpage=true'"
   ]
  },
  {
   "cell_type": "code",
   "execution_count": 505,
   "metadata": {
    "ExecuteTime": {
     "end_time": "2018-09-26T07:09:03.557553Z",
     "start_time": "2018-09-26T07:08:54.695691Z"
    }
   },
   "outputs": [
    {
     "name": "stdout",
     "output_type": "stream",
     "text": [
      "52.144.107.142:35569\n",
      "90 6th Ave, San Francisco, CA 94118 | Zillow\n",
      "Recently sold: $300,500. 1 bedroom Below Market Rate (BMR) housing opportunity available at 120% Area Median Income (AMI). Maximum income for 1 person= $96,850; 2 people = $110,700; 3 = $124,500; 4 = $138,350, etc. Must be 1st-time homebuyer & income eligible. Unit available thru the Mayor's Office of Housing and Community Development (MOHCD) & subject to resale controls, monitoring & other restrictions. Visit Mayor's Office of Housing and Community Development for application and program info.\n"
     ]
    },
    {
     "ename": "NameError",
     "evalue": "name 'reg_ex' is not defined",
     "output_type": "error",
     "traceback": [
      "\u001b[0;31m---------------------------------------------------------------------------\u001b[0m",
      "\u001b[0;31mNameError\u001b[0m                                 Traceback (most recent call last)",
      "\u001b[0;32m<ipython-input-505-5350ed57afbc>\u001b[0m in \u001b[0;36m<module>\u001b[0;34m()\u001b[0m\n\u001b[1;32m      1\u001b[0m \u001b[0mproxy\u001b[0m \u001b[0;34m=\u001b[0m \u001b[0mrandom\u001b[0m\u001b[0;34m.\u001b[0m\u001b[0msample\u001b[0m\u001b[0;34m(\u001b[0m\u001b[0mproxies\u001b[0m\u001b[0;34m,\u001b[0m \u001b[0;36m1\u001b[0m\u001b[0;34m)\u001b[0m\u001b[0;34m[\u001b[0m\u001b[0;36m0\u001b[0m\u001b[0;34m]\u001b[0m\u001b[0;34m\u001b[0m\u001b[0m\n\u001b[1;32m      2\u001b[0m \u001b[0mprint\u001b[0m\u001b[0;34m(\u001b[0m\u001b[0mproxy\u001b[0m\u001b[0;34m)\u001b[0m\u001b[0;34m\u001b[0m\u001b[0m\n\u001b[0;32m----> 3\u001b[0;31m \u001b[0meach_property\u001b[0m\u001b[0;34m(\u001b[0m\u001b[0murl\u001b[0m\u001b[0;34m,\u001b[0m \u001b[0mheader\u001b[0m\u001b[0;34m,\u001b[0m \u001b[0mproxy\u001b[0m\u001b[0;34m)\u001b[0m\u001b[0;34m\u001b[0m\u001b[0m\n\u001b[0m",
      "\u001b[0;32m<ipython-input-501-4e82338142b4>\u001b[0m in \u001b[0;36meach_property\u001b[0;34m(url, hdr, proxy)\u001b[0m\n\u001b[1;32m     21\u001b[0m     \u001b[0mzest_rex\u001b[0m \u001b[0;34m=\u001b[0m \u001b[0;34mr'\\$\\d+\\,\\d+\\,?\\d+?\\,?\\d+?'\u001b[0m\u001b[0;34m\u001b[0m\u001b[0m\n\u001b[1;32m     22\u001b[0m     \u001b[0mzesti\u001b[0m \u001b[0;34m=\u001b[0m \u001b[0mstr\u001b[0m\u001b[0;34m(\u001b[0m\u001b[0mzestimate\u001b[0m\u001b[0;34m.\u001b[0m\u001b[0mdiv\u001b[0m\u001b[0;34m)\u001b[0m\u001b[0;34m\u001b[0m\u001b[0m\n\u001b[0;32m---> 23\u001b[0;31m     \u001b[0mzestimate\u001b[0m \u001b[0;34m=\u001b[0m \u001b[0mre\u001b[0m\u001b[0;34m.\u001b[0m\u001b[0mfindall\u001b[0m\u001b[0;34m(\u001b[0m\u001b[0mreg_ex\u001b[0m\u001b[0;34m,\u001b[0m \u001b[0mstr\u001b[0m\u001b[0;34m(\u001b[0m\u001b[0ma\u001b[0m\u001b[0;34m)\u001b[0m\u001b[0;34m)\u001b[0m\u001b[0;34m[\u001b[0m\u001b[0;36m0\u001b[0m\u001b[0;34m]\u001b[0m\u001b[0;34m\u001b[0m\u001b[0m\n\u001b[0m\u001b[1;32m     24\u001b[0m     \u001b[0mprint\u001b[0m\u001b[0;34m(\u001b[0m\u001b[0mzestimate\u001b[0m\u001b[0;34m)\u001b[0m\u001b[0;34m\u001b[0m\u001b[0m\n\u001b[1;32m     25\u001b[0m \u001b[0;34m\u001b[0m\u001b[0m\n",
      "\u001b[0;31mNameError\u001b[0m: name 'reg_ex' is not defined"
     ]
    }
   ],
   "source": [
    "proxy = random.sample(proxies, 1)[0]\n",
    "print(proxy)\n",
    "each_property(url, header, proxy)"
   ]
  },
  {
   "cell_type": "code",
   "execution_count": null,
   "metadata": {},
   "outputs": [],
   "source": []
  }
 ],
 "metadata": {
  "kernelspec": {
   "display_name": "Python 3",
   "language": "python",
   "name": "python3"
  },
  "language_info": {
   "codemirror_mode": {
    "name": "ipython",
    "version": 3
   },
   "file_extension": ".py",
   "mimetype": "text/x-python",
   "name": "python",
   "nbconvert_exporter": "python",
   "pygments_lexer": "ipython3",
   "version": "3.6.6"
  }
 },
 "nbformat": 4,
 "nbformat_minor": 2
}
