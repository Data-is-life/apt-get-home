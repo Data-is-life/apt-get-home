{
 "cells": [
  {
   "cell_type": "code",
   "execution_count": 124,
   "metadata": {
    "ExecuteTime": {
     "end_time": "2018-09-27T05:57:58.955355Z",
     "start_time": "2018-09-27T05:57:58.940067Z"
    }
   },
   "outputs": [],
   "source": [
    "from math import ceil\n",
    "import time\n",
    "import re\n",
    "import ast\n",
    "import sys\n",
    "import urllib\n",
    "import time\n",
    "import random\n",
    "import pandas as pd\n",
    "from bs4 import BeautifulSoup\n",
    "from random import randint\n",
    "from selenium.webdriver.firefox.webdriver import FirefoxProfile\n",
    "from urllib.request import urlopen, Request\n",
    "from urllib.error import HTTPError\n",
    "from urllib.error import URLError\n",
    "import requests\n",
    "from itertools import cycle\n",
    "import string"
   ]
  },
  {
   "cell_type": "code",
   "execution_count": 125,
   "metadata": {
    "ExecuteTime": {
     "end_time": "2018-09-27T05:57:59.375339Z",
     "start_time": "2018-09-27T05:57:59.354988Z"
    }
   },
   "outputs": [],
   "source": [
    "header1 = {'User-Agent': 'Mozilla/5.0 (Macintosh; Intel Mac OS X 10_9_5) '\n",
    "           'AppleWebKit 537.36 (KHTML, like Gecko) Chrome',\n",
    "           'Accept': 'text/html,application/xhtml+xml,application/xml;'\n",
    "           'q=0.9,image/webp,*/*;q=0.8'}\n",
    "header2 = {'User-Agent': 'Mozilla/5.0 (Macintosh; Intel Mac OS X 10_9_5) '\n",
    "           'AppleWebKit 537.36 (KHTML, like Gecko) Chrome',\n",
    "           'Accept': 'text/html,application/xhtml+xml,application/xml;'\n",
    "           'q=0.9,image/webp,*/*;q=0.8'}\n",
    "header3 = {'User-Agent': 'Mozilla/5.0 (X11; Linux x86_64) '\n",
    "           'AppleWebKit/537.36 (KHTML, like Gecko) Chrome/69.0.3497.100 Safari/537.36',\n",
    "           'Accept': 'text/html,application/xhtml+xml,application/xml;'\n",
    "           'q=0.9,image/webp,image/apng,*/*;q=0.8'}\n",
    "header4 = {'User-Agent': 'Mozilla/5.0 (X11; Ubuntu; Linux x86_64; rv:62.0) '\n",
    "           ' Gecko/20100101 Firefox/62.0',\n",
    "           'Accept': 'text/html,application/xhtml+xml,application/xml;'\n",
    "           'q=0.9,*/*;q=0.8'}\n",
    "ua = [header1, header2, header3, header4]"
   ]
  },
  {
   "cell_type": "code",
   "execution_count": 209,
   "metadata": {
    "ExecuteTime": {
     "end_time": "2018-09-27T18:47:17.556642Z",
     "start_time": "2018-09-27T18:47:17.539114Z"
    }
   },
   "outputs": [
    {
     "data": {
      "text/plain": [
       "24"
      ]
     },
     "execution_count": 209,
     "metadata": {},
     "output_type": "execute_result"
    }
   ],
   "source": [
    "proxies = ['50.76.120.181:36304', '38.88.154.218:50860',\n",
    "           '24.173.244.146:21231', '37.61.224.242:8195',\n",
    "           '98.190.159.51:43217', '24.229.120.65:32857',\n",
    "           '76.191.74.140:61126', '199.200.31.6:48546',\n",
    "           '99.56.147.242:32931', '199.21.106.126:55860',\n",
    "           '65.173.110.100:43386', '63.97.79.227:37686',\n",
    "           '98.190.57.93:34049', '159.203.119.243:41397',\n",
    "           '192.249.55.14:33539', '162.245.81.234:40623',\n",
    "           '12.2.202.242:8080', '50.224.173.179:8080',\n",
    "           '72.35.40.34:8080', '173.164.26.117:3128',\n",
    "           '98.150.241.216:8080', '140.227.60.114:3128',\n",
    "           '37.224.84.90:8080', '207.144.111.230:8080']\n",
    "\n",
    "prx_pool = random.sample(proxies, len(proxies))\n",
    "len(proxies)"
   ]
  },
  {
   "cell_type": "code",
   "execution_count": 210,
   "metadata": {
    "ExecuteTime": {
     "end_time": "2018-09-27T18:47:26.497721Z",
     "start_time": "2018-09-27T18:47:26.483159Z"
    }
   },
   "outputs": [],
   "source": [
    "def proxie_check(proxies):\n",
    "    default_list = []\n",
    "    url = 'https://httpbin.org/ip'\n",
    "    for i in range(0, len(proxies)):\n",
    "        proxy = proxies[i]\n",
    "        print(i+1)\n",
    "        start_time = time.time()\n",
    "        try:\n",
    "            response = requests.get(url, proxies={\"http\": proxy, \"https\": proxy})\n",
    "            print(response.json())\n",
    "            print(time.time() - start_time)\n",
    "        except:\n",
    "            print(\"Skipping. Connnection error\")\n",
    "            default_list.append(i+1)\n",
    "            print(time.time() - start_time)\n",
    "        print(default_list)\n",
    "    return default_list\n",
    "# proxie_check(proxies)"
   ]
  },
  {
   "cell_type": "code",
   "execution_count": 211,
   "metadata": {
    "ExecuteTime": {
     "end_time": "2018-09-27T18:47:30.804847Z",
     "start_time": "2018-09-27T18:47:30.783542Z"
    }
   },
   "outputs": [],
   "source": [
    "def session_creator(proxy, ua, url):\n",
    "    header = random.sample(ua, 1)[0]\n",
    "    session = requests.Session()\n",
    "    session.proxies = {\"http\": proxy, \"https\": proxy}\n",
    "    req = session.get(url, headers=header)\n",
    "    soup = BeautifulSoup(req.text, 'lxml')\n",
    "    return soup"
   ]
  },
  {
   "cell_type": "code",
   "execution_count": 130,
   "metadata": {
    "ExecuteTime": {
     "end_time": "2018-09-27T05:58:16.362828Z",
     "start_time": "2018-09-27T05:58:16.343610Z"
    }
   },
   "outputs": [],
   "source": [
    "zip_codes = pd.read_csv('../Data/zips.csv')\n",
    "areas_list = zip_codes['name'].tolist()\n",
    "areas_list = [num for num in areas if str(num) != 'nan']\n",
    "rand_areas_list = random.sample(areas, len(areas))"
   ]
  },
  {
   "cell_type": "code",
   "execution_count": 139,
   "metadata": {
    "ExecuteTime": {
     "end_time": "2018-09-27T06:02:31.104369Z",
     "start_time": "2018-09-27T06:02:31.085586Z"
    }
   },
   "outputs": [],
   "source": [
    "under_prp_list = []\n",
    "prp_list = []"
   ]
  },
  {
   "cell_type": "code",
   "execution_count": 156,
   "metadata": {
    "ExecuteTime": {
     "end_time": "2018-09-27T06:18:15.233173Z",
     "start_time": "2018-09-27T06:18:15.207369Z"
    }
   },
   "outputs": [],
   "source": [
    "# url_pool = ['https://www.zillow.com/homes/for_sale/Hayward-CA-94544/fsba,fore,new,cmsn_lt/house,condo,apartment_duplex,townhouse_type/1-_baths/20000-630000_price/82-4093_mp/12m_days/1_pnd/pricea_sort/1_rs/',\n",
    "#             'https://www.zillow.com/homes/for_sale/Hayward-CA-94544/fsba,fore,new,cmsn_lt/house,condo,apartment_duplex,townhouse_type/1-_baths/630001-_price/4093-_mp/12m_days/1_pnd/pricea_sort/1_rs/',\n",
    "#             'https://www.zillow.com/homes/for_sale/Oakland-CA-94605/fsba,fore,new,cmsn_lt/house,condo,apartment_duplex,townhouse_type/1-_baths/20000-630000_price/82-4093_mp/12m_days/1_pnd/pricea_sort/1_rs/',\n",
    "#             'https://www.zillow.com/homes/for_sale/Oakland-CA-94605/fsba,fore,new,cmsn_lt/house,condo,apartment_duplex,townhouse_type/1-_baths/630001-_price/4093-_mp/12m_days/1_pnd/pricea_sort/1_rs/',\n",
    "#             'https://www.zillow.com/homes/for_sale/Hayward-CA-94541/fsba,fore,new,cmsn_lt/house,condo,apartment_duplex,townhouse_type/1-_baths/20000-630000_price/82-4093_mp/12m_days/1_pnd/pricea_sort/1_rs/',\n",
    "#             'https://www.zillow.com/homes/for_sale/Hayward-CA-94541/fsba,fore,new,cmsn_lt/house,condo,apartment_duplex,townhouse_type/1-_baths/630001-_price/4093-_mp/12m_days/1_pnd/pricea_sort/1_rs/',\n",
    "#             'https://www.zillow.com/homes/for_sale/San-Leandro-CA-94577/fsba,fore,new,cmsn_lt/house,condo,apartment_duplex,townhouse_type/1-_baths/20000-730000_price/82-4093_mp/12m_days/1_pnd/pricea_sort/1_rs/',\n",
    "#             'https://www.zillow.com/homes/for_sale/San-Leandro-CA-94577/fsba,fore,new,cmsn_lt/house,condo,apartment_duplex,townhouse_type/1-_baths/730001-_price/4093-_mp/12m_days/1_pnd/pricea_sort/1_rs/',\n",
    "#             'https://www.zillow.com/homes/for_sale/Union-City-CA-94587/fsba,fore,new,cmsn_lt/house,condo,apartment_duplex,townhouse_type/1-_baths/20000-730000_price/82-4093_mp/12m_days/1_pnd/pricea_sort/1_rs/',\n",
    "#             'https://www.zillow.com/homes/for_sale/Union-City-CA-94587/fsba,fore,new,cmsn_lt/house,condo,apartment_duplex,townhouse_type/1-_baths/730001-_price/4093-_mp/12m_days/1_pnd/pricea_sort/1_rs/',\n",
    "#             'https://www.zillow.com/homes/for_sale/Livermore-CA-94551/fsba,fore,new,cmsn_lt/house,condo,apartment_duplex,townhouse_type/1-_baths/20000-730000_price/82-4093_mp/12m_days/1_pnd/pricea_sort/1_rs/',\n",
    "#             'https://www.zillow.com/homes/for_sale/Livermore-CA-94551/fsba,fore,new,cmsn_lt/house,condo,apartment_duplex,townhouse_type/1-_baths/730001-_price/4093-_mp/12m_days/1_pnd/pricea_sort/1_rs/',\n",
    "#             'https://www.zillow.com/homes/for_sale/Livermore-CA-94550/fsba,fore,new,cmsn_lt/house,condo,apartment_duplex,townhouse_type/1-_baths/20000-850000_price/82-4093_mp/12m_days/1_pnd/pricea_sort/1_rs/',\n",
    "#             'https://www.zillow.com/homes/for_sale/Livermore-CA-94550/fsba,fore,new,cmsn_lt/house,condo,apartment_duplex,townhouse_type/1-_baths/850001-_price/4093-_mp/12m_days/1_pnd/pricea_sort/1_rs/',\n",
    "#             'https://www.zillow.com/homes/for_sale/Castro-Valley-CA-94546/fsba,fore,new,cmsn_lt/house,condo,apartment_duplex,townhouse_type/1-_baths/20000-850000_price/82-4093_mp/12m_days/1_pnd/pricea_sort/1_rs/',\n",
    "#             'https://www.zillow.com/homes/for_sale/Castro-Valley-CA-94546/fsba,fore,new,cmsn_lt/house,condo,apartment_duplex,townhouse_type/1-_baths/850001-_price/4093-_mp/12m_days/1_pnd/pricea_sort/1_rs/',\n",
    "#             'https://www.zillow.com/homes/for_sale/San-Jose-CA-95127/fsba,fore,new,cmsn_lt/house,condo,apartment_duplex,townhouse_type/1-_baths/20000-850000_price/82-4093_mp/12m_days/1_pnd/pricea_sort/1_rs/',\n",
    "#             'https://www.zillow.com/homes/for_sale/San-Jose-CA-95127/fsba,fore,new,cmsn_lt/house,condo,apartment_duplex,townhouse_type/1-_baths/850001-_price/4093-_mp/12m_days/1_pnd/pricea_sort/1_rs/',\n",
    "#             'https://www.zillow.com/homes/for_sale/Newark-CA-94560/fsba,fore,new,cmsn_lt/house,condo,apartment_duplex,townhouse_type/1-_baths/20000-900000_price/82-4093_mp/12m_days/1_pnd/pricea_sort/1_rs/',\n",
    "#             'https://www.zillow.com/homes/for_sale/Newark-CA-94560/fsba,fore,new,cmsn_lt/house,condo,apartment_duplex,townhouse_type/1-_baths/900001-_price/4093-_mp/12m_days/1_pnd/pricea_sort/1_rs/',\n",
    "#             'https://www.zillow.com/homes/for_sale/Pleasanton-CA-94588/fsba,fore,new,cmsn_lt/house,condo,apartment_duplex,townhouse_type/1-_baths/20000-1000000_price/82-4093_mp/12m_days/1_pnd/pricea_sort/1_rs/',\n",
    "#             'https://www.zillow.com/homes/for_sale/Pleasanton-CA-94588/fsba,fore,new,cmsn_lt/house,condo,apartment_duplex,townhouse_type/1-_baths/1000001-_price/4093-_mp/12m_days/1_pnd/pricea_sort/1_rs/',\n",
    "#             'https://www.zillow.com/homes/for_sale/South-San-Francisco-CA-94080/fsba,fore,new,cmsn_lt/house,condo,apartment_duplex,townhouse_type/1-_baths/20000-1000000_price/82-4093_mp/12m_days/1_pnd/pricea_sort/1_rs/',\n",
    "#             'https://www.zillow.com/homes/for_sale/South-San-Francisco-CA-94080/fsba,fore,new,cmsn_lt/house,condo,apartment_duplex,townhouse_type/1-_baths/1000001-_price/4093-_mp/12m_days/1_pnd/pricea_sort/1_rs/',\n",
    "#             'https://www.zillow.com/homes/for_sale/Pleasanton-CA-94566/fsba,fore,new,cmsn_lt/house,condo,apartment_duplex,townhouse_type/1-_baths/20000-1000000_price/82-4093_mp/12m_days/1_pnd/pricea_sort/1_rs/',\n",
    "#             'https://www.zillow.com/homes/for_sale/Pleasanton-CA-94566/fsba,fore,new,cmsn_lt/house,condo,apartment_duplex,townhouse_type/1-_baths/1000001-_price/4093-_mp/12m_days/1_pnd/pricea_sort/1_rs/',\n",
    "#             'https://www.zillow.com/homes/for_sale/Fremont-CA-94538/fsba,fore,new,cmsn_lt/house,condo,apartment_duplex,townhouse_type/1-_baths/20000-1000000_price/82-4093_mp/12m_days/1_pnd/pricea_sort/1_rs/',\n",
    "#             'https://www.zillow.com/homes/for_sale/Fremont-CA-94538/fsba,fore,new,cmsn_lt/house,condo,apartment_duplex,townhouse_type/1-_baths/1000001-_price/4093-_mp/12m_days/1_pnd/pricea_sort/1_rs/',\n",
    "#             'https://www.zillow.com/homes/for_sale/Milpitas-CA-95035/fsba,fore,new,cmsn_lt/house,condo,apartment_duplex,townhouse_type/1-_baths/20000-1000000_price/82-4093_mp/12m_days/1_pnd/pricea_sort/1_rs/',\n",
    "#             'https://www.zillow.com/homes/for_sale/Milpitas-CA-95035/fsba,fore,new,cmsn_lt/house,condo,apartment_duplex,townhouse_type/1-_baths/1000001-_price/4093-_mp/12m_days/1_pnd/pricea_sort/1_rs/',\n",
    "#             'https://www.zillow.com/homes/for_sale/Fremont-CA-94536/fsba,fore,new,cmsn_lt/house,condo,apartment_duplex,townhouse_type/1-_baths/20000-1000000_price/82-4093_mp/12m_days/1_pnd/pricea_sort/1_rs/',\n",
    "#             'https://www.zillow.com/homes/for_sale/Fremont-CA-94536/fsba,fore,new,cmsn_lt/house,condo,apartment_duplex,townhouse_type/1-_baths/1000001-_price/4093-_mp/12m_days/1_pnd/pricea_sort/1_rs/',\n",
    "#             'https://www.zillow.com/homes/for_sale/San-Francisco-CA-94107/fsba,fore,new,cmsn_lt/house,condo,apartment_duplex,townhouse_type/1-_baths/20000-1300000_price/82-4093_mp/12m_days/1_pnd/pricea_sort/1_rs/',\n",
    "#             'https://www.zillow.com/homes/for_sale/San-Francisco-CA-94107/fsba,fore,new,cmsn_lt/house,condo,apartment_duplex,townhouse_type/1-_baths/1300001-_price/4093-_mp/12m_days/1_pnd/pricea_sort/1_rs/',\n",
    "#             'https://www.zillow.com/homes/for_sale/San-Francisco-CA-94110/fsba,fore,new,cmsn_lt/house,condo,apartment_duplex,townhouse_type/1-_baths/20000-1300000_price/82-4093_mp/12m_days/1_pnd/pricea_sort/1_rs/',\n",
    "#             'https://www.zillow.com/homes/for_sale/San-Francisco-CA-94110/fsba,fore,new,cmsn_lt/house,condo,apartment_duplex,townhouse_type/1-_baths/1300001-_price/4093-_mp/12m_days/1_pnd/pricea_sort/1_rs/',\n",
    "#             'https://www.zillow.com/homes/for_sale/Santa-Clara-CA-95051/fsba,fore,new,cmsn_lt/house,condo,apartment_duplex,townhouse_type/1-_baths/20000-1300000_price/82-4093_mp/12m_days/1_pnd/pricea_sort/1_rs/',\n",
    "#             'https://www.zillow.com/homes/for_sale/Santa-Clara-CA-95051/fsba,fore,new,cmsn_lt/house,condo,apartment_duplex,townhouse_type/1-_baths/1300001-_price/4093-_mp/12m_days/1_pnd/pricea_sort/1_rs/',\n",
    "#             'https://www.zillow.com/homes/for_sale/San-Jose-CA-95125/fsba,fore,new,cmsn_lt/house,condo,apartment_duplex,townhouse_type/1-_baths/20000-1300000_price/82-4093_mp/12m_days/1_pnd/pricea_sort/1_rs/',\n",
    "#             'https://www.zillow.com/homes/for_sale/San-Jose-CA-95125/fsba,fore,new,cmsn_lt/house,condo,apartment_duplex,townhouse_type/1-_baths/1300001-_price/4093-_mp/12m_days/1_pnd/pricea_sort/1_rs/',\n",
    "#             'https://www.zillow.com/homes/for_sale/Fremont-CA-94539/fsba,fore,new,cmsn_lt/house,condo,apartment_duplex,townhouse_type/1-_baths/20000-1300000_price/82-4093_mp/12m_days/1_pnd/pricea_sort/1_rs/',\n",
    "#             'https://www.zillow.com/homes/for_sale/Fremont-CA-94539/fsba,fore,new,cmsn_lt/house,condo,apartment_duplex,townhouse_type/1-_baths/1300001-_price/4093-_mp/12m_days/1_pnd/pricea_sort/1_rs/',\n",
    "#             'https://www.zillow.com/homes/for_sale/Oakland-CA-94611/fsba,fore,new,cmsn_lt/house,condo,apartment_duplex,townhouse_type/1-_baths/20000-1300000_price/82-4093_mp/12m_days/1_pnd/pricea_sort/1_rs/',\n",
    "#             'https://www.zillow.com/homes/for_sale/Oakland-CA-94611/fsba,fore,new,cmsn_lt/house,condo,apartment_duplex,townhouse_type/1-_baths/1300001-_price/4093-_mp/12m_days/1_pnd/pricea_sort/1_rs/',\n",
    "#             'https://www.zillow.com/homes/for_sale/San-Jose-CA-95124/fsba,fore,new,cmsn_lt/house,condo,apartment_duplex,townhouse_type/1-_baths/20000-1300000_price/82-4093_mp/12m_days/1_pnd/pricea_sort/1_rs/',\n",
    "#             'https://www.zillow.com/homes/for_sale/San-Jose-CA-95124/fsba,fore,new,cmsn_lt/house,condo,apartment_duplex,townhouse_type/1-_baths/1300001-_price/4093-_mp/12m_days/1_pnd/pricea_sort/1_rs/',\n",
    "#             'https://www.zillow.com/homes/for_sale/Menlo-Park-CA-94025/fsba,fore,new,cmsn_lt/house,condo,apartment_duplex,townhouse_type/1-_baths/20000-2000000_price/82-4093_mp/12m_days/1_pnd/pricea_sort/1_rs/',\n",
    "#             'https://www.zillow.com/homes/for_sale/Menlo-Park-CA-94025/fsba,fore,new,cmsn_lt/house,condo,apartment_duplex,townhouse_type/1-_baths/2000001-_price/4093-_mp/12m_days/1_pnd/pricea_sort/1_rs/']\n",
    "# url_pool = sorted(url_pool)"
   ]
  },
  {
   "cell_type": "code",
   "execution_count": 151,
   "metadata": {
    "ExecuteTime": {
     "end_time": "2018-09-27T06:08:03.815224Z",
     "start_time": "2018-09-27T06:08:03.797966Z"
    },
    "scrolled": true
   },
   "outputs": [
    {
     "name": "stdout",
     "output_type": "stream",
     "text": [
      "14\n",
      "159.203.119.243:41397\n"
     ]
    }
   ],
   "source": [
    "def areas_extractor_url(proxies, prp_list, url_pool, ua):\n",
    "    proxy = random.sample(proxies, 1)[0]\n",
    "    print(proxies.index(proxy))\n",
    "    print(proxy)\n",
    "    try:\n",
    "        for url in url_pool:\n",
    "            start_time = time.time()\n",
    "            soup = session_creator(proxy, ua, url)\n",
    "            all_count = soup.findAll('meta', {'name': 'description'})\n",
    "            print(all_count)\n",
    "            print(time.time() - start_time)\n",
    "            prp_list.append(all_count)\n",
    "            url_pool.remove(url)\n",
    "            print(len(url_pool))\n",
    "            print(len(prp_list))\n",
    "    except:\n",
    "        print(\"Skipping. Connnection error\")\n",
    "        return prp_list, url_pool\n",
    "    return prp_list, url_pool\n",
    "\n",
    "over_prp_list, url_pool = areas_extractor_url(proxies, over_prp_list, url_pool, ua)"
   ]
  },
  {
   "cell_type": "code",
   "execution_count": 162,
   "metadata": {
    "ExecuteTime": {
     "end_time": "2018-09-27T06:21:29.058366Z",
     "start_time": "2018-09-27T06:21:29.040374Z"
    },
    "scrolled": true
   },
   "outputs": [
    {
     "name": "stdout",
     "output_type": "stream",
     "text": [
      "8\n",
      "99.56.147.242:32931\n"
     ]
    }
   ],
   "source": [
    "def areas_extractor(areas_pool, proxies, prp_list, ua):    \n",
    "    proxy = random.sample(proxies, 1)[0]\n",
    "    print(proxies.index(proxy))\n",
    "    print(proxy)\n",
    "    for num in areas_pool:        \n",
    "        url = 'https://www.zillow.com/homes/for_sale/'+num + \\\n",
    "            '/fsba,fore,new,cmsn_lt/house,condo,apartment_duplex,townhouse_type/1-_baths/20000-_price/82-_mp/12m_days/1_pnd/1_rs/'\n",
    "        try:\n",
    "            start_time = time.time()\n",
    "            soup = session_creator(proxy, ua, url)\n",
    "            all_count = soup.findAll('meta', {'name': 'description'})\n",
    "            print(all_count)\n",
    "            print(time.time() - start_time)\n",
    "            prp_list.append(all_count)\n",
    "            areas_pool.remove(num)\n",
    "            print(len(areas_pool))\n",
    "            print(len(prp_list))\n",
    "        except:\n",
    "            print(\"Skipping. Connnection error\")\n",
    "            proxies.remove(proxy)\n",
    "            print(len(proxies))\n",
    "            return prp_list, areas_pool, proxies\n",
    "    return prp_list, areas_pool, proxies\n",
    "\n",
    "prp_list, rand_areas_list, proxies = areas_extractor(\n",
    "    rand_areas_list, proxies, prp_list, ua)"
   ]
  },
  {
   "cell_type": "code",
   "execution_count": 163,
   "metadata": {
    "ExecuteTime": {
     "end_time": "2018-09-27T06:21:32.624936Z",
     "start_time": "2018-09-27T06:21:32.606185Z"
    }
   },
   "outputs": [],
   "source": [
    "def strip_count(lst):\n",
    "    lst = [str(num) for num in lst]\n",
    "    lst = [num.replace('[<meta content=\"Zillow has ', '') for num in lst]\n",
    "    lst = ap_prop_list = [num.replace(\n",
    "        '. View listing photos, review sales history, and use our detailed real estate filters to find the perfect place.\" name=\"description\"/>]', '') for num in lst]\n",
    "    lst = list(set(lst))\n",
    "    return lst\n",
    "\n",
    "prp_list = strip_count(prp_list)\n",
    "over_prp_list = strip_count(over_prp_list)"
   ]
  },
  {
   "cell_type": "code",
   "execution_count": 164,
   "metadata": {
    "ExecuteTime": {
     "end_time": "2018-09-27T06:21:35.052155Z",
     "start_time": "2018-09-27T06:21:35.031163Z"
    }
   },
   "outputs": [],
   "source": [
    "def create_df_num_homes(prp_list):\n",
    "    re_all_num = r\"\\d+\\s\"\n",
    "    re_all_zip = r\"\\s\\d+\"\n",
    "\n",
    "    num_homes = []\n",
    "    zip_homes = []\n",
    "\n",
    "    for num in prp_list:\n",
    "        num_homes.append(re.findall(re_all_num, num))\n",
    "        zip_homes.append(re.findall(re_all_zip, num))\n",
    "\n",
    "    num_homes = [[int(y) for y in x] for x in num_homes]\n",
    "    zip_homes = [[int(y) for y in x] for x in zip_homes]\n",
    "\n",
    "    num_all_homes = []\n",
    "    zip_all_homes = []\n",
    "\n",
    "    i = 0\n",
    "    while i < len(prp_list):\n",
    "        num_all_homes.extend(num_homes[i])\n",
    "        zip_all_homes.extend(zip_homes[i])\n",
    "        i += 1\n",
    "\n",
    "    df = pd.DataFrame({\"all_homes\": num_all_homes}, index=zip_all_homes)\n",
    "    all_pages = [ceil(num/25) for num in df['all_homes']]\n",
    "    df['all_pages'] = all_pages\n",
    "    return df\n",
    "\n",
    "df_all = create_df_num_homes(prp_list)\n",
    "df_over_five = create_df_num_homes(over_prp_list)"
   ]
  },
  {
   "cell_type": "code",
   "execution_count": 165,
   "metadata": {
    "ExecuteTime": {
     "end_time": "2018-09-27T06:21:37.107244Z",
     "start_time": "2018-09-27T06:21:37.091377Z"
    }
   },
   "outputs": [],
   "source": [
    "zippy = [int(num) for num in zip_codes['zip']]\n",
    "zip_codes.index = zippy\n",
    "zip_codes = zip_codes.drop(\n",
    "    columns=['Sold', 'A/P', 'tot', 'page', 'city', 'county', 'st', 'zip'])"
   ]
  },
  {
   "cell_type": "code",
   "execution_count": 166,
   "metadata": {
    "ExecuteTime": {
     "end_time": "2018-09-27T06:21:41.738886Z",
     "start_time": "2018-09-27T06:21:41.721122Z"
    }
   },
   "outputs": [],
   "source": [
    "df_over_five['name'] = [zip_codes.name[num] for num in df_over_five.index]\n",
    "df_over_five = df_over_five.sort_values(by=['name'])\n",
    "\n",
    "df_over_five['page_url'] = url_pool"
   ]
  },
  {
   "cell_type": "code",
   "execution_count": 167,
   "metadata": {
    "ExecuteTime": {
     "end_time": "2018-09-27T06:21:56.544313Z",
     "start_time": "2018-09-27T06:21:56.525489Z"
    }
   },
   "outputs": [],
   "source": [
    "all_info = pd.concat([zip_codes, df_all], axis=1)\n",
    "all_info = all_info.sort_values(by=['all_homes'])\n",
    "all_info.to_csv('../Data/all_all_info.csv')"
   ]
  },
  {
   "cell_type": "code",
   "execution_count": 175,
   "metadata": {
    "ExecuteTime": {
     "end_time": "2018-09-27T06:24:17.480992Z",
     "start_time": "2018-09-27T06:24:17.462094Z"
    }
   },
   "outputs": [],
   "source": [
    "def each_page(proxy, ua, url):\n",
    "    soup = session_creator(proxy, ua, url)\n",
    "\n",
    "    address_soup = soup.findAll('span', {'itemprop': 'streetAddress'})\n",
    "    address = [str(adrs.text) for adrs in address_soup]\n",
    "\n",
    "    city_soup = soup.findAll('span', {'itemprop': 'addressLocality'})\n",
    "    city = [str(cit.text) for cit in city_soup]\n",
    "\n",
    "    zipcode_soup = soup.findAll('span', {'itemprop': 'postalCode'})\n",
    "    zipcode = [str(zpcd.text) for zpcd in zipcode_soup]\n",
    "\n",
    "    state_soup = soup.findAll('span', {'itemprop': 'addressRegion'})\n",
    "    state = [str(stas.text) for stas in state_soup]\n",
    "\n",
    "    status_soup = soup.findAll('span', {'class': 'zsg-photo-card-status'})\n",
    "    status = [str(ss.text) for ss in status_soup]\n",
    "\n",
    "#     price_soup = soup.findAll('span', {'class': 'zsg-photo-card-price'})\n",
    "#     price = [str(ps.text) for ps in price_soup]\n",
    "\n",
    "    bed_bath_size_soup = soup.findAll('span', {'class': 'zsg-photo-card-info'})\n",
    "    bd_bth_sqft = [str(bbss.text) for bbss in bed_bath_size_soup]\n",
    "\n",
    "    full_address_soup = soup.findAll(\n",
    "        'span', {'class': 'zsg-photo-card-address'})\n",
    "    full_address = [str(fas.text) for fas in full_address_soup]\n",
    "\n",
    "    home_link_soup = soup.findAll('a', {'class': 'zsg-photo-card-overlay-link '\n",
    "                                        'routable hdp-link routable mask hdp-link'})\n",
    "    home_link = ['https://www.zillow.com' +\n",
    "                 str(hls.get('href'))+'?fullpage=true' for hls in home_link_soup]\n",
    "\n",
    "    df = {'full_address': full_address, 'status': status, 'bd_bth_sqft': bd_bth_sqft,\n",
    "          'address': address, 'city': city, 'state': state, 'zipcode': zipcode, 'home_link': home_link}\n",
    "\n",
    "    return df"
   ]
  },
  {
   "cell_type": "code",
   "execution_count": 176,
   "metadata": {
    "ExecuteTime": {
     "end_time": "2018-09-27T06:24:24.089824Z",
     "start_time": "2018-09-27T06:24:24.062268Z"
    }
   },
   "outputs": [],
   "source": [
    "main_df = pd.DataFrame(columns=['full_address', 'status', 'bd_bth_sqft',\n",
    "                                'address', 'city', 'state', 'zipcode',\n",
    "                                'home_link'])\n",
    "areas_un_five_df = all_info[all_info['all_pages'] <= 20]\n",
    "areas = areas_un_five_df['name'].tolist()\n",
    "areas_pool = random.sample(areas, len(areas))"
   ]
  },
  {
   "cell_type": "code",
   "execution_count": 177,
   "metadata": {
    "ExecuteTime": {
     "end_time": "2018-09-27T06:24:24.731682Z",
     "start_time": "2018-09-27T06:24:24.713902Z"
    }
   },
   "outputs": [],
   "source": [
    "url_list = []\n",
    "url_list_over = []"
   ]
  },
  {
   "cell_type": "code",
   "execution_count": 178,
   "metadata": {
    "ExecuteTime": {
     "end_time": "2018-09-27T06:24:44.890376Z",
     "start_time": "2018-09-27T06:24:44.823223Z"
    }
   },
   "outputs": [],
   "source": [
    "for num in areas_pool:\n",
    "    num_pages_count = areas_un_five_df.loc[areas_un_five_df['name']\n",
    "                                           == num].all_pages.values[0]\n",
    "    for i in range(1, num_pages_count+1):\n",
    "        url = 'https://www.zillow.com/homes/for_sale/'+num + \\\n",
    "            '/fsba,fore,new,cmsn_lt/house,condo,apartment_duplex,townhouse_type/1-_baths/20000-_price/82-_mp/12m_days/1_pnd/pricea_sort/' + \\\n",
    "            str(i)+'_p/1_rs/'\n",
    "        url_list.append(url)"
   ]
  },
  {
   "cell_type": "code",
   "execution_count": 179,
   "metadata": {
    "ExecuteTime": {
     "end_time": "2018-09-27T06:24:45.826104Z",
     "start_time": "2018-09-27T06:24:45.777668Z"
    }
   },
   "outputs": [],
   "source": [
    "for url in df_over_five['page_url']:\n",
    "    num_pages_count = df_over_five.loc[df_over_five['page_url']\n",
    "                                       == url].all_pages.values[0]\n",
    "    for i in range(1, num_pages_count+1):\n",
    "        new_url = url[:-5]+str(i)+'_p/'+url[-5:]\n",
    "        url_list_over.append(new_url)"
   ]
  },
  {
   "cell_type": "code",
   "execution_count": 180,
   "metadata": {
    "ExecuteTime": {
     "end_time": "2018-09-27T06:24:46.855063Z",
     "start_time": "2018-09-27T06:24:46.837772Z"
    }
   },
   "outputs": [
    {
     "name": "stdout",
     "output_type": "stream",
     "text": [
      "671\n",
      "1121\n"
     ]
    }
   ],
   "source": [
    "print(len(url_list_over))\n",
    "print(len(url_list))"
   ]
  },
  {
   "cell_type": "code",
   "execution_count": 244,
   "metadata": {
    "ExecuteTime": {
     "end_time": "2018-09-28T06:00:13.782595Z",
     "start_time": "2018-09-28T05:59:26.830451Z"
    },
    "scrolled": true
   },
   "outputs": [
    {
     "ename": "KeyboardInterrupt",
     "evalue": "",
     "output_type": "error",
     "traceback": [
      "\u001b[0;31m---------------------------------------------------------------------------\u001b[0m",
      "\u001b[0;31mKeyboardInterrupt\u001b[0m                         Traceback (most recent call last)",
      "\u001b[0;32m<ipython-input-244-04a599a93b97>\u001b[0m in \u001b[0;36m<module>\u001b[0;34m()\u001b[0m\n\u001b[1;32m     28\u001b[0m \u001b[0mi\u001b[0m\u001b[0;34m=\u001b[0m\u001b[0;36m0\u001b[0m\u001b[0;34m\u001b[0m\u001b[0m\n\u001b[1;32m     29\u001b[0m \u001b[0;32mwhile\u001b[0m \u001b[0mi\u001b[0m\u001b[0;34m<\u001b[0m\u001b[0;36m50000\u001b[0m\u001b[0;34m:\u001b[0m\u001b[0;34m\u001b[0m\u001b[0m\n\u001b[0;32m---> 30\u001b[0;31m     \u001b[0mli\u001b[0m\u001b[0;34m.\u001b[0m\u001b[0mappend\u001b[0m\u001b[0;34m(\u001b[0m\u001b[0mrandom\u001b[0m\u001b[0;34m.\u001b[0m\u001b[0muniform\u001b[0m\u001b[0;34m(\u001b[0m\u001b[0;36m0\u001b[0m\u001b[0;34m,\u001b[0m\u001b[0;36m1\u001b[0m\u001b[0;34m)\u001b[0m\u001b[0;34m*\u001b[0m\u001b[0;36m5\u001b[0m\u001b[0;34m)\u001b[0m\u001b[0;34m\u001b[0m\u001b[0m\n\u001b[0m\u001b[1;32m     31\u001b[0m     \u001b[0mi\u001b[0m\u001b[0;34m-=\u001b[0m\u001b[0;36m1\u001b[0m\u001b[0;34m\u001b[0m\u001b[0m\n\u001b[1;32m     32\u001b[0m \u001b[0mli\u001b[0m\u001b[0;34m.\u001b[0m\u001b[0maverage\u001b[0m\u001b[0;34m(\u001b[0m\u001b[0;34m)\u001b[0m\u001b[0;34m\u001b[0m\u001b[0m\n",
      "\u001b[0;32m~/anaconda3/lib/python3.6/random.py\u001b[0m in \u001b[0;36muniform\u001b[0;34m(self, a, b)\u001b[0m\n\u001b[1;32m    369\u001b[0m     \u001b[0;32mdef\u001b[0m \u001b[0muniform\u001b[0m\u001b[0;34m(\u001b[0m\u001b[0mself\u001b[0m\u001b[0;34m,\u001b[0m \u001b[0ma\u001b[0m\u001b[0;34m,\u001b[0m \u001b[0mb\u001b[0m\u001b[0;34m)\u001b[0m\u001b[0;34m:\u001b[0m\u001b[0;34m\u001b[0m\u001b[0m\n\u001b[1;32m    370\u001b[0m         \u001b[0;34m\"Get a random number in the range [a, b) or [a, b] depending on rounding.\"\u001b[0m\u001b[0;34m\u001b[0m\u001b[0m\n\u001b[0;32m--> 371\u001b[0;31m         \u001b[0;32mreturn\u001b[0m \u001b[0ma\u001b[0m \u001b[0;34m+\u001b[0m \u001b[0;34m(\u001b[0m\u001b[0mb\u001b[0m\u001b[0;34m-\u001b[0m\u001b[0ma\u001b[0m\u001b[0;34m)\u001b[0m \u001b[0;34m*\u001b[0m \u001b[0mself\u001b[0m\u001b[0;34m.\u001b[0m\u001b[0mrandom\u001b[0m\u001b[0;34m(\u001b[0m\u001b[0;34m)\u001b[0m\u001b[0;34m\u001b[0m\u001b[0m\n\u001b[0m\u001b[1;32m    372\u001b[0m \u001b[0;34m\u001b[0m\u001b[0m\n\u001b[1;32m    373\u001b[0m \u001b[0;31m## -------------------- triangular --------------------\u001b[0m\u001b[0;34m\u001b[0m\u001b[0;34m\u001b[0m\u001b[0m\n",
      "\u001b[0;31mKeyboardInterrupt\u001b[0m: "
     ]
    }
   ],
   "source": [
    "def create_df(proxies, url_list, main_df, ua):\n",
    "    proxy = random.sample(proxies, 1)[0]\n",
    "    print(proxies.index(proxy))\n",
    "    print(proxy)\n",
    "    try:\n",
    "        i = 0\n",
    "        while i < len(url_list):\n",
    "            start_time = time.time()\n",
    "            url = url_list[i]\n",
    "            print(len(url_list))\n",
    "            print(url)\n",
    "            data = each_page(proxy, ua, url)\n",
    "            df = pd.DataFrame(data)\n",
    "            print(len(df.index))\n",
    "            main_df = pd.concat([main_df, df])\n",
    "            url_list.pop(i)\n",
    "            print(time.time() - start_time)\n",
    "    except:\n",
    "        print(\"Skipping. Connnection error\")\n",
    "        proxies.remove(proxy)\n",
    "        print(len(proxies))\n",
    "        return url_list, main_df, proxies\n",
    "    return url_list, main_df, proxies\n",
    "\n",
    "#url_list, main_df, proxies = create_df(proxies, url_list, main_df, ua)\n",
    "# url_list_over, main_df, proxies = create_df(proxies, url_list_over, main_df, ua)\n",
    "li = []\n",
    "i=0\n",
    "while i<50000:\n",
    "    li.append(random.uniform(0,1)*5)\n",
    "    i-=1\n",
    "li.average()"
   ]
  },
  {
   "cell_type": "code",
   "execution_count": 79,
   "metadata": {
    "ExecuteTime": {
     "end_time": "2018-09-27T05:38:59.464710Z",
     "start_time": "2018-09-27T05:38:59.451257Z"
    },
    "scrolled": true
   },
   "outputs": [],
   "source": [
    "# proxy = random.sample(proxies, 1)[0]\n",
    "# print(proxy)\n",
    "\n",
    "# i = 0\n",
    "# while i < len(url_list_over):\n",
    "#     url = url_list_over[i]\n",
    "#     print(len(url_list_over))\n",
    "#     print(url)\n",
    "#     data = each_page(url, ua_pool, proxy)\n",
    "#     df = pd.DataFrame(data)\n",
    "#     main_df = pd.concat([main_df, df])\n",
    "#     url_list_over.pop(i)\n",
    "\n",
    "# proxy = random.sample(proxies, 1)[0]\n",
    "# print(proxy)\n",
    "\n",
    "# for num in url_list:\n",
    "#     print(len(url_list))\n",
    "#     print(num)\n",
    "#     data = each_page(num, ua_pool, proxy)\n",
    "#     df = pd.DataFrame(data)\n",
    "#     main_df = pd.concat([main_df, df])\n",
    "#     url_list.remove(num)"
   ]
  },
  {
   "cell_type": "code",
   "execution_count": 184,
   "metadata": {
    "ExecuteTime": {
     "end_time": "2018-09-27T08:09:05.393746Z",
     "start_time": "2018-09-27T08:09:04.985666Z"
    }
   },
   "outputs": [],
   "source": [
    "main_df = main_df.reset_index().drop(columns=['index'])\n",
    "main_df = main_df.drop_duplicates(\n",
    "    subset=['bd_bth_sqft', 'full_address', 'home_link', 'status'])\n",
    "main_df.to_csv('../Data/all_prop_initial.csv')"
   ]
  },
  {
   "cell_type": "code",
   "execution_count": 221,
   "metadata": {
    "ExecuteTime": {
     "end_time": "2018-09-28T02:41:56.964335Z",
     "start_time": "2018-09-28T02:41:56.948798Z"
    }
   },
   "outputs": [
    {
     "data": {
      "text/plain": [
       "24"
      ]
     },
     "execution_count": 221,
     "metadata": {},
     "output_type": "execute_result"
    }
   ],
   "source": [
    "len(main_df.full_address[0])"
   ]
  },
  {
   "cell_type": "code",
   "execution_count": 13,
   "metadata": {
    "ExecuteTime": {
     "end_time": "2018-09-26T20:10:05.900806Z",
     "start_time": "2018-09-26T20:10:05.708803Z"
    }
   },
   "outputs": [],
   "source": [
    "# main_df = pd.read_csv('../Data/all_prop_initial.csv')\n",
    "# main_df = main_df.drop(columns=['Unnamed: 0', 'price'])\n",
    "# main_df.columns"
   ]
  },
  {
   "cell_type": "code",
   "execution_count": 186,
   "metadata": {
    "ExecuteTime": {
     "end_time": "2018-09-27T17:30:53.731935Z",
     "start_time": "2018-09-27T17:30:53.447750Z"
    }
   },
   "outputs": [
    {
     "data": {
      "text/html": [
       "<div>\n",
       "<style scoped>\n",
       "    .dataframe tbody tr th:only-of-type {\n",
       "        vertical-align: middle;\n",
       "    }\n",
       "\n",
       "    .dataframe tbody tr th {\n",
       "        vertical-align: top;\n",
       "    }\n",
       "\n",
       "    .dataframe thead th {\n",
       "        text-align: right;\n",
       "    }\n",
       "</style>\n",
       "<table border=\"1\" class=\"dataframe\">\n",
       "  <thead>\n",
       "    <tr style=\"text-align: right;\">\n",
       "      <th></th>\n",
       "      <th>full_address</th>\n",
       "      <th>status</th>\n",
       "      <th>bd_bth_sqft</th>\n",
       "      <th>address</th>\n",
       "      <th>city</th>\n",
       "      <th>state</th>\n",
       "      <th>zipcode</th>\n",
       "      <th>home_link</th>\n",
       "    </tr>\n",
       "  </thead>\n",
       "  <tbody>\n",
       "    <tr>\n",
       "      <th>count</th>\n",
       "      <td>41638</td>\n",
       "      <td>41638</td>\n",
       "      <td>41638</td>\n",
       "      <td>41638</td>\n",
       "      <td>41638</td>\n",
       "      <td>41638</td>\n",
       "      <td>41638</td>\n",
       "      <td>41638</td>\n",
       "    </tr>\n",
       "    <tr>\n",
       "      <th>unique</th>\n",
       "      <td>41100</td>\n",
       "      <td>2601</td>\n",
       "      <td>38751</td>\n",
       "      <td>41090</td>\n",
       "      <td>85</td>\n",
       "      <td>1</td>\n",
       "      <td>116</td>\n",
       "      <td>41613</td>\n",
       "    </tr>\n",
       "    <tr>\n",
       "      <th>top</th>\n",
       "      <td>8610 Enterprise Dr, Newark, CA</td>\n",
       "      <td>House For Sale</td>\n",
       "      <td>Price/sqft: -- · 1 bd · 1 ba · -- sqft</td>\n",
       "      <td>8610 Enterprise Dr</td>\n",
       "      <td>SAN JOSE</td>\n",
       "      <td>CA</td>\n",
       "      <td>94536</td>\n",
       "      <td>https://www.zillow.com/homedetails/1106-Eddy-S...</td>\n",
       "    </tr>\n",
       "    <tr>\n",
       "      <th>freq</th>\n",
       "      <td>29</td>\n",
       "      <td>2554</td>\n",
       "      <td>33</td>\n",
       "      <td>29</td>\n",
       "      <td>8613</td>\n",
       "      <td>41638</td>\n",
       "      <td>862</td>\n",
       "      <td>2</td>\n",
       "    </tr>\n",
       "  </tbody>\n",
       "</table>\n",
       "</div>"
      ],
      "text/plain": [
       "                          full_address          status  \\\n",
       "count                            41638           41638   \n",
       "unique                           41100            2601   \n",
       "top     8610 Enterprise Dr, Newark, CA  House For Sale   \n",
       "freq                                29            2554   \n",
       "\n",
       "                                   bd_bth_sqft             address  \\\n",
       "count                                    41638               41638   \n",
       "unique                                   38751               41090   \n",
       "top     Price/sqft: -- · 1 bd · 1 ba · -- sqft  8610 Enterprise Dr   \n",
       "freq                                        33                  29   \n",
       "\n",
       "              city  state zipcode  \\\n",
       "count        41638  41638   41638   \n",
       "unique          85      1     116   \n",
       "top      SAN JOSE     CA    94536   \n",
       "freq          8613  41638     862   \n",
       "\n",
       "                                                home_link  \n",
       "count                                               41638  \n",
       "unique                                              41613  \n",
       "top     https://www.zillow.com/homedetails/1106-Eddy-S...  \n",
       "freq                                                    2  "
      ]
     },
     "execution_count": 186,
     "metadata": {},
     "output_type": "execute_result"
    }
   ],
   "source": [
    "main_df.describe()"
   ]
  },
  {
   "cell_type": "code",
   "execution_count": 204,
   "metadata": {
    "ExecuteTime": {
     "end_time": "2018-09-27T18:20:59.094767Z",
     "start_time": "2018-09-27T18:20:59.079342Z"
    }
   },
   "outputs": [],
   "source": [
    "url_list_from_main_df = main_df['home_link'].tolist()\n"
   ]
  },
  {
   "cell_type": "code",
   "execution_count": 215,
   "metadata": {
    "ExecuteTime": {
     "end_time": "2018-09-27T18:51:13.918412Z",
     "start_time": "2018-09-27T18:51:13.899280Z"
    }
   },
   "outputs": [],
   "source": [
    "url = random.sample(url_list_from_main_df, 1)[0]\n",
    "\n",
    "def each_property(url, hdr, proxy):\n",
    "    session = requests.Session()\n",
    "    session.proxies = {\"http\": proxy, \"https\": proxy}\n",
    "    req = session.get(url, headers=hdr)\n",
    "    soup = BeautifulSoup(req.text, 'lxml')\n",
    "    homefeat_desc = []\n",
    "    homefeat_info = []\n",
    "\n",
    "    home_address_MLS = soup.title.string\n",
    "    print(home_address_MLS)\n",
    "\n",
    "    home_full_feat_desc = soup.findAll('span', {'class': 'hdp-fact-name'})\n",
    "    if len(home_full_feat_desc)==0:\n",
    "        home_full_feat_desc = soup.findAll('span', {'class': 'fact-name'})\n",
    "    for desc in home_full_feat_desc:\n",
    "        #print(desc.contents[0])\n",
    "        homefeat_desc.append(str(desc.contents[0]))\n",
    "\n",
    "    home_full_feat_info = soup.findAll('span', {'class': 'hdp-fact-value'})\n",
    "    for info in home_full_feat_info:\n",
    "        #print(info.contents[0])\n",
    "        homefeat_info.append(str(info.contents[0]))\n",
    "\n",
    "    new_dict = dict(zip(homefeat_desc, homefeat_info))\n",
    "    new_dict['address'] = str(home_address_MLS)\n",
    "\n",
    "    home_description = soup.find('meta', {'property': 'og:description'})\n",
    "    print(home_description.attrs['content'])\n",
    "\n",
    "    new_dict['home_description'] = str(home_description.attrs['content'])\n",
    "\n",
    "    zestimate = soup.find('div', {'class': 'zestimate-value'})\n",
    "#     zest_rex = r'\\$\\d+\\,\\d+\\,?\\d+?\\,?\\d+?'\n",
    "#     zesti = str(zestimate.div)\n",
    "#     zestimate = re.findall(zest_rex, str(zesti))[0]\n",
    "    print(zestimate)\n",
    "\n",
    "    home_hist_src = soup.findAll('td', {'class': 'zsg-sm-hide'})\n",
    "    print(home_hist_src)\n",
    "\n",
    "    prop_hist = soup.findAll(\n",
    "        'div', {'id': 'hdp-price-history'})\n",
    "    print(prop_hist)\n",
    "\n",
    "    school_rating = soup.findAll('div', {'class': 'nearby-schools-rating'})\n",
    "    for rating in school_rating:\n",
    "        print(rating.span.text)\n",
    "        \n",
    "    school_name_regex = r'school-name notranslate$'\n",
    "    school_name = soup.findAll('a', {'class': 'school-name notranslate'})\n",
    "    for mane in school_name:\n",
    "        print(mane.next_element)\n",
    "\n",
    "    school_grades = soup.findAll('div', {'class': 'nearby-schools-grades'})\n",
    "    for grade in school_grades:\n",
    "        print(grade.text)\n",
    "\n",
    "    school_assigned = soup.findAll(\n",
    "        'span', {'class': 'assigned-label zsg-fineprint'})\n",
    "\n",
    "    for assi in school_assigned:\n",
    "        print(assi.text)\n",
    "\n",
    "    school_dist = soup.findAll('div', {'class': 'nearby-schools-distance'})\n",
    "    for dist in school_dist:\n",
    "        print(dist.text)\n",
    "    return new_dict\n",
    "\n",
    "#     discalimer = soup.find('section', {'class': 'zsg-content-section'})\n",
    "#     print(discalimer)"
   ]
  },
  {
   "cell_type": "code",
   "execution_count": 216,
   "metadata": {
    "ExecuteTime": {
     "end_time": "2018-09-27T18:51:22.351146Z",
     "start_time": "2018-09-27T18:51:14.552608Z"
    }
   },
   "outputs": [
    {
     "name": "stdout",
     "output_type": "stream",
     "text": [
      "50.76.120.181:36304\n",
      "1835 Franklin St APT 403, San Francisco, CA 94109 | MLS #474722 | Zillow\n",
      "For sale: $1,195,000. 1835 Franklin #403 is comfortable, move in ready 2BR/2BA condominium located in prestigious Pacific Heights neighborhood. This lovely unit features an open-concept common area that seamlessly blends together the living room & dining nook. The kitchen showcases beautiful granite counters, granite tile floors, & is fully equipped with stainless steel appliances. Spacious bedrooms features ample closet space for your convenience, including one walk-in closet. This building offers a 24-hour concierge, on site laundry facilities, a 1-car parking space, and a neat welcome lobby. In a coveted location, this condo is near Whole Foods, Lafayette park & public transit. In-unit washer/dryer is an option for this unit.\n",
      "None\n",
      "[]\n",
      "[]\n",
      "8\n",
      "7\n",
      "7\n",
      "Sherman Elementary\n",
      "Marina Middle\n",
      "Galileo High\n",
      "K-5\n",
      "6-8\n",
      "9-12\n",
      " (assigned)\n",
      " (assigned)\n",
      " (assigned)\n",
      "0.4 mi\n",
      "1 mi\n",
      "0.8 mi\n"
     ]
    },
    {
     "data": {
      "text/plain": [
       "{'address': '1835 Franklin St APT 403, San Francisco, CA 94109 | MLS #474722 | Zillow',\n",
       " 'home_description': 'For sale: $1,195,000. 1835 Franklin #403 is comfortable, move in ready 2BR/2BA condominium located in prestigious Pacific Heights neighborhood. This lovely unit features an open-concept common area that seamlessly blends together the living room & dining nook. The kitchen showcases beautiful granite counters, granite tile floors, & is fully equipped with stainless steel appliances. Spacious bedrooms features ample closet space for your convenience, including one walk-in closet. This building offers a 24-hour concierge, on site laundry facilities, a 1-car parking space, and a neat welcome lobby. In a coveted location, this condo is near Whole Foods, Lafayette park & public transit. In-unit washer/dryer is an option for this unit.'}"
      ]
     },
     "execution_count": 216,
     "metadata": {},
     "output_type": "execute_result"
    }
   ],
   "source": [
    "header = random.sample(ua, 1)[0]\n",
    "proxy = random.sample(proxies, 1)[0]\n",
    "print(proxy)\n",
    "each_property(url, header, proxy)"
   ]
  },
  {
   "cell_type": "code",
   "execution_count": null,
   "metadata": {},
   "outputs": [],
   "source": []
  },
  {
   "cell_type": "code",
   "execution_count": null,
   "metadata": {},
   "outputs": [],
   "source": []
  }
 ],
 "metadata": {
  "kernelspec": {
   "display_name": "Python 3",
   "language": "python",
   "name": "python3"
  },
  "language_info": {
   "codemirror_mode": {
    "name": "ipython",
    "version": 3
   },
   "file_extension": ".py",
   "mimetype": "text/x-python",
   "name": "python",
   "nbconvert_exporter": "python",
   "pygments_lexer": "ipython3",
   "version": "3.6.6"
  }
 },
 "nbformat": 4,
 "nbformat_minor": 2
}
