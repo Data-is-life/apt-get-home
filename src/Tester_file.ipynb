{
 "cells": [
  {
   "cell_type": "code",
   "execution_count": 4,
   "metadata": {
    "ExecuteTime": {
     "end_time": "2018-10-01T23:24:19.607053Z",
     "start_time": "2018-10-01T23:24:19.598120Z"
    }
   },
   "outputs": [],
   "source": [
    "import re\n",
    "import random\n",
    "\n"
   ]
  },
  {
   "cell_type": "code",
   "execution_count": 122,
   "metadata": {
    "ExecuteTime": {
     "end_time": "2018-09-29T18:20:30.523024Z",
     "start_time": "2018-09-29T18:20:30.512867Z"
    }
   },
   "outputs": [],
   "source": [
    "# home_dict = dict()\n",
    "\n",
    "# add_list = text.split(sep=' |')\n",
    "# zip_code = re.search('\\d+$', add_list[0])\n",
    "# mls_num = re.search('\\d+$', add_list[1])\n",
    "# home_add = re.search('(.+?),', home_address_MLS)\n",
    "# home_city = re.search(', (.+?),', home_address_MLS)\n",
    "# home_state = add_list[0].replace(home_add.group(1),'').replace(\n",
    "#     home_city.group(1),'').replace(zip_code.group(),'').replace(\n",
    "#     ',','').replace(' ','')\n",
    "\n",
    "# home_dict['address'] = home_add.group(1)\n",
    "# home_dict['city'] = home_city.group(1)\n",
    "# home_dict['zip_code'] = zip_code.group()\n",
    "# home_dict['state'] = home_state\n",
    "# home_dict['mls_num'] = mls_num.group()\n",
    "\n",
    "# home_dict"
   ]
  },
  {
   "cell_type": "code",
   "execution_count": 142,
   "metadata": {
    "ExecuteTime": {
     "end_time": "2018-09-29T18:22:44.389120Z",
     "start_time": "2018-09-29T18:22:44.378473Z"
    }
   },
   "outputs": [
    {
     "data": {
      "text/plain": [
       "['Ortega (jose) Elementary SchoolPublic',\n",
       " ' K to 5',\n",
       " ' Serves this homeGreatSchools Rating: 7/10Parent Rating: ']"
      ]
     },
     "execution_count": 142,
     "metadata": {},
     "output_type": "execute_result"
    }
   ],
   "source": [
    "\n",
    "add_list"
   ]
  },
  {
   "cell_type": "code",
   "execution_count": 161,
   "metadata": {
    "ExecuteTime": {
     "end_time": "2018-09-29T18:25:36.597414Z",
     "start_time": "2018-09-29T18:25:36.588191Z"
    }
   },
   "outputs": [],
   "source": []
  },
  {
   "cell_type": "code",
   "execution_count": 173,
   "metadata": {
    "ExecuteTime": {
     "end_time": "2018-09-29T18:28:39.154457Z",
     "start_time": "2018-09-29T18:28:39.144740Z"
    }
   },
   "outputs": [
    {
     "name": "stdout",
     "output_type": "stream",
     "text": [
      "Ortega (jose) Elementary School\n"
     ]
    }
   ],
   "source": [
    "school_list = school.split(sep=' •')\n",
    "rating = re.findall('(\\d+)', add_list[-1])\n",
    "rating = '/'.join([num for num in rating])\n",
    "school_name = add_list[0]\n",
    "if 'Public' in school_name:\n",
    "    print(school_name.replace('Public',''))"
   ]
  },
  {
   "cell_type": "code",
   "execution_count": 2,
   "metadata": {
    "ExecuteTime": {
     "end_time": "2018-10-01T23:05:24.885147Z",
     "start_time": "2018-10-01T23:05:23.496286Z"
    }
   },
   "outputs": [
    {
     "name": "stdout",
     "output_type": "stream",
     "text": [
      "Please input home link: boigfa\n",
      "boigfa\n"
     ]
    }
   ],
   "source": [
    "home_link = input(\"Please input home link: \")\n"
   ]
  },
  {
   "cell_type": "code",
   "execution_count": 15,
   "metadata": {
    "ExecuteTime": {
     "end_time": "2018-10-01T23:25:04.093816Z",
     "start_time": "2018-10-01T23:25:04.084283Z"
    }
   },
   "outputs": [],
   "source": [
    "b = random.uniform(2,4)"
   ]
  },
  {
   "cell_type": "code",
   "execution_count": 16,
   "metadata": {
    "ExecuteTime": {
     "end_time": "2018-10-01T23:25:04.241327Z",
     "start_time": "2018-10-01T23:25:04.229711Z"
    }
   },
   "outputs": [
    {
     "data": {
      "text/plain": [
       "2.588436069107048"
      ]
     },
     "execution_count": 16,
     "metadata": {},
     "output_type": "execute_result"
    }
   ],
   "source": [
    "b"
   ]
  },
  {
   "cell_type": "code",
   "execution_count": null,
   "metadata": {},
   "outputs": [],
   "source": []
  }
 ],
 "metadata": {
  "kernelspec": {
   "display_name": "Python 3",
   "language": "python",
   "name": "python3"
  },
  "language_info": {
   "codemirror_mode": {
    "name": "ipython",
    "version": 3
   },
   "file_extension": ".py",
   "mimetype": "text/x-python",
   "name": "python",
   "nbconvert_exporter": "python",
   "pygments_lexer": "ipython3",
   "version": "3.6.6"
  }
 },
 "nbformat": 4,
 "nbformat_minor": 2
}
