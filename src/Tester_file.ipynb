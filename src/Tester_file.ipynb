{
 "cells": [
  {
   "cell_type": "code",
   "execution_count": 5,
   "metadata": {
    "ExecuteTime": {
     "end_time": "2018-10-01T23:24:19.607053Z",
     "start_time": "2018-10-01T23:24:19.598120Z"
    }
   },
   "outputs": [],
   "source": [
    "import re\n",
    "import random\n",
    "\n"
   ]
  },
  {
   "cell_type": "code",
   "execution_count": 1,
   "metadata": {
    "ExecuteTime": {
     "end_time": "2018-10-04T22:29:29.072518Z",
     "start_time": "2018-10-04T22:29:29.055860Z"
    }
   },
   "outputs": [],
   "source": [
    "home_dict = dict()\n",
    "\n",
    "# add_list = text.split(sep=' |')\n",
    "# zip_code = re.search('\\d+$', add_list[0])\n",
    "# mls_num = re.search('\\d+$', add_list[1])\n",
    "# home_add = re.search('(.+?),', home_address_MLS)\n",
    "# home_city = re.search(', (.+?),', home_address_MLS)\n",
    "# home_state = add_list[0].replace(home_add.group(1),'').replace(\n",
    "#     home_city.group(1),'').replace(zip_code.group(),'').replace(\n",
    "#     ',','').replace(' ','')\n",
    "\n",
    "# home_dict['address'] = home_add.group(1)\n",
    "# home_dict['city'] = home_city.group(1)\n",
    "# home_dict['zip_code'] = zip_code.group()\n",
    "# home_dict['state'] = home_state\n",
    "# home_dict['mls_num'] = mls_num.group()\n",
    "\n",
    "# home_dict"
   ]
  },
  {
   "cell_type": "code",
   "execution_count": 3,
   "metadata": {
    "ExecuteTime": {
     "end_time": "2018-10-02T21:59:01.800540Z",
     "start_time": "2018-10-02T21:59:01.787569Z"
    }
   },
   "outputs": [],
   "source": [
    "# school_list = school.split(sep=' •')\n",
    "# rating = re.findall('(\\d+)', add_list[-1])\n",
    "# rating = '/'.join([num for num in rating])\n",
    "# school_name = add_list[0]\n",
    "# if 'Public' in school_name:\n",
    "#     print(school_name.replace('Public',''))"
   ]
  },
  {
   "cell_type": "code",
   "execution_count": 5,
   "metadata": {
    "ExecuteTime": {
     "end_time": "2018-10-02T21:59:03.323910Z",
     "start_time": "2018-10-02T21:59:02.496158Z"
    }
   },
   "outputs": [
    {
     "name": "stdout",
     "output_type": "stream",
     "text": [
      "Please input home link: \n"
     ]
    }
   ],
   "source": [
    "home_link = input(\"Please input home link: \")"
   ]
  },
  {
   "cell_type": "code",
   "execution_count": 6,
   "metadata": {
    "ExecuteTime": {
     "end_time": "2018-10-02T21:59:03.950249Z",
     "start_time": "2018-10-02T21:59:03.938042Z"
    }
   },
   "outputs": [],
   "source": [
    "b = random.uniform(2,4)"
   ]
  },
  {
   "cell_type": "code",
   "execution_count": 7,
   "metadata": {
    "ExecuteTime": {
     "end_time": "2018-10-02T21:59:04.519526Z",
     "start_time": "2018-10-02T21:59:04.507126Z"
    }
   },
   "outputs": [
    {
     "data": {
      "text/plain": [
       "2.6864786732853796"
      ]
     },
     "execution_count": 7,
     "metadata": {},
     "output_type": "execute_result"
    }
   ],
   "source": [
    "b"
   ]
  },
  {
   "cell_type": "code",
   "execution_count": 8,
   "metadata": {
    "ExecuteTime": {
     "end_time": "2018-10-02T21:59:05.502986Z",
     "start_time": "2018-10-02T21:59:05.494976Z"
    }
   },
   "outputs": [],
   "source": [
    "home_dict['redfin_est'] = float(25)"
   ]
  },
  {
   "cell_type": "code",
   "execution_count": 9,
   "metadata": {
    "ExecuteTime": {
     "end_time": "2018-10-02T21:59:55.533139Z",
     "start_time": "2018-10-02T21:59:55.520061Z"
    }
   },
   "outputs": [
    {
     "data": {
      "text/plain": [
       "True"
      ]
     },
     "execution_count": 9,
     "metadata": {},
     "output_type": "execute_result"
    }
   ],
   "source": [
    "home_dict['redfin_est']>1"
   ]
  },
  {
   "cell_type": "code",
   "execution_count": 10,
   "metadata": {
    "ExecuteTime": {
     "end_time": "2018-10-04T22:07:46.723651Z",
     "start_time": "2018-10-04T22:07:46.711735Z"
    }
   },
   "outputs": [
    {
     "name": "stdout",
     "output_type": "stream",
     "text": [
      "Preschool to 5\n"
     ]
    }
   ],
   "source": [
    "my_string=\"Public - Preschool to 5\"\n",
    "print(my_string.split(' - ',1)[1])"
   ]
  }
 ],
 "metadata": {
  "kernelspec": {
   "display_name": "Python 3",
   "language": "python",
   "name": "python3"
  },
  "language_info": {
   "codemirror_mode": {
    "name": "ipython",
    "version": 3
   },
   "file_extension": ".py",
   "mimetype": "text/x-python",
   "name": "python",
   "nbconvert_exporter": "python",
   "pygments_lexer": "ipython3",
   "version": "3.6.6"
  }
 },
 "nbformat": 4,
 "nbformat_minor": 2
}
